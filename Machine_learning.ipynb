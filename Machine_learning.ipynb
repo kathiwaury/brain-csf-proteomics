{
 "cells": [
  {
   "cell_type": "markdown",
   "id": "b1d8820a",
   "metadata": {},
   "source": [
    "# Import libraries and data"
   ]
  },
  {
   "cell_type": "code",
   "execution_count": 158,
   "id": "3ab80beb",
   "metadata": {},
   "outputs": [],
   "source": [
    "# import libraries \n",
    "import matplotlib.pyplot as plt\n",
    "import numpy as np\n",
    "import os\n",
    "import pandas as pd\n",
    "import re\n",
    "import seaborn as sns\n",
    "\n",
    "from imblearn.under_sampling import RandomUnderSampler\n",
    "from sklearn.ensemble import RandomForestClassifier, AdaBoostClassifier\n",
    "from sklearn.gaussian_process import GaussianProcessClassifier\n",
    "from sklearn.gaussian_process.kernels import RBF\n",
    "from sklearn.linear_model import ElasticNet, SGDClassifier, LogisticRegression, Lasso\n",
    "from sklearn.metrics import RocCurveDisplay, ConfusionMatrixDisplay, balanced_accuracy_score, classification_report, \\\n",
    "                            roc_auc_score, recall_score, f1_score\n",
    "from sklearn.model_selection import train_test_split, GridSearchCV\n",
    "from sklearn.neighbors import KNeighborsClassifier\n",
    "from sklearn.neural_network import MLPClassifier\n",
    "from sklearn.preprocessing import StandardScaler, normalize\n",
    "from sklearn.svm import SVC, LinearSVC"
   ]
  },
  {
   "cell_type": "code",
   "execution_count": 103,
   "id": "d5748095",
   "metadata": {},
   "outputs": [],
   "source": [
    "data_path = os.getcwd() + \"/Datasets/\"\n",
    "fig_path = os.getcwd() + \"/Figures/\""
   ]
  },
  {
   "cell_type": "markdown",
   "id": "f995d2cd",
   "metadata": {},
   "source": [
    "## Feature brain data set"
   ]
  },
  {
   "cell_type": "code",
   "execution_count": 141,
   "id": "4f428264",
   "metadata": {},
   "outputs": [
    {
     "data": {
      "text/html": [
       "<div>\n",
       "<style scoped>\n",
       "    .dataframe tbody tr th:only-of-type {\n",
       "        vertical-align: middle;\n",
       "    }\n",
       "\n",
       "    .dataframe tbody tr th {\n",
       "        vertical-align: top;\n",
       "    }\n",
       "\n",
       "    .dataframe thead th {\n",
       "        text-align: right;\n",
       "    }\n",
       "</style>\n",
       "<table border=\"1\" class=\"dataframe\">\n",
       "  <thead>\n",
       "    <tr style=\"text-align: right;\">\n",
       "      <th></th>\n",
       "      <th>Uniprot</th>\n",
       "      <th>Sequence</th>\n",
       "      <th>Length</th>\n",
       "      <th>Molecular weight</th>\n",
       "      <th>A</th>\n",
       "      <th>C</th>\n",
       "      <th>D</th>\n",
       "      <th>E</th>\n",
       "      <th>F</th>\n",
       "      <th>G</th>\n",
       "      <th>...</th>\n",
       "      <th>PS00028</th>\n",
       "      <th>PS00022</th>\n",
       "      <th>PS01186</th>\n",
       "      <th>Glycosylation</th>\n",
       "      <th>GlycoMine_N</th>\n",
       "      <th>GlycoMine_O</th>\n",
       "      <th>GlycoMine_C</th>\n",
       "      <th>GPI-anchor</th>\n",
       "      <th>Signal peptide</th>\n",
       "      <th>CSF</th>\n",
       "    </tr>\n",
       "  </thead>\n",
       "  <tbody>\n",
       "    <tr>\n",
       "      <th>0</th>\n",
       "      <td>Q8TDC3</td>\n",
       "      <td>MSSGAKEGGGGSPAYHLPHPHPHPPQHAQYVGPYRLEKTLGKGQTG...</td>\n",
       "      <td>778</td>\n",
       "      <td>85085.7493</td>\n",
       "      <td>0.051414</td>\n",
       "      <td>0.012853</td>\n",
       "      <td>0.043702</td>\n",
       "      <td>0.065553</td>\n",
       "      <td>0.029563</td>\n",
       "      <td>0.092545</td>\n",
       "      <td>...</td>\n",
       "      <td>0</td>\n",
       "      <td>0</td>\n",
       "      <td>0</td>\n",
       "      <td>0</td>\n",
       "      <td>1</td>\n",
       "      <td>1</td>\n",
       "      <td>0</td>\n",
       "      <td>0</td>\n",
       "      <td>0</td>\n",
       "      <td>1</td>\n",
       "    </tr>\n",
       "    <tr>\n",
       "      <th>1</th>\n",
       "      <td>P48065</td>\n",
       "      <td>MDGKVAVQECGPPAVSWVPEEGEKLDQEDEDQVKDRGQWTNKMEFV...</td>\n",
       "      <td>614</td>\n",
       "      <td>69367.5176</td>\n",
       "      <td>0.052117</td>\n",
       "      <td>0.037459</td>\n",
       "      <td>0.030945</td>\n",
       "      <td>0.043974</td>\n",
       "      <td>0.083062</td>\n",
       "      <td>0.081433</td>\n",
       "      <td>...</td>\n",
       "      <td>0</td>\n",
       "      <td>0</td>\n",
       "      <td>0</td>\n",
       "      <td>1</td>\n",
       "      <td>1</td>\n",
       "      <td>0</td>\n",
       "      <td>0</td>\n",
       "      <td>0</td>\n",
       "      <td>0</td>\n",
       "      <td>-1</td>\n",
       "    </tr>\n",
       "    <tr>\n",
       "      <th>2</th>\n",
       "      <td>Q9Y250</td>\n",
       "      <td>MGSVSSLISGHSFHSKHCRASQYKLRKSSHLKKLNRYSDGLLRFGF...</td>\n",
       "      <td>596</td>\n",
       "      <td>66612.1565</td>\n",
       "      <td>0.060403</td>\n",
       "      <td>0.011745</td>\n",
       "      <td>0.041946</td>\n",
       "      <td>0.104027</td>\n",
       "      <td>0.023490</td>\n",
       "      <td>0.072148</td>\n",
       "      <td>...</td>\n",
       "      <td>0</td>\n",
       "      <td>0</td>\n",
       "      <td>0</td>\n",
       "      <td>1</td>\n",
       "      <td>1</td>\n",
       "      <td>1</td>\n",
       "      <td>0</td>\n",
       "      <td>0</td>\n",
       "      <td>0</td>\n",
       "      <td>-1</td>\n",
       "    </tr>\n",
       "    <tr>\n",
       "      <th>3</th>\n",
       "      <td>P0DMW5</td>\n",
       "      <td>MAASAALSAAAAAAALSGLAVRLSRSAAARGSYGAFCKGLTRTLLT...</td>\n",
       "      <td>78</td>\n",
       "      <td>8388.8176</td>\n",
       "      <td>0.230769</td>\n",
       "      <td>0.012821</td>\n",
       "      <td>0.012821</td>\n",
       "      <td>0.012821</td>\n",
       "      <td>0.064103</td>\n",
       "      <td>0.051282</td>\n",
       "      <td>...</td>\n",
       "      <td>0</td>\n",
       "      <td>0</td>\n",
       "      <td>0</td>\n",
       "      <td>0</td>\n",
       "      <td>0</td>\n",
       "      <td>0</td>\n",
       "      <td>0</td>\n",
       "      <td>0</td>\n",
       "      <td>0</td>\n",
       "      <td>-1</td>\n",
       "    </tr>\n",
       "    <tr>\n",
       "      <th>4</th>\n",
       "      <td>P21579</td>\n",
       "      <td>MVSESHHEALAAPPVTTVATVLPSNATEPASPGEGKEDAFSKLKEK...</td>\n",
       "      <td>422</td>\n",
       "      <td>47572.5391</td>\n",
       "      <td>0.063981</td>\n",
       "      <td>0.014218</td>\n",
       "      <td>0.061611</td>\n",
       "      <td>0.082938</td>\n",
       "      <td>0.045024</td>\n",
       "      <td>0.059242</td>\n",
       "      <td>...</td>\n",
       "      <td>0</td>\n",
       "      <td>0</td>\n",
       "      <td>0</td>\n",
       "      <td>0</td>\n",
       "      <td>0</td>\n",
       "      <td>1</td>\n",
       "      <td>0</td>\n",
       "      <td>0</td>\n",
       "      <td>0</td>\n",
       "      <td>1</td>\n",
       "    </tr>\n",
       "    <tr>\n",
       "      <th>...</th>\n",
       "      <td>...</td>\n",
       "      <td>...</td>\n",
       "      <td>...</td>\n",
       "      <td>...</td>\n",
       "      <td>...</td>\n",
       "      <td>...</td>\n",
       "      <td>...</td>\n",
       "      <td>...</td>\n",
       "      <td>...</td>\n",
       "      <td>...</td>\n",
       "      <td>...</td>\n",
       "      <td>...</td>\n",
       "      <td>...</td>\n",
       "      <td>...</td>\n",
       "      <td>...</td>\n",
       "      <td>...</td>\n",
       "      <td>...</td>\n",
       "      <td>...</td>\n",
       "      <td>...</td>\n",
       "      <td>...</td>\n",
       "      <td>...</td>\n",
       "    </tr>\n",
       "    <tr>\n",
       "      <th>2537</th>\n",
       "      <td>Q8IZU8</td>\n",
       "      <td>MALMFTGHLLFLALLMFAFSTFEESVSNYSEWAVFTDDIDQFKTQK...</td>\n",
       "      <td>1212</td>\n",
       "      <td>139235.8716</td>\n",
       "      <td>0.067657</td>\n",
       "      <td>0.009076</td>\n",
       "      <td>0.045380</td>\n",
       "      <td>0.048680</td>\n",
       "      <td>0.063531</td>\n",
       "      <td>0.055281</td>\n",
       "      <td>...</td>\n",
       "      <td>0</td>\n",
       "      <td>0</td>\n",
       "      <td>0</td>\n",
       "      <td>0</td>\n",
       "      <td>0</td>\n",
       "      <td>0</td>\n",
       "      <td>0</td>\n",
       "      <td>0</td>\n",
       "      <td>1</td>\n",
       "      <td>-1</td>\n",
       "    </tr>\n",
       "    <tr>\n",
       "      <th>2538</th>\n",
       "      <td>Q4JDL3</td>\n",
       "      <td>MSSPRDFRAEPVNDYEGNDSEAEDLNFRETLPSSSQENTPRSKVFE...</td>\n",
       "      <td>420</td>\n",
       "      <td>48422.3273</td>\n",
       "      <td>0.047619</td>\n",
       "      <td>0.019048</td>\n",
       "      <td>0.057143</td>\n",
       "      <td>0.083333</td>\n",
       "      <td>0.052381</td>\n",
       "      <td>0.045238</td>\n",
       "      <td>...</td>\n",
       "      <td>0</td>\n",
       "      <td>0</td>\n",
       "      <td>0</td>\n",
       "      <td>0</td>\n",
       "      <td>0</td>\n",
       "      <td>0</td>\n",
       "      <td>0</td>\n",
       "      <td>0</td>\n",
       "      <td>0</td>\n",
       "      <td>-1</td>\n",
       "    </tr>\n",
       "    <tr>\n",
       "      <th>2539</th>\n",
       "      <td>Q8N4V2</td>\n",
       "      <td>MEEDLFQLRQLPVVKFRRTGESARSEDDTASGEHEVQIEGVHVGLE...</td>\n",
       "      <td>548</td>\n",
       "      <td>60768.4670</td>\n",
       "      <td>0.085766</td>\n",
       "      <td>0.023723</td>\n",
       "      <td>0.031022</td>\n",
       "      <td>0.062044</td>\n",
       "      <td>0.056569</td>\n",
       "      <td>0.082117</td>\n",
       "      <td>...</td>\n",
       "      <td>0</td>\n",
       "      <td>0</td>\n",
       "      <td>0</td>\n",
       "      <td>1</td>\n",
       "      <td>0</td>\n",
       "      <td>0</td>\n",
       "      <td>0</td>\n",
       "      <td>0</td>\n",
       "      <td>0</td>\n",
       "      <td>-1</td>\n",
       "    </tr>\n",
       "    <tr>\n",
       "      <th>2540</th>\n",
       "      <td>P48426</td>\n",
       "      <td>MATPGNLGSSVLASKTKTKKKHFVAQKVKLFRASDPLLSVLMWGVN...</td>\n",
       "      <td>406</td>\n",
       "      <td>46224.0440</td>\n",
       "      <td>0.056650</td>\n",
       "      <td>0.009852</td>\n",
       "      <td>0.068966</td>\n",
       "      <td>0.073892</td>\n",
       "      <td>0.046798</td>\n",
       "      <td>0.051724</td>\n",
       "      <td>...</td>\n",
       "      <td>0</td>\n",
       "      <td>0</td>\n",
       "      <td>0</td>\n",
       "      <td>0</td>\n",
       "      <td>0</td>\n",
       "      <td>1</td>\n",
       "      <td>0</td>\n",
       "      <td>0</td>\n",
       "      <td>0</td>\n",
       "      <td>-1</td>\n",
       "    </tr>\n",
       "    <tr>\n",
       "      <th>2541</th>\n",
       "      <td>P0DPQ6</td>\n",
       "      <td>MLKMSGWQRQSQNQSWNLRRECSRRKCIFIHHHT</td>\n",
       "      <td>34</td>\n",
       "      <td>4283.9085</td>\n",
       "      <td>0.000000</td>\n",
       "      <td>0.058824</td>\n",
       "      <td>0.000000</td>\n",
       "      <td>0.029412</td>\n",
       "      <td>0.029412</td>\n",
       "      <td>0.029412</td>\n",
       "      <td>...</td>\n",
       "      <td>0</td>\n",
       "      <td>0</td>\n",
       "      <td>0</td>\n",
       "      <td>0</td>\n",
       "      <td>0</td>\n",
       "      <td>0</td>\n",
       "      <td>0</td>\n",
       "      <td>0</td>\n",
       "      <td>0</td>\n",
       "      <td>-1</td>\n",
       "    </tr>\n",
       "  </tbody>\n",
       "</table>\n",
       "<p>2542 rows × 75 columns</p>\n",
       "</div>"
      ],
      "text/plain": [
       "     Uniprot                                           Sequence  Length  \\\n",
       "0     Q8TDC3  MSSGAKEGGGGSPAYHLPHPHPHPPQHAQYVGPYRLEKTLGKGQTG...     778   \n",
       "1     P48065  MDGKVAVQECGPPAVSWVPEEGEKLDQEDEDQVKDRGQWTNKMEFV...     614   \n",
       "2     Q9Y250  MGSVSSLISGHSFHSKHCRASQYKLRKSSHLKKLNRYSDGLLRFGF...     596   \n",
       "3     P0DMW5  MAASAALSAAAAAAALSGLAVRLSRSAAARGSYGAFCKGLTRTLLT...      78   \n",
       "4     P21579  MVSESHHEALAAPPVTTVATVLPSNATEPASPGEGKEDAFSKLKEK...     422   \n",
       "...      ...                                                ...     ...   \n",
       "2537  Q8IZU8  MALMFTGHLLFLALLMFAFSTFEESVSNYSEWAVFTDDIDQFKTQK...    1212   \n",
       "2538  Q4JDL3  MSSPRDFRAEPVNDYEGNDSEAEDLNFRETLPSSSQENTPRSKVFE...     420   \n",
       "2539  Q8N4V2  MEEDLFQLRQLPVVKFRRTGESARSEDDTASGEHEVQIEGVHVGLE...     548   \n",
       "2540  P48426  MATPGNLGSSVLASKTKTKKKHFVAQKVKLFRASDPLLSVLMWGVN...     406   \n",
       "2541  P0DPQ6                 MLKMSGWQRQSQNQSWNLRRECSRRKCIFIHHHT      34   \n",
       "\n",
       "      Molecular weight         A         C         D         E         F  \\\n",
       "0           85085.7493  0.051414  0.012853  0.043702  0.065553  0.029563   \n",
       "1           69367.5176  0.052117  0.037459  0.030945  0.043974  0.083062   \n",
       "2           66612.1565  0.060403  0.011745  0.041946  0.104027  0.023490   \n",
       "3            8388.8176  0.230769  0.012821  0.012821  0.012821  0.064103   \n",
       "4           47572.5391  0.063981  0.014218  0.061611  0.082938  0.045024   \n",
       "...                ...       ...       ...       ...       ...       ...   \n",
       "2537       139235.8716  0.067657  0.009076  0.045380  0.048680  0.063531   \n",
       "2538        48422.3273  0.047619  0.019048  0.057143  0.083333  0.052381   \n",
       "2539        60768.4670  0.085766  0.023723  0.031022  0.062044  0.056569   \n",
       "2540        46224.0440  0.056650  0.009852  0.068966  0.073892  0.046798   \n",
       "2541         4283.9085  0.000000  0.058824  0.000000  0.029412  0.029412   \n",
       "\n",
       "             G  ...  PS00028  PS00022  PS01186  Glycosylation  GlycoMine_N  \\\n",
       "0     0.092545  ...        0        0        0              0            1   \n",
       "1     0.081433  ...        0        0        0              1            1   \n",
       "2     0.072148  ...        0        0        0              1            1   \n",
       "3     0.051282  ...        0        0        0              0            0   \n",
       "4     0.059242  ...        0        0        0              0            0   \n",
       "...        ...  ...      ...      ...      ...            ...          ...   \n",
       "2537  0.055281  ...        0        0        0              0            0   \n",
       "2538  0.045238  ...        0        0        0              0            0   \n",
       "2539  0.082117  ...        0        0        0              1            0   \n",
       "2540  0.051724  ...        0        0        0              0            0   \n",
       "2541  0.029412  ...        0        0        0              0            0   \n",
       "\n",
       "      GlycoMine_O  GlycoMine_C  GPI-anchor  Signal peptide  CSF  \n",
       "0               1            0           0               0    1  \n",
       "1               0            0           0               0   -1  \n",
       "2               1            0           0               0   -1  \n",
       "3               0            0           0               0   -1  \n",
       "4               1            0           0               0    1  \n",
       "...           ...          ...         ...             ...  ...  \n",
       "2537            0            0           0               1   -1  \n",
       "2538            0            0           0               0   -1  \n",
       "2539            0            0           0               0   -1  \n",
       "2540            1            0           0               0   -1  \n",
       "2541            0            0           0               0   -1  \n",
       "\n",
       "[2542 rows x 75 columns]"
      ]
     },
     "execution_count": 141,
     "metadata": {},
     "output_type": "execute_result"
    }
   ],
   "source": [
    "df_features = pd.read_csv(data_path + \"/Features/df_features_brain.csv\")\n",
    "df_features"
   ]
  },
  {
   "cell_type": "markdown",
   "id": "5b7f9b58",
   "metadata": {},
   "source": [
    "# Machine Learning"
   ]
  },
  {
   "cell_type": "markdown",
   "id": "e0440d8e",
   "metadata": {},
   "source": [
    "## Preprocessing"
   ]
  },
  {
   "cell_type": "markdown",
   "id": "43dda182",
   "metadata": {},
   "source": [
    "### Train test set split"
   ]
  },
  {
   "cell_type": "code",
   "execution_count": 144,
   "id": "dc36534d",
   "metadata": {},
   "outputs": [],
   "source": [
    "# define variables and target\n",
    "X = (df_features.drop([\"Uniprot\", \"Sequence\", \"CSF\"], axis=1))\n",
    "y = (df_features[\"CSF\"])\n",
    "\n",
    "# split into training and test \n",
    "X_train, X_test, y_train, y_test = train_test_split(X, y, test_size=0.2, random_state=0, stratify=y)"
   ]
  },
  {
   "cell_type": "markdown",
   "id": "f73e0105",
   "metadata": {},
   "source": [
    "### Scaling"
   ]
  },
  {
   "cell_type": "code",
   "execution_count": 108,
   "id": "2d7eaab7",
   "metadata": {},
   "outputs": [],
   "source": [
    "# continuous variables\n",
    "cont = ['Length', 'Molecular weight', 'A', 'C', 'D', 'E', 'F', 'G', 'H', 'I',\n",
    "       'K', 'L', 'M', 'N', 'P', 'Q', 'R', 'S', 'T', 'V', 'W', 'Y',\n",
    "       'Isoelectric point', 'Instability index', 'Polar', 'Neutral',\n",
    "       'Hydrophobic', 'Volume_small', 'Volume_medium', 'Volume_large',\n",
    "       'Polarity_low', 'Polarity_medium', 'Polarity_large',\n",
    "       'Polarizability_low', 'Polarizability_medium', 'Polarizability_large',\n",
    "       'Charge_positive', 'Charge_neutral', 'Charge_negative', 'Buried',\n",
    "       'Exposed', 'Intermediate', 'Disorder_NSP', 'Helix_NSP', 'Turn_NSP',\n",
    "       'Sheet_NSP', 'Solubility']"
   ]
  },
  {
   "cell_type": "code",
   "execution_count": 145,
   "id": "0f7495c2",
   "metadata": {},
   "outputs": [],
   "source": [
    "# scale continuous variables\n",
    "scaler = StandardScaler()\n",
    "X_train_scal = X_train.copy()\n",
    "X_train_scal[cont] = scaler.fit_transform(X_train_scal[cont])\n",
    "X_test_scal = X_test.copy()\n",
    "X_test_scal[cont] = scaler.transform(X_test_scal[cont])"
   ]
  },
  {
   "cell_type": "markdown",
   "id": "050b19d5",
   "metadata": {},
   "source": [
    "### Undersampling"
   ]
  },
  {
   "cell_type": "code",
   "execution_count": 163,
   "id": "01394a82",
   "metadata": {},
   "outputs": [],
   "source": [
    "# undersample majority class\n",
    "undersample = RandomUnderSampler()\n",
    "X_train_bal, y_train_bal = undersample.fit_resample(X_train_scal, y_train)"
   ]
  },
  {
   "cell_type": "markdown",
   "id": "8177de09",
   "metadata": {},
   "source": [
    "## Model selection"
   ]
  },
  {
   "cell_type": "code",
   "execution_count": 182,
   "id": "8684e689",
   "metadata": {},
   "outputs": [],
   "source": [
    "def model_selection(model, X_train, X_test, y_train, y_test, n=5):\n",
    "    \"\"\"\n",
    "    \"\"\"\n",
    "    \n",
    "    # create empty list to save performance measurements\n",
    "    bac = []\n",
    "    f1 = []\n",
    "    auc = []\n",
    "    \n",
    "    # continuous variables\n",
    "    cont = ['Length', 'Molecular weight', 'A', 'C', 'D', 'E', 'F', 'G', 'H', 'I',\n",
    "       'K', 'L', 'M', 'N', 'P', 'Q', 'R', 'S', 'T', 'V', 'W', 'Y',\n",
    "       'Isoelectric point', 'Instability index', 'Polar', 'Neutral',\n",
    "       'Hydrophobic', 'Volume_small', 'Volume_medium', 'Volume_large',\n",
    "       'Polarity_low', 'Polarity_medium', 'Polarity_large',\n",
    "       'Polarizability_low', 'Polarizability_medium', 'Polarizability_large',\n",
    "       'Charge_positive', 'Charge_neutral', 'Charge_negative', 'Buried',\n",
    "       'Exposed', 'Intermediate', 'Disorder_NSP', 'Helix_NSP', 'Turn_NSP',\n",
    "       'Sheet_NSP', 'Solubility']\n",
    "\n",
    "    for i in range(n):\n",
    "\n",
    "        # split into training and test \n",
    "        X_train, X_test, y_train, y_test = train_test_split(X, y, test_size=0.2, random_state=0, stratify=y)\n",
    "\n",
    "        # scale continuous variables\n",
    "        scaler = StandardScaler()\n",
    "        X_train_scal = X_train.copy()\n",
    "        X_train_scal[cont] = scaler.fit_transform(X_train_scal[cont])\n",
    "        X_test_scal = X_test.copy()\n",
    "        X_test_scal[cont] = scaler.transform(X_test_scal[cont])\n",
    "\n",
    "        # undersample majority class\n",
    "        undersample = RandomUnderSampler()\n",
    "        X_train_bal, y_train_bal = undersample.fit_resample(X_train_scal, y_train)\n",
    "        \n",
    "        # fit classifier to training data\n",
    "        model.fit(X_train_bal, y_train_bal)\n",
    "        # predict on test set\n",
    "        y_pred = model.predict(X_test_scal) \n",
    "        \n",
    "        # measure performance of model\n",
    "        bac.append(balanced_accuracy_score(y_test, y_pred))\n",
    "        f1.append(f1_score(y_test, y_pred))\n",
    "        auc.append(roc_auc_score(y_test, y_pred))\n",
    "        \n",
    "        \n",
    "    print(\"Balanced accuracy: %.3f\" % np.mean(bac))\n",
    "    print(\"F1-score: %.3f\" % np.mean(f1))\n",
    "    print(\"AUC: %.3f\" % np.mean(auc))\n",
    "\n",
    "    return np.mean(bac), np.mean(f1), np.mean(auc)"
   ]
  },
  {
   "cell_type": "code",
   "execution_count": 184,
   "id": "d1f62c9a",
   "metadata": {},
   "outputs": [
    {
     "name": "stdout",
     "output_type": "stream",
     "text": [
      "RandomForestClassifier(n_estimators=1000)\n",
      "Balanced accuracy: 0.724\n",
      "F1-score: 0.669\n",
      "AUC: 0.724\n",
      "--------------\n",
      "AdaBoostClassifier()\n",
      "Balanced accuracy: 0.688\n",
      "F1-score: 0.633\n",
      "AUC: 0.688\n",
      "--------------\n",
      "LinearSVC(C=0.1, max_iter=10000)\n"
     ]
    },
    {
     "name": "stderr",
     "output_type": "stream",
     "text": [
      "C:\\Users\\kathi\\anaconda3\\lib\\site-packages\\sklearn\\svm\\_base.py:1206: ConvergenceWarning: Liblinear failed to converge, increase the number of iterations.\n",
      "  warnings.warn(\n",
      "C:\\Users\\kathi\\anaconda3\\lib\\site-packages\\sklearn\\svm\\_base.py:1206: ConvergenceWarning: Liblinear failed to converge, increase the number of iterations.\n",
      "  warnings.warn(\n",
      "C:\\Users\\kathi\\anaconda3\\lib\\site-packages\\sklearn\\svm\\_base.py:1206: ConvergenceWarning: Liblinear failed to converge, increase the number of iterations.\n",
      "  warnings.warn(\n",
      "C:\\Users\\kathi\\anaconda3\\lib\\site-packages\\sklearn\\svm\\_base.py:1206: ConvergenceWarning: Liblinear failed to converge, increase the number of iterations.\n",
      "  warnings.warn(\n",
      "C:\\Users\\kathi\\anaconda3\\lib\\site-packages\\sklearn\\svm\\_base.py:1206: ConvergenceWarning: Liblinear failed to converge, increase the number of iterations.\n",
      "  warnings.warn(\n"
     ]
    },
    {
     "name": "stdout",
     "output_type": "stream",
     "text": [
      "Balanced accuracy: 0.720\n",
      "F1-score: 0.665\n",
      "AUC: 0.720\n",
      "--------------\n",
      "LogisticRegression(max_iter=10000)\n",
      "Balanced accuracy: 0.720\n",
      "F1-score: 0.665\n",
      "AUC: 0.720\n",
      "--------------\n"
     ]
    }
   ],
   "source": [
    "# train the model\n",
    "\n",
    "models = [RandomForestClassifier(n_estimators=1000),\n",
    "         AdaBoostClassifier(),\n",
    "         LinearSVC(C=0.1, max_iter=10000),\n",
    "         LogisticRegression(max_iter=10000)]\n",
    "\n",
    "for model in models:\n",
    "    print(model)\n",
    "    model_selection(model, X_train, X_test, y_train, y_test, n=5)\n",
    "    print(\"--------------\")"
   ]
  },
  {
   "cell_type": "code",
   "execution_count": 186,
   "id": "c7a2885d",
   "metadata": {},
   "outputs": [
    {
     "name": "stdout",
     "output_type": "stream",
     "text": [
      "[[ 0.20774323  0.15072118  0.14129233 -0.07648315  0.         -0.05385057\n",
      "  -0.15403415  0.0952495  -0.1650397  -0.04041335  0.1454133  -0.1449257\n",
      "   0.01962686  0.1538496   0.          0.07942506  0.         -0.19614535\n",
      "   0.09571194  0.09350245 -0.24721213  0.04744662 -0.3301574  -0.0471925\n",
      "   0.0910354   0.01515812 -0.14105484  0.04457018 -0.01201562  0.\n",
      "  -0.1124684   0.03331412  0.05317707  0.09711905 -0.08859201  0.\n",
      "   0.13124904 -0.02732737 -0.02904645 -0.00811319  0.07592854 -0.09189494\n",
      "  -0.08421315 -0.13686865  0.          0.23223878 -0.01369815  0.00515138\n",
      "   0.03384357 -0.02846915 -0.29443172  0.38837175  0.05863576 -1.07459699\n",
      "   0.17177135  0.         -0.01051725  0.34815425 -0.05584419  0.\n",
      "   0.01618671 -0.136332   -0.17269737 -0.13177165  0.12344182  0.08894916\n",
      "  -0.03504914  0.24813419  0.31927603  0.03282216  0.1553781   1.02333078]]\n"
     ]
    }
   ],
   "source": [
    "# lasso = Lasso(max_iter=10)\n",
    "lr = LogisticRegression(max_iter=10000, penalty=\"l1\", solver=\"saga\")\n",
    "lr.fit(X_train_bal, y_train_bal)\n",
    "y_pred = lr.predict(X_test_scal)\n",
    "print(lr.coef_)"
   ]
  },
  {
   "cell_type": "code",
   "execution_count": 207,
   "id": "2fcc44bc",
   "metadata": {},
   "outputs": [
    {
     "name": "stdout",
     "output_type": "stream",
     "text": [
      "Nucleus             -1.074597\n",
      "Signal peptide       1.023331\n",
      "Extracellular        0.388372\n",
      "Golgi_apparatus      0.348154\n",
      "Isoelectric point   -0.330157\n",
      "GlycoMine_O          0.319276\n",
      "Cytoplasm           -0.294432\n",
      "GlycoMine_N          0.248134\n",
      "W                   -0.247212\n",
      "Sheet_NSP            0.232239\n",
      "Length               0.207743\n",
      "S                   -0.196145\n",
      "PS00027             -0.172697\n",
      "Cell_membrane        0.171771\n",
      "H                   -0.165040\n",
      "GPI-anchor           0.155378\n",
      "F                   -0.154034\n",
      "N                    0.153850\n",
      "Molecular weight     0.150721\n",
      "K                    0.145413\n",
      "dtype: float64\n",
      "-----------\n",
      "Polarity_large       0.053177\n",
      "Y                    0.047447\n",
      "Instability index   -0.047192\n",
      "Volume_small         0.044570\n",
      "I                   -0.040413\n",
      "Glycosylation       -0.035049\n",
      "First60ExpAA         0.033844\n",
      "Polarity_medium      0.033314\n",
      "GlycoMine_C          0.032822\n",
      "Charge_negative     -0.029046\n",
      "PredHel             -0.028469\n",
      "Charge_neutral      -0.027327\n",
      "M                    0.019627\n",
      "PS00232              0.016187\n",
      "Neutral              0.015158\n",
      "Solubility          -0.013698\n",
      "Volume_medium       -0.012016\n",
      "Mitochondrion       -0.010517\n",
      "Buried              -0.008113\n",
      "ExpAA                0.005151\n",
      "dtype: float64\n"
     ]
    }
   ],
   "source": [
    "# for i in range(len(lr.coef_[0])):\n",
    "#     print(X_train_bal.columns[i], \"%.3f\" % lr.coef_[0][i])\n",
    "    \n",
    "coef_lr_l1 = pd.Series(index=X_train_bal.columns, data=lr.coef_[0])\n",
    "print(coef_lr_l1[coef_lr_l1 != 0].sort_values(ascending=False, key=abs)[:20])\n",
    "print(\"-----------\")\n",
    "print(coef_lr_l1[coef_lr_l1 != 0].sort_values(ascending=False, key=abs)[-20:])"
   ]
  },
  {
   "cell_type": "code",
   "execution_count": 204,
   "id": "c5d86fe7",
   "metadata": {},
   "outputs": [
    {
     "data": {
      "text/plain": [
       "D                        0.0\n",
       "P                        0.0\n",
       "R                        0.0\n",
       "Volume_large             0.0\n",
       "Polarizability_large     0.0\n",
       "Turn_NSP                 0.0\n",
       "Endoplasmic_reticulum    0.0\n",
       "Plastid                  0.0\n",
       "dtype: float64"
      ]
     },
     "execution_count": 204,
     "metadata": {},
     "output_type": "execute_result"
    }
   ],
   "source": [
    "coef_lr_l1[coef_lr_l1 == 0]"
   ]
  },
  {
   "cell_type": "code",
   "execution_count": null,
   "id": "38653443",
   "metadata": {},
   "outputs": [],
   "source": [
    "# mlp = MLPClassifier(alpha=1, max_iter=1000)\n",
    "# mlp.fit(train_X_balanced, train_y_balanced)\n",
    "# y_pred = mlp.predict(test_X_scal) "
   ]
  },
  {
   "cell_type": "code",
   "execution_count": 226,
   "id": "8149d6e1",
   "metadata": {},
   "outputs": [],
   "source": [
    "# eln = ElasticNet(alpha=1.0, l1_ratio=1)\n",
    "# eln.fit(train_X_balanced, train_y_balanced)\n",
    "# y_pred = eln.predict(test_X_scal) "
   ]
  },
  {
   "cell_type": "code",
   "execution_count": 236,
   "id": "975398c9",
   "metadata": {},
   "outputs": [],
   "source": [
    "# sgd = SGDClassifier(penalty=\"elasticnet\")\n",
    "# sgd.fit(train_X_balanced, train_y_balanced)\n",
    "# y_pred = sgd.predict(test_X_scal) "
   ]
  },
  {
   "cell_type": "code",
   "execution_count": 192,
   "id": "d9dc3503",
   "metadata": {},
   "outputs": [],
   "source": [
    "# save model\n",
    "#### TO DO ####"
   ]
  },
  {
   "cell_type": "markdown",
   "id": "d4a06cfb",
   "metadata": {},
   "source": [
    "## Model evaluation"
   ]
  },
  {
   "cell_type": "code",
   "execution_count": 67,
   "id": "36030da1",
   "metadata": {},
   "outputs": [
    {
     "data": {
      "image/png": "[encoded data removed]",
      "text/plain": [
       "<Figure size 640x480 with 1 Axes>"
      ]
     },
     "metadata": {},
     "output_type": "display_data"
    }
   ],
   "source": [
    "# RocCurveDisplay.from_predictions(test_y, y_pred)\n",
    "RocCurveDisplay.from_estimator(svc, test_X_scal, test_y)\n",
    "# RocCurveDisplay.from_estimator(rf, test_X_scal, test_y)\n",
    "\n",
    "\n",
    "plt.show()"
   ]
  },
  {
   "cell_type": "code",
   "execution_count": 68,
   "id": "1d9b2aab",
   "metadata": {},
   "outputs": [
    {
     "data": {
      "image/png": "[encoded data removed]",
      "text/plain": [
       "<Figure size 640x480 with 2 Axes>"
      ]
     },
     "metadata": {},
     "output_type": "display_data"
    }
   ],
   "source": [
    "ConfusionMatrixDisplay.from_predictions(test_y, y_pred, normalize=\"true\")\n",
    "plt.show()"
   ]
  },
  {
   "cell_type": "code",
   "execution_count": 69,
   "id": "8513f835",
   "metadata": {},
   "outputs": [
    {
     "name": "stdout",
     "output_type": "stream",
     "text": [
      "Balanced accuracy: 0.7357662096892228\n"
     ]
    }
   ],
   "source": [
    "print(\"Balanced accuracy:\", balanced_accuracy_score(test_y, y_pred))"
   ]
  },
  {
   "cell_type": "code",
   "execution_count": 70,
   "id": "ae63f16a",
   "metadata": {},
   "outputs": [
    {
     "name": "stdout",
     "output_type": "stream",
     "text": [
      "              precision    recall  f1-score   support\n",
      "\n",
      "          -1       0.81      0.74      0.77       309\n",
      "           1       0.64      0.73      0.69       199\n",
      "\n",
      "    accuracy                           0.74       508\n",
      "   macro avg       0.73      0.74      0.73       508\n",
      "weighted avg       0.75      0.74      0.74       508\n",
      "\n"
     ]
    }
   ],
   "source": [
    "print(classification_report(test_y, y_pred))"
   ]
  },
  {
   "cell_type": "markdown",
   "id": "fd6e8a87",
   "metadata": {},
   "source": [
    "## Feature importance"
   ]
  },
  {
   "cell_type": "code",
   "execution_count": 58,
   "id": "131a734a",
   "metadata": {},
   "outputs": [
    {
     "data": {
      "image/png": "[encoded data removed]",
      "text/plain": [
       "<Figure size 2000x1200 with 1 Axes>"
      ]
     },
     "metadata": {},
     "output_type": "display_data"
    }
   ],
   "source": [
    "feature_importance = pd.Series(index = train_X.columns, data = rf.feature_importances_)\n",
    "feature_importance.sort_values(ascending=False).plot(kind='bar', figsize=(20,12))\n",
    "plt.show()"
   ]
  },
  {
   "cell_type": "markdown",
   "id": "3d6b9f85",
   "metadata": {},
   "source": [
    "# Check influence of CSF dataset stringency"
   ]
  },
  {
   "cell_type": "code",
   "execution_count": 116,
   "id": "4aa9db6d",
   "metadata": {},
   "outputs": [
    {
     "name": "stdout",
     "output_type": "stream",
     "text": [
      "1 5724\n",
      "2 3422\n",
      "3 2527\n",
      "4 2022\n",
      "5 1634\n",
      "6 1165\n",
      "7 572\n"
     ]
    }
   ],
   "source": [
    "for i in range(1, csf[\"#Studies\"].max()+1):\n",
    "    print(i, len(csf[csf[\"#Studies\"]>=i]))"
   ]
  },
  {
   "cell_type": "code",
   "execution_count": 117,
   "id": "908f8b2e",
   "metadata": {},
   "outputs": [
    {
     "data": {
      "text/plain": [
       "-1    1547\n",
       " 1     995\n",
       "Name: CSF, dtype: int64"
      ]
     },
     "execution_count": 117,
     "metadata": {},
     "output_type": "execute_result"
    }
   ],
   "source": [
    "df_features[\"CSF\"].value_counts()"
   ]
  },
  {
   "cell_type": "code",
   "execution_count": 118,
   "id": "e0a7283b",
   "metadata": {},
   "outputs": [
    {
     "name": "stdout",
     "output_type": "stream",
     "text": [
      "3422\n",
      "2022\n"
     ]
    }
   ],
   "source": [
    "uniprot_2plus_csf_studies = csf[csf[\"#Studies\"]>=2][\"Uniprot\"]\n",
    "print(len(uniprot_2plus_csf_studies))\n",
    "uniprot_4plus_csf_studies = csf[csf[\"#Studies\"]>=4][\"Uniprot\"]\n",
    "print(len(uniprot_4plus_csf_studies))"
   ]
  },
  {
   "cell_type": "code",
   "execution_count": 119,
   "id": "89dfc412",
   "metadata": {},
   "outputs": [
    {
     "name": "stdout",
     "output_type": "stream",
     "text": [
      "303\n",
      "521\n"
     ]
    }
   ],
   "source": [
    "remove_csf_2plus = set(df_features[df_features[\"CSF\"] == 1][\"Uniprot\"]) - set(uniprot_2plus_csf_studies)\n",
    "print(len(remove_csf_2plus))\n",
    "remove_csf_4plus = set(df_features[df_features[\"CSF\"] == 1][\"Uniprot\"]) - set(uniprot_4plus_csf_studies)\n",
    "print(len(remove_csf_4plus))"
   ]
  },
  {
   "cell_type": "code",
   "execution_count": 120,
   "id": "16828093",
   "metadata": {},
   "outputs": [
    {
     "data": {
      "text/plain": [
       "-1    1547\n",
       " 1     692\n",
       "Name: CSF, dtype: int64"
      ]
     },
     "execution_count": 120,
     "metadata": {},
     "output_type": "execute_result"
    }
   ],
   "source": [
    "df_2plus = df_features.drop(df_features[(df_features[\"CSF\"] == 1) & (df_features[\"Uniprot\"].isin(remove_csf_2plus))].index)\n",
    "df_2plus[\"CSF\"].value_counts()"
   ]
  },
  {
   "cell_type": "code",
   "execution_count": 121,
   "id": "06b4734b",
   "metadata": {},
   "outputs": [
    {
     "data": {
      "text/plain": [
       "-1    1547\n",
       " 1     474\n",
       "Name: CSF, dtype: int64"
      ]
     },
     "execution_count": 121,
     "metadata": {},
     "output_type": "execute_result"
    }
   ],
   "source": [
    "df_4plus = df_features.drop(df_features[(df_features[\"CSF\"] == 1) & (df_features[\"Uniprot\"].isin(remove_csf_4plus))].index)\n",
    "df_4plus[\"CSF\"].value_counts()"
   ]
  },
  {
   "cell_type": "code",
   "execution_count": 59,
   "id": "85057a1a",
   "metadata": {},
   "outputs": [],
   "source": [
    "def increase_stringency(feature_df, csf_df, i):\n",
    "    \n",
    "    stringent_csf = csf_df[csf_df[\"#Studies\"]>=i][\"Uniprot\"]\n",
    "    remove_csf = set(df_features[df_features[\"CSF\"] == 1][\"Uniprot\"]) - set(stringent_csf)\n",
    "    print(\"Number of CSF proteins to be removed:\", len(remove_csf))\n",
    "    df_stringent = df_features.drop(df_features[(df_features[\"CSF\"] == 1) & (df_features[\"Uniprot\"].isin(remove_csf))].index)\n",
    "    \n",
    "    return df_stringent\n",
    "\n",
    "def accuracy_stringent(df):\n",
    "    \n",
    "    # define explanatory and response variables\n",
    "    X = (df.drop([\"Uniprot\", \"Sequence\", \"CSF\"], axis=1))\n",
    "    y = (df[\"CSF\"])\n",
    "    \n",
    "    auc = []\n",
    "    \n",
    "    for i in range(5):\n",
    "        # split 80% training and 20% test \n",
    "        train_X, test_X, train_y, test_y = train_test_split(X, y, test_size=0.2, stratify=y)\n",
    "\n",
    "        rf = RandomForestClassifier(random_state=0, n_estimators=1000) \n",
    "        rf.fit(train_X, train_y)\n",
    "        y_pred = rf.predict(test_X)\n",
    "        \n",
    "#         print(i, \"Balanced accuracy:\", balanced_accuracy_score(test_y, y_pred))\n",
    "#         bac.append(balanced_accuracy_score(test_y, y_pred))\n",
    "        \n",
    "        print(i, \"AUC:\", roc_auc_score(test_y, y_pred))\n",
    "        auc.append(roc_auc_score(test_y, y_pred))\n",
    "        \n",
    "    return auc"
   ]
  },
  {
   "cell_type": "code",
   "execution_count": 60,
   "id": "9c831c63",
   "metadata": {},
   "outputs": [
    {
     "name": "stdout",
     "output_type": "stream",
     "text": [
      "Number of minimum CSF studies: 1\n",
      "Number of CSF proteins to be removed: 0\n",
      "0 AUC: 0.7396903874209759\n",
      "1 AUC: 0.7332063543524072\n",
      "2 AUC: 0.7470416599124655\n",
      "3 AUC: 0.739657967255633\n",
      "4 AUC: 0.7599448857189172\n",
      "-------------\n",
      "Number of minimum CSF studies: 2\n",
      "Number of CSF proteins to be removed: 303\n",
      "0 AUC: 0.8228377746610565\n",
      "1 AUC: 0.7986676016830294\n",
      "2 AUC: 0.7942028985507247\n",
      "3 AUC: 0.7700561009817672\n",
      "4 AUC: 0.7676484338475923\n",
      "-------------\n",
      "Number of minimum CSF studies: 3\n",
      "Number of CSF proteins to be removed: 454\n",
      "0 AUC: 0.8093488649940264\n",
      "1 AUC: 0.7582138590203107\n",
      "2 AUC: 0.8141875746714456\n",
      "3 AUC: 0.7706989247311828\n",
      "4 AUC: 0.7986857825567504\n",
      "-------------\n",
      "Number of minimum CSF studies: 4\n",
      "Number of CSF proteins to be removed: 521\n",
      "0 AUC: 0.8021222410865876\n",
      "1 AUC: 0.8154499151103565\n",
      "2 AUC: 0.8037351443123939\n",
      "3 AUC: 0.8174872665534804\n",
      "4 AUC: 0.7774193548387097\n",
      "-------------\n",
      "Number of minimum CSF studies: 5\n",
      "Number of CSF proteins to be removed: 588\n",
      "0 AUC: 0.8000199123855037\n",
      "1 AUC: 0.8064715252887296\n",
      "2 AUC: 0.8188172043010752\n",
      "3 AUC: 0.7557546794105935\n",
      "4 AUC: 0.7791119076065312\n",
      "-------------\n",
      "Number of minimum CSF studies: 6\n",
      "Number of CSF proteins to be removed: 693\n",
      "0 AUC: 0.7669354838709678\n",
      "1 AUC: 0.8620967741935484\n",
      "2 AUC: 0.8255376344086022\n",
      "3 AUC: 0.7505376344086021\n",
      "4 AUC: 0.8387096774193549\n",
      "-------------\n",
      "Number of minimum CSF studies: 7\n",
      "Number of CSF proteins to be removed: 833\n",
      "0 AUC: 0.7279233870967742\n",
      "1 AUC: 0.7888104838709677\n",
      "2 AUC: 0.762399193548387\n",
      "3 AUC: 0.7139112903225806\n",
      "4 AUC: 0.6826612903225807\n",
      "-------------\n"
     ]
    }
   ],
   "source": [
    "baclist = []\n",
    "    \n",
    "for i in range(1, csf[\"#Studies\"].max()+1):\n",
    "    \n",
    "    print(\"Number of minimum CSF studies:\", i)\n",
    "    \n",
    "    df_stringent = increase_stringency(df_features, csf, i)\n",
    "    bac = accuracy_stringent(df_stringent)\n",
    "    \n",
    "    print(\"-------------\")\n",
    "    \n",
    "    baclist.append(bac)"
   ]
  },
  {
   "cell_type": "code",
   "execution_count": 62,
   "id": "4616942e",
   "metadata": {},
   "outputs": [
    {
     "data": {
      "text/plain": [
       "[[0.7396903874209759,\n",
       "  0.7332063543524072,\n",
       "  0.7470416599124655,\n",
       "  0.739657967255633,\n",
       "  0.7599448857189172],\n",
       " [0.8228377746610565,\n",
       "  0.7986676016830294,\n",
       "  0.7942028985507247,\n",
       "  0.7700561009817672,\n",
       "  0.7676484338475923],\n",
       " [0.8093488649940264,\n",
       "  0.7582138590203107,\n",
       "  0.8141875746714456,\n",
       "  0.7706989247311828,\n",
       "  0.7986857825567504],\n",
       " [0.8021222410865876,\n",
       "  0.8154499151103565,\n",
       "  0.8037351443123939,\n",
       "  0.8174872665534804,\n",
       "  0.7774193548387097],\n",
       " [0.8000199123855037,\n",
       "  0.8064715252887296,\n",
       "  0.8188172043010752,\n",
       "  0.7557546794105935,\n",
       "  0.7791119076065312],\n",
       " [0.7669354838709678,\n",
       "  0.8620967741935484,\n",
       "  0.8255376344086022,\n",
       "  0.7505376344086021,\n",
       "  0.8387096774193549],\n",
       " [0.7279233870967742,\n",
       "  0.7888104838709677,\n",
       "  0.762399193548387,\n",
       "  0.7139112903225806,\n",
       "  0.6826612903225807]]"
      ]
     },
     "execution_count": 62,
     "metadata": {},
     "output_type": "execute_result"
    }
   ],
   "source": [
    "baclist"
   ]
  },
  {
   "cell_type": "code",
   "execution_count": 63,
   "id": "76c3465d",
   "metadata": {},
   "outputs": [
    {
     "data": {
      "image/png": "[encoded data removed]",
      "text/plain": [
       "<Figure size 640x480 with 1 Axes>"
      ]
     },
     "metadata": {},
     "output_type": "display_data"
    }
   ],
   "source": [
    "# sns.barplot(x=[1,2,3,4,5,6,7], y=[np.mean(i) for i in baclist], ci=[np.std(i) for i in baclist])\n",
    "# sns.barplot(x=[1,2,3,4,5,6,7], y=baclist)\n",
    "\n",
    "plt.bar(x=[1,2,3,4,5,6,7], height=[np.mean(i) for i in baclist], yerr=[np.std(i) for i in baclist])\n",
    "plt.show()"
   ]
  },
  {
   "cell_type": "code",
   "execution_count": null,
   "id": "c5245966",
   "metadata": {},
   "outputs": [],
   "source": [
    "# penalty {‘l1’, ‘l2’}, default=’l2’\n",
    "# Specifies the norm used in the penalization. The ‘l2’ penalty is the standard used in SVC. \n",
    "# The ‘l1’ leads to coef_ vectors that are sparse.\n",
    "\n",
    "# dual bool, default=True\n",
    "# Select the algorithm to either solve the dual or primal optimization problem. \n",
    "# Prefer dual=False when n_samples > n_features.\n",
    "\n",
    "# C float, default=1.0\n",
    "# Regularization parameter. The strength of the regularization is inversely proportional to C. Must be strictly positive.\n",
    "\n",
    "# max_iterint, default=1000\n",
    "# The maximum number of iterations to be run."
   ]
  },
  {
   "cell_type": "code",
   "execution_count": 128,
   "id": "348f52ae",
   "metadata": {},
   "outputs": [
    {
     "data": {
      "image/png": "[encoded data removed]",
      "text/plain": [
       "<Figure size 640x480 with 1 Axes>"
      ]
     },
     "metadata": {},
     "output_type": "display_data"
    },
    {
     "name": "stdout",
     "output_type": "stream",
     "text": [
      "Length 0.145\n",
      "Molecular weight -0.020\n",
      "A 0.062\n",
      "C -0.027\n",
      "D 0.009\n",
      "E -0.038\n",
      "F -0.068\n",
      "G 0.042\n",
      "H -0.025\n",
      "I -0.030\n",
      "K 0.072\n",
      "L -0.052\n",
      "M 0.022\n",
      "N 0.084\n",
      "P -0.011\n",
      "Q 0.025\n",
      "R -0.009\n",
      "S -0.091\n",
      "T 0.055\n",
      "V 0.043\n",
      "W -0.124\n",
      "Y 0.001\n",
      "Isoelectric point -0.114\n",
      "Instability index 0.015\n",
      "Polar 0.039\n",
      "Neutral 0.019\n",
      "Hydrophobic -0.058\n",
      "Volume_small 0.025\n",
      "Volume_medium -0.012\n",
      "Volume_large -0.013\n",
      "Polarity_low -0.053\n",
      "Polarity_medium 0.022\n",
      "Polarity_large 0.035\n",
      "Polarizability_low 0.042\n",
      "Polarizability_medium -0.037\n",
      "Polarizability_large -0.013\n",
      "Charge_positive 0.056\n",
      "Charge_neutral -0.015\n",
      "Charge_negative -0.025\n",
      "Buried -0.013\n",
      "Exposed 0.039\n",
      "Intermediate -0.039\n",
      "Disorder_NSP -0.087\n",
      "Helix_NSP -0.026\n",
      "Turn_NSP -0.008\n",
      "Sheet_NSP 0.054\n",
      "Solubility -0.013\n",
      "ExpAA 0.001\n",
      "First60ExpAA 0.009\n",
      "PredHel -0.008\n",
      "Cytoplasm -0.172\n",
      "Extracellular 0.143\n",
      "Lysosome/Vacuole 0.404\n",
      "Nucleus -0.707\n",
      "Cell_membrane 0.045\n",
      "Endoplasmic_reticulum 0.168\n",
      "Mitochondrion -0.112\n",
      "Golgi_apparatus 0.482\n",
      "Peroxisome -0.232\n",
      "Plastid -0.122\n",
      "PS00232 -0.090\n",
      "PS00237 -0.354\n",
      "PS00027 -0.247\n",
      "PS00028 -0.387\n",
      "PS00022 0.227\n",
      "PS01186 0.171\n",
      "Glycosylation 0.000\n",
      "GlycoMine_N 0.024\n",
      "GlycoMine_O 0.159\n",
      "GlycoMine_C 0.018\n",
      "GPI-anchor 0.054\n",
      "Signal peptide 0.490\n"
     ]
    }
   ],
   "source": [
    "svc = LinearSVC(C=0.1, penalty=\"l2\", max_iter=100000, dual=False, random_state=0)\n",
    "svc.fit(train_X_balanced, train_y_balanced)\n",
    "RocCurveDisplay.from_estimator(svc, test_X_scal, test_y)\n",
    "plt.show()\n",
    "\n",
    "coef_svc_l2 = pd.Series(index=train_X_balanced.columns, data=svc.coef_[0])\n",
    "\n",
    "for i in range(len(svc.coef_[0])):\n",
    "    print(train_X_balanced.columns[i], \"%.3f\" % svc.coef_[0][i])"
   ]
  },
  {
   "cell_type": "code",
   "execution_count": 127,
   "id": "10947222",
   "metadata": {},
   "outputs": [
    {
     "data": {
      "text/plain": [
       "Signal peptide      0.489694\n",
       "Golgi_apparatus     0.481649\n",
       "Lysosome/Vacuole    0.403505\n",
       "PS00022             0.227427\n",
       "PS01186             0.170701\n",
       "                      ...   \n",
       "Peroxisome         -0.232346\n",
       "PS00027            -0.247028\n",
       "PS00237            -0.353529\n",
       "PS00028            -0.386809\n",
       "Nucleus            -0.706575\n",
       "Length: 72, dtype: float64"
      ]
     },
     "execution_count": 127,
     "metadata": {},
     "output_type": "execute_result"
    }
   ],
   "source": [
    "coef_svc_l2.sort_values(ascending=False)[]"
   ]
  },
  {
   "cell_type": "code",
   "execution_count": 119,
   "id": "86c6f373",
   "metadata": {},
   "outputs": [
    {
     "data": {
      "image/png": "[encoded data removed]",
      "text/plain": [
       "<Figure size 640x480 with 1 Axes>"
      ]
     },
     "metadata": {},
     "output_type": "display_data"
    }
   ],
   "source": [
    "svc = LinearSVC(C=0.1, penalty=\"l1\", max_iter=100000, dual=False, random_state=0)\n",
    "svc.fit(train_X_balanced, train_y_balanced)\n",
    "RocCurveDisplay.from_estimator(svc, test_X_scal, test_y)\n",
    "\n",
    "plt.show()\n",
    "\n",
    "coef_svc_l1 = pd.Series(index=train_X_balanced.columns, data=svc.coef_[0])\n",
    "# for i in range(len(svc.coef_[0])):\n",
    "#     print(train_X_balanced.columns[i], \"%.3f\" % svc.coef_[0][i])"
   ]
  },
  {
   "cell_type": "code",
   "execution_count": 135,
   "id": "e1d7519d",
   "metadata": {},
   "outputs": [
    {
     "data": {
      "text/plain": [
       "Length                   0.124888\n",
       "A                        0.002889\n",
       "D                        0.003924\n",
       "F                       -0.083218\n",
       "H                       -0.059737\n",
       "I                       -0.007966\n",
       "K                        0.083632\n",
       "L                       -0.032928\n",
       "N                        0.090864\n",
       "Q                        0.038195\n",
       "S                       -0.134632\n",
       "T                        0.015455\n",
       "V                        0.037261\n",
       "W                       -0.125772\n",
       "Isoelectric point       -0.094105\n",
       "Polar                    0.001392\n",
       "Polarity_low            -0.196455\n",
       "Polarizability_low       0.070497\n",
       "Polarizability_medium   -0.077078\n",
       "Charge_positive          0.006427\n",
       "Disorder_NSP            -0.056306\n",
       "Sheet_NSP                0.079299\n",
       "ExpAA                    0.000948\n",
       "First60ExpAA             0.008884\n",
       "Cytoplasm               -0.231269\n",
       "Extracellular            0.011862\n",
       "Nucleus                 -0.786741\n",
       "Cell_membrane           -0.033168\n",
       "Mitochondrion           -0.080151\n",
       "Golgi_apparatus          0.338353\n",
       "PS00237                 -0.271364\n",
       "PS00028                 -0.173017\n",
       "PS00022                  0.102905\n",
       "GlycoMine_N              0.003204\n",
       "GlycoMine_O              0.124682\n",
       "Signal peptide           0.509261\n",
       "dtype: float64"
      ]
     },
     "execution_count": 135,
     "metadata": {},
     "output_type": "execute_result"
    }
   ],
   "source": [
    "coef_svc_l1[coef_svc_l1 != 0]"
   ]
  },
  {
   "cell_type": "code",
   "execution_count": 138,
   "id": "dcbcd7c3",
   "metadata": {},
   "outputs": [
    {
     "name": "stdout",
     "output_type": "stream",
     "text": [
      "Fitting 5 folds for each of 12 candidates, totalling 60 fits\n",
      "[CV] END ...................................C=0.01, degree=2; total time=   0.1s\n",
      "[CV] END ...................................C=0.01, degree=2; total time=   0.1s\n",
      "[CV] END ...................................C=0.01, degree=2; total time=   0.1s\n",
      "[CV] END ...................................C=0.01, degree=2; total time=   0.1s\n",
      "[CV] END ...................................C=0.01, degree=2; total time=   0.1s\n",
      "[CV] END ...................................C=0.01, degree=3; total time=   0.1s\n",
      "[CV] END ...................................C=0.01, degree=3; total time=   0.1s\n",
      "[CV] END ...................................C=0.01, degree=3; total time=   0.1s\n",
      "[CV] END ...................................C=0.01, degree=3; total time=   0.1s\n",
      "[CV] END ...................................C=0.01, degree=3; total time=   0.1s\n",
      "[CV] END ...................................C=0.01, degree=4; total time=   0.1s\n",
      "[CV] END ...................................C=0.01, degree=4; total time=   0.1s\n",
      "[CV] END ...................................C=0.01, degree=4; total time=   0.1s\n",
      "[CV] END ...................................C=0.01, degree=4; total time=   0.1s\n",
      "[CV] END ...................................C=0.01, degree=4; total time=   0.1s\n",
      "[CV] END ....................................C=0.1, degree=2; total time=   0.1s\n",
      "[CV] END ....................................C=0.1, degree=2; total time=   0.1s\n",
      "[CV] END ....................................C=0.1, degree=2; total time=   0.1s\n",
      "[CV] END ....................................C=0.1, degree=2; total time=   0.1s\n",
      "[CV] END ....................................C=0.1, degree=2; total time=   0.1s\n",
      "[CV] END ....................................C=0.1, degree=3; total time=   0.1s\n",
      "[CV] END ....................................C=0.1, degree=3; total time=   0.1s\n",
      "[CV] END ....................................C=0.1, degree=3; total time=   0.1s\n",
      "[CV] END ....................................C=0.1, degree=3; total time=   0.1s\n",
      "[CV] END ....................................C=0.1, degree=3; total time=   0.1s\n",
      "[CV] END ....................................C=0.1, degree=4; total time=   0.2s\n",
      "[CV] END ....................................C=0.1, degree=4; total time=   0.3s\n",
      "[CV] END ....................................C=0.1, degree=4; total time=   0.2s\n",
      "[CV] END ....................................C=0.1, degree=4; total time=   0.3s\n",
      "[CV] END ....................................C=0.1, degree=4; total time=   0.2s\n",
      "[CV] END ......................................C=1, degree=2; total time=   0.1s\n",
      "[CV] END ......................................C=1, degree=2; total time=   0.1s\n",
      "[CV] END ......................................C=1, degree=2; total time=   0.1s\n",
      "[CV] END ......................................C=1, degree=2; total time=   0.1s\n",
      "[CV] END ......................................C=1, degree=2; total time=   0.1s\n",
      "[CV] END ......................................C=1, degree=3; total time=   0.2s\n",
      "[CV] END ......................................C=1, degree=3; total time=   0.2s\n",
      "[CV] END ......................................C=1, degree=3; total time=   0.1s\n",
      "[CV] END ......................................C=1, degree=3; total time=   0.2s\n",
      "[CV] END ......................................C=1, degree=3; total time=   0.1s\n",
      "[CV] END ......................................C=1, degree=4; total time=   0.7s\n",
      "[CV] END ......................................C=1, degree=4; total time=   0.9s\n",
      "[CV] END ......................................C=1, degree=4; total time=   0.5s\n",
      "[CV] END ......................................C=1, degree=4; total time=   0.6s\n",
      "[CV] END ......................................C=1, degree=4; total time=   0.6s\n",
      "[CV] END .....................................C=10, degree=2; total time=   0.1s\n",
      "[CV] END .....................................C=10, degree=2; total time=   0.1s\n",
      "[CV] END .....................................C=10, degree=2; total time=   0.1s\n",
      "[CV] END .....................................C=10, degree=2; total time=   0.1s\n",
      "[CV] END .....................................C=10, degree=2; total time=   0.1s\n",
      "[CV] END .....................................C=10, degree=3; total time=   0.8s\n",
      "[CV] END .....................................C=10, degree=3; total time=   1.0s\n",
      "[CV] END .....................................C=10, degree=3; total time=   0.4s\n",
      "[CV] END .....................................C=10, degree=3; total time=   0.6s\n",
      "[CV] END .....................................C=10, degree=3; total time=   0.6s\n",
      "[CV] END .....................................C=10, degree=4; total time=   2.8s\n",
      "[CV] END .....................................C=10, degree=4; total time=   3.4s\n",
      "[CV] END .....................................C=10, degree=4; total time=   3.7s\n",
      "[CV] END .....................................C=10, degree=4; total time=   2.0s\n",
      "[CV] END .....................................C=10, degree=4; total time=   1.8s\n"
     ]
    },
    {
     "data": {
      "text/plain": [
       "GridSearchCV(estimator=SVC(kernel='poly'),\n",
       "             param_grid={'C': [0.01, 0.1, 1, 10], 'degree': [2, 3, 4]},\n",
       "             verbose=2)"
      ]
     },
     "execution_count": 138,
     "metadata": {},
     "output_type": "execute_result"
    }
   ],
   "source": [
    "parameters = {\"C\":[0.01, 0.1, 1, 10], \"degree\":[2, 3, 4]}\n",
    "# svc = LinearSVC(max_iter=100000)\n",
    "svc = SVC(kernel=\"poly\")\n",
    "grs = GridSearchCV(svc, parameters, verbose=2)\n",
    "grs.fit(train_X_balanced, train_y_balanced)"
   ]
  },
  {
   "cell_type": "code",
   "execution_count": 140,
   "id": "1621e383",
   "metadata": {},
   "outputs": [
    {
     "data": {
      "text/html": [
       "<div>\n",
       "<style scoped>\n",
       "    .dataframe tbody tr th:only-of-type {\n",
       "        vertical-align: middle;\n",
       "    }\n",
       "\n",
       "    .dataframe tbody tr th {\n",
       "        vertical-align: top;\n",
       "    }\n",
       "\n",
       "    .dataframe thead th {\n",
       "        text-align: right;\n",
       "    }\n",
       "</style>\n",
       "<table border=\"1\" class=\"dataframe\">\n",
       "  <thead>\n",
       "    <tr style=\"text-align: right;\">\n",
       "      <th></th>\n",
       "      <th>mean_fit_time</th>\n",
       "      <th>std_fit_time</th>\n",
       "      <th>mean_score_time</th>\n",
       "      <th>std_score_time</th>\n",
       "      <th>param_C</th>\n",
       "      <th>param_degree</th>\n",
       "      <th>params</th>\n",
       "      <th>split0_test_score</th>\n",
       "      <th>split1_test_score</th>\n",
       "      <th>split2_test_score</th>\n",
       "      <th>split3_test_score</th>\n",
       "      <th>split4_test_score</th>\n",
       "      <th>mean_test_score</th>\n",
       "      <th>std_test_score</th>\n",
       "      <th>rank_test_score</th>\n",
       "    </tr>\n",
       "  </thead>\n",
       "  <tbody>\n",
       "    <tr>\n",
       "      <th>10</th>\n",
       "      <td>0.742595</td>\n",
       "      <td>0.207474</td>\n",
       "      <td>0.033098</td>\n",
       "      <td>0.004772</td>\n",
       "      <td>10</td>\n",
       "      <td>3</td>\n",
       "      <td>{'C': 10, 'degree': 3}</td>\n",
       "      <td>0.531447</td>\n",
       "      <td>0.536278</td>\n",
       "      <td>0.548896</td>\n",
       "      <td>0.545741</td>\n",
       "      <td>0.526814</td>\n",
       "      <td>0.537835</td>\n",
       "      <td>0.008361</td>\n",
       "      <td>1</td>\n",
       "    </tr>\n",
       "    <tr>\n",
       "      <th>9</th>\n",
       "      <td>0.190252</td>\n",
       "      <td>0.006482</td>\n",
       "      <td>0.033224</td>\n",
       "      <td>0.003193</td>\n",
       "      <td>10</td>\n",
       "      <td>2</td>\n",
       "      <td>{'C': 10, 'degree': 2}</td>\n",
       "      <td>0.525157</td>\n",
       "      <td>0.539432</td>\n",
       "      <td>0.561514</td>\n",
       "      <td>0.542587</td>\n",
       "      <td>0.517350</td>\n",
       "      <td>0.537208</td>\n",
       "      <td>0.015259</td>\n",
       "      <td>2</td>\n",
       "    </tr>\n",
       "    <tr>\n",
       "      <th>6</th>\n",
       "      <td>0.175063</td>\n",
       "      <td>0.009926</td>\n",
       "      <td>0.033598</td>\n",
       "      <td>0.000800</td>\n",
       "      <td>1</td>\n",
       "      <td>2</td>\n",
       "      <td>{'C': 1, 'degree': 2}</td>\n",
       "      <td>0.531447</td>\n",
       "      <td>0.526814</td>\n",
       "      <td>0.545741</td>\n",
       "      <td>0.539432</td>\n",
       "      <td>0.517350</td>\n",
       "      <td>0.532157</td>\n",
       "      <td>0.009857</td>\n",
       "      <td>3</td>\n",
       "    </tr>\n",
       "    <tr>\n",
       "      <th>11</th>\n",
       "      <td>2.786318</td>\n",
       "      <td>0.744467</td>\n",
       "      <td>0.032022</td>\n",
       "      <td>0.000708</td>\n",
       "      <td>10</td>\n",
       "      <td>4</td>\n",
       "      <td>{'C': 10, 'degree': 4}</td>\n",
       "      <td>0.537736</td>\n",
       "      <td>0.536278</td>\n",
       "      <td>0.539432</td>\n",
       "      <td>0.523659</td>\n",
       "      <td>0.523659</td>\n",
       "      <td>0.532153</td>\n",
       "      <td>0.007006</td>\n",
       "      <td>4</td>\n",
       "    </tr>\n",
       "    <tr>\n",
       "      <th>8</th>\n",
       "      <td>0.740001</td>\n",
       "      <td>0.140310</td>\n",
       "      <td>0.032414</td>\n",
       "      <td>0.002057</td>\n",
       "      <td>1</td>\n",
       "      <td>4</td>\n",
       "      <td>{'C': 1, 'degree': 4}</td>\n",
       "      <td>0.531447</td>\n",
       "      <td>0.529968</td>\n",
       "      <td>0.539432</td>\n",
       "      <td>0.533123</td>\n",
       "      <td>0.517350</td>\n",
       "      <td>0.530264</td>\n",
       "      <td>0.007218</td>\n",
       "      <td>5</td>\n",
       "    </tr>\n",
       "    <tr>\n",
       "      <th>7</th>\n",
       "      <td>0.224855</td>\n",
       "      <td>0.011472</td>\n",
       "      <td>0.030607</td>\n",
       "      <td>0.002871</td>\n",
       "      <td>1</td>\n",
       "      <td>3</td>\n",
       "      <td>{'C': 1, 'degree': 3}</td>\n",
       "      <td>0.525157</td>\n",
       "      <td>0.536278</td>\n",
       "      <td>0.533123</td>\n",
       "      <td>0.536278</td>\n",
       "      <td>0.511041</td>\n",
       "      <td>0.528375</td>\n",
       "      <td>0.009574</td>\n",
       "      <td>6</td>\n",
       "    </tr>\n",
       "    <tr>\n",
       "      <th>4</th>\n",
       "      <td>0.163193</td>\n",
       "      <td>0.010612</td>\n",
       "      <td>0.033582</td>\n",
       "      <td>0.000994</td>\n",
       "      <td>0.1</td>\n",
       "      <td>3</td>\n",
       "      <td>{'C': 0.1, 'degree': 3}</td>\n",
       "      <td>0.518868</td>\n",
       "      <td>0.529968</td>\n",
       "      <td>0.542587</td>\n",
       "      <td>0.523659</td>\n",
       "      <td>0.507886</td>\n",
       "      <td>0.524594</td>\n",
       "      <td>0.011536</td>\n",
       "      <td>7</td>\n",
       "    </tr>\n",
       "    <tr>\n",
       "      <th>3</th>\n",
       "      <td>0.140071</td>\n",
       "      <td>0.007381</td>\n",
       "      <td>0.034858</td>\n",
       "      <td>0.002120</td>\n",
       "      <td>0.1</td>\n",
       "      <td>2</td>\n",
       "      <td>{'C': 0.1, 'degree': 2}</td>\n",
       "      <td>0.525157</td>\n",
       "      <td>0.526814</td>\n",
       "      <td>0.529968</td>\n",
       "      <td>0.520505</td>\n",
       "      <td>0.511041</td>\n",
       "      <td>0.522697</td>\n",
       "      <td>0.006581</td>\n",
       "      <td>8</td>\n",
       "    </tr>\n",
       "    <tr>\n",
       "      <th>5</th>\n",
       "      <td>0.279668</td>\n",
       "      <td>0.037871</td>\n",
       "      <td>0.032800</td>\n",
       "      <td>0.000765</td>\n",
       "      <td>0.1</td>\n",
       "      <td>4</td>\n",
       "      <td>{'C': 0.1, 'degree': 4}</td>\n",
       "      <td>0.525157</td>\n",
       "      <td>0.529968</td>\n",
       "      <td>0.526814</td>\n",
       "      <td>0.517350</td>\n",
       "      <td>0.507886</td>\n",
       "      <td>0.521435</td>\n",
       "      <td>0.007948</td>\n",
       "      <td>9</td>\n",
       "    </tr>\n",
       "    <tr>\n",
       "      <th>1</th>\n",
       "      <td>0.131320</td>\n",
       "      <td>0.005173</td>\n",
       "      <td>0.033197</td>\n",
       "      <td>0.000978</td>\n",
       "      <td>0.01</td>\n",
       "      <td>3</td>\n",
       "      <td>{'C': 0.01, 'degree': 3}</td>\n",
       "      <td>0.512579</td>\n",
       "      <td>0.517350</td>\n",
       "      <td>0.520505</td>\n",
       "      <td>0.523659</td>\n",
       "      <td>0.504732</td>\n",
       "      <td>0.515765</td>\n",
       "      <td>0.006621</td>\n",
       "      <td>10</td>\n",
       "    </tr>\n",
       "    <tr>\n",
       "      <th>2</th>\n",
       "      <td>0.166699</td>\n",
       "      <td>0.015511</td>\n",
       "      <td>0.035666</td>\n",
       "      <td>0.001012</td>\n",
       "      <td>0.01</td>\n",
       "      <td>4</td>\n",
       "      <td>{'C': 0.01, 'degree': 4}</td>\n",
       "      <td>0.503145</td>\n",
       "      <td>0.517350</td>\n",
       "      <td>0.520505</td>\n",
       "      <td>0.514196</td>\n",
       "      <td>0.495268</td>\n",
       "      <td>0.510093</td>\n",
       "      <td>0.009444</td>\n",
       "      <td>11</td>\n",
       "    </tr>\n",
       "    <tr>\n",
       "      <th>0</th>\n",
       "      <td>0.128357</td>\n",
       "      <td>0.006278</td>\n",
       "      <td>0.033803</td>\n",
       "      <td>0.001164</td>\n",
       "      <td>0.01</td>\n",
       "      <td>2</td>\n",
       "      <td>{'C': 0.01, 'degree': 2}</td>\n",
       "      <td>0.500000</td>\n",
       "      <td>0.498423</td>\n",
       "      <td>0.501577</td>\n",
       "      <td>0.498423</td>\n",
       "      <td>0.498423</td>\n",
       "      <td>0.499369</td>\n",
       "      <td>0.001262</td>\n",
       "      <td>12</td>\n",
       "    </tr>\n",
       "  </tbody>\n",
       "</table>\n",
       "</div>"
      ],
      "text/plain": [
       "    mean_fit_time  std_fit_time  mean_score_time  std_score_time param_C  \\\n",
       "10       0.742595      0.207474         0.033098        0.004772      10   \n",
       "9        0.190252      0.006482         0.033224        0.003193      10   \n",
       "6        0.175063      0.009926         0.033598        0.000800       1   \n",
       "11       2.786318      0.744467         0.032022        0.000708      10   \n",
       "8        0.740001      0.140310         0.032414        0.002057       1   \n",
       "7        0.224855      0.011472         0.030607        0.002871       1   \n",
       "4        0.163193      0.010612         0.033582        0.000994     0.1   \n",
       "3        0.140071      0.007381         0.034858        0.002120     0.1   \n",
       "5        0.279668      0.037871         0.032800        0.000765     0.1   \n",
       "1        0.131320      0.005173         0.033197        0.000978    0.01   \n",
       "2        0.166699      0.015511         0.035666        0.001012    0.01   \n",
       "0        0.128357      0.006278         0.033803        0.001164    0.01   \n",
       "\n",
       "   param_degree                    params  split0_test_score  \\\n",
       "10            3    {'C': 10, 'degree': 3}           0.531447   \n",
       "9             2    {'C': 10, 'degree': 2}           0.525157   \n",
       "6             2     {'C': 1, 'degree': 2}           0.531447   \n",
       "11            4    {'C': 10, 'degree': 4}           0.537736   \n",
       "8             4     {'C': 1, 'degree': 4}           0.531447   \n",
       "7             3     {'C': 1, 'degree': 3}           0.525157   \n",
       "4             3   {'C': 0.1, 'degree': 3}           0.518868   \n",
       "3             2   {'C': 0.1, 'degree': 2}           0.525157   \n",
       "5             4   {'C': 0.1, 'degree': 4}           0.525157   \n",
       "1             3  {'C': 0.01, 'degree': 3}           0.512579   \n",
       "2             4  {'C': 0.01, 'degree': 4}           0.503145   \n",
       "0             2  {'C': 0.01, 'degree': 2}           0.500000   \n",
       "\n",
       "    split1_test_score  split2_test_score  split3_test_score  \\\n",
       "10           0.536278           0.548896           0.545741   \n",
       "9            0.539432           0.561514           0.542587   \n",
       "6            0.526814           0.545741           0.539432   \n",
       "11           0.536278           0.539432           0.523659   \n",
       "8            0.529968           0.539432           0.533123   \n",
       "7            0.536278           0.533123           0.536278   \n",
       "4            0.529968           0.542587           0.523659   \n",
       "3            0.526814           0.529968           0.520505   \n",
       "5            0.529968           0.526814           0.517350   \n",
       "1            0.517350           0.520505           0.523659   \n",
       "2            0.517350           0.520505           0.514196   \n",
       "0            0.498423           0.501577           0.498423   \n",
       "\n",
       "    split4_test_score  mean_test_score  std_test_score  rank_test_score  \n",
       "10           0.526814         0.537835        0.008361                1  \n",
       "9            0.517350         0.537208        0.015259                2  \n",
       "6            0.517350         0.532157        0.009857                3  \n",
       "11           0.523659         0.532153        0.007006                4  \n",
       "8            0.517350         0.530264        0.007218                5  \n",
       "7            0.511041         0.528375        0.009574                6  \n",
       "4            0.507886         0.524594        0.011536                7  \n",
       "3            0.511041         0.522697        0.006581                8  \n",
       "5            0.507886         0.521435        0.007948                9  \n",
       "1            0.504732         0.515765        0.006621               10  \n",
       "2            0.495268         0.510093        0.009444               11  \n",
       "0            0.498423         0.499369        0.001262               12  "
      ]
     },
     "execution_count": 140,
     "metadata": {},
     "output_type": "execute_result"
    }
   ],
   "source": [
    "pd.DataFrame(grs.cv_results_).sort_values(\"rank_test_score\")"
   ]
  },
  {
   "cell_type": "code",
   "execution_count": null,
   "id": "761bde77",
   "metadata": {},
   "outputs": [],
   "source": [
    "coef_svc_l1 = pd.Series(index=train_X_balanced.columns, data=svc.coef_[0])"
   ]
  },
  {
   "cell_type": "code",
   "execution_count": 137,
   "id": "e0e55b9c",
   "metadata": {},
   "outputs": [],
   "source": [
    "grid_results_linear = pd.DataFrame(grs.cv_results_).sort_values(\"rank_test_score\")"
   ]
  },
  {
   "cell_type": "markdown",
   "id": "5dbb2713",
   "metadata": {},
   "source": [
    "# Prediction on brain detected data set"
   ]
  },
  {
   "cell_type": "markdown",
   "id": "4c1b6089",
   "metadata": {},
   "source": [
    "## Create test data set"
   ]
  },
  {
   "cell_type": "code",
   "execution_count": 126,
   "id": "21f90863",
   "metadata": {},
   "outputs": [],
   "source": [
    "# brain_detected_test_set = brain_detected_set - brain_set\n",
    "# len(brain_detected_test_set)\n",
    "\n",
    "# df_features_test = df_features[df_features[\"Uniprot\"].isin(list(brain_detected_test_set))]\n",
    "# df_features_test"
   ]
  },
  {
   "cell_type": "code",
   "execution_count": 127,
   "id": "b705eae0",
   "metadata": {},
   "outputs": [],
   "source": [
    "# test_brain = df_features_test.drop([\"Uniprot\", \"Sequence\"], axis=1)\n",
    "# test_preds = pd.Series(rf.predict(test_brain))"
   ]
  },
  {
   "cell_type": "code",
   "execution_count": 128,
   "id": "db849baa",
   "metadata": {},
   "outputs": [],
   "source": [
    "# test_preds.value_counts(dropna=False)"
   ]
  },
  {
   "cell_type": "code",
   "execution_count": 129,
   "id": "7feeb5d8",
   "metadata": {},
   "outputs": [],
   "source": [
    "# test_preds.index = test_brain.index\n",
    "# test_brain_pos = test_brain[test_preds == 1]\n",
    "# test_brain_neg = test_brain[test_preds == -1]"
   ]
  },
  {
   "cell_type": "code",
   "execution_count": 130,
   "id": "ab84dfe4",
   "metadata": {},
   "outputs": [],
   "source": [
    "# test_brain_pos.columns"
   ]
  },
  {
   "cell_type": "code",
   "execution_count": 131,
   "id": "aad100d4",
   "metadata": {},
   "outputs": [],
   "source": [
    "# test_proba = pd.DataFrame(rf.predict_proba(test_brain), columns=[\"not CSF\", \"CSF\"])\n",
    "# test_proba.sort_values(by=\"not CSF\")\n",
    "# test_proba"
   ]
  },
  {
   "cell_type": "code",
   "execution_count": 132,
   "id": "e3953598",
   "metadata": {},
   "outputs": [],
   "source": [
    "# test_proba.index = test_brain.index\n",
    "# test_proba"
   ]
  },
  {
   "cell_type": "code",
   "execution_count": 133,
   "id": "1dc5c425",
   "metadata": {},
   "outputs": [],
   "source": [
    "# feature_df_test[[\"not CSF\", \"CSF\"]] = test_proba\n",
    "# feature_df_test"
   ]
  },
  {
   "cell_type": "code",
   "execution_count": 134,
   "id": "fb12b637",
   "metadata": {},
   "outputs": [],
   "source": [
    "# feature_df_test.sort_values(by=\"CSF\", ascending=False)[:30]"
   ]
  },
  {
   "cell_type": "markdown",
   "id": "27747da5",
   "metadata": {},
   "source": [
    "# Figures for CSF Society Meeting 2022 abstract"
   ]
  },
  {
   "cell_type": "code",
   "execution_count": 135,
   "id": "b953071c",
   "metadata": {},
   "outputs": [
    {
     "data": {
      "image/png": "[encoded data removed]",
      "text/plain": [
       "<Figure size 1000x400 with 2 Axes>"
      ]
     },
     "metadata": {},
     "output_type": "display_data"
    }
   ],
   "source": [
    "sns.set(style=(\"ticks\"), font_scale=1)\n",
    "fig, axes = plt.subplots(1, 2, figsize=(10, 4))\n",
    "fig.subplots_adjust(wspace=0.3)#, hspace=None)\n",
    "\n",
    "sns.violinplot(y=\"Helix_NSP\",  x=\"CSF\", data=feature_df_brain, ax=axes[0], palette=[\"darkred\", \"indianred\"])\n",
    "axes[0].set(xlabel=None, ylabel=\"Alpha helix\", xticklabels=[\"non-CSF\", \"CSF\"])\n",
    "sns.violinplot(y=\"Sheet_NSP\",  x=\"CSF\", data=feature_df_brain, ax=axes[1], palette=[\"teal\", \"turquoise\"])\n",
    "axes[1].set(xlabel=None, ylabel=\"Beta sheet\", xticklabels=[\"non-CSF\", \"CSF\"])\n",
    "\n",
    "plt.show()"
   ]
  }
 ],
 "metadata": {
  "kernelspec": {
   "display_name": "Python 3",
   "language": "python",
   "name": "python3"
  },
  "language_info": {
   "codemirror_mode": {
    "name": "ipython",
    "version": 3
   },
   "file_extension": ".py",
   "mimetype": "text/x-python",
   "name": "python",
   "nbconvert_exporter": "python",
   "pygments_lexer": "ipython3",
   "version": "3.8.5"
  }
 },
 "nbformat": 4,
 "nbformat_minor": 5
}
