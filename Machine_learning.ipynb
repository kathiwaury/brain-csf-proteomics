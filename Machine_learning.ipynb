{
 "cells": [
  {
   "cell_type": "markdown",
   "id": "b1d8820a",
   "metadata": {},
   "source": [
    "# Import libraries and data"
   ]
  },
  {
   "cell_type": "code",
   "execution_count": 15,
   "id": "3ab80beb",
   "metadata": {},
   "outputs": [],
   "source": [
    "# import libraries \n",
    "import matplotlib.pyplot as plt\n",
    "import numpy as np\n",
    "import os\n",
    "import pandas as pd\n",
    "import pickle\n",
    "import re\n",
    "import seaborn as sns\n",
    "\n",
    "from imblearn.under_sampling import RandomUnderSampler\n",
    "from sklearn.ensemble import RandomForestClassifier\n",
    "from sklearn.linear_model import LogisticRegression\n",
    "from sklearn.metrics import RocCurveDisplay, ConfusionMatrixDisplay, balanced_accuracy_score, roc_auc_score, f1_score, \\\n",
    "    confusion_matrix\n",
    "from sklearn.model_selection import train_test_split, GridSearchCV\n",
    "from sklearn.preprocessing import StandardScaler, MinMaxScaler\n",
    "from sklearn.svm import SVC, LinearSVC\n",
    "\n",
    "from utils import keep_first_uniprot\n",
    "from matplotlib_venn import venn2, venn3"
   ]
  },
  {
   "cell_type": "code",
   "execution_count": 16,
   "id": "d5748095",
   "metadata": {},
   "outputs": [],
   "source": [
    "data_path = os.getcwd() + \"/Datasets/\"\n",
    "fig_path = os.getcwd() + \"/Figures/\""
   ]
  },
  {
   "cell_type": "markdown",
   "id": "f995d2cd",
   "metadata": {},
   "source": [
    "## Feature brain data set"
   ]
  },
  {
   "cell_type": "code",
   "execution_count": 17,
   "id": "4f428264",
   "metadata": {},
   "outputs": [
    {
     "data": {
      "text/html": [
       "<div>\n",
       "<style scoped>\n",
       "    .dataframe tbody tr th:only-of-type {\n",
       "        vertical-align: middle;\n",
       "    }\n",
       "\n",
       "    .dataframe tbody tr th {\n",
       "        vertical-align: top;\n",
       "    }\n",
       "\n",
       "    .dataframe thead th {\n",
       "        text-align: right;\n",
       "    }\n",
       "</style>\n",
       "<table border=\"1\" class=\"dataframe\">\n",
       "  <thead>\n",
       "    <tr style=\"text-align: right;\">\n",
       "      <th></th>\n",
       "      <th>Uniprot</th>\n",
       "      <th>Sequence</th>\n",
       "      <th>Length</th>\n",
       "      <th>Molecular weight</th>\n",
       "      <th>A</th>\n",
       "      <th>C</th>\n",
       "      <th>D</th>\n",
       "      <th>E</th>\n",
       "      <th>F</th>\n",
       "      <th>G</th>\n",
       "      <th>...</th>\n",
       "      <th>GlycoMine_N</th>\n",
       "      <th>GlycoMine_O</th>\n",
       "      <th>GlycoMine_C</th>\n",
       "      <th>GPI-anchor</th>\n",
       "      <th>Signal peptide</th>\n",
       "      <th>RNA_binding</th>\n",
       "      <th>DNA_binding</th>\n",
       "      <th>Prot_bind</th>\n",
       "      <th>Prot_bind_binary</th>\n",
       "      <th>CSF</th>\n",
       "    </tr>\n",
       "  </thead>\n",
       "  <tbody>\n",
       "    <tr>\n",
       "      <th>0</th>\n",
       "      <td>Q6ZMQ8</td>\n",
       "      <td>MSSSFFNPSFAFSSHFDPDGAPLSELSWPSSLAVVAVSFSGLFAVI...</td>\n",
       "      <td>1374</td>\n",
       "      <td>144567.7122</td>\n",
       "      <td>0.105531</td>\n",
       "      <td>0.022562</td>\n",
       "      <td>0.051674</td>\n",
       "      <td>0.088792</td>\n",
       "      <td>0.034934</td>\n",
       "      <td>0.094614</td>\n",
       "      <td>...</td>\n",
       "      <td>0</td>\n",
       "      <td>0</td>\n",
       "      <td>0</td>\n",
       "      <td>0</td>\n",
       "      <td>0</td>\n",
       "      <td>0</td>\n",
       "      <td>0</td>\n",
       "      <td>0.000000</td>\n",
       "      <td>0</td>\n",
       "      <td>-1</td>\n",
       "    </tr>\n",
       "    <tr>\n",
       "      <th>1</th>\n",
       "      <td>Q9BZC7</td>\n",
       "      <td>MGFLHQLQLLLWKNVTLKRRSPWVLAFEIFIPLVLFFILLGLRQKK...</td>\n",
       "      <td>2435</td>\n",
       "      <td>269829.6684</td>\n",
       "      <td>0.078850</td>\n",
       "      <td>0.016838</td>\n",
       "      <td>0.043532</td>\n",
       "      <td>0.057084</td>\n",
       "      <td>0.045996</td>\n",
       "      <td>0.069815</td>\n",
       "      <td>...</td>\n",
       "      <td>1</td>\n",
       "      <td>0</td>\n",
       "      <td>0</td>\n",
       "      <td>0</td>\n",
       "      <td>0</td>\n",
       "      <td>0</td>\n",
       "      <td>0</td>\n",
       "      <td>0.000000</td>\n",
       "      <td>0</td>\n",
       "      <td>1</td>\n",
       "    </tr>\n",
       "    <tr>\n",
       "      <th>2</th>\n",
       "      <td>Q9NP78</td>\n",
       "      <td>MRLWKAVVVTLAFMSVDICVTTAIYVFSHLDRSLLEDIRHFNIFDS...</td>\n",
       "      <td>766</td>\n",
       "      <td>84473.7976</td>\n",
       "      <td>0.087467</td>\n",
       "      <td>0.010444</td>\n",
       "      <td>0.033943</td>\n",
       "      <td>0.048303</td>\n",
       "      <td>0.050914</td>\n",
       "      <td>0.074413</td>\n",
       "      <td>...</td>\n",
       "      <td>1</td>\n",
       "      <td>0</td>\n",
       "      <td>0</td>\n",
       "      <td>0</td>\n",
       "      <td>0</td>\n",
       "      <td>0</td>\n",
       "      <td>0</td>\n",
       "      <td>0.014360</td>\n",
       "      <td>1</td>\n",
       "      <td>1</td>\n",
       "    </tr>\n",
       "    <tr>\n",
       "      <th>3</th>\n",
       "      <td>Q9UBJ2</td>\n",
       "      <td>MTHMLNAAADRVKWTRSSAAKRAACLVAAAYALKTLYPIIGKRLKQ...</td>\n",
       "      <td>740</td>\n",
       "      <td>83231.8369</td>\n",
       "      <td>0.085135</td>\n",
       "      <td>0.013514</td>\n",
       "      <td>0.043243</td>\n",
       "      <td>0.060811</td>\n",
       "      <td>0.031081</td>\n",
       "      <td>0.062162</td>\n",
       "      <td>...</td>\n",
       "      <td>0</td>\n",
       "      <td>0</td>\n",
       "      <td>0</td>\n",
       "      <td>0</td>\n",
       "      <td>0</td>\n",
       "      <td>0</td>\n",
       "      <td>0</td>\n",
       "      <td>0.006757</td>\n",
       "      <td>1</td>\n",
       "      <td>-1</td>\n",
       "    </tr>\n",
       "    <tr>\n",
       "      <th>4</th>\n",
       "      <td>Q7Z5M8</td>\n",
       "      <td>MDAQDCQAAASPEPPGPPARSCVAAWWDMVDRNLRYFPHSCSMLGR...</td>\n",
       "      <td>362</td>\n",
       "      <td>40775.8685</td>\n",
       "      <td>0.074586</td>\n",
       "      <td>0.027624</td>\n",
       "      <td>0.058011</td>\n",
       "      <td>0.049724</td>\n",
       "      <td>0.046961</td>\n",
       "      <td>0.063536</td>\n",
       "      <td>...</td>\n",
       "      <td>0</td>\n",
       "      <td>0</td>\n",
       "      <td>0</td>\n",
       "      <td>0</td>\n",
       "      <td>0</td>\n",
       "      <td>0</td>\n",
       "      <td>0</td>\n",
       "      <td>0.024862</td>\n",
       "      <td>1</td>\n",
       "      <td>-1</td>\n",
       "    </tr>\n",
       "    <tr>\n",
       "      <th>...</th>\n",
       "      <td>...</td>\n",
       "      <td>...</td>\n",
       "      <td>...</td>\n",
       "      <td>...</td>\n",
       "      <td>...</td>\n",
       "      <td>...</td>\n",
       "      <td>...</td>\n",
       "      <td>...</td>\n",
       "      <td>...</td>\n",
       "      <td>...</td>\n",
       "      <td>...</td>\n",
       "      <td>...</td>\n",
       "      <td>...</td>\n",
       "      <td>...</td>\n",
       "      <td>...</td>\n",
       "      <td>...</td>\n",
       "      <td>...</td>\n",
       "      <td>...</td>\n",
       "      <td>...</td>\n",
       "      <td>...</td>\n",
       "      <td>...</td>\n",
       "    </tr>\n",
       "    <tr>\n",
       "      <th>2537</th>\n",
       "      <td>Q05996</td>\n",
       "      <td>MACRQRGGSWSPSGWFNAGWSTYRSISLFFALVTSGNSIDVSQLVN...</td>\n",
       "      <td>745</td>\n",
       "      <td>82355.6650</td>\n",
       "      <td>0.059060</td>\n",
       "      <td>0.028188</td>\n",
       "      <td>0.055034</td>\n",
       "      <td>0.046980</td>\n",
       "      <td>0.049664</td>\n",
       "      <td>0.065772</td>\n",
       "      <td>...</td>\n",
       "      <td>1</td>\n",
       "      <td>0</td>\n",
       "      <td>0</td>\n",
       "      <td>0</td>\n",
       "      <td>0</td>\n",
       "      <td>0</td>\n",
       "      <td>0</td>\n",
       "      <td>0.005369</td>\n",
       "      <td>1</td>\n",
       "      <td>1</td>\n",
       "    </tr>\n",
       "    <tr>\n",
       "      <th>2538</th>\n",
       "      <td>Q8TCW7</td>\n",
       "      <td>MEQIWLLLLLTIRVLPGSAQFNGYNCDANLHSRFPAERDISVYCGV...</td>\n",
       "      <td>415</td>\n",
       "      <td>45529.4831</td>\n",
       "      <td>0.050602</td>\n",
       "      <td>0.031325</td>\n",
       "      <td>0.045783</td>\n",
       "      <td>0.024096</td>\n",
       "      <td>0.048193</td>\n",
       "      <td>0.067470</td>\n",
       "      <td>...</td>\n",
       "      <td>0</td>\n",
       "      <td>0</td>\n",
       "      <td>0</td>\n",
       "      <td>0</td>\n",
       "      <td>1</td>\n",
       "      <td>0</td>\n",
       "      <td>0</td>\n",
       "      <td>0.033735</td>\n",
       "      <td>1</td>\n",
       "      <td>-1</td>\n",
       "    </tr>\n",
       "    <tr>\n",
       "      <th>2539</th>\n",
       "      <td>Q96SZ4</td>\n",
       "      <td>MGPRASLSRLRELCGHWLRPALHTKKQILELLVLEQFLSVLPPHLL...</td>\n",
       "      <td>725</td>\n",
       "      <td>80385.8099</td>\n",
       "      <td>0.074483</td>\n",
       "      <td>0.052414</td>\n",
       "      <td>0.027586</td>\n",
       "      <td>0.073103</td>\n",
       "      <td>0.034483</td>\n",
       "      <td>0.075862</td>\n",
       "      <td>...</td>\n",
       "      <td>0</td>\n",
       "      <td>1</td>\n",
       "      <td>0</td>\n",
       "      <td>0</td>\n",
       "      <td>0</td>\n",
       "      <td>0</td>\n",
       "      <td>1</td>\n",
       "      <td>0.000000</td>\n",
       "      <td>0</td>\n",
       "      <td>-1</td>\n",
       "    </tr>\n",
       "    <tr>\n",
       "      <th>2540</th>\n",
       "      <td>Q96LW9</td>\n",
       "      <td>MASTEEQYDLKIVKVEEDPIWDQETHLRGNNFSGQEASRQLFRQFC...</td>\n",
       "      <td>406</td>\n",
       "      <td>47292.5570</td>\n",
       "      <td>0.039409</td>\n",
       "      <td>0.041872</td>\n",
       "      <td>0.029557</td>\n",
       "      <td>0.133005</td>\n",
       "      <td>0.032020</td>\n",
       "      <td>0.054187</td>\n",
       "      <td>...</td>\n",
       "      <td>0</td>\n",
       "      <td>1</td>\n",
       "      <td>0</td>\n",
       "      <td>0</td>\n",
       "      <td>0</td>\n",
       "      <td>0</td>\n",
       "      <td>1</td>\n",
       "      <td>0.002463</td>\n",
       "      <td>1</td>\n",
       "      <td>-1</td>\n",
       "    </tr>\n",
       "    <tr>\n",
       "      <th>2541</th>\n",
       "      <td>Q86XI8</td>\n",
       "      <td>MERPEPPPGTAAGQEEQELRERAFFSWAEFSRFFDAWCQQRLALFF...</td>\n",
       "      <td>627</td>\n",
       "      <td>70072.1554</td>\n",
       "      <td>0.108453</td>\n",
       "      <td>0.027113</td>\n",
       "      <td>0.052632</td>\n",
       "      <td>0.076555</td>\n",
       "      <td>0.038278</td>\n",
       "      <td>0.095694</td>\n",
       "      <td>...</td>\n",
       "      <td>0</td>\n",
       "      <td>0</td>\n",
       "      <td>0</td>\n",
       "      <td>0</td>\n",
       "      <td>0</td>\n",
       "      <td>0</td>\n",
       "      <td>0</td>\n",
       "      <td>0.000000</td>\n",
       "      <td>0</td>\n",
       "      <td>-1</td>\n",
       "    </tr>\n",
       "  </tbody>\n",
       "</table>\n",
       "<p>2542 rows × 80 columns</p>\n",
       "</div>"
      ],
      "text/plain": [
       "     Uniprot                                           Sequence  Length  \\\n",
       "0     Q6ZMQ8  MSSSFFNPSFAFSSHFDPDGAPLSELSWPSSLAVVAVSFSGLFAVI...    1374   \n",
       "1     Q9BZC7  MGFLHQLQLLLWKNVTLKRRSPWVLAFEIFIPLVLFFILLGLRQKK...    2435   \n",
       "2     Q9NP78  MRLWKAVVVTLAFMSVDICVTTAIYVFSHLDRSLLEDIRHFNIFDS...     766   \n",
       "3     Q9UBJ2  MTHMLNAAADRVKWTRSSAAKRAACLVAAAYALKTLYPIIGKRLKQ...     740   \n",
       "4     Q7Z5M8  MDAQDCQAAASPEPPGPPARSCVAAWWDMVDRNLRYFPHSCSMLGR...     362   \n",
       "...      ...                                                ...     ...   \n",
       "2537  Q05996  MACRQRGGSWSPSGWFNAGWSTYRSISLFFALVTSGNSIDVSQLVN...     745   \n",
       "2538  Q8TCW7  MEQIWLLLLLTIRVLPGSAQFNGYNCDANLHSRFPAERDISVYCGV...     415   \n",
       "2539  Q96SZ4  MGPRASLSRLRELCGHWLRPALHTKKQILELLVLEQFLSVLPPHLL...     725   \n",
       "2540  Q96LW9  MASTEEQYDLKIVKVEEDPIWDQETHLRGNNFSGQEASRQLFRQFC...     406   \n",
       "2541  Q86XI8  MERPEPPPGTAAGQEEQELRERAFFSWAEFSRFFDAWCQQRLALFF...     627   \n",
       "\n",
       "      Molecular weight         A         C         D         E         F  \\\n",
       "0          144567.7122  0.105531  0.022562  0.051674  0.088792  0.034934   \n",
       "1          269829.6684  0.078850  0.016838  0.043532  0.057084  0.045996   \n",
       "2           84473.7976  0.087467  0.010444  0.033943  0.048303  0.050914   \n",
       "3           83231.8369  0.085135  0.013514  0.043243  0.060811  0.031081   \n",
       "4           40775.8685  0.074586  0.027624  0.058011  0.049724  0.046961   \n",
       "...                ...       ...       ...       ...       ...       ...   \n",
       "2537        82355.6650  0.059060  0.028188  0.055034  0.046980  0.049664   \n",
       "2538        45529.4831  0.050602  0.031325  0.045783  0.024096  0.048193   \n",
       "2539        80385.8099  0.074483  0.052414  0.027586  0.073103  0.034483   \n",
       "2540        47292.5570  0.039409  0.041872  0.029557  0.133005  0.032020   \n",
       "2541        70072.1554  0.108453  0.027113  0.052632  0.076555  0.038278   \n",
       "\n",
       "             G  ...  GlycoMine_N  GlycoMine_O  GlycoMine_C  GPI-anchor  \\\n",
       "0     0.094614  ...            0            0            0           0   \n",
       "1     0.069815  ...            1            0            0           0   \n",
       "2     0.074413  ...            1            0            0           0   \n",
       "3     0.062162  ...            0            0            0           0   \n",
       "4     0.063536  ...            0            0            0           0   \n",
       "...        ...  ...          ...          ...          ...         ...   \n",
       "2537  0.065772  ...            1            0            0           0   \n",
       "2538  0.067470  ...            0            0            0           0   \n",
       "2539  0.075862  ...            0            1            0           0   \n",
       "2540  0.054187  ...            0            1            0           0   \n",
       "2541  0.095694  ...            0            0            0           0   \n",
       "\n",
       "      Signal peptide  RNA_binding  DNA_binding  Prot_bind  Prot_bind_binary  \\\n",
       "0                  0            0            0   0.000000                 0   \n",
       "1                  0            0            0   0.000000                 0   \n",
       "2                  0            0            0   0.014360                 1   \n",
       "3                  0            0            0   0.006757                 1   \n",
       "4                  0            0            0   0.024862                 1   \n",
       "...              ...          ...          ...        ...               ...   \n",
       "2537               0            0            0   0.005369                 1   \n",
       "2538               1            0            0   0.033735                 1   \n",
       "2539               0            0            1   0.000000                 0   \n",
       "2540               0            0            1   0.002463                 1   \n",
       "2541               0            0            0   0.000000                 0   \n",
       "\n",
       "      CSF  \n",
       "0      -1  \n",
       "1       1  \n",
       "2       1  \n",
       "3      -1  \n",
       "4      -1  \n",
       "...   ...  \n",
       "2537    1  \n",
       "2538   -1  \n",
       "2539   -1  \n",
       "2540   -1  \n",
       "2541   -1  \n",
       "\n",
       "[2542 rows x 80 columns]"
      ]
     },
     "execution_count": 17,
     "metadata": {},
     "output_type": "execute_result"
    }
   ],
   "source": [
    "# df_features = pd.read_csv(data_path + \"/Features/df_features_brain.csv\")\n",
    "df_features = pd.read_csv(data_path + \"/Features/df_features_brain_elevated.csv\")\n",
    "df_features"
   ]
  },
  {
   "cell_type": "markdown",
   "id": "a10e551d",
   "metadata": {},
   "source": [
    "## CSF data set"
   ]
  },
  {
   "cell_type": "code",
   "execution_count": 18,
   "id": "18797735",
   "metadata": {},
   "outputs": [],
   "source": [
    "csf = pd.read_csv(data_path + \"CSF/all_csf_1000plus.csv\")"
   ]
  },
  {
   "cell_type": "markdown",
   "id": "d02d24d3",
   "metadata": {},
   "source": [
    "## Brain proteome (HPA)"
   ]
  },
  {
   "cell_type": "code",
   "execution_count": 19,
   "id": "3292267e",
   "metadata": {},
   "outputs": [
    {
     "name": "stdout",
     "output_type": "stream",
     "text": [
      "Number of brain elevated proteins according to the HPA: 2709\n",
      "Number of brain elevated proteins with a Uniprot ID: 2546\n"
     ]
    }
   ],
   "source": [
    "brain_elevated = pd.read_csv(data_path + \"Brain/HPA_all_brain_elevated_version21.tsv\", sep=\"\\t\")\n",
    "print(\"Number of brain elevated proteins according to the HPA: %i\" % len(brain_elevated))\n",
    "brain_elevated.dropna(subset=[\"Uniprot\"], inplace=True)\n",
    "brain_elevated.drop_duplicates(subset=[\"Uniprot\"], inplace=True)\n",
    "print(\"Number of brain elevated proteins with a Uniprot ID: %i\" % len(brain_elevated))"
   ]
  },
  {
   "cell_type": "code",
   "execution_count": 20,
   "id": "490136fe",
   "metadata": {},
   "outputs": [],
   "source": [
    "brain_elevated[\"Uniprot\"] = brain_elevated[\"Uniprot\"].apply(keep_first_uniprot)"
   ]
  },
  {
   "cell_type": "code",
   "execution_count": 21,
   "id": "4923bd9c",
   "metadata": {},
   "outputs": [],
   "source": [
    "# create data subsets based on tissue specificity\n",
    "# tissue enhanced + group enriched + tissue enriched\n",
    "brain_tissue_enhanced = set(brain_elevated[\"Uniprot\"])\n",
    "# group enriched + tissue enriched\n",
    "brain_group_enriched = set(brain_elevated[brain_elevated[\"RNA tissue specificity\"].isin([\"Group enriched\", \n",
    "    \"Tissue enriched\"])][\"Uniprot\"])\n",
    "# tissue enriched\n",
    "brain_tissue_enriched = set(brain_elevated[brain_elevated[\"RNA tissue specificity\"] == \"Tissue enriched\"][\"Uniprot\"])"
   ]
  },
  {
   "cell_type": "code",
   "execution_count": 22,
   "id": "75a40730",
   "metadata": {},
   "outputs": [],
   "source": [
    "# create data subsets based on tissue distribution\n",
    "# detected in all + many + some + single\n",
    "brain_all = set(brain_elevated[\"Uniprot\"])\n",
    "# detected in many + some + single\n",
    "brain_many = set(brain_elevated[brain_elevated[\"RNA tissue distribution\"].isin([\"Detected in many\", \"Detected in some\",\n",
    "    \"Detected in single\"])][\"Uniprot\"])\n",
    "# detected in some + single\n",
    "brain_some = set(brain_elevated[brain_elevated[\"RNA tissue distribution\"].isin([\"Detected in some\", \n",
    "    \"Detected in single\"])][\"Uniprot\"])\n",
    "# detected in single\n",
    "brain_single = set(brain_elevated[brain_elevated[\"RNA tissue distribution\"] == \"Detected in single\"][\"Uniprot\"])"
   ]
  },
  {
   "cell_type": "markdown",
   "id": "5b7f9b58",
   "metadata": {},
   "source": [
    "# Machine Learning"
   ]
  },
  {
   "cell_type": "code",
   "execution_count": 23,
   "id": "dc36534d",
   "metadata": {},
   "outputs": [],
   "source": [
    "# define variables and target\n",
    "X = (df_features.drop([\"Uniprot\", \"Sequence\", \"CSF\"], axis=1))\n",
    "y = (df_features[\"CSF\"])"
   ]
  },
  {
   "cell_type": "code",
   "execution_count": 24,
   "id": "4b3a05ab",
   "metadata": {},
   "outputs": [
    {
     "data": {
      "text/plain": [
       "Index(['Length', 'Molecular weight', 'A', 'C', 'D', 'E', 'F', 'G', 'H', 'I',\n",
       "       'K', 'L', 'M', 'N', 'P', 'Q', 'R', 'S', 'T', 'V', 'W', 'Y',\n",
       "       'Isoelectric point', 'Instability index', 'Polar', 'Neutral',\n",
       "       'Hydrophobic', 'Volume_small', 'Volume_medium', 'Volume_large',\n",
       "       'Polarity_low', 'Polarity_medium', 'Polarity_large',\n",
       "       'Polarizability_low', 'Polarizability_medium', 'Polarizability_large',\n",
       "       'Charge_positive', 'Charge_neutral', 'Charge_negative', 'Buried',\n",
       "       'Exposed', 'Intermediate', 'Disorder_NSP', 'Helix_NSP', 'Turn_NSP',\n",
       "       'Sheet_NSP', 'Solubility', 'ExpAA', 'First60ExpAA', 'PredHel',\n",
       "       'PredHel_binary', 'Cytoplasm', 'Extracellular', 'Lysosome/Vacuole',\n",
       "       'Nucleus', 'Cell_membrane', 'Endoplasmic_reticulum', 'Mitochondrion',\n",
       "       'Golgi_apparatus', 'Peroxisome', 'Plastid', 'PS00232', 'PS00237',\n",
       "       'PS00027', 'PS00028', 'PS00022', 'PS01186', 'Glycosylation',\n",
       "       'GlycoMine_N', 'GlycoMine_O', 'GlycoMine_C', 'GPI-anchor',\n",
       "       'Signal peptide', 'RNA_binding', 'DNA_binding', 'Prot_bind',\n",
       "       'Prot_bind_binary'],\n",
       "      dtype='object')"
      ]
     },
     "execution_count": 24,
     "metadata": {},
     "output_type": "execute_result"
    }
   ],
   "source": [
    "X.columns"
   ]
  },
  {
   "cell_type": "code",
   "execution_count": 25,
   "id": "3ab15362",
   "metadata": {},
   "outputs": [],
   "source": [
    "# define continuous variables\n",
    "cont = ['Length', 'Molecular weight', 'A', 'C', 'D', 'E', 'F', 'G', 'H', 'I', 'K', 'L', 'M', 'N', 'P', 'Q', 'R', 'S', 'T', \n",
    "        'V', 'W', 'Y', 'Isoelectric point', 'Instability index', 'Polar', 'Neutral', 'Hydrophobic', 'Volume_small', \n",
    "        'Volume_medium', 'Volume_large', 'Polarity_low', 'Polarity_medium', 'Polarity_large', 'Polarizability_low', \n",
    "        'Polarizability_medium', 'Polarizability_large', 'Charge_positive', 'Charge_neutral', 'Charge_negative', 'Buried',\n",
    "        'Exposed', 'Intermediate', 'Disorder_NSP', 'Helix_NSP', 'Turn_NSP', 'Sheet_NSP', 'Solubility', 'ExpAA', \n",
    "        'First60ExpAA', 'PredHel', 'Glycosylation', 'Prot_bind']"
   ]
  },
  {
   "cell_type": "markdown",
   "id": "8177de09",
   "metadata": {},
   "source": [
    "## Model selection\n",
    "\n",
    "Linear SVC\n",
    "- penalty {‘l1’, ‘l2’}, default=’l2’: Specifies the norm used in the penalization. The ‘l2’ penalty is the standard used in SVC. The ‘l1’ leads to coef_ vectors that are sparse.\n",
    "\n",
    "- dual bool, default=True: Select the algorithm to either solve the dual or primal optimization problem. Prefer dual=False when n_samples > n_features.\n",
    "\n",
    "- C float, default=1.0: Regularization parameter. The strength of the regularization is inversely proportional to C. Must be strictly positive.\n",
    "\n",
    "- max_iterint, default=1000: The maximum number of iterations to be run.\n",
    "\n",
    "Logistic Regression\n",
    "- solver{‘newton-cg’, ‘lbfgs’, ‘liblinear’, ‘sag’, ‘saga’}, default=’lbfgs’: Algorithm to use in the optimization problem. Default is ‘lbfgs’. To choose a solver, you might want to consider the following aspects:\n",
    "    - For small datasets, ‘liblinear’ is a good choice, whereas ‘sag’ and ‘saga’ are faster for large ones;\n",
    "    - For multiclass problems, only ‘newton-cg’, ‘sag’, ‘saga’ and ‘lbfgs’ handle multinomial loss;\n",
    "    - ‘liblinear’ is limited to one-versus-rest schemes.\n",
    "\n",
    "Warning The choice of the algorithm depends on the penalty chosen: Supported penalties by solver:\n",
    "- ‘newton-cg’ - [‘l2’, ‘none’]\n",
    "- ‘lbfgs’ - [‘l2’, ‘none’]\n",
    "- ‘liblinear’ - [‘l1’, ‘l2’]\n",
    "- ‘sag’ - [‘l2’, ‘none’]\n",
    "- ‘saga’ - [‘elasticnet’, ‘l1’, ‘l2’, ‘none’]"
   ]
  },
  {
   "cell_type": "code",
   "execution_count": 35,
   "id": "de8dcf31",
   "metadata": {},
   "outputs": [],
   "source": [
    "def scale_data(X_train, X_test, scaler=StandardScaler(), scaled=cont):\n",
    "    \"\"\"\n",
    "    Default is Standard Scaler (standardization) on all variables.\n",
    "    \"\"\"\n",
    "    \n",
    "    if scaled == \"all\":\n",
    "        # scale all variables\n",
    "        X_train_scal = scaler.fit_transform(X_train)\n",
    "        X_test_scal = scaler.transform(X_test)\n",
    "\n",
    "    else:\n",
    "        # scale continuous variables\n",
    "        X_train_scal = X_train.copy()\n",
    "        X_train_scal[scaled] = scaler.fit_transform(X_train_scal[scaled])\n",
    "        X_test_scal = X_test.copy()\n",
    "        X_test_scal[scaled] = scaler.transform(X_test_scal[scaled])\n",
    "\n",
    "    return X_train_scal, X_test_scal, scaler\n",
    "\n",
    "\n",
    "def preprocess(X, y, random_state=0):\n",
    "    \n",
    "    # preprocessing \n",
    "    X_train, X_test, y_train, y_test = train_test_split(X, y, test_size=0.2, stratify=y, random_state=random_state)  \n",
    "    X_train_scal, X_test_scal, scaler = scale_data(X_train, X_test, scaler=StandardScaler(), scaled=cont)\n",
    "    X_train_bal, y_train_bal = RandomUnderSampler(random_state=0).fit_resample(X_train_scal, y_train)\n",
    "    \n",
    "    return X_train_bal, X_test_scal, y_train_bal, y_test, scaler"
   ]
  },
  {
   "cell_type": "code",
   "execution_count": 13,
   "id": "8684e689",
   "metadata": {},
   "outputs": [],
   "source": [
    "def model_selection(model, X, y, n=5, scaler=StandardScaler(), scaled=\"all\"):\n",
    "    \"\"\"\n",
    "    \"\"\"\n",
    "    # create empty list to save performance measurements\n",
    "    bac = []\n",
    "    f1 = []\n",
    "    auc = []\n",
    "\n",
    "    for i in range(n):\n",
    "        \n",
    "        X_train_bal, X_test_scal, y_train_bal, y_test, scaler = preprocess(X, y, random_state=i)\n",
    "        \n",
    "        # fit classifier to training data\n",
    "        model.fit(X_train_bal, y_train_bal)\n",
    "        # predict on test set\n",
    "        y_pred = model.predict(X_test_scal) \n",
    "        \n",
    "        # measure performance of model\n",
    "        bac.append(balanced_accuracy_score(y_test, y_pred))\n",
    "        f1.append(f1_score(y_test, y_pred))\n",
    "        try:\n",
    "            auc.append(roc_auc_score(y_test, model.predict_proba(X_test_scal)[:, 1]))\n",
    "        except:\n",
    "            auc.append(roc_auc_score(y_test, model.decision_function(X_test_scal)))\n",
    "\n",
    "        \n",
    "    print(\"Balanced accuracy: %.4f\" % np.mean(bac))\n",
    "    print(\"F1-score: %.4f\" % np.mean(f1))\n",
    "    print(\"AUC: %.4f\" % np.mean(auc))\n",
    "    \n",
    "    return bac, f1, auc"
   ]
  },
  {
   "cell_type": "code",
   "execution_count": 14,
   "id": "d1f62c9a",
   "metadata": {},
   "outputs": [
    {
     "name": "stdout",
     "output_type": "stream",
     "text": [
      "RandomForestClassifier(random_state=0)\n",
      "StandardScaler()\n",
      "StandardScaler()\n",
      "[6.61330546e+02 7.33676487e+04 7.78514621e-02 2.37132806e-02\n",
      " 4.59647265e-02 6.55162119e-02 3.81226520e-02 6.92300700e-02\n",
      " 2.48200634e-02 4.30054110e-02 5.31016042e-02 1.01096358e-01\n",
      " 2.29359904e-02 3.41898144e-02 6.41193593e-02 4.24741928e-02\n",
      " 5.92967894e-02 8.15495451e-02 5.23817355e-02 5.99195888e-02\n",
      " 1.29401056e-02 2.77710396e-02 7.29543406e+00 4.98249160e+01\n",
      " 3.00543339e-01 3.97723275e-01 3.01733386e-01 3.91096898e-01\n",
      " 3.46201576e-01 2.38988245e-01 3.29504426e-01 3.45132172e-01\n",
      " 3.25363403e-01 3.26977539e-01 4.34034216e-01 2.38988245e-01\n",
      " 1.12398394e-01 7.76120668e-01 1.11480938e-01 4.25878928e-01\n",
      " 3.05365909e-01 2.73577733e-01 2.68221519e-01 3.16040535e-01\n",
      " 5.65156712e-01 1.18802753e-01 5.38715533e-01 3.68275406e+01\n",
      " 4.77336449e+00 1.56419085e+00 1.04230202e+00 2.31986457e-01]\n",
      "StandardScaler()\n",
      "StandardScaler()\n",
      "[6.60335957e+02 7.32738559e+04 7.79836556e-02 2.37871110e-02\n",
      " 4.58114857e-02 6.53776374e-02 3.79303507e-02 6.93302431e-02\n",
      " 2.48331488e-02 4.29326533e-02 5.25784844e-02 1.01462002e-01\n",
      " 2.27526323e-02 3.41013031e-02 6.48093319e-02 4.26708239e-02\n",
      " 5.95162191e-02 8.20360835e-02 5.20240097e-02 5.95640989e-02\n",
      " 1.29100389e-02 2.75886866e-02 7.32183401e+00 5.00613514e+01\n",
      " 3.00055954e-01 3.98605159e-01 3.01338887e-01 3.91994810e-01\n",
      " 3.46108519e-01 2.38109561e-01 3.28927574e-01 3.46183324e-01\n",
      " 3.24889102e-01 3.27185478e-01 4.34704962e-01 2.38109561e-01\n",
      " 1.12094703e-01 7.76716173e-01 1.11189123e-01 4.25900154e-01\n",
      " 3.05349066e-01 2.74043893e-01 2.74504750e-01 3.14036950e-01\n",
      " 5.69776640e-01 1.16186410e-01 5.38131910e-01 3.63902705e+01\n",
      " 4.79715199e+00 1.54402361e+00 1.00934579e+00 2.41064924e-01]\n",
      "StandardScaler()\n",
      "StandardScaler()\n",
      "[6.67216429e+02 7.39624644e+04 7.85843188e-02 2.36691696e-02\n",
      " 4.58855216e-02 6.49831675e-02 3.79198596e-02 6.97854697e-02\n",
      " 2.46520613e-02 4.27526574e-02 5.28883621e-02 1.00699718e-01\n",
      " 2.26296630e-02 3.40935793e-02 6.48938582e-02 4.26461694e-02\n",
      " 5.95481087e-02 8.19400541e-02 5.20876241e-02 5.98060248e-02\n",
      " 1.28941513e-02 2.76404610e-02 7.33549906e+00 4.99428795e+01\n",
      " 3.00044909e-01 3.99583847e-01 3.00371244e-01 3.93176847e-01\n",
      " 3.44981317e-01 2.38172667e-01 3.28011705e-01 3.47291325e-01\n",
      " 3.24696970e-01 3.28282988e-01 4.33544345e-01 2.38172667e-01\n",
      " 1.12436471e-01 7.76694840e-01 1.10868689e-01 4.26111369e-01\n",
      " 3.05390658e-01 2.73843722e-01 2.73334591e-01 3.13393735e-01\n",
      " 5.68831788e-01 1.17774477e-01 5.40841134e-01 3.76364929e+01\n",
      " 4.83395475e+00 1.60255780e+00 1.02115101e+00 2.41852467e-01]\n",
      "StandardScaler()\n",
      "StandardScaler()\n",
      "[6.65007378e+02 7.37937481e+04 7.77034166e-02 2.37584959e-02\n",
      " 4.58531164e-02 6.55353017e-02 3.80751850e-02 6.91272361e-02\n",
      " 2.49230235e-02 4.32274489e-02 5.25791064e-02 1.01220383e-01\n",
      " 2.27737858e-02 3.42507396e-02 6.46450612e-02 4.26858763e-02\n",
      " 5.95591661e-02 8.17914752e-02 5.19436458e-02 5.97044273e-02\n",
      " 1.30100909e-02 2.76330181e-02 7.31319534e+00 5.00545351e+01\n",
      " 3.00463306e-01 3.97766876e-01 3.01769817e-01 3.91063951e-01\n",
      " 3.46624177e-01 2.38553376e-01 3.29402835e-01 3.45210835e-01\n",
      " 3.25386330e-01 3.26418890e-01 4.35027734e-01 2.38553376e-01\n",
      " 1.12138273e-01 7.76473309e-01 1.11388418e-01 4.25826684e-01\n",
      " 3.05549201e-01 2.73710010e-01 2.70963073e-01 3.16107227e-01\n",
      " 5.67002157e-01 1.16890615e-01 5.38712101e-01 3.72346385e+01\n",
      " 4.89014757e+00 1.58239056e+00 1.03197245e+00 2.40497820e-01]\n",
      "StandardScaler()\n",
      "StandardScaler()\n",
      "[6.71953763e+02 7.45654592e+04 7.81469962e-02 2.34853855e-02\n",
      " 4.61153444e-02 6.60279994e-02 3.79756567e-02 6.87972022e-02\n",
      " 2.47138112e-02 4.30388315e-02 5.27635974e-02 1.01068228e-01\n",
      " 2.28305441e-02 3.41711322e-02 6.42526068e-02 4.26904623e-02\n",
      " 5.92098049e-02 8.17389905e-02 5.23625373e-02 5.99531021e-02\n",
      " 1.29193460e-02 2.77384218e-02 7.25142461e+00 5.00308408e+01\n",
      " 3.00978341e-01 3.97750566e-01 3.01271093e-01 3.91413677e-01\n",
      " 3.46949755e-01 2.38151182e-01 3.29009515e-01 3.45298333e-01\n",
      " 3.25692152e-01 3.27161071e-01 4.34687747e-01 2.38151182e-01\n",
      " 1.11973402e-01 7.75883254e-01 1.12143344e-01 4.25384748e-01\n",
      " 3.06021142e-01 2.73636912e-01 2.68409234e-01 3.15204990e-01\n",
      " 5.65856249e-01 1.18938761e-01 5.41737546e-01 3.58658633e+01\n",
      " 4.64377275e+00 1.52041318e+00 9.64092474e-01 2.40474456e-01]\n",
      "StandardScaler()\n",
      "StandardScaler()\n",
      "[6.53571077e+02 7.24899722e+04 7.79529908e-02 2.38582400e-02\n",
      " 4.58488606e-02 6.55756628e-02 3.79848102e-02 6.93076186e-02\n",
      " 2.48628883e-02 4.28334296e-02 5.31011408e-02 1.00946112e-01\n",
      " 2.27455562e-02 3.41582677e-02 6.46821614e-02 4.22456411e-02\n",
      " 5.94035993e-02 8.15429168e-02 5.24519517e-02 6.00114684e-02\n",
      " 1.28791853e-02 2.76074984e-02 7.31638816e+00 4.99401677e+01\n",
      " 3.00333172e-01 3.98408026e-01 3.01258802e-01 3.91786500e-01\n",
      " 3.45770582e-01 2.38584678e-01 3.28866300e-01 3.45937639e-01\n",
      " 3.25196061e-01 3.27104338e-01 4.34310983e-01 2.38584678e-01\n",
      " 1.12504740e-01 7.76070737e-01 1.11424523e-01 4.25773855e-01\n",
      " 3.05611734e-01 2.73892973e-01 2.71829101e-01 3.12508982e-01\n",
      " 5.69421800e-01 1.18069219e-01 5.41004969e-01 3.70998475e+01\n",
      " 4.68869159e+00 1.58091490e+00 9.95081161e-01 2.40322613e-01]\n"
     ]
    },
    {
     "ename": "KeyboardInterrupt",
     "evalue": "",
     "output_type": "error",
     "traceback": [
      "\u001b[1;31m---------------------------------------------------------------------------\u001b[0m",
      "\u001b[1;31mKeyboardInterrupt\u001b[0m                         Traceback (most recent call last)",
      "\u001b[1;32m<ipython-input-14-b0a647509958>\u001b[0m in \u001b[0;36m<module>\u001b[1;34m\u001b[0m\n\u001b[0;32m     10\u001b[0m \u001b[1;32mfor\u001b[0m \u001b[0mmodel\u001b[0m \u001b[1;32min\u001b[0m \u001b[0mmodels\u001b[0m\u001b[1;33m:\u001b[0m\u001b[1;33m\u001b[0m\u001b[1;33m\u001b[0m\u001b[0m\n\u001b[0;32m     11\u001b[0m     \u001b[0mprint\u001b[0m\u001b[1;33m(\u001b[0m\u001b[0mmodel\u001b[0m\u001b[1;33m)\u001b[0m\u001b[1;33m\u001b[0m\u001b[1;33m\u001b[0m\u001b[0m\n\u001b[1;32m---> 12\u001b[1;33m     \u001b[0mbac\u001b[0m\u001b[1;33m,\u001b[0m \u001b[0mf1\u001b[0m\u001b[1;33m,\u001b[0m \u001b[0mauc\u001b[0m \u001b[1;33m=\u001b[0m \u001b[0mmodel_selection\u001b[0m\u001b[1;33m(\u001b[0m\u001b[0mmodel\u001b[0m\u001b[1;33m,\u001b[0m \u001b[0mX\u001b[0m\u001b[1;33m,\u001b[0m \u001b[0my\u001b[0m\u001b[1;33m,\u001b[0m \u001b[0mn\u001b[0m\u001b[1;33m=\u001b[0m\u001b[1;36m10\u001b[0m\u001b[1;33m,\u001b[0m \u001b[0mscaler\u001b[0m\u001b[1;33m=\u001b[0m\u001b[0mStandardScaler\u001b[0m\u001b[1;33m(\u001b[0m\u001b[1;33m)\u001b[0m\u001b[1;33m,\u001b[0m \u001b[0mscaled\u001b[0m\u001b[1;33m=\u001b[0m\u001b[0mcont\u001b[0m\u001b[1;33m)\u001b[0m\u001b[1;33m\u001b[0m\u001b[1;33m\u001b[0m\u001b[0m\n\u001b[0m\u001b[0;32m     13\u001b[0m     \u001b[0mbaclist\u001b[0m\u001b[1;33m.\u001b[0m\u001b[0mappend\u001b[0m\u001b[1;33m(\u001b[0m\u001b[0mbac\u001b[0m\u001b[1;33m)\u001b[0m\u001b[1;33m\u001b[0m\u001b[1;33m\u001b[0m\u001b[0m\n\u001b[0;32m     14\u001b[0m     \u001b[0mf1list\u001b[0m\u001b[1;33m.\u001b[0m\u001b[0mappend\u001b[0m\u001b[1;33m(\u001b[0m\u001b[0mf1\u001b[0m\u001b[1;33m)\u001b[0m\u001b[1;33m\u001b[0m\u001b[1;33m\u001b[0m\u001b[0m\n",
      "\u001b[1;32m<ipython-input-13-7c29f4e1ca17>\u001b[0m in \u001b[0;36mmodel_selection\u001b[1;34m(model, X, y, n, scaler, scaled)\u001b[0m\n\u001b[0;32m     12\u001b[0m \u001b[1;33m\u001b[0m\u001b[0m\n\u001b[0;32m     13\u001b[0m         \u001b[1;31m# fit classifier to training data\u001b[0m\u001b[1;33m\u001b[0m\u001b[1;33m\u001b[0m\u001b[1;33m\u001b[0m\u001b[0m\n\u001b[1;32m---> 14\u001b[1;33m         \u001b[0mmodel\u001b[0m\u001b[1;33m.\u001b[0m\u001b[0mfit\u001b[0m\u001b[1;33m(\u001b[0m\u001b[0mX_train_bal\u001b[0m\u001b[1;33m,\u001b[0m \u001b[0my_train_bal\u001b[0m\u001b[1;33m)\u001b[0m\u001b[1;33m\u001b[0m\u001b[1;33m\u001b[0m\u001b[0m\n\u001b[0m\u001b[0;32m     15\u001b[0m         \u001b[1;31m# predict on test set\u001b[0m\u001b[1;33m\u001b[0m\u001b[1;33m\u001b[0m\u001b[1;33m\u001b[0m\u001b[0m\n\u001b[0;32m     16\u001b[0m         \u001b[0my_pred\u001b[0m \u001b[1;33m=\u001b[0m \u001b[0mmodel\u001b[0m\u001b[1;33m.\u001b[0m\u001b[0mpredict\u001b[0m\u001b[1;33m(\u001b[0m\u001b[0mX_test_scal\u001b[0m\u001b[1;33m)\u001b[0m\u001b[1;33m\u001b[0m\u001b[1;33m\u001b[0m\u001b[0m\n",
      "\u001b[1;32m~\\anaconda3\\lib\\site-packages\\sklearn\\ensemble\\_forest.py\u001b[0m in \u001b[0;36mfit\u001b[1;34m(self, X, y, sample_weight)\u001b[0m\n\u001b[0;32m    440\u001b[0m             \u001b[1;31m# parallel_backend contexts set at a higher level,\u001b[0m\u001b[1;33m\u001b[0m\u001b[1;33m\u001b[0m\u001b[1;33m\u001b[0m\u001b[0m\n\u001b[0;32m    441\u001b[0m             \u001b[1;31m# since correctness does not rely on using threads.\u001b[0m\u001b[1;33m\u001b[0m\u001b[1;33m\u001b[0m\u001b[1;33m\u001b[0m\u001b[0m\n\u001b[1;32m--> 442\u001b[1;33m             trees = Parallel(\n\u001b[0m\u001b[0;32m    443\u001b[0m                 \u001b[0mn_jobs\u001b[0m\u001b[1;33m=\u001b[0m\u001b[0mself\u001b[0m\u001b[1;33m.\u001b[0m\u001b[0mn_jobs\u001b[0m\u001b[1;33m,\u001b[0m\u001b[1;33m\u001b[0m\u001b[1;33m\u001b[0m\u001b[0m\n\u001b[0;32m    444\u001b[0m                 \u001b[0mverbose\u001b[0m\u001b[1;33m=\u001b[0m\u001b[0mself\u001b[0m\u001b[1;33m.\u001b[0m\u001b[0mverbose\u001b[0m\u001b[1;33m,\u001b[0m\u001b[1;33m\u001b[0m\u001b[1;33m\u001b[0m\u001b[0m\n",
      "\u001b[1;32m~\\anaconda3\\lib\\site-packages\\joblib\\parallel.py\u001b[0m in \u001b[0;36m__call__\u001b[1;34m(self, iterable)\u001b[0m\n\u001b[0;32m   1042\u001b[0m                 \u001b[0mself\u001b[0m\u001b[1;33m.\u001b[0m\u001b[0m_iterating\u001b[0m \u001b[1;33m=\u001b[0m \u001b[0mself\u001b[0m\u001b[1;33m.\u001b[0m\u001b[0m_original_iterator\u001b[0m \u001b[1;32mis\u001b[0m \u001b[1;32mnot\u001b[0m \u001b[1;32mNone\u001b[0m\u001b[1;33m\u001b[0m\u001b[1;33m\u001b[0m\u001b[0m\n\u001b[0;32m   1043\u001b[0m \u001b[1;33m\u001b[0m\u001b[0m\n\u001b[1;32m-> 1044\u001b[1;33m             \u001b[1;32mwhile\u001b[0m \u001b[0mself\u001b[0m\u001b[1;33m.\u001b[0m\u001b[0mdispatch_one_batch\u001b[0m\u001b[1;33m(\u001b[0m\u001b[0miterator\u001b[0m\u001b[1;33m)\u001b[0m\u001b[1;33m:\u001b[0m\u001b[1;33m\u001b[0m\u001b[1;33m\u001b[0m\u001b[0m\n\u001b[0m\u001b[0;32m   1045\u001b[0m                 \u001b[1;32mpass\u001b[0m\u001b[1;33m\u001b[0m\u001b[1;33m\u001b[0m\u001b[0m\n\u001b[0;32m   1046\u001b[0m \u001b[1;33m\u001b[0m\u001b[0m\n",
      "\u001b[1;32m~\\anaconda3\\lib\\site-packages\\joblib\\parallel.py\u001b[0m in \u001b[0;36mdispatch_one_batch\u001b[1;34m(self, iterator)\u001b[0m\n\u001b[0;32m    857\u001b[0m                 \u001b[1;32mreturn\u001b[0m \u001b[1;32mFalse\u001b[0m\u001b[1;33m\u001b[0m\u001b[1;33m\u001b[0m\u001b[0m\n\u001b[0;32m    858\u001b[0m             \u001b[1;32melse\u001b[0m\u001b[1;33m:\u001b[0m\u001b[1;33m\u001b[0m\u001b[1;33m\u001b[0m\u001b[0m\n\u001b[1;32m--> 859\u001b[1;33m                 \u001b[0mself\u001b[0m\u001b[1;33m.\u001b[0m\u001b[0m_dispatch\u001b[0m\u001b[1;33m(\u001b[0m\u001b[0mtasks\u001b[0m\u001b[1;33m)\u001b[0m\u001b[1;33m\u001b[0m\u001b[1;33m\u001b[0m\u001b[0m\n\u001b[0m\u001b[0;32m    860\u001b[0m                 \u001b[1;32mreturn\u001b[0m \u001b[1;32mTrue\u001b[0m\u001b[1;33m\u001b[0m\u001b[1;33m\u001b[0m\u001b[0m\n\u001b[0;32m    861\u001b[0m \u001b[1;33m\u001b[0m\u001b[0m\n",
      "\u001b[1;32m~\\anaconda3\\lib\\site-packages\\joblib\\parallel.py\u001b[0m in \u001b[0;36m_dispatch\u001b[1;34m(self, batch)\u001b[0m\n\u001b[0;32m    775\u001b[0m         \u001b[1;32mwith\u001b[0m \u001b[0mself\u001b[0m\u001b[1;33m.\u001b[0m\u001b[0m_lock\u001b[0m\u001b[1;33m:\u001b[0m\u001b[1;33m\u001b[0m\u001b[1;33m\u001b[0m\u001b[0m\n\u001b[0;32m    776\u001b[0m             \u001b[0mjob_idx\u001b[0m \u001b[1;33m=\u001b[0m \u001b[0mlen\u001b[0m\u001b[1;33m(\u001b[0m\u001b[0mself\u001b[0m\u001b[1;33m.\u001b[0m\u001b[0m_jobs\u001b[0m\u001b[1;33m)\u001b[0m\u001b[1;33m\u001b[0m\u001b[1;33m\u001b[0m\u001b[0m\n\u001b[1;32m--> 777\u001b[1;33m             \u001b[0mjob\u001b[0m \u001b[1;33m=\u001b[0m \u001b[0mself\u001b[0m\u001b[1;33m.\u001b[0m\u001b[0m_backend\u001b[0m\u001b[1;33m.\u001b[0m\u001b[0mapply_async\u001b[0m\u001b[1;33m(\u001b[0m\u001b[0mbatch\u001b[0m\u001b[1;33m,\u001b[0m \u001b[0mcallback\u001b[0m\u001b[1;33m=\u001b[0m\u001b[0mcb\u001b[0m\u001b[1;33m)\u001b[0m\u001b[1;33m\u001b[0m\u001b[1;33m\u001b[0m\u001b[0m\n\u001b[0m\u001b[0;32m    778\u001b[0m             \u001b[1;31m# A job can complete so quickly than its callback is\u001b[0m\u001b[1;33m\u001b[0m\u001b[1;33m\u001b[0m\u001b[1;33m\u001b[0m\u001b[0m\n\u001b[0;32m    779\u001b[0m             \u001b[1;31m# called before we get here, causing self._jobs to\u001b[0m\u001b[1;33m\u001b[0m\u001b[1;33m\u001b[0m\u001b[1;33m\u001b[0m\u001b[0m\n",
      "\u001b[1;32m~\\anaconda3\\lib\\site-packages\\joblib\\_parallel_backends.py\u001b[0m in \u001b[0;36mapply_async\u001b[1;34m(self, func, callback)\u001b[0m\n\u001b[0;32m    206\u001b[0m     \u001b[1;32mdef\u001b[0m \u001b[0mapply_async\u001b[0m\u001b[1;33m(\u001b[0m\u001b[0mself\u001b[0m\u001b[1;33m,\u001b[0m \u001b[0mfunc\u001b[0m\u001b[1;33m,\u001b[0m \u001b[0mcallback\u001b[0m\u001b[1;33m=\u001b[0m\u001b[1;32mNone\u001b[0m\u001b[1;33m)\u001b[0m\u001b[1;33m:\u001b[0m\u001b[1;33m\u001b[0m\u001b[1;33m\u001b[0m\u001b[0m\n\u001b[0;32m    207\u001b[0m         \u001b[1;34m\"\"\"Schedule a func to be run\"\"\"\u001b[0m\u001b[1;33m\u001b[0m\u001b[1;33m\u001b[0m\u001b[0m\n\u001b[1;32m--> 208\u001b[1;33m         \u001b[0mresult\u001b[0m \u001b[1;33m=\u001b[0m \u001b[0mImmediateResult\u001b[0m\u001b[1;33m(\u001b[0m\u001b[0mfunc\u001b[0m\u001b[1;33m)\u001b[0m\u001b[1;33m\u001b[0m\u001b[1;33m\u001b[0m\u001b[0m\n\u001b[0m\u001b[0;32m    209\u001b[0m         \u001b[1;32mif\u001b[0m \u001b[0mcallback\u001b[0m\u001b[1;33m:\u001b[0m\u001b[1;33m\u001b[0m\u001b[1;33m\u001b[0m\u001b[0m\n\u001b[0;32m    210\u001b[0m             \u001b[0mcallback\u001b[0m\u001b[1;33m(\u001b[0m\u001b[0mresult\u001b[0m\u001b[1;33m)\u001b[0m\u001b[1;33m\u001b[0m\u001b[1;33m\u001b[0m\u001b[0m\n",
      "\u001b[1;32m~\\anaconda3\\lib\\site-packages\\joblib\\_parallel_backends.py\u001b[0m in \u001b[0;36m__init__\u001b[1;34m(self, batch)\u001b[0m\n\u001b[0;32m    570\u001b[0m         \u001b[1;31m# Don't delay the application, to avoid keeping the input\u001b[0m\u001b[1;33m\u001b[0m\u001b[1;33m\u001b[0m\u001b[1;33m\u001b[0m\u001b[0m\n\u001b[0;32m    571\u001b[0m         \u001b[1;31m# arguments in memory\u001b[0m\u001b[1;33m\u001b[0m\u001b[1;33m\u001b[0m\u001b[1;33m\u001b[0m\u001b[0m\n\u001b[1;32m--> 572\u001b[1;33m         \u001b[0mself\u001b[0m\u001b[1;33m.\u001b[0m\u001b[0mresults\u001b[0m \u001b[1;33m=\u001b[0m \u001b[0mbatch\u001b[0m\u001b[1;33m(\u001b[0m\u001b[1;33m)\u001b[0m\u001b[1;33m\u001b[0m\u001b[1;33m\u001b[0m\u001b[0m\n\u001b[0m\u001b[0;32m    573\u001b[0m \u001b[1;33m\u001b[0m\u001b[0m\n\u001b[0;32m    574\u001b[0m     \u001b[1;32mdef\u001b[0m \u001b[0mget\u001b[0m\u001b[1;33m(\u001b[0m\u001b[0mself\u001b[0m\u001b[1;33m)\u001b[0m\u001b[1;33m:\u001b[0m\u001b[1;33m\u001b[0m\u001b[1;33m\u001b[0m\u001b[0m\n",
      "\u001b[1;32m~\\anaconda3\\lib\\site-packages\\joblib\\parallel.py\u001b[0m in \u001b[0;36m__call__\u001b[1;34m(self)\u001b[0m\n\u001b[0;32m    260\u001b[0m         \u001b[1;31m# change the default number of processes to -1\u001b[0m\u001b[1;33m\u001b[0m\u001b[1;33m\u001b[0m\u001b[1;33m\u001b[0m\u001b[0m\n\u001b[0;32m    261\u001b[0m         \u001b[1;32mwith\u001b[0m \u001b[0mparallel_backend\u001b[0m\u001b[1;33m(\u001b[0m\u001b[0mself\u001b[0m\u001b[1;33m.\u001b[0m\u001b[0m_backend\u001b[0m\u001b[1;33m,\u001b[0m \u001b[0mn_jobs\u001b[0m\u001b[1;33m=\u001b[0m\u001b[0mself\u001b[0m\u001b[1;33m.\u001b[0m\u001b[0m_n_jobs\u001b[0m\u001b[1;33m)\u001b[0m\u001b[1;33m:\u001b[0m\u001b[1;33m\u001b[0m\u001b[1;33m\u001b[0m\u001b[0m\n\u001b[1;32m--> 262\u001b[1;33m             return [func(*args, **kwargs)\n\u001b[0m\u001b[0;32m    263\u001b[0m                     for func, args, kwargs in self.items]\n\u001b[0;32m    264\u001b[0m \u001b[1;33m\u001b[0m\u001b[0m\n",
      "\u001b[1;32m~\\anaconda3\\lib\\site-packages\\joblib\\parallel.py\u001b[0m in \u001b[0;36m<listcomp>\u001b[1;34m(.0)\u001b[0m\n\u001b[0;32m    260\u001b[0m         \u001b[1;31m# change the default number of processes to -1\u001b[0m\u001b[1;33m\u001b[0m\u001b[1;33m\u001b[0m\u001b[1;33m\u001b[0m\u001b[0m\n\u001b[0;32m    261\u001b[0m         \u001b[1;32mwith\u001b[0m \u001b[0mparallel_backend\u001b[0m\u001b[1;33m(\u001b[0m\u001b[0mself\u001b[0m\u001b[1;33m.\u001b[0m\u001b[0m_backend\u001b[0m\u001b[1;33m,\u001b[0m \u001b[0mn_jobs\u001b[0m\u001b[1;33m=\u001b[0m\u001b[0mself\u001b[0m\u001b[1;33m.\u001b[0m\u001b[0m_n_jobs\u001b[0m\u001b[1;33m)\u001b[0m\u001b[1;33m:\u001b[0m\u001b[1;33m\u001b[0m\u001b[1;33m\u001b[0m\u001b[0m\n\u001b[1;32m--> 262\u001b[1;33m             return [func(*args, **kwargs)\n\u001b[0m\u001b[0;32m    263\u001b[0m                     for func, args, kwargs in self.items]\n\u001b[0;32m    264\u001b[0m \u001b[1;33m\u001b[0m\u001b[0m\n",
      "\u001b[1;32m~\\anaconda3\\lib\\site-packages\\sklearn\\utils\\fixes.py\u001b[0m in \u001b[0;36m__call__\u001b[1;34m(self, *args, **kwargs)\u001b[0m\n\u001b[0;32m    209\u001b[0m     \u001b[1;32mdef\u001b[0m \u001b[0m__call__\u001b[0m\u001b[1;33m(\u001b[0m\u001b[0mself\u001b[0m\u001b[1;33m,\u001b[0m \u001b[1;33m*\u001b[0m\u001b[0margs\u001b[0m\u001b[1;33m,\u001b[0m \u001b[1;33m**\u001b[0m\u001b[0mkwargs\u001b[0m\u001b[1;33m)\u001b[0m\u001b[1;33m:\u001b[0m\u001b[1;33m\u001b[0m\u001b[1;33m\u001b[0m\u001b[0m\n\u001b[0;32m    210\u001b[0m         \u001b[1;32mwith\u001b[0m \u001b[0mconfig_context\u001b[0m\u001b[1;33m(\u001b[0m\u001b[1;33m**\u001b[0m\u001b[0mself\u001b[0m\u001b[1;33m.\u001b[0m\u001b[0mconfig\u001b[0m\u001b[1;33m)\u001b[0m\u001b[1;33m:\u001b[0m\u001b[1;33m\u001b[0m\u001b[1;33m\u001b[0m\u001b[0m\n\u001b[1;32m--> 211\u001b[1;33m             \u001b[1;32mreturn\u001b[0m \u001b[0mself\u001b[0m\u001b[1;33m.\u001b[0m\u001b[0mfunction\u001b[0m\u001b[1;33m(\u001b[0m\u001b[1;33m*\u001b[0m\u001b[0margs\u001b[0m\u001b[1;33m,\u001b[0m \u001b[1;33m**\u001b[0m\u001b[0mkwargs\u001b[0m\u001b[1;33m)\u001b[0m\u001b[1;33m\u001b[0m\u001b[1;33m\u001b[0m\u001b[0m\n\u001b[0m\u001b[0;32m    212\u001b[0m \u001b[1;33m\u001b[0m\u001b[0m\n\u001b[0;32m    213\u001b[0m \u001b[1;33m\u001b[0m\u001b[0m\n",
      "\u001b[1;32m~\\anaconda3\\lib\\site-packages\\sklearn\\ensemble\\_forest.py\u001b[0m in \u001b[0;36m_parallel_build_trees\u001b[1;34m(tree, forest, X, y, sample_weight, tree_idx, n_trees, verbose, class_weight, n_samples_bootstrap)\u001b[0m\n\u001b[0;32m    183\u001b[0m             \u001b[0mcurr_sample_weight\u001b[0m \u001b[1;33m*=\u001b[0m \u001b[0mcompute_sample_weight\u001b[0m\u001b[1;33m(\u001b[0m\u001b[1;34m\"balanced\"\u001b[0m\u001b[1;33m,\u001b[0m \u001b[0my\u001b[0m\u001b[1;33m,\u001b[0m \u001b[0mindices\u001b[0m\u001b[1;33m=\u001b[0m\u001b[0mindices\u001b[0m\u001b[1;33m)\u001b[0m\u001b[1;33m\u001b[0m\u001b[1;33m\u001b[0m\u001b[0m\n\u001b[0;32m    184\u001b[0m \u001b[1;33m\u001b[0m\u001b[0m\n\u001b[1;32m--> 185\u001b[1;33m         \u001b[0mtree\u001b[0m\u001b[1;33m.\u001b[0m\u001b[0mfit\u001b[0m\u001b[1;33m(\u001b[0m\u001b[0mX\u001b[0m\u001b[1;33m,\u001b[0m \u001b[0my\u001b[0m\u001b[1;33m,\u001b[0m \u001b[0msample_weight\u001b[0m\u001b[1;33m=\u001b[0m\u001b[0mcurr_sample_weight\u001b[0m\u001b[1;33m,\u001b[0m \u001b[0mcheck_input\u001b[0m\u001b[1;33m=\u001b[0m\u001b[1;32mFalse\u001b[0m\u001b[1;33m)\u001b[0m\u001b[1;33m\u001b[0m\u001b[1;33m\u001b[0m\u001b[0m\n\u001b[0m\u001b[0;32m    186\u001b[0m     \u001b[1;32melse\u001b[0m\u001b[1;33m:\u001b[0m\u001b[1;33m\u001b[0m\u001b[1;33m\u001b[0m\u001b[0m\n\u001b[0;32m    187\u001b[0m         \u001b[0mtree\u001b[0m\u001b[1;33m.\u001b[0m\u001b[0mfit\u001b[0m\u001b[1;33m(\u001b[0m\u001b[0mX\u001b[0m\u001b[1;33m,\u001b[0m \u001b[0my\u001b[0m\u001b[1;33m,\u001b[0m \u001b[0msample_weight\u001b[0m\u001b[1;33m=\u001b[0m\u001b[0msample_weight\u001b[0m\u001b[1;33m,\u001b[0m \u001b[0mcheck_input\u001b[0m\u001b[1;33m=\u001b[0m\u001b[1;32mFalse\u001b[0m\u001b[1;33m)\u001b[0m\u001b[1;33m\u001b[0m\u001b[1;33m\u001b[0m\u001b[0m\n",
      "\u001b[1;32m~\\anaconda3\\lib\\site-packages\\sklearn\\tree\\_classes.py\u001b[0m in \u001b[0;36mfit\u001b[1;34m(self, X, y, sample_weight, check_input, X_idx_sorted)\u001b[0m\n\u001b[0;32m    935\u001b[0m         \"\"\"\n\u001b[0;32m    936\u001b[0m \u001b[1;33m\u001b[0m\u001b[0m\n\u001b[1;32m--> 937\u001b[1;33m         super().fit(\n\u001b[0m\u001b[0;32m    938\u001b[0m             \u001b[0mX\u001b[0m\u001b[1;33m,\u001b[0m\u001b[1;33m\u001b[0m\u001b[1;33m\u001b[0m\u001b[0m\n\u001b[0;32m    939\u001b[0m             \u001b[0my\u001b[0m\u001b[1;33m,\u001b[0m\u001b[1;33m\u001b[0m\u001b[1;33m\u001b[0m\u001b[0m\n",
      "\u001b[1;32m~\\anaconda3\\lib\\site-packages\\sklearn\\tree\\_classes.py\u001b[0m in \u001b[0;36mfit\u001b[1;34m(self, X, y, sample_weight, check_input, X_idx_sorted)\u001b[0m\n\u001b[0;32m    418\u001b[0m             )\n\u001b[0;32m    419\u001b[0m \u001b[1;33m\u001b[0m\u001b[0m\n\u001b[1;32m--> 420\u001b[1;33m         \u001b[0mbuilder\u001b[0m\u001b[1;33m.\u001b[0m\u001b[0mbuild\u001b[0m\u001b[1;33m(\u001b[0m\u001b[0mself\u001b[0m\u001b[1;33m.\u001b[0m\u001b[0mtree_\u001b[0m\u001b[1;33m,\u001b[0m \u001b[0mX\u001b[0m\u001b[1;33m,\u001b[0m \u001b[0my\u001b[0m\u001b[1;33m,\u001b[0m \u001b[0msample_weight\u001b[0m\u001b[1;33m)\u001b[0m\u001b[1;33m\u001b[0m\u001b[1;33m\u001b[0m\u001b[0m\n\u001b[0m\u001b[0;32m    421\u001b[0m \u001b[1;33m\u001b[0m\u001b[0m\n\u001b[0;32m    422\u001b[0m         \u001b[1;32mif\u001b[0m \u001b[0mself\u001b[0m\u001b[1;33m.\u001b[0m\u001b[0mn_outputs_\u001b[0m \u001b[1;33m==\u001b[0m \u001b[1;36m1\u001b[0m \u001b[1;32mand\u001b[0m \u001b[0mis_classifier\u001b[0m\u001b[1;33m(\u001b[0m\u001b[0mself\u001b[0m\u001b[1;33m)\u001b[0m\u001b[1;33m:\u001b[0m\u001b[1;33m\u001b[0m\u001b[1;33m\u001b[0m\u001b[0m\n",
      "\u001b[1;31mKeyboardInterrupt\u001b[0m: "
     ]
    }
   ],
   "source": [
    "# train the model\n",
    "models = [RandomForestClassifier(n_estimators=100, random_state=0),\n",
    "         LinearSVC(C=0.1, max_iter=1000, dual=False, random_state=0),\n",
    "         LogisticRegression(max_iter=1000, dual=False, random_state=0)]\n",
    "\n",
    "baclist = []\n",
    "f1list = []\n",
    "auclist = []\n",
    "\n",
    "for model in models:\n",
    "    print(model)\n",
    "    bac, f1, auc = model_selection(model, X, y, n=10, scaler=StandardScaler(), scaled=cont)\n",
    "    baclist.append(bac)\n",
    "    f1list.append(f1)\n",
    "    auclist.append(auc)\n",
    "    print(\"--------------\")"
   ]
  },
  {
   "cell_type": "code",
   "execution_count": null,
   "id": "8683b286",
   "metadata": {},
   "outputs": [],
   "source": [
    "fig, ax = plt.subplots()\n",
    "\n",
    "bars = ax.bar(x=[\"Random Forest\", \"Linear SVC\", \"Logistic Regression\"], height=[np.mean(i) for i in baclist], \n",
    "              yerr=[np.std(i) for i in baclist])\n",
    "ax.bar_label(bars, fmt=\"%.4f\")\n",
    "ax.set(xlabel=None, ylabel=\"Balanced accuracy\", title=\"Performance comparison of different classifiers\", ylim=(0.0, 1))\n",
    "plt.show()\n",
    "\n",
    "fig.savefig(fig_path + \"Comparison_classifier_performance_BAC.png\", bbox_inches=\"tight\")"
   ]
  },
  {
   "cell_type": "code",
   "execution_count": null,
   "id": "0941277c",
   "metadata": {},
   "outputs": [],
   "source": [
    "fig, ax = plt.subplots()\n",
    "\n",
    "bars = ax.bar(x=[\"Random Forest\", \"Linear SVC\", \"Logistic Regression\"], height=[np.mean(i) for i in f1list], \n",
    "    yerr=[np.std(i) for i in f1list])\n",
    "ax.bar_label(bars, fmt=\"%.4f\")\n",
    "ax.set(xlabel=None, ylabel=\"F1 score\", title=\"Performance comparison of different classifiers\", ylim=(0.0, 1))\n",
    "plt.show()\n",
    "\n",
    "fig.savefig(fig_path + \"Comparison_classifier_performance_F1.png\", bbox_inches=\"tight\")"
   ]
  },
  {
   "cell_type": "code",
   "execution_count": null,
   "id": "a8bbf918",
   "metadata": {},
   "outputs": [],
   "source": [
    "fig, ax = plt.subplots()\n",
    "\n",
    "bars = ax.bar(x=[\"Random Forest\", \"Linear SVC\", \"Logistic Regression\"], height=[np.mean(i) for i in auclist], \n",
    "    yerr=[np.std(i) for i in auclist])\n",
    "ax.bar_label(bars, fmt=\"%.4f\")\n",
    "ax.set(xlabel=None, ylabel=\"ROC-AUC score\", title=\"Performance comparison of different classifiers\", ylim=(0.0, 1))\n",
    "plt.show()\n",
    "\n",
    "fig.savefig(fig_path + \"Comparison_classifier_performance_AUC.png\", bbox_inches=\"tight\")"
   ]
  },
  {
   "cell_type": "markdown",
   "id": "d7356500",
   "metadata": {},
   "source": [
    "## Hyperparameter tuning"
   ]
  },
  {
   "cell_type": "code",
   "execution_count": 27,
   "id": "53b962e5",
   "metadata": {},
   "outputs": [
    {
     "name": "stdout",
     "output_type": "stream",
     "text": [
      "StandardScaler()\n",
      "StandardScaler()\n",
      "[6.61330546e+02 7.33676487e+04 7.78514621e-02 2.37132806e-02\n",
      " 4.59647265e-02 6.55162119e-02 3.81226520e-02 6.92300700e-02\n",
      " 2.48200634e-02 4.30054110e-02 5.31016042e-02 1.01096358e-01\n",
      " 2.29359904e-02 3.41898144e-02 6.41193593e-02 4.24741928e-02\n",
      " 5.92967894e-02 8.15495451e-02 5.23817355e-02 5.99195888e-02\n",
      " 1.29401056e-02 2.77710396e-02 7.29543406e+00 4.98249160e+01\n",
      " 3.00543339e-01 3.97723275e-01 3.01733386e-01 3.91096898e-01\n",
      " 3.46201576e-01 2.38988245e-01 3.29504426e-01 3.45132172e-01\n",
      " 3.25363403e-01 3.26977539e-01 4.34034216e-01 2.38988245e-01\n",
      " 1.12398394e-01 7.76120668e-01 1.11480938e-01 4.25878928e-01\n",
      " 3.05365909e-01 2.73577733e-01 2.68221519e-01 3.16040535e-01\n",
      " 5.65156712e-01 1.18802753e-01 5.38715533e-01 3.68275406e+01\n",
      " 4.77336449e+00 1.56419085e+00 1.04230202e+00 2.31986457e-01]\n"
     ]
    }
   ],
   "source": [
    "# preprocessing data \n",
    "X_train_bal, X_test_scal, y_train_bal, y_test, scaler = preprocess(X, y)"
   ]
  },
  {
   "cell_type": "code",
   "execution_count": 29,
   "id": "449170ad",
   "metadata": {},
   "outputs": [],
   "source": [
    "# save the scaler\n",
    "with open(os.getcwd() + \"/Models/Standard_scaler.pkl\", \"wb\") as f:  \n",
    "    pickle.dump(scaler, f)"
   ]
  },
  {
   "cell_type": "markdown",
   "id": "5f5bd401",
   "metadata": {},
   "source": [
    "### Linear SVC (L2 regularization)"
   ]
  },
  {
   "cell_type": "code",
   "execution_count": null,
   "id": "70315c09",
   "metadata": {},
   "outputs": [],
   "source": [
    "parameters = {\"C\":[0.01, 0.1, 0.25, 0.5, 0.75, 1, 10]}\n",
    "svc_l2 = LinearSVC(penalty=\"l2\", dual=False, random_state=0)\n",
    "grs_svc_l2 = GridSearchCV(svc_l2, parameters, cv=10)\n",
    "grs_svc_l2.fit(X_train_bal, y_train_bal)\n",
    "\n",
    "grid_results_svc_l2 = pd.DataFrame(grs_svc_l2.cv_results_).sort_values(\"param_C\")\n",
    "grid_results_svc_l2.sort_values(\"rank_test_score\")\n",
    "\n",
    "# small differences between C-values, optimum between 0.1 and 1"
   ]
  },
  {
   "cell_type": "code",
   "execution_count": null,
   "id": "2487ca01",
   "metadata": {},
   "outputs": [],
   "source": [
    "grid_results_svc_l2.plot(x=\"param_C\", y=\"mean_test_score\", yerr=\"std_test_score\")\n",
    "plt.show()"
   ]
  },
  {
   "cell_type": "markdown",
   "id": "9850d70a",
   "metadata": {},
   "source": [
    "### Linear SVC (L1 regularization)"
   ]
  },
  {
   "cell_type": "code",
   "execution_count": null,
   "id": "aab527d5",
   "metadata": {},
   "outputs": [],
   "source": [
    "parameters = {\"C\":[0.01, 0.1, 0.25, 0.5, 0.75, 1]}\n",
    "svc_l1 = LinearSVC(penalty=\"l1\", max_iter=10000, dual=False, random_state=0)\n",
    "grs_svc_l1 = GridSearchCV(svc_l1, parameters, cv=10)\n",
    "grs_svc_l1.fit(X_train_bal, y_train_bal)\n",
    "\n",
    "grid_results_svc_l1 = pd.DataFrame(grs_svc_l1.cv_results_).sort_values(\"param_C\")\n",
    "grid_results_svc_l1.sort_values(\"rank_test_score\")\n",
    "\n",
    "# optimal C value between 0.5 and 1\n",
    "# for C = 10 convergence warning"
   ]
  },
  {
   "cell_type": "code",
   "execution_count": null,
   "id": "bb5134cf",
   "metadata": {},
   "outputs": [],
   "source": [
    "grid_results_svc_l1.plot(x=\"param_C\", y=\"mean_test_score\", yerr=\"std_test_score\")\n",
    "plt.show()"
   ]
  },
  {
   "cell_type": "markdown",
   "id": "4b013065",
   "metadata": {},
   "source": [
    "### Logistic Regression (L2 regularization)"
   ]
  },
  {
   "cell_type": "code",
   "execution_count": null,
   "id": "71430c2f",
   "metadata": {},
   "outputs": [],
   "source": [
    "parameters = {\"C\":[0.01, 0.1, 0.5, 1, 2.5, 5, 10]}\n",
    "lr_l2 = LogisticRegression(penalty=\"l2\", max_iter=1000, dual=False, random_state=0)\n",
    "grs_lr_l2 = GridSearchCV(lr_l2, parameters, cv=10, scoring=\"balanced_accuracy\")\n",
    "grs_lr_l2.fit(X_train_bal, y_train_bal)\n",
    "\n",
    "grid_results_lr_l2 = pd.DataFrame(grs_lr_l2.cv_results_).sort_values(\"param_C\")\n",
    "grid_results_lr_l2.sort_values(\"rank_test_score\")\n",
    "\n",
    "# different solvers do not influence the accuracy, tested: \"solver\":[\"newton-cg\", \"lbfgs\", \"saga\"]\n",
    "# no significant difference for C between 1 and 5"
   ]
  },
  {
   "cell_type": "code",
   "execution_count": null,
   "id": "5b208fd1",
   "metadata": {},
   "outputs": [],
   "source": [
    "grid_results_lr_l2.plot(x=\"param_C\", y=\"mean_test_score\", yerr=\"std_test_score\")\n",
    "plt.show()"
   ]
  },
  {
   "cell_type": "markdown",
   "id": "15d081a6",
   "metadata": {},
   "source": [
    "### Logistic Regression (L1 regularization)"
   ]
  },
  {
   "cell_type": "code",
   "execution_count": null,
   "id": "c5fd9280",
   "metadata": {},
   "outputs": [],
   "source": [
    "parameters = {\"C\":[0.1, 0.5, 1, 2.5, 5, 7.5, 10]}\n",
    "lr_l1 = LogisticRegression(penalty=\"l1\", solver=\"saga\", max_iter=10000, dual=False, random_state=0)\n",
    "grs_lr_l1 = GridSearchCV(lr_l1, parameters, cv=10, scoring=\"balanced_accuracy\")\n",
    "grs_lr_l1.fit(X_train_bal, y_train_bal)\n",
    "\n",
    "grid_results_lr_l1 = pd.DataFrame(grs_lr_l1.cv_results_).sort_values(\"param_C\")\n",
    "grid_results_lr_l1.sort_values(\"rank_test_score\")\n",
    "\n",
    "# liblinear much faster than saga\n",
    "# saga outperforms liblinear for high C values (>=5)\n",
    "# liblinear outperforms saga for lower C values (0.1, 1)\n",
    "# higher C values outperform lower C values (optimum at C=5 for both solvers)"
   ]
  },
  {
   "cell_type": "code",
   "execution_count": null,
   "id": "bb0132ce",
   "metadata": {},
   "outputs": [],
   "source": [
    "grid_results_lr_l1.plot(x=\"param_C\", y=\"mean_test_score\", yerr=\"std_test_score\")\n",
    "plt.show()"
   ]
  },
  {
   "cell_type": "markdown",
   "id": "1437b247",
   "metadata": {},
   "source": [
    "## Final models & feature importance"
   ]
  },
  {
   "cell_type": "markdown",
   "id": "8de7a097",
   "metadata": {},
   "source": [
    "### Random Forest"
   ]
  },
  {
   "cell_type": "code",
   "execution_count": null,
   "id": "f4497915",
   "metadata": {},
   "outputs": [],
   "source": [
    "# train RF\n",
    "rf = RandomForestClassifier(n_estimators=1000, random_state=0)\n",
    "rf.fit(X_train_bal, y_train_bal)\n",
    "\n",
    "# predict on test set\n",
    "y_pred_rf = rf.predict(X_test_scal)\n",
    "y_score_rf = rf.predict_proba(X_test_scal)"
   ]
  },
  {
   "cell_type": "code",
   "execution_count": null,
   "id": "cd8928ff",
   "metadata": {},
   "outputs": [],
   "source": [
    "coef_rf = pd.Series(index=X_train_bal.columns, data=rf.feature_importances_, name=\"RF\")\n",
    "print(\"Number of features used:\", len(coef_rf[coef_rf != 0]))\n",
    "coef_rf.sort_values(ascending=False, key=abs)[:20]"
   ]
  },
  {
   "cell_type": "markdown",
   "id": "35f8f6c6",
   "metadata": {},
   "source": [
    "### Linear SVC"
   ]
  },
  {
   "cell_type": "code",
   "execution_count": null,
   "id": "bcbb7527",
   "metadata": {},
   "outputs": [],
   "source": [
    "# train SVC , penalty = l2\n",
    "svc_l2 = LinearSVC(C=0.25, max_iter=10000, dual=False, random_state=0)\n",
    "svc_l2.fit(X_train_bal, y_train_bal)\n",
    "\n",
    "# predict on test set\n",
    "y_pred_svc_l2 = svc_l2.predict(X_test_scal)\n",
    "y_score_svc_l2 = svc_l2.decision_function(X_test_scal)"
   ]
  },
  {
   "cell_type": "code",
   "execution_count": null,
   "id": "7185fed8",
   "metadata": {},
   "outputs": [],
   "source": [
    "coef_svc_l2 = pd.Series(index=X_train_bal.columns, data=svc_l2.coef_[0], name=\"SVC_L2\")\n",
    "print(\"Number of features used:\", len(coef_svc_l2[coef_svc_l2 != 0]))\n",
    "coef_svc_l2.sort_values(ascending=False, key=abs)[:20]"
   ]
  },
  {
   "cell_type": "code",
   "execution_count": null,
   "id": "8395b22a",
   "metadata": {},
   "outputs": [],
   "source": [
    "# train SVC , penalty = l1\n",
    "svc_l1 = LinearSVC(penalty=\"l1\", C=0.75, max_iter=10000, dual=False, random_state=0)\n",
    "svc_l1.fit(X_train_bal, y_train_bal)\n",
    "\n",
    "# predict on test set\n",
    "y_pred_svc_l1 = svc_l1.predict(X_test_scal)\n",
    "y_score_svc_l1 = svc_l1.decision_function(X_test_scal)"
   ]
  },
  {
   "cell_type": "code",
   "execution_count": null,
   "id": "85a0e618",
   "metadata": {},
   "outputs": [],
   "source": [
    "coef_svc_l1 = pd.Series(index=X_train_bal.columns, data=svc_l1.coef_[0], name=\"SVC_L1\")\n",
    "print(\"Number of features used:\", len(coef_svc_l1[coef_svc_l1 != 0]))\n",
    "coef_svc_l1[coef_svc_l1 != 0].sort_values(ascending=False, key=abs)[:20]"
   ]
  },
  {
   "cell_type": "code",
   "execution_count": null,
   "id": "23c14970",
   "metadata": {},
   "outputs": [],
   "source": [
    "coef_svc_l1[coef_svc_l1 == 0]"
   ]
  },
  {
   "cell_type": "markdown",
   "id": "bf80a313",
   "metadata": {},
   "source": [
    "### Logistic Regression"
   ]
  },
  {
   "cell_type": "code",
   "execution_count": null,
   "id": "5122fb1d",
   "metadata": {},
   "outputs": [],
   "source": [
    "# train logistic classifier, penalty = l2\n",
    "lr_l2 = LogisticRegression(penalty=\"l2\", C=2.5, max_iter=1000, dual=False, random_state=0)\n",
    "lr_l2.fit(X_train_bal, y_train_bal)\n",
    "\n",
    "# predict on test set\n",
    "y_pred_lr_l2 = lr_l2.predict(X_test_scal)\n",
    "y_score_lr_l2 = lr_l2.decision_function(X_test_scal)"
   ]
  },
  {
   "cell_type": "code",
   "execution_count": null,
   "id": "b92665e3",
   "metadata": {},
   "outputs": [],
   "source": [
    "# save the model \n",
    "with open(os.getcwd() + \"/Models/LogisticClassifier_L2.pkl\", \"wb\") as f:  \n",
    "    pickle.dump(lr_l2, f)"
   ]
  },
  {
   "cell_type": "code",
   "execution_count": null,
   "id": "f1487243",
   "metadata": {},
   "outputs": [],
   "source": [
    "coef_lr_l2 = pd.Series(index=X_train_bal.columns, data=lr_l2.coef_[0], name=\"LR_L2\")\n",
    "print(\"Number of features used:\", len(coef_lr_l2[coef_lr_l2 != 0]))\n",
    "coef_lr_l2.sort_values(ascending=False, key=abs)[:20]"
   ]
  },
  {
   "cell_type": "code",
   "execution_count": null,
   "id": "79cceb22",
   "metadata": {},
   "outputs": [],
   "source": [
    "# train logistic classifier, penalty = l1\n",
    "lr_l1 = LogisticRegression(penalty=\"l1\", solver=\"saga\", C=5, max_iter=10000, dual=False, random_state=0)\n",
    "lr_l1.fit(X_train_bal, y_train_bal)\n",
    "\n",
    "# predict on test set\n",
    "y_pred_lr_l1 = lr_l1.predict(X_test_scal)\n",
    "y_score_lr_l1 = lr_l1.decision_function(X_test_scal)"
   ]
  },
  {
   "cell_type": "code",
   "execution_count": null,
   "id": "3e3bf4eb",
   "metadata": {},
   "outputs": [],
   "source": [
    "coef_lr_l1 = pd.Series(index=X_train_bal.columns, data=lr_l1.coef_[0], name=\"LR_L1\")\n",
    "print(\"Number of features used:\", len(coef_lr_l1[coef_lr_l1 != 0]))\n",
    "coef_lr_l1.sort_values(ascending=False, key=abs)[:20]"
   ]
  },
  {
   "cell_type": "code",
   "execution_count": null,
   "id": "ea259d9f",
   "metadata": {},
   "outputs": [],
   "source": [
    "coef_lr_l1[coef_lr_l1 == 0]"
   ]
  },
  {
   "cell_type": "markdown",
   "id": "d4a06cfb",
   "metadata": {},
   "source": [
    "## Model evaluation"
   ]
  },
  {
   "cell_type": "code",
   "execution_count": null,
   "id": "98bdb96f",
   "metadata": {},
   "outputs": [],
   "source": [
    "models = [rf, svc_l2, svc_l1, lr_l2, lr_l1]\n",
    "model_names = [\"Random Forest\", \"SVC (L2)\", \"SVC (L1)\", \"Logistic Classifier (L2)\", \"Logistic Classifier (L1)\"]"
   ]
  },
  {
   "cell_type": "code",
   "execution_count": null,
   "id": "36030da1",
   "metadata": {},
   "outputs": [],
   "source": [
    "fig, ax = plt.subplots(1, 5, figsize=(22, 4))\n",
    "fig.subplots_adjust(wspace=0.3)\n",
    "\n",
    "for i in range(5):\n",
    "    RocCurveDisplay.from_estimator(models[i], X_test_scal, y_test, ax=ax[i])\n",
    "    ax[i].set(xlabel=\"FPR\", ylabel=\"TPR\", title=model_names[i])\n",
    "    try:\n",
    "        ax[i].legend(labels=[round(roc_auc_score(y_test, models[i].predict_proba(X_test_scal)[:, 1]), 3)], loc=\"lower right\")\n",
    "    except:\n",
    "        ax[i].legend(labels=[round(roc_auc_score(y_test, models[i].decision_function(X_test_scal)), 3)], loc=\"lower right\")\n",
    "\n",
    "plt.show()\n",
    "fig.savefig(fig_path + \"Final_models_AUC_ROC_curve.png\", bbox_inches=\"tight\")"
   ]
  },
  {
   "cell_type": "code",
   "execution_count": null,
   "id": "1d9b2aab",
   "metadata": {},
   "outputs": [],
   "source": [
    "fig, ax = plt.subplots(1, 5, figsize=(22, 4))\n",
    "fig.subplots_adjust(wspace=0.3)\n",
    "\n",
    "for i in range(5):\n",
    "    ConfusionMatrixDisplay.from_estimator(models[i], X_test_scal, y_test, normalize=\"true\", colorbar=False, cmap=\"YlGnBu\", \n",
    "        ax=ax[i])\n",
    "    ax[i].set(title=model_names[i])\n",
    "\n",
    "plt.show()\n",
    "fig.savefig(fig_path + \"Final_models_confusion_matrix.png\", bbox_inches=\"tight\")"
   ]
  },
  {
   "cell_type": "code",
   "execution_count": null,
   "id": "f4e6659f",
   "metadata": {},
   "outputs": [],
   "source": [
    "# save model\n",
    "#### TO DO ####"
   ]
  },
  {
   "cell_type": "markdown",
   "id": "fd6e8a87",
   "metadata": {},
   "source": [
    "## Feature importance"
   ]
  },
  {
   "cell_type": "code",
   "execution_count": null,
   "id": "fff68b57",
   "metadata": {},
   "outputs": [],
   "source": [
    "rank_rf = abs(coef_rf).rank().sort_values()\n",
    "rank_svc_l2 = abs(coef_svc_l2).rank().sort_values()\n",
    "rank_svc_l1 = abs(coef_svc_l1[coef_svc_l1 != 0]).rank().sort_values()\n",
    "rank_lr_l2 = abs(coef_lr_l2).rank().sort_values()\n",
    "rank_lr_l1 = abs(coef_lr_l1[coef_lr_l1 != 0]).rank().sort_values()"
   ]
  },
  {
   "cell_type": "code",
   "execution_count": null,
   "id": "1bbbb95f",
   "metadata": {},
   "outputs": [],
   "source": [
    "all_ranks = pd.merge(rank_rf, rank_svc_l2, left_index=True, right_index=True, how=\"outer\")\n",
    "all_ranks = pd.merge(all_ranks, rank_svc_l1, left_index=True, right_index=True, how=\"outer\")\n",
    "all_ranks = pd.merge(all_ranks, rank_lr_l2, left_index=True, right_index=True, how=\"outer\")\n",
    "all_ranks = pd.merge(all_ranks, rank_lr_l1, left_index=True, right_index=True, how=\"outer\")\n",
    "all_ranks.fillna(0, inplace=True)\n",
    "all_ranks[\"Mean\"] = all_ranks.mean(axis=1)\n",
    "all_ranks.sort_values(\"Mean\", ascending=False, inplace=True)\n",
    "all_ranks[:10]"
   ]
  },
  {
   "cell_type": "code",
   "execution_count": null,
   "id": "e476ccfa",
   "metadata": {},
   "outputs": [],
   "source": [
    "fig = plt.figure(figsize=(20, 40))\n",
    "\n",
    "sns.heatmap(all_ranks[[\"RF\", \"SVC_L2\", \"SVC_L1\", \"LR_L2\", \"LR_L1\"]], cmap=\"YlGnBu\")\n",
    "\n",
    "plt.show()\n",
    "fig.savefig(fig_path + \"Heatmap_feature_ranking.png\", bbox_inches=\"tight\")"
   ]
  },
  {
   "cell_type": "markdown",
   "id": "3d6b9f85",
   "metadata": {},
   "source": [
    "## Dataset stringency"
   ]
  },
  {
   "cell_type": "code",
   "execution_count": 33,
   "id": "c229c79c",
   "metadata": {},
   "outputs": [],
   "source": [
    "def increase_stringency_CSF(feature_df, csf_df, i):\n",
    "    \n",
    "    stringent_csf = csf_df[csf_df[\"#Studies\"]>=i][\"Uniprot\"]\n",
    "    remove_csf = set(df_features[df_features[\"CSF\"] == 1][\"Uniprot\"]) - set(stringent_csf)\n",
    "    df_stringent = df_features.drop(df_features[(df_features[\"CSF\"] == 1) & (df_features[\"Uniprot\"].isin(remove_csf))].index)\n",
    "    \n",
    "    print(\"Number of CSF proteins to be removed:\", len(remove_csf))\n",
    "    print(\"Number of CSF proteins left:\", len(df_stringent[(df_stringent[\"CSF\"] == 1)]))   \n",
    "    \n",
    "    return df_stringent\n",
    "\n",
    "\n",
    "def increase_stringency_brain(feature_df, brain_set):\n",
    "\n",
    "    df_stringent = feature_df[feature_df[\"Uniprot\"].isin(brain_set)]\n",
    "    print(\"Number of brain proteins to be removed:\", len(df_features) - len(df_stringent))\n",
    "    print(\"Number of CSF proteins left:\", len(df_stringent[(df_stringent[\"CSF\"] == 1)]))   \n",
    "    print(\"Number of non-CSF proteins left:\", len(df_stringent[(df_stringent[\"CSF\"] == -1)])) \n",
    "    \n",
    "    return df_stringent\n",
    "\n",
    "\n",
    "def accuracy_stringent(df, n):\n",
    "    \n",
    "    # define explanatory and response variables\n",
    "    X = (df.drop([\"Uniprot\", \"Sequence\", \"CSF\"], axis=1))\n",
    "    y = (df[\"CSF\"])\n",
    "    \n",
    "    bac = []\n",
    "    auc = []\n",
    "    \n",
    "    for i in range(10):\n",
    "        \n",
    "        X_train_bal, X_test_scal, y_train_bal, y_test, scaler = preprocess(X, y, random_state=i)\n",
    "        \n",
    "        # train model\n",
    "        lr = LogisticRegression(C=2.5, max_iter=1000, dual=False, random_state=0).fit(X_train_bal, y_train_bal)\n",
    "        y_pred = lr.predict(X_test_scal)\n",
    "        \n",
    "        # print(i, \"Balanced accuracy:\", balanced_accuracy_score(y_test, y_pred))\n",
    "        bac.append(balanced_accuracy_score(y_test, y_pred))\n",
    "        auc.append(roc_auc_score(y_test, lr.decision_function(X_test_scal)))\n",
    "        \n",
    "        if i == 0:\n",
    "            coef = pd.Series(index=X_train_bal.columns, data=lr.coef_[0], name=n)\n",
    "            coef.sort_values(ascending=False, key=abs, inplace=True)\n",
    "\n",
    "    return bac, auc, coef"
   ]
  },
  {
   "cell_type": "markdown",
   "id": "3fe26dd3",
   "metadata": {},
   "source": [
    "### CSF proteins"
   ]
  },
  {
   "cell_type": "code",
   "execution_count": 31,
   "id": "263be85e",
   "metadata": {},
   "outputs": [],
   "source": [
    "csf[\"#Studies\"] = csf[[\"#Peptides_Macron2018A\", \"#Peptides_Macron2020\", \"#Peptides_Zhang2015\",\n",
    "    \"#Peptides_Guldbrandsen2014\", \"#Peptides_Macron2018B\", \"#Peptides_Schutzer2010\", \"#Peptides_Pan2007\"]].count(axis=1)"
   ]
  },
  {
   "cell_type": "code",
   "execution_count": 36,
   "id": "9c831c63",
   "metadata": {},
   "outputs": [
    {
     "name": "stdout",
     "output_type": "stream",
     "text": [
      "Number of non-CSF proteins: 1547\n",
      "-------------\n",
      "Number of minimum CSF studies: 1\n",
      "Number of CSF proteins to be removed: 0\n",
      "Number of CSF proteins left: 995\n",
      "-------------\n",
      "Number of minimum CSF studies: 2\n",
      "Number of CSF proteins to be removed: 303\n",
      "Number of CSF proteins left: 692\n",
      "-------------\n",
      "Number of minimum CSF studies: 3\n",
      "Number of CSF proteins to be removed: 454\n",
      "Number of CSF proteins left: 541\n",
      "-------------\n",
      "Number of minimum CSF studies: 4\n",
      "Number of CSF proteins to be removed: 521\n",
      "Number of CSF proteins left: 474\n",
      "-------------\n",
      "Number of minimum CSF studies: 5\n",
      "Number of CSF proteins to be removed: 588\n",
      "Number of CSF proteins left: 407\n",
      "-------------\n",
      "Number of minimum CSF studies: 6\n",
      "Number of CSF proteins to be removed: 693\n",
      "Number of CSF proteins left: 302\n",
      "-------------\n",
      "Number of minimum CSF studies: 7\n",
      "Number of CSF proteins to be removed: 833\n",
      "Number of CSF proteins left: 162\n"
     ]
    }
   ],
   "source": [
    "baclist_csf = []\n",
    "auclist_csf = []\n",
    "coefs = []\n",
    "\n",
    "print(\"Number of non-CSF proteins:\", len(df_features[df_features[\"CSF\"] == -1]))\n",
    "\n",
    "for i in range(1, csf[\"#Studies\"].max()+1):\n",
    "    print(\"-------------\")\n",
    "    print(\"Number of minimum CSF studies:\", i)\n",
    "    df_stringent = increase_stringency_CSF(df_features, csf, i)\n",
    "    bac, auc, coef = accuracy_stringent(df_stringent, n=i)\n",
    "    \n",
    "    baclist_csf.append(bac)\n",
    "    auclist_csf.append(auc)\n",
    "    coefs.append(coef)"
   ]
  },
  {
   "cell_type": "code",
   "execution_count": 64,
   "id": "76c3465d",
   "metadata": {},
   "outputs": [
    {
     "data": {
      "image/png": "[encoded data removed]",
      "text/plain": [
       "<Figure size 600x400 with 1 Axes>"
      ]
     },
     "metadata": {},
     "output_type": "display_data"
    }
   ],
   "source": [
    "sns.set(style=(\"ticks\"), font_scale=1)\n",
    "fig, ax = plt.subplots(1, 1, figsize=(6, 4))\n",
    "\n",
    "bars = ax.bar(x=[1,2,3,4,5,6,7], height=[np.mean(i) for i in baclist_csf], yerr=[np.std(i) for i in baclist_csf], \n",
    "#     color=[\"darkgreen\", \"mediumseagreen\", \"palegreen\", \"greenyellow\", \"yellow\", \"gold\", \"goldenrod\"], edgecolor=\"black\")\n",
    "#     color=[\"darkgreen\", \"mediumseagreen\", \"palegreen\", \"aquamarine\", \"lightseagreen\", \"teal\", \"darkslategrey\"], edgecolor=\"black\")\n",
    "#     color=[\"darkslategrey\", \"teal\", \"lightseagreen\", \"aquamarine\", \"palegreen\", \"mediumseagreen\", \"darkgreen\"], edgecolor=\"black\")\n",
    "    color=[\"skyblue\", \"steelblue\", \"darkcyan\", \"darkgreen\", \"mediumseagreen\", \"palegreen\", \"yellowgreen\"], edgecolor=\"black\")\n",
    "\n",
    "ax.bar_label(bars, fmt=\"%.4f\")\n",
    "ax.set(xlabel=\"Minimum number of studies CSF protein was detected in\", ylabel=\"Balanced accuracy\", \n",
    "    title=\"Comparison of varying dataset stringency\", ylim=(0, 1))\n",
    "plt.show()\n",
    "\n",
    "# fig.savefig(fig_path + \"Increased_dataset_stringency_CSF_BAC.png\", bbox_inches=\"tight\")"
   ]
  },
  {
   "cell_type": "code",
   "execution_count": null,
   "id": "1647ae7f",
   "metadata": {},
   "outputs": [],
   "source": [
    "fig, ax = plt.subplots()\n",
    "\n",
    "bars = ax.bar(x=[1,2,3,4,5,6,7], height=[np.mean(i) for i in auclist_csf], yerr=[np.std(i) for i in auclist_csf])\n",
    "ax.bar_label(bars, fmt=\"%.4f\")\n",
    "ax.set(xlabel=\"Minimum number of studies CSF protein was found in\", ylabel=\"AUC score\", \n",
    "    title=\"Comparison of varying dataset stringency\", ylim=(0, 1))\n",
    "plt.show()\n",
    "\n",
    "# fig.savefig(fig_path + \"Increased_dataset_stringency_CSF_AUC.png\", bbox_inches=\"tight\")"
   ]
  },
  {
   "cell_type": "markdown",
   "id": "d7d94acc",
   "metadata": {},
   "source": [
    "## Influence of brain dataset stringency"
   ]
  },
  {
   "cell_type": "code",
   "execution_count": null,
   "id": "e5652a84",
   "metadata": {},
   "outputs": [],
   "source": [
    "baclist_brain = []\n",
    "auclist_brain = []\n",
    "\n",
    "brain_sets = [brain_tissue_enhanced, brain_group_enriched, brain_tissue_enriched]\n",
    "\n",
    "print(\"Number of brain proteins:\", len(df_features))\n",
    "\n",
    "for i in range(len(brain_sets)):\n",
    "    print(\"-------------\")\n",
    "    df_stringent = increase_stringency_brain(df_features, brain_sets[i])\n",
    "    bac, auc, cm = accuracy_stringent(df_stringent, n=i)\n",
    "    \n",
    "    baclist_brain.append(bac)\n",
    "    auclist_brain.append(auc)"
   ]
  },
  {
   "cell_type": "code",
   "execution_count": null,
   "id": "ce9f6a96",
   "metadata": {},
   "outputs": [],
   "source": [
    "fig, ax = plt.subplots()\n",
    "\n",
    "bars = ax.bar(x=[\"Tissue enhanced\", \"Group enriched\", \"Tissue enriched\"], height=[np.mean(i) for i in baclist_brain], yerr=[np.std(i) for i in baclist_brain])\n",
    "ax.bar_label(bars, fmt=\"%.4f\")\n",
    "ax.set(xlabel=\"Brain tissue specificity\", ylabel=\"Balanced accuracy\", \n",
    "    title=\"Comparison of varying dataset stringency\", ylim=(0, 1))\n",
    "plt.show()\n",
    "\n",
    "fig.savefig(fig_path + \"Increased_dataset_stringency_brain_specifcity_BAC.png\", bbox_inches=\"tight\")"
   ]
  },
  {
   "cell_type": "code",
   "execution_count": null,
   "id": "b72ea254",
   "metadata": {},
   "outputs": [],
   "source": [
    "baclist_brain = []\n",
    "auclist_brain = []\n",
    "\n",
    "brain_sets = [brain_all, brain_many, brain_some, brain_single]\n",
    "\n",
    "print(\"Number of brain proteins:\", len(df_features))\n",
    "\n",
    "for i in range(len(brain_sets)):\n",
    "    print(\"-------------\")\n",
    "    df_stringent = increase_stringency_brain(df_features, brain_sets[i])\n",
    "    bac, auc, cm = accuracy_stringent(df_stringent, n=i)\n",
    "    \n",
    "    baclist_brain.append(bac)\n",
    "    auclist_brain.append(auc)"
   ]
  },
  {
   "cell_type": "code",
   "execution_count": null,
   "id": "8c4f1af8",
   "metadata": {},
   "outputs": [],
   "source": [
    "fig, ax = plt.subplots()\n",
    "\n",
    "bars = ax.bar(x=[\"All\", \">Many\", \">Some\", \">Single\"], height=[np.mean(i) for i in baclist_brain], yerr=[np.std(i) for i in baclist_brain])\n",
    "ax.bar_label(bars, fmt=\"%.4f\")\n",
    "ax.set(xlabel=\"Brain tissue distribution\", ylabel=\"Balanced accuracy\", \n",
    "    title=\"Comparison of varying dataset stringency\", ylim=(0, 1))\n",
    "plt.show()\n",
    "\n",
    "fig.savefig(fig_path + \"Increased_dataset_stringency_brain_distribution_BAC.png\", bbox_inches=\"tight\")"
   ]
  },
  {
   "cell_type": "markdown",
   "id": "450b4b01",
   "metadata": {},
   "source": [
    "## Feature analysis of models trained on more stringent CSF data"
   ]
  },
  {
   "cell_type": "code",
   "execution_count": null,
   "id": "3da5e250",
   "metadata": {},
   "outputs": [],
   "source": [
    "def stringent_dataset_analysis(df):\n",
    "    \n",
    "    # define explanatory and response variables\n",
    "    X = (df.drop([\"Uniprot\", \"Sequence\", \"CSF\"], axis=1))\n",
    "    y = (df[\"CSF\"])\n",
    "    \n",
    "    coefs = []\n",
    "    \n",
    "    for i in range(10):\n",
    "        \n",
    "        # preprocessing \n",
    "        X_train_bal, X_test_scal, y_train_bal, y_test = preprocess(X, y, random_state=i)  \n",
    "\n",
    "        # train model\n",
    "        lr = LogisticRegression(C=1, max_iter=1000, dual=False, random_state=0).fit(X_train_bal, y_train_bal)\n",
    "#         rf = RandomForestClassifier(n_estimators=1000, random_state=0).fit(X_train_bal, y_train_bal)\n",
    "        \n",
    "        # extract coefficients\n",
    "        coef = pd.Series(index=X_train_bal.columns, data=lr.coef_[0], name=i)\n",
    "#         coef = pd.Series(index=X_train_bal.columns, data=rf.feature_importances_, name=i)\n",
    "        coef.sort_values(ascending=False, key=abs, inplace=True)\n",
    "        coefs.append(coef)\n",
    "    \n",
    "    # merge all coefficient series into oen dataframe\n",
    "    coefs_df = pd.merge(coefs[0], coefs[1], left_index=True, right_index=True)\n",
    "    for i in range(2, len(coefs)):\n",
    "        coefs_df = pd.merge(coefs_df, coefs[i], left_index=True, right_index=True)  \n",
    "                        \n",
    "    coefs_df[\"Mean\"] = coefs_df.mean(axis=1)\n",
    "    coefs_df[\"Standard deviation\"] = coefs_df.std(axis=1)\n",
    "                        \n",
    "    return coefs_df"
   ]
  },
  {
   "cell_type": "code",
   "execution_count": null,
   "id": "887fdc63",
   "metadata": {},
   "outputs": [],
   "source": [
    "# create more stirngent data sets\n",
    "df_features_2plus = increase_stringency_CSF(df_features, csf, 2)\n",
    "print(\"Number of proteins in dataset:\", len(df_features_2plus))\n",
    "print(\"-------------\")\n",
    "df_features_3plus = increase_stringency_CSF(df_features, csf, 3)\n",
    "print(\"Number of proteins in dataset:\", len(df_features_3plus))"
   ]
  },
  {
   "cell_type": "code",
   "execution_count": null,
   "id": "b593c20d",
   "metadata": {},
   "outputs": [],
   "source": [
    "coefs_df = stringent_dataset_analysis(df_features)\n",
    "coefs_df_2plus = stringent_dataset_analysis(df_features_2plus)\n",
    "coefs_df_3plus = stringent_dataset_analysis(df_features_3plus)"
   ]
  },
  {
   "cell_type": "code",
   "execution_count": null,
   "id": "58376a64",
   "metadata": {},
   "outputs": [],
   "source": [
    "coefs_df.sort_values(\"Mean\", ascending=False, key=abs)[:20]"
   ]
  },
  {
   "cell_type": "code",
   "execution_count": null,
   "id": "29bf9ce1",
   "metadata": {},
   "outputs": [],
   "source": [
    "coefs_df_2plus.sort_values(\"Mean\", ascending=False, key=abs)[:20]"
   ]
  },
  {
   "cell_type": "code",
   "execution_count": null,
   "id": "48d9d321",
   "metadata": {},
   "outputs": [],
   "source": [
    "coefs_df_3plus.sort_values(\"Mean\", ascending=False, key=abs)[:20]"
   ]
  },
  {
   "cell_type": "code",
   "execution_count": null,
   "id": "1cd3ef57",
   "metadata": {},
   "outputs": [],
   "source": []
  },
  {
   "cell_type": "code",
   "execution_count": null,
   "id": "83e3234c",
   "metadata": {},
   "outputs": [],
   "source": []
  },
  {
   "cell_type": "code",
   "execution_count": null,
   "id": "1538edb4",
   "metadata": {},
   "outputs": [],
   "source": []
  },
  {
   "cell_type": "code",
   "execution_count": null,
   "id": "eeb91662",
   "metadata": {},
   "outputs": [],
   "source": []
  },
  {
   "cell_type": "code",
   "execution_count": null,
   "id": "4706980d",
   "metadata": {},
   "outputs": [],
   "source": []
  },
  {
   "cell_type": "code",
   "execution_count": null,
   "id": "07389bbb",
   "metadata": {},
   "outputs": [],
   "source": []
  },
  {
   "cell_type": "code",
   "execution_count": null,
   "id": "ddf3ba2c",
   "metadata": {},
   "outputs": [],
   "source": []
  },
  {
   "cell_type": "code",
   "execution_count": null,
   "id": "c7b5dd4c",
   "metadata": {},
   "outputs": [],
   "source": []
  },
  {
   "cell_type": "code",
   "execution_count": null,
   "id": "0ed32315",
   "metadata": {},
   "outputs": [],
   "source": []
  }
 ],
 "metadata": {
  "kernelspec": {
   "display_name": "Python 3",
   "language": "python",
   "name": "python3"
  },
  "language_info": {
   "codemirror_mode": {
    "name": "ipython",
    "version": 3
   },
   "file_extension": ".py",
   "mimetype": "text/x-python",
   "name": "python",
   "nbconvert_exporter": "python",
   "pygments_lexer": "ipython3",
   "version": "3.8.5"
  }
 },
 "nbformat": 4,
 "nbformat_minor": 5
}
