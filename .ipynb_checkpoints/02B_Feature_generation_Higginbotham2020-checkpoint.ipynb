{
 "cells": [
  {
   "cell_type": "markdown",
   "id": "c7ea661e",
   "metadata": {},
   "source": [
    "# Import libraries and data"
   ]
  },
  {
   "cell_type": "code",
   "execution_count": 1,
   "id": "0f6ebffd",
   "metadata": {},
   "outputs": [],
   "source": [
    "# import libraries \n",
    "import matplotlib.pyplot as plt\n",
    "import numpy as np\n",
    "import os\n",
    "import pandas as pd\n",
    "\n",
    "from utils import get_uniprot, get_value, keep_first_uniprot, protein_analysis\n",
    "from matplotlib_venn import venn2"
   ]
  },
  {
   "cell_type": "code",
   "execution_count": 2,
   "id": "28bc026b",
   "metadata": {},
   "outputs": [],
   "source": [
    "data_path = os.getcwd() + \"/Datasets/\""
   ]
  },
  {
   "cell_type": "markdown",
   "id": "5f8e8520",
   "metadata": {},
   "source": [
    "## Curated CSF data set"
   ]
  },
  {
   "cell_type": "code",
   "execution_count": 3,
   "id": "8ff55b13",
   "metadata": {},
   "outputs": [],
   "source": [
    "csf = pd.read_csv(data_path + \"CSF/CSF.csv\")"
   ]
  },
  {
   "cell_type": "markdown",
   "id": "f81df116",
   "metadata": {},
   "source": [
    "## Higginbotham2020 proteomics data sets"
   ]
  },
  {
   "cell_type": "code",
   "execution_count": 4,
   "id": "bd3ac0f4",
   "metadata": {},
   "outputs": [],
   "source": [
    "def get_uniprot_Higginbotham(string):\n",
    "    _, uniprot = string.split(\"|\")\n",
    "    \n",
    "    if \"-\" in uniprot:\n",
    "        uniprot, _ = uniprot.split(\"-\")\n",
    "\n",
    "    return uniprot"
   ]
  },
  {
   "cell_type": "code",
   "execution_count": 5,
   "id": "ff5771ec",
   "metadata": {},
   "outputs": [],
   "source": [
    "# import protein lists\n",
    "Higginbotham2020_brain = pd.read_csv(data_path + \"/Biomarker_discovery/Higginbotham2020_brain_Uniprot_raw.txt\", header=None, \n",
    "    names=[\"Uniprot\"])\n",
    "Higginbotham2020_CSF = pd.read_csv(data_path + \"/Biomarker_discovery/Higginbotham2020_CSF_Uniprot_raw.txt\", header=None, \n",
    "    names=[\"Uniprot\"])"
   ]
  },
  {
   "cell_type": "code",
   "execution_count": 6,
   "id": "ff79ec97",
   "metadata": {},
   "outputs": [],
   "source": [
    "# retrieve (parent) Uniprot\n",
    "Higginbotham2020_brain[\"Uniprot\"] = Higginbotham2020_brain[\"Uniprot\"].apply(get_uniprot_Higginbotham)\n",
    "Higginbotham2020_CSF[\"Uniprot\"] = Higginbotham2020_CSF[\"Uniprot\"].apply(get_uniprot_Higginbotham)"
   ]
  },
  {
   "cell_type": "code",
   "execution_count": 7,
   "id": "cf530bf9",
   "metadata": {},
   "outputs": [],
   "source": [
    "# save brain tissue Uniprots\n",
    "with open(data_path + \"Biomarker_discovery/Higginbotham2020_brain_Uniprot_clean.txt\", \"w\") as f:\n",
    "    for item in Higginbotham2020_brain[\"Uniprot\"]:\n",
    "        f.write(\"%s\\n\" % item)\n",
    "        \n",
    "# save CSF Uniprots\n",
    "with open(data_path + \"Biomarker_discovery/Higginbotham2020_CSF_Uniprot_clean.txt\", \"w\") as f:\n",
    "    for item in Higginbotham2020_CSF[\"Uniprot\"]:\n",
    "        f.write(\"%s\\n\" % item)  "
   ]
  },
  {
   "cell_type": "code",
   "execution_count": 8,
   "id": "9098637b",
   "metadata": {},
   "outputs": [
    {
     "name": "stdout",
     "output_type": "stream",
     "text": [
      "Number of proteins in dataset: 8941\n"
     ]
    }
   ],
   "source": [
    "# combine brain and CSF datasets and remove duplicates\n",
    "Higginbotham2020 = pd.concat([Higginbotham2020_brain, Higginbotham2020_CSF]).drop_duplicates([\"Uniprot\"])\n",
    "print(\"Number of proteins in dataset:\", len(Higginbotham2020))"
   ]
  },
  {
   "cell_type": "code",
   "execution_count": 9,
   "id": "4095bc6b",
   "metadata": {},
   "outputs": [],
   "source": [
    "# # save cleaned full Uniprot list\n",
    "# with open(data_path + \"Biomarker_discovery/Higginbotham2020_Uniprot_clean.txt\", \"w\") as f:\n",
    "#     for item in Higginbotham2020[\"Uniprot\"]:\n",
    "#         f.write(\"%s\\n\" % item)"
   ]
  },
  {
   "cell_type": "markdown",
   "id": "b491b198",
   "metadata": {},
   "source": [
    "### Uniprot to sequence mapping\n",
    "\n",
    "Retrieval of protein sequences: https://www.uniprot.org/id-mapping"
   ]
  },
  {
   "cell_type": "code",
   "execution_count": 10,
   "id": "db622aba",
   "metadata": {},
   "outputs": [
    {
     "name": "stdout",
     "output_type": "stream",
     "text": [
      "Number of proteins in dataset with associated Uniprot ID: 8881\n",
      "Number of proteins in dataset with associated Uniprot ID and sequence: 8600\n"
     ]
    }
   ],
   "source": [
    "df = pd.read_csv(data_path + \"Biomarker_discovery/Higginbotham2020_Uniprot_seq.tab\", sep=\"\\t\", header=0, \n",
    "    names=[\"Uniprot\", \"Sequence\"])\n",
    "print(\"Number of proteins in dataset with associated Uniprot ID:\", len(df))\n",
    "# drop entries without sequence (obsolete)\n",
    "df.dropna(subset=[\"Sequence\"], inplace=True) # 158 dropped\n",
    "# drop entries with non-standard amino acids\n",
    "df = df[df[\"Sequence\"].str.contains(\"B|U|X\") == False] # 123 entries dropped\n",
    "print(\"Number of proteins in dataset with associated Uniprot ID and sequence:\", len(df))"
   ]
  },
  {
   "cell_type": "markdown",
   "id": "9af8ba26",
   "metadata": {},
   "source": [
    "# Feature generation"
   ]
  },
  {
   "cell_type": "markdown",
   "id": "4ce6ce1f",
   "metadata": {},
   "source": [
    "## Sequence length"
   ]
  },
  {
   "cell_type": "code",
   "execution_count": 11,
   "id": "0a07ab68",
   "metadata": {
    "scrolled": true
   },
   "outputs": [],
   "source": [
    "df[\"Length\"] = df[\"Sequence\"].apply(len)"
   ]
  },
  {
   "cell_type": "markdown",
   "id": "a180e746",
   "metadata": {},
   "source": [
    "## Amino acid composition & attributes"
   ]
  },
  {
   "cell_type": "code",
   "execution_count": 12,
   "id": "18cf0ba6",
   "metadata": {},
   "outputs": [],
   "source": [
    "# df = df.apply(protein_analysis, seq_col=\"Sequence\", axis=1)\n",
    "# # save dataframe \n",
    "# df.to_csv(data_path + \"Features/df_features_protein_analysis_Higginbotham2020.csv\", index=False)"
   ]
  },
  {
   "cell_type": "code",
   "execution_count": 13,
   "id": "7a01a14a",
   "metadata": {},
   "outputs": [],
   "source": [
    "# save or load dataframe\n",
    "df = pd.read_csv(data_path + \"Features/df_features_protein_analysis_Higginbotham2020.csv\") "
   ]
  },
  {
   "cell_type": "markdown",
   "id": "57b8acc9",
   "metadata": {},
   "source": [
    "## Solubility"
   ]
  },
  {
   "cell_type": "code",
   "execution_count": 14,
   "id": "aa7020cd",
   "metadata": {},
   "outputs": [],
   "source": [
    "weights = {\"A\": 0.8356471476582918, \"C\": 0.5208088354857734, \"U\": 0.5208088354857734, \"E\": 0.9876987431418378,\n",
    "           \"D\": 0.9079044671339564, \"G\": 0.7997168496420723, \"F\": 0.5849790194237692, \"I\": 0.6784124413866582,\n",
    "           \"H\": 0.8947913996466419, \"K\": 0.9267104557513497, \"L\": 0.6554221515081433, \"M\": 0.6296623675420369, \n",
    "           \"N\": 0.8597433107431216, \"Q\": 0.789434648348208, \"P\": 0.8235328714705341, \"S\": 0.7440908318492778,\n",
    "           \"R\": 0.7712466317693457, \"T\": 0.8096922697856334, \"W\": 0.6374678690957594, \"V\": 0.7357837119163659,\n",
    "           \"Y\": 0.6112801822947587}\n",
    "\n",
    "A = 81.0581\n",
    "B = -62.7775\n",
    "\n",
    "def sol(seq):\n",
    "    SWI = np.mean(([weights[i] for i in seq]))\n",
    "    sol = 1/(1 + np.exp(-(81.0581*SWI + -62.7775)))\n",
    "    return sol\n",
    "\n",
    "df[\"Solubility\"] = df[\"Sequence\"].apply(sol)"
   ]
  },
  {
   "cell_type": "markdown",
   "id": "3a1800d3",
   "metadata": {},
   "source": [
    "## Structural features (NetSurfP-2.0)"
   ]
  },
  {
   "cell_type": "code",
   "execution_count": 15,
   "id": "99669617",
   "metadata": {},
   "outputs": [
    {
     "data": {
      "text/html": [
       "<div>\n",
       "<style scoped>\n",
       "    .dataframe tbody tr th:only-of-type {\n",
       "        vertical-align: middle;\n",
       "    }\n",
       "\n",
       "    .dataframe tbody tr th {\n",
       "        vertical-align: top;\n",
       "    }\n",
       "\n",
       "    .dataframe thead th {\n",
       "        text-align: right;\n",
       "    }\n",
       "</style>\n",
       "<table border=\"1\" class=\"dataframe\">\n",
       "  <thead>\n",
       "    <tr style=\"text-align: right;\">\n",
       "      <th></th>\n",
       "      <th>Uniprot</th>\n",
       "      <th>Disorder_NSP</th>\n",
       "      <th>Helix_NSP</th>\n",
       "      <th>Coil_NSP</th>\n",
       "      <th>Sheet_NSP</th>\n",
       "    </tr>\n",
       "  </thead>\n",
       "  <tbody>\n",
       "    <tr>\n",
       "      <th>0</th>\n",
       "      <td>Q9H4F8</td>\n",
       "      <td>0.203305</td>\n",
       "      <td>0.237327</td>\n",
       "      <td>0.635945</td>\n",
       "      <td>0.126728</td>\n",
       "    </tr>\n",
       "    <tr>\n",
       "      <th>1</th>\n",
       "      <td>P05067</td>\n",
       "      <td>0.396088</td>\n",
       "      <td>0.279221</td>\n",
       "      <td>0.636364</td>\n",
       "      <td>0.084416</td>\n",
       "    </tr>\n",
       "    <tr>\n",
       "      <th>2</th>\n",
       "      <td>E9PLM6</td>\n",
       "      <td>0.415483</td>\n",
       "      <td>0.051282</td>\n",
       "      <td>0.698718</td>\n",
       "      <td>0.250000</td>\n",
       "    </tr>\n",
       "    <tr>\n",
       "      <th>3</th>\n",
       "      <td>P05362</td>\n",
       "      <td>0.101137</td>\n",
       "      <td>0.093985</td>\n",
       "      <td>0.426692</td>\n",
       "      <td>0.479323</td>\n",
       "    </tr>\n",
       "    <tr>\n",
       "      <th>4</th>\n",
       "      <td>Q13501</td>\n",
       "      <td>0.381773</td>\n",
       "      <td>0.170455</td>\n",
       "      <td>0.709091</td>\n",
       "      <td>0.120455</td>\n",
       "    </tr>\n",
       "  </tbody>\n",
       "</table>\n",
       "</div>"
      ],
      "text/plain": [
       "  Uniprot  Disorder_NSP  Helix_NSP  Coil_NSP  Sheet_NSP\n",
       "0  Q9H4F8      0.203305   0.237327  0.635945   0.126728\n",
       "1  P05067      0.396088   0.279221  0.636364   0.084416\n",
       "2  E9PLM6      0.415483   0.051282  0.698718   0.250000\n",
       "3  P05362      0.101137   0.093985  0.426692   0.479323\n",
       "4  Q13501      0.381773   0.170455  0.709091   0.120455"
      ]
     },
     "execution_count": 15,
     "metadata": {},
     "output_type": "execute_result"
    }
   ],
   "source": [
    "# load dataframe of derived global features of NetSurfP predictions\n",
    "nsp_features = pd.read_csv(data_path + \"Features/NetSurfP_global_features_Higginbotham2020.csv\") \n",
    "nsp_features[:5]"
   ]
  },
  {
   "cell_type": "code",
   "execution_count": 16,
   "id": "caa62428",
   "metadata": {},
   "outputs": [],
   "source": [
    "# add structural features to feature dataframe\n",
    "df = df.merge(nsp_features, on=\"Uniprot\", how=\"inner\")"
   ]
  },
  {
   "cell_type": "markdown",
   "id": "8a1623dd",
   "metadata": {},
   "source": [
    "## Signal peptide (SignalP-6.0)"
   ]
  },
  {
   "cell_type": "code",
   "execution_count": 17,
   "id": "b23766e8",
   "metadata": {},
   "outputs": [
    {
     "data": {
      "text/html": [
       "<div>\n",
       "<style scoped>\n",
       "    .dataframe tbody tr th:only-of-type {\n",
       "        vertical-align: middle;\n",
       "    }\n",
       "\n",
       "    .dataframe tbody tr th {\n",
       "        vertical-align: top;\n",
       "    }\n",
       "\n",
       "    .dataframe thead th {\n",
       "        text-align: right;\n",
       "    }\n",
       "</style>\n",
       "<table border=\"1\" class=\"dataframe\">\n",
       "  <thead>\n",
       "    <tr style=\"text-align: right;\">\n",
       "      <th></th>\n",
       "      <th>Uniprot</th>\n",
       "      <th>Prediction</th>\n",
       "      <th>Likelihood-Other</th>\n",
       "      <th>Likelihood-SP</th>\n",
       "      <th>CS Position</th>\n",
       "    </tr>\n",
       "  </thead>\n",
       "  <tbody>\n",
       "    <tr>\n",
       "      <th>0</th>\n",
       "      <td>Q9H4F8</td>\n",
       "      <td>SP</td>\n",
       "      <td>0.000243</td>\n",
       "      <td>0.999729</td>\n",
       "      <td>CS pos: 26-27. Pr: 0.9760</td>\n",
       "    </tr>\n",
       "    <tr>\n",
       "      <th>1</th>\n",
       "      <td>P05067</td>\n",
       "      <td>SP</td>\n",
       "      <td>0.000225</td>\n",
       "      <td>0.999778</td>\n",
       "      <td>CS pos: 17-18. Pr: 0.9767</td>\n",
       "    </tr>\n",
       "    <tr>\n",
       "      <th>2</th>\n",
       "      <td>E9PLM6</td>\n",
       "      <td>SP</td>\n",
       "      <td>0.000233</td>\n",
       "      <td>0.999738</td>\n",
       "      <td>CS pos: 22-23. Pr: 0.5103</td>\n",
       "    </tr>\n",
       "    <tr>\n",
       "      <th>3</th>\n",
       "      <td>P05362</td>\n",
       "      <td>SP</td>\n",
       "      <td>0.000235</td>\n",
       "      <td>0.999742</td>\n",
       "      <td>CS pos: 27-28. Pr: 0.9777</td>\n",
       "    </tr>\n",
       "    <tr>\n",
       "      <th>5</th>\n",
       "      <td>Q92743</td>\n",
       "      <td>SP</td>\n",
       "      <td>0.000217</td>\n",
       "      <td>0.999739</td>\n",
       "      <td>CS pos: 22-23. Pr: 0.9788</td>\n",
       "    </tr>\n",
       "  </tbody>\n",
       "</table>\n",
       "</div>"
      ],
      "text/plain": [
       "  Uniprot Prediction  Likelihood-Other  Likelihood-SP  \\\n",
       "0  Q9H4F8         SP          0.000243       0.999729   \n",
       "1  P05067         SP          0.000225       0.999778   \n",
       "2  E9PLM6         SP          0.000233       0.999738   \n",
       "3  P05362         SP          0.000235       0.999742   \n",
       "5  Q92743         SP          0.000217       0.999739   \n",
       "\n",
       "                 CS Position  \n",
       "0  CS pos: 26-27. Pr: 0.9760  \n",
       "1  CS pos: 17-18. Pr: 0.9767  \n",
       "2  CS pos: 22-23. Pr: 0.5103  \n",
       "3  CS pos: 27-28. Pr: 0.9777  \n",
       "5  CS pos: 22-23. Pr: 0.9788  "
      ]
     },
     "execution_count": 17,
     "metadata": {},
     "output_type": "execute_result"
    }
   ],
   "source": [
    "signalp = pd.read_csv(data_path + \"Features/SignalP_results_Higginbotham2020.txt\", sep=\"\\t\", index_col=False, header=None, \n",
    "    skiprows=2, names=[\"Uniprot\", \"Prediction\", \"Likelihood-Other\", \"Likelihood-SP\", \"CS Position\"])\n",
    "\n",
    "# retrieve Uniprot ID\n",
    "signalp[\"Uniprot\"] = signalp[\"Uniprot\"].apply(get_uniprot)\n",
    "signalp_pos = signalp[signalp[\"Prediction\"] == \"SP\"]\n",
    "signalp_pos[:5]"
   ]
  },
  {
   "cell_type": "code",
   "execution_count": 18,
   "id": "f57ff9a3",
   "metadata": {},
   "outputs": [],
   "source": [
    "df[\"Signal peptide\"] = np.where(df[\"Uniprot\"].isin(signalp_pos[\"Uniprot\"]), 1, 0)"
   ]
  },
  {
   "cell_type": "markdown",
   "id": "5638a821",
   "metadata": {},
   "source": [
    "## Glycosylation prediction"
   ]
  },
  {
   "cell_type": "markdown",
   "id": "a5cc7b94",
   "metadata": {},
   "source": [
    "### NetNglyc-1.0"
   ]
  },
  {
   "cell_type": "code",
   "execution_count": 19,
   "id": "da1de71a",
   "metadata": {},
   "outputs": [],
   "source": [
    "def netNglyc_filter(file, file_name):\n",
    "    \"\"\"\n",
    "    \"\"\"\n",
    "    # open results file of netNglyc predictions\n",
    "    results = open(file, \"r\")\n",
    "    lines = results.readlines()\n",
    "    \n",
    "    # open new file to save filtered lines to\n",
    "    filtered_results = open(data_path + \"Features/\" + file_name + \".txt\", \"w+\")\n",
    "    \n",
    "    for line in lines:\n",
    "        # save relevant lines to new file\n",
    "        if line[:3] == \"sp|\":\n",
    "            filtered_results.writelines(line)\n",
    "    \n",
    "    # close file\n",
    "    filtered_results.close()\n",
    "    \n",
    "    return None\n",
    "    \n",
    "def split_netNglyc(df):\n",
    "    \"\"\"\n",
    "    \"\"\"\n",
    "    string = df[0]\n",
    "    \n",
    "    # retrieve information from first column\n",
    "    name, pos, seq = string.split()\n",
    "\n",
    "    # retrieve Uniprot ID from description\n",
    "    uniprot = get_uniprot(name)\n",
    "    \n",
    "    df[\"Uniprot\"] = uniprot\n",
    "    df[\"Position\"] = pos\n",
    "    df[\"Sequence\"] = seq\n",
    "    \n",
    "    # drop old column\n",
    "    df.drop(columns=[0], axis=1, inplace=True)\n",
    "    \n",
    "    # reorder columns\n",
    "    df = df[[\"Uniprot\", \"Position\", \"Sequence\", \"Potential\", \"Jury agreement\", \"Result\"]]\n",
    "    \n",
    "    return df"
   ]
  },
  {
   "cell_type": "code",
   "execution_count": 20,
   "id": "48d447d2",
   "metadata": {},
   "outputs": [],
   "source": [
    "# # filter netNglyc results file\n",
    "# netNglyc_filter(data_path + \"Features/NetNglyc_results_Higginbotham2020.out\", \"NetNglyc_results_Higginbotham2020_filtered\")\n",
    "\n",
    "# # create clean dataframe of glycosylation prediction results\n",
    "# netnglyc = pd.read_csv(data_path + \"Features/NetNglyc_results_Higginbotham2020_filtered.txt\", sep=\"\\t\", header=None) \n",
    "# netnglyc.dropna(axis=1, how=\"all\", inplace=True)\n",
    "# netnglyc.columns = [0, \"Potential\", \"Jury agreement\", \"Result\"]\n",
    "# netnglyc = netnglyc.apply(split_netNglyc, axis=1)\n",
    "# netnglyc\n",
    "\n",
    "# save dataframe\n",
    "# netnglyc.to_csv(data_path + \"Features/NetNglyc_curated_Higginbotham2020.csv\", index=False)"
   ]
  },
  {
   "cell_type": "code",
   "execution_count": 21,
   "id": "bd89ca32",
   "metadata": {},
   "outputs": [],
   "source": [
    "# load dataframe\n",
    "netnglyc = pd.read_csv(data_path + \"Features/NetNglyc_curated_Higginbotham2020.csv\") "
   ]
  },
  {
   "cell_type": "code",
   "execution_count": 22,
   "id": "3c836720",
   "metadata": {},
   "outputs": [
    {
     "data": {
      "text/html": [
       "<div>\n",
       "<style scoped>\n",
       "    .dataframe tbody tr th:only-of-type {\n",
       "        vertical-align: middle;\n",
       "    }\n",
       "\n",
       "    .dataframe tbody tr th {\n",
       "        vertical-align: top;\n",
       "    }\n",
       "\n",
       "    .dataframe thead th {\n",
       "        text-align: right;\n",
       "    }\n",
       "</style>\n",
       "<table border=\"1\" class=\"dataframe\">\n",
       "  <thead>\n",
       "    <tr style=\"text-align: right;\">\n",
       "      <th></th>\n",
       "      <th>Uniprot</th>\n",
       "      <th>Position</th>\n",
       "      <th>Sequence</th>\n",
       "      <th>Potential</th>\n",
       "      <th>Jury agreement</th>\n",
       "      <th>Result</th>\n",
       "    </tr>\n",
       "  </thead>\n",
       "  <tbody>\n",
       "    <tr>\n",
       "      <th>0</th>\n",
       "      <td>P30622</td>\n",
       "      <td>187</td>\n",
       "      <td>NLTK</td>\n",
       "      <td>0.7802</td>\n",
       "      <td>(9/9)</td>\n",
       "      <td>+++</td>\n",
       "    </tr>\n",
       "    <tr>\n",
       "      <th>42</th>\n",
       "      <td>P41222</td>\n",
       "      <td>78</td>\n",
       "      <td>NLTS</td>\n",
       "      <td>0.8212</td>\n",
       "      <td>(9/9)</td>\n",
       "      <td>+++</td>\n",
       "    </tr>\n",
       "    <tr>\n",
       "      <th>47</th>\n",
       "      <td>P49841</td>\n",
       "      <td>287</td>\n",
       "      <td>NYTE</td>\n",
       "      <td>0.7648</td>\n",
       "      <td>(9/9)</td>\n",
       "      <td>+++</td>\n",
       "    </tr>\n",
       "    <tr>\n",
       "      <th>54</th>\n",
       "      <td>P31947</td>\n",
       "      <td>226</td>\n",
       "      <td>NLTL</td>\n",
       "      <td>0.7539</td>\n",
       "      <td>(9/9)</td>\n",
       "      <td>+++</td>\n",
       "    </tr>\n",
       "    <tr>\n",
       "      <th>122</th>\n",
       "      <td>Q14571</td>\n",
       "      <td>461</td>\n",
       "      <td>NGTI</td>\n",
       "      <td>0.7656</td>\n",
       "      <td>(9/9)</td>\n",
       "      <td>+++</td>\n",
       "    </tr>\n",
       "  </tbody>\n",
       "</table>\n",
       "</div>"
      ],
      "text/plain": [
       "    Uniprot  Position Sequence  Potential Jury agreement Result\n",
       "0    P30622       187     NLTK     0.7802          (9/9)    +++\n",
       "42   P41222        78     NLTS     0.8212          (9/9)    +++\n",
       "47   P49841       287     NYTE     0.7648          (9/9)    +++\n",
       "54   P31947       226     NLTL     0.7539          (9/9)    +++\n",
       "122  Q14571       461     NGTI     0.7656          (9/9)    +++"
      ]
     },
     "execution_count": 22,
     "metadata": {},
     "output_type": "execute_result"
    }
   ],
   "source": [
    "# filter for predicted glycosylation sites, \"-\" means predicted negative site\n",
    "netnglyc_pos = netnglyc[netnglyc[\"Result\"].str.contains(\"+++\", regex=False)]\n",
    "netnglyc_pos[:5]"
   ]
  },
  {
   "cell_type": "code",
   "execution_count": 23,
   "id": "fd70f084",
   "metadata": {},
   "outputs": [],
   "source": [
    "glyc_sites = pd.DataFrame(netnglyc_pos[\"Uniprot\"].value_counts(), index=None).reset_index()\n",
    "glyc_sites.columns = [\"Uniprot\", \"Glycosylation\"]"
   ]
  },
  {
   "cell_type": "code",
   "execution_count": 24,
   "id": "fc22658e",
   "metadata": {},
   "outputs": [],
   "source": [
    "# add glycosylation sites as a binary feature\n",
    "df[\"NetNGlyc\"] = np.where(df[\"Uniprot\"].isin(set(glyc_sites[\"Uniprot\"])), 1, 0)"
   ]
  },
  {
   "cell_type": "markdown",
   "id": "ced6f507",
   "metadata": {},
   "source": [
    "### GlycoMine\n",
    "\n",
    "Data source: https://glycomine.erc.monash.edu/Lab/GlycoMine/"
   ]
  },
  {
   "cell_type": "code",
   "execution_count": 25,
   "id": "d2f1b32c",
   "metadata": {},
   "outputs": [],
   "source": [
    "glycomine_n = pd.read_csv(data_path + \"Features/GlycoMine_N_results.txt\", sep=\" \") \n",
    "glycomine_n_pos = glycomine_n[glycomine_n[\"Value\"] > 0.5]\n",
    "\n",
    "glycomine_o = pd.read_csv(data_path + \"Features/GlycoMine_O_results.zip\", sep=\" \") # text file too big for GitHub\n",
    "glycomine_o_pos = glycomine_o[glycomine_o[\"Value\"] > 0.502]\n",
    "\n",
    "glycomine_c = pd.read_csv(data_path + \"Features/GlycoMine_C_results.txt\", sep=\" \") \n",
    "glycomine_c_pos = glycomine_c[glycomine_c[\"Value\"] > 0.555]"
   ]
  },
  {
   "cell_type": "code",
   "execution_count": 26,
   "id": "40ed10cd",
   "metadata": {},
   "outputs": [],
   "source": [
    "df[\"GlycoMine_N\"] = np.where(df[\"Uniprot\"].isin(set(glycomine_n_pos[\"UniProtID\"])), 1, 0)\n",
    "df[\"GlycoMine_O\"] = np.where(df[\"Uniprot\"].isin(set(glycomine_o_pos[\"UniProtID\"])), 1, 0)\n",
    "df[\"GlycoMine_C\"] = np.where(df[\"Uniprot\"].isin(set(glycomine_c_pos[\"UniProtID\"])), 1, 0)"
   ]
  },
  {
   "cell_type": "markdown",
   "id": "73d34158",
   "metadata": {},
   "source": [
    "## Subcellular location prediction (DeepLoc-1.0)"
   ]
  },
  {
   "cell_type": "code",
   "execution_count": 27,
   "id": "6eee9d4f",
   "metadata": {},
   "outputs": [],
   "source": [
    "deeploc = pd.read_csv(data_path + \"Features/DeepLoc_results_Higginbotham2020.txt\", sep=\"\\t\")\n",
    "deeploc.rename(columns={\"ID\":\"Uniprot\"}, inplace=True)\n",
    "\n",
    "# retrieve Uniprot ID\n",
    "deeploc[\"Uniprot\"] = deeploc[\"Uniprot\"].apply(get_uniprot)"
   ]
  },
  {
   "cell_type": "code",
   "execution_count": 28,
   "id": "8823e9a0",
   "metadata": {},
   "outputs": [
    {
     "data": {
      "text/plain": [
       "Cytoplasm                3220\n",
       "Nucleus                  1547\n",
       "Cell_membrane            1308\n",
       "Mitochondrion             935\n",
       "Extracellular             754\n",
       "Endoplasmic_reticulum     502\n",
       "Golgi_apparatus           240\n",
       "Peroxisome                 89\n",
       "Lysosome/Vacuole           70\n",
       "Plastid                    58\n",
       "Name: Location, dtype: int64"
      ]
     },
     "execution_count": 28,
     "metadata": {},
     "output_type": "execute_result"
    }
   ],
   "source": [
    "deeploc[\"Location\"].value_counts(dropna=False)"
   ]
  },
  {
   "cell_type": "code",
   "execution_count": 29,
   "id": "b50f8dd5",
   "metadata": {},
   "outputs": [],
   "source": [
    "# keep same order of features\n",
    "locs = ['Cytoplasm', 'Extracellular', 'Lysosome/Vacuole', 'Nucleus', 'Cell_membrane', 'Endoplasmic_reticulum', \n",
    "        'Mitochondrion', 'Golgi_apparatus', 'Peroxisome', 'Plastid']\n",
    "\n",
    "# add subcellular locations as binary features\n",
    "for i in locs:\n",
    "    deeploc_subset = deeploc[deeploc[\"Location\"] == i]\n",
    "    df[i] = np.where(df[\"Uniprot\"].isin(deeploc_subset[\"Uniprot\"]), 1, 0)"
   ]
  },
  {
   "cell_type": "markdown",
   "id": "787e27ab",
   "metadata": {},
   "source": [
    "## Transmembrane prediction (TMHMM-2.0)\n",
    "https://services.healthtech.dtu.dk/service.php?TMHMM-2.0"
   ]
  },
  {
   "cell_type": "code",
   "execution_count": 30,
   "id": "7ff5b02e",
   "metadata": {},
   "outputs": [],
   "source": [
    "tmhmm = pd.read_csv(data_path + \"Features/TMHMM_results_Higginbotham2020.txt\", header=None, sep=\"\\t\", \n",
    "    names=[\"Uniprot\", \"Length\", \"ExpAA\", \"First60ExpAA\", \"PredHel\", \"Topology\"])"
   ]
  },
  {
   "cell_type": "code",
   "execution_count": 31,
   "id": "b732ffdf",
   "metadata": {},
   "outputs": [],
   "source": [
    "tmhmm[\"Uniprot\"] = tmhmm[\"Uniprot\"].apply(get_uniprot)\n",
    "tmhmm[\"Length\"] = tmhmm[\"Length\"].apply(get_value)\n",
    "tmhmm[\"ExpAA\"] = tmhmm[\"ExpAA\"].apply(get_value)\n",
    "tmhmm[\"First60ExpAA\"] = tmhmm[\"First60ExpAA\"].apply(get_value)\n",
    "tmhmm[\"PredHel\"] = tmhmm[\"PredHel\"].apply(get_value)"
   ]
  },
  {
   "cell_type": "code",
   "execution_count": 32,
   "id": "b1cb94cf",
   "metadata": {},
   "outputs": [],
   "source": [
    "df = df.merge(tmhmm[[\"Uniprot\", \"ExpAA\", \"First60ExpAA\", \"PredHel\"]], on=\"Uniprot\", how=\"left\")\n",
    "df.fillna(0, inplace=True)\n",
    "df[\"PredHel_binary\"] = np.where(df[\"PredHel\"] == 0, 0, 1)"
   ]
  },
  {
   "cell_type": "markdown",
   "id": "ae7fa65d",
   "metadata": {},
   "source": [
    "## GPI-Anchor prediction (NetGPI-1.1)"
   ]
  },
  {
   "cell_type": "code",
   "execution_count": 33,
   "id": "f30f7bfc",
   "metadata": {},
   "outputs": [],
   "source": [
    "# NetGPI results had to be split up as webserver only allows 5000 sequences at once\n",
    "netgpi_A = pd.read_csv(data_path + \"Features/NetGPI_results_Higginbotham2020_A.txt\", sep=\"\\t\", header=1,\n",
    "    names=[\"Uniprot\", \"Length\", \"Result\", \"Omega-site\", \"Likelihood\", \"Amino acid\"]) \n",
    "netgpi_B = pd.read_csv(data_path + \"Features/NetGPI_results_Higginbotham2020_B.txt\", sep=\"\\t\", header=1,\n",
    "    names=[\"Uniprot\", \"Length\", \"Result\", \"Omega-site\", \"Likelihood\", \"Amino acid\"]) "
   ]
  },
  {
   "cell_type": "code",
   "execution_count": 34,
   "id": "ee22c64f",
   "metadata": {},
   "outputs": [],
   "source": [
    "# combine results into one dataframe\n",
    "netgpi = pd.concat([netgpi_A, netgpi_B], axis=0)\n",
    "netgpi[\"Uniprot\"] = netgpi[\"Uniprot\"].apply(get_uniprot)\n",
    "\n",
    "# keep only proteins predicted to have GPI anchor\n",
    "netgpi_pos = netgpi[netgpi[\"Result\"] == \"GPI-Anchored\"]"
   ]
  },
  {
   "cell_type": "code",
   "execution_count": 35,
   "id": "f11affcc",
   "metadata": {},
   "outputs": [],
   "source": [
    "df[\"GPI-anchor\"] = np.where(df[\"Uniprot\"].isin(netgpi_pos[\"Uniprot\"]), 1, 0)"
   ]
  },
  {
   "cell_type": "markdown",
   "id": "7ca27e14",
   "metadata": {},
   "source": [
    "##  Domains"
   ]
  },
  {
   "cell_type": "code",
   "execution_count": 36,
   "id": "97c9026c",
   "metadata": {},
   "outputs": [],
   "source": [
    "def read_uniprot_list(file):\n",
    "    file = open(data_path + \"Features/\" + file, \"r\")\n",
    "    lines = file.readlines()\n",
    "    uniprots = []\n",
    "    \n",
    "    for line in lines:\n",
    "        line_strip = line.strip()\n",
    "        uniprots.append(line_strip)\n",
    "        \n",
    "    return uniprots  "
   ]
  },
  {
   "cell_type": "markdown",
   "id": "135a7367",
   "metadata": {},
   "source": [
    "### EGF1 (PS00022)"
   ]
  },
  {
   "cell_type": "code",
   "execution_count": 37,
   "id": "cacc5ef9",
   "metadata": {},
   "outputs": [
    {
     "data": {
      "text/plain": [
       "0    8476\n",
       "1     124\n",
       "Name: PS00022, dtype: int64"
      ]
     },
     "execution_count": 37,
     "metadata": {},
     "output_type": "execute_result"
    }
   ],
   "source": [
    "PS00022 = read_uniprot_list(\"PS00022_Higginbotham2020.txt\")\n",
    "df[\"PS00022\"] = np.where(df[\"Uniprot\"].isin(PS00022), 1, 0)\n",
    "df[\"PS00022\"].value_counts()"
   ]
  },
  {
   "cell_type": "markdown",
   "id": "8470c088",
   "metadata": {},
   "source": [
    "### EGF2 (PS01186)"
   ]
  },
  {
   "cell_type": "code",
   "execution_count": 38,
   "id": "0ca4c4f5",
   "metadata": {},
   "outputs": [
    {
     "data": {
      "text/plain": [
       "0    8440\n",
       "1     160\n",
       "Name: PS01186, dtype: int64"
      ]
     },
     "execution_count": 38,
     "metadata": {},
     "output_type": "execute_result"
    }
   ],
   "source": [
    "PS01186 = read_uniprot_list(\"PS01186_Higginbotham2020.txt\")\n",
    "df[\"PS01186\"] = np.where(df[\"Uniprot\"].isin(PS01186), 1, 0)\n",
    "df[\"PS01186\"].value_counts()"
   ]
  },
  {
   "cell_type": "markdown",
   "id": "f96e83b4",
   "metadata": {},
   "source": [
    "### Cadherin-1 (PS00232)"
   ]
  },
  {
   "cell_type": "code",
   "execution_count": 39,
   "id": "6a320652",
   "metadata": {},
   "outputs": [
    {
     "data": {
      "text/plain": [
       "0    8536\n",
       "1      64\n",
       "Name: PS00232, dtype: int64"
      ]
     },
     "execution_count": 39,
     "metadata": {},
     "output_type": "execute_result"
    }
   ],
   "source": [
    "PS00232 = read_uniprot_list(\"PS00232_Higginbotham2020.txt\")\n",
    "df[\"PS00232\"] = np.where(df[\"Uniprot\"].isin(PS00232), 1, 0)\n",
    "df[\"PS00232\"].value_counts()"
   ]
  },
  {
   "cell_type": "markdown",
   "id": "d6d96a9c",
   "metadata": {},
   "source": [
    "### G-protein receptor F1 (PS00237)"
   ]
  },
  {
   "cell_type": "code",
   "execution_count": 40,
   "id": "eb422335",
   "metadata": {},
   "outputs": [
    {
     "data": {
      "text/plain": [
       "0    8577\n",
       "1      23\n",
       "Name: PS00237, dtype: int64"
      ]
     },
     "execution_count": 40,
     "metadata": {},
     "output_type": "execute_result"
    }
   ],
   "source": [
    "PS00237 = read_uniprot_list(\"PS00237_Higginbotham2020.txt\")\n",
    "df[\"PS00237\"] = np.where(df[\"Uniprot\"].isin(PS00237), 1, 0)\n",
    "df[\"PS00237\"].value_counts()"
   ]
  },
  {
   "cell_type": "markdown",
   "id": "c13bbf71",
   "metadata": {},
   "source": [
    "### Zinc Finger C2H2 (PS00028)"
   ]
  },
  {
   "cell_type": "code",
   "execution_count": 41,
   "id": "449ff405",
   "metadata": {},
   "outputs": [
    {
     "data": {
      "text/plain": [
       "0    8555\n",
       "1      45\n",
       "Name: PS00028, dtype: int64"
      ]
     },
     "execution_count": 41,
     "metadata": {},
     "output_type": "execute_result"
    }
   ],
   "source": [
    "PS00028 = read_uniprot_list(\"PS00028_Higginbotham2020.txt\")\n",
    "df[\"PS00028\"] = np.where(df[\"Uniprot\"].isin(PS00028), 1, 0)\n",
    "df[\"PS00028\"].value_counts()"
   ]
  },
  {
   "cell_type": "markdown",
   "id": "772f72d0",
   "metadata": {},
   "source": [
    "### Homeobox (PS00027)"
   ]
  },
  {
   "cell_type": "code",
   "execution_count": 42,
   "id": "4b247d8e",
   "metadata": {},
   "outputs": [
    {
     "data": {
      "text/plain": [
       "0    8598\n",
       "1       2\n",
       "Name: PS00027, dtype: int64"
      ]
     },
     "execution_count": 42,
     "metadata": {},
     "output_type": "execute_result"
    }
   ],
   "source": [
    "PS00027 = read_uniprot_list(\"PS00027_Higginbotham2020.txt\")\n",
    "df[\"PS00027\"] = np.where(df[\"Uniprot\"].isin(PS00027), 1, 0)\n",
    "df[\"PS00027\"].value_counts()"
   ]
  },
  {
   "cell_type": "markdown",
   "id": "16661b46",
   "metadata": {},
   "source": [
    "## CSF presence (Label)"
   ]
  },
  {
   "cell_type": "code",
   "execution_count": 43,
   "id": "dc76a78e",
   "metadata": {},
   "outputs": [
    {
     "data": {
      "text/html": [
       "<div>\n",
       "<style scoped>\n",
       "    .dataframe tbody tr th:only-of-type {\n",
       "        vertical-align: middle;\n",
       "    }\n",
       "\n",
       "    .dataframe tbody tr th {\n",
       "        vertical-align: top;\n",
       "    }\n",
       "\n",
       "    .dataframe thead th {\n",
       "        text-align: right;\n",
       "    }\n",
       "</style>\n",
       "<table border=\"1\" class=\"dataframe\">\n",
       "  <thead>\n",
       "    <tr style=\"text-align: right;\">\n",
       "      <th></th>\n",
       "      <th>Uniprot</th>\n",
       "      <th>Sequence</th>\n",
       "      <th>Length</th>\n",
       "      <th>Molecular weight</th>\n",
       "      <th>A</th>\n",
       "      <th>C</th>\n",
       "      <th>D</th>\n",
       "      <th>E</th>\n",
       "      <th>F</th>\n",
       "      <th>G</th>\n",
       "      <th>...</th>\n",
       "      <th>PredHel</th>\n",
       "      <th>PredHel_binary</th>\n",
       "      <th>GPI-anchor</th>\n",
       "      <th>PS00022</th>\n",
       "      <th>PS01186</th>\n",
       "      <th>PS00232</th>\n",
       "      <th>PS00237</th>\n",
       "      <th>PS00028</th>\n",
       "      <th>PS00027</th>\n",
       "      <th>CSF</th>\n",
       "    </tr>\n",
       "  </thead>\n",
       "  <tbody>\n",
       "    <tr>\n",
       "      <th>0</th>\n",
       "      <td>Q9H4F8</td>\n",
       "      <td>MLPARCARLLTPHLLLVLVQLSPARGHRTTGPRFLISDRDPQCNLH...</td>\n",
       "      <td>434</td>\n",
       "      <td>48162.2393</td>\n",
       "      <td>0.052995</td>\n",
       "      <td>0.052995</td>\n",
       "      <td>0.062212</td>\n",
       "      <td>0.059908</td>\n",
       "      <td>0.023041</td>\n",
       "      <td>0.069124</td>\n",
       "      <td>...</td>\n",
       "      <td>0.0</td>\n",
       "      <td>0</td>\n",
       "      <td>0</td>\n",
       "      <td>0</td>\n",
       "      <td>0</td>\n",
       "      <td>0</td>\n",
       "      <td>0</td>\n",
       "      <td>0</td>\n",
       "      <td>0</td>\n",
       "      <td>1</td>\n",
       "    </tr>\n",
       "    <tr>\n",
       "      <th>1</th>\n",
       "      <td>P05067</td>\n",
       "      <td>MLPGLALLLLAAWTARALEVPTDGNAGLLAEPQIAMFCGRLNMHMN...</td>\n",
       "      <td>770</td>\n",
       "      <td>86942.3145</td>\n",
       "      <td>0.081818</td>\n",
       "      <td>0.023377</td>\n",
       "      <td>0.064935</td>\n",
       "      <td>0.119481</td>\n",
       "      <td>0.027273</td>\n",
       "      <td>0.049351</td>\n",
       "      <td>...</td>\n",
       "      <td>1.0</td>\n",
       "      <td>1</td>\n",
       "      <td>0</td>\n",
       "      <td>0</td>\n",
       "      <td>0</td>\n",
       "      <td>0</td>\n",
       "      <td>0</td>\n",
       "      <td>0</td>\n",
       "      <td>0</td>\n",
       "      <td>1</td>\n",
       "    </tr>\n",
       "    <tr>\n",
       "      <th>2</th>\n",
       "      <td>E9PLM6</td>\n",
       "      <td>MQHRGFLLLTLLALLALTSAVAKKKDKVKKGGPGSECAEWAWGPCT...</td>\n",
       "      <td>156</td>\n",
       "      <td>16925.5759</td>\n",
       "      <td>0.096154</td>\n",
       "      <td>0.064103</td>\n",
       "      <td>0.025641</td>\n",
       "      <td>0.044872</td>\n",
       "      <td>0.025641</td>\n",
       "      <td>0.121795</td>\n",
       "      <td>...</td>\n",
       "      <td>1.0</td>\n",
       "      <td>1</td>\n",
       "      <td>0</td>\n",
       "      <td>0</td>\n",
       "      <td>0</td>\n",
       "      <td>0</td>\n",
       "      <td>0</td>\n",
       "      <td>0</td>\n",
       "      <td>0</td>\n",
       "      <td>-1</td>\n",
       "    </tr>\n",
       "    <tr>\n",
       "      <th>3</th>\n",
       "      <td>P05362</td>\n",
       "      <td>MAPSSPRPALPALLVLLGALFPGPGNAQTSVSPSKVILPRGGSVLV...</td>\n",
       "      <td>532</td>\n",
       "      <td>57824.5452</td>\n",
       "      <td>0.067669</td>\n",
       "      <td>0.026316</td>\n",
       "      <td>0.028195</td>\n",
       "      <td>0.063910</td>\n",
       "      <td>0.018797</td>\n",
       "      <td>0.067669</td>\n",
       "      <td>...</td>\n",
       "      <td>1.0</td>\n",
       "      <td>1</td>\n",
       "      <td>0</td>\n",
       "      <td>0</td>\n",
       "      <td>0</td>\n",
       "      <td>0</td>\n",
       "      <td>0</td>\n",
       "      <td>0</td>\n",
       "      <td>0</td>\n",
       "      <td>1</td>\n",
       "    </tr>\n",
       "    <tr>\n",
       "      <th>4</th>\n",
       "      <td>Q13501</td>\n",
       "      <td>MASLTVKAYLLGKEDAAREIRRFSFCCSPEPEAEAEAAAGPGPCER...</td>\n",
       "      <td>440</td>\n",
       "      <td>47686.6691</td>\n",
       "      <td>0.075000</td>\n",
       "      <td>0.031818</td>\n",
       "      <td>0.056818</td>\n",
       "      <td>0.093182</td>\n",
       "      <td>0.027273</td>\n",
       "      <td>0.090909</td>\n",
       "      <td>...</td>\n",
       "      <td>0.0</td>\n",
       "      <td>0</td>\n",
       "      <td>0</td>\n",
       "      <td>0</td>\n",
       "      <td>0</td>\n",
       "      <td>0</td>\n",
       "      <td>0</td>\n",
       "      <td>0</td>\n",
       "      <td>0</td>\n",
       "      <td>1</td>\n",
       "    </tr>\n",
       "  </tbody>\n",
       "</table>\n",
       "<p>5 rows × 58 columns</p>\n",
       "</div>"
      ],
      "text/plain": [
       "  Uniprot                                           Sequence  Length  \\\n",
       "0  Q9H4F8  MLPARCARLLTPHLLLVLVQLSPARGHRTTGPRFLISDRDPQCNLH...     434   \n",
       "1  P05067  MLPGLALLLLAAWTARALEVPTDGNAGLLAEPQIAMFCGRLNMHMN...     770   \n",
       "2  E9PLM6  MQHRGFLLLTLLALLALTSAVAKKKDKVKKGGPGSECAEWAWGPCT...     156   \n",
       "3  P05362  MAPSSPRPALPALLVLLGALFPGPGNAQTSVSPSKVILPRGGSVLV...     532   \n",
       "4  Q13501  MASLTVKAYLLGKEDAAREIRRFSFCCSPEPEAEAEAAAGPGPCER...     440   \n",
       "\n",
       "   Molecular weight         A         C         D         E         F  \\\n",
       "0        48162.2393  0.052995  0.052995  0.062212  0.059908  0.023041   \n",
       "1        86942.3145  0.081818  0.023377  0.064935  0.119481  0.027273   \n",
       "2        16925.5759  0.096154  0.064103  0.025641  0.044872  0.025641   \n",
       "3        57824.5452  0.067669  0.026316  0.028195  0.063910  0.018797   \n",
       "4        47686.6691  0.075000  0.031818  0.056818  0.093182  0.027273   \n",
       "\n",
       "          G  ...  PredHel  PredHel_binary  GPI-anchor  PS00022  PS01186  \\\n",
       "0  0.069124  ...      0.0               0           0        0        0   \n",
       "1  0.049351  ...      1.0               1           0        0        0   \n",
       "2  0.121795  ...      1.0               1           0        0        0   \n",
       "3  0.067669  ...      1.0               1           0        0        0   \n",
       "4  0.090909  ...      0.0               0           0        0        0   \n",
       "\n",
       "   PS00232  PS00237  PS00028  PS00027  CSF  \n",
       "0        0        0        0        0    1  \n",
       "1        0        0        0        0    1  \n",
       "2        0        0        0        0   -1  \n",
       "3        0        0        0        0    1  \n",
       "4        0        0        0        0    1  \n",
       "\n",
       "[5 rows x 58 columns]"
      ]
     },
     "execution_count": 43,
     "metadata": {},
     "output_type": "execute_result"
    }
   ],
   "source": [
    "df[\"CSF\"] = np.where(df[\"Uniprot\"].isin(csf[\"Uniprot\"]), 1, -1)\n",
    "df[:5]"
   ]
  },
  {
   "cell_type": "markdown",
   "id": "14d8972d",
   "metadata": {},
   "source": [
    "# Save feature dataframes"
   ]
  },
  {
   "cell_type": "code",
   "execution_count": 44,
   "id": "a787cf70",
   "metadata": {},
   "outputs": [
    {
     "name": "stdout",
     "output_type": "stream",
     "text": [
      "Number of proteins: 8600\n"
     ]
    }
   ],
   "source": [
    "# save entire feature data set\n",
    "df.to_csv(data_path + \"Features/df_features_Higginbotham2020.csv\", index=False)\n",
    "print(\"Number of proteins:\", len(df))"
   ]
  }
 ],
 "metadata": {
  "kernelspec": {
   "display_name": "Python 3",
   "language": "python",
   "name": "python3"
  },
  "language_info": {
   "codemirror_mode": {
    "name": "ipython",
    "version": 3
   },
   "file_extension": ".py",
   "mimetype": "text/x-python",
   "name": "python",
   "nbconvert_exporter": "python",
   "pygments_lexer": "ipython3",
   "version": "3.8.5"
  }
 },
 "nbformat": 4,
 "nbformat_minor": 5
}
