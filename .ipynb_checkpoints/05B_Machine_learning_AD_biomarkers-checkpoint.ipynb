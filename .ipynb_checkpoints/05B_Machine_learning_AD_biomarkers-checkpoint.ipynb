{
 "cells": [
  {
   "cell_type": "markdown",
   "id": "b1d8820a",
   "metadata": {},
   "source": [
    "# Import libraries and data"
   ]
  },
  {
   "cell_type": "code",
   "execution_count": 1,
   "id": "3ab80beb",
   "metadata": {},
   "outputs": [],
   "source": [
    "# import libraries \n",
    "import matplotlib.pyplot as plt\n",
    "import numpy as np\n",
    "import os\n",
    "import pandas as pd\n",
    "import pickle\n",
    "import seaborn as sns\n",
    "\n",
    "from imblearn.under_sampling import RandomUnderSampler\n",
    "from sklearn.linear_model import LogisticRegressionCV\n",
    "from sklearn.metrics import roc_auc_score\n",
    "from sklearn.preprocessing import RobustScaler\n",
    "\n",
    "from utils import cont_variables, increase_stringency_CSF, preprocess"
   ]
  },
  {
   "cell_type": "code",
   "execution_count": 2,
   "id": "d5748095",
   "metadata": {},
   "outputs": [],
   "source": [
    "data_path = os.getcwd() + \"/Datasets/\"\n",
    "fig_path = os.getcwd() + \"/Figures/\""
   ]
  },
  {
   "cell_type": "markdown",
   "id": "f995d2cd",
   "metadata": {},
   "source": [
    "## Feature data set (brain elevated)"
   ]
  },
  {
   "cell_type": "code",
   "execution_count": 3,
   "id": "4f428264",
   "metadata": {},
   "outputs": [],
   "source": [
    "df_features = pd.read_csv(data_path + \"/Features/df_features_brain_elevated_MS_filtered.csv\")\n",
    "# drop non-sequence-based features\n",
    "df_features.drop([\"RNA_binding\", \"DNA_binding\", \"Ectodomain_shedding\", \"EV\"], axis=1, inplace=True)"
   ]
  },
  {
   "cell_type": "markdown",
   "id": "b67a964b",
   "metadata": {},
   "source": [
    "## Human Proteome"
   ]
  },
  {
   "cell_type": "code",
   "execution_count": 4,
   "id": "9f38b71e",
   "metadata": {},
   "outputs": [],
   "source": [
    "df_human_proteome = pd.read_csv(data_path + \"/Features/df_features.csv\")\n",
    "# drop non-sequence-based features\n",
    "df_human_proteome.drop([\"RNA_binding\", \"DNA_binding\", \"Ectodomain_shedding\", \"EV\"], axis=1, inplace=True)"
   ]
  },
  {
   "cell_type": "markdown",
   "id": "a10e551d",
   "metadata": {},
   "source": [
    "## CSF data set"
   ]
  },
  {
   "cell_type": "code",
   "execution_count": 5,
   "id": "18797735",
   "metadata": {},
   "outputs": [],
   "source": [
    "csf = pd.read_csv(data_path + \"CSF/csf.csv\")"
   ]
  },
  {
   "cell_type": "markdown",
   "id": "81078cab",
   "metadata": {},
   "source": [
    "# Remove AD biomarkers\n",
    "\n",
    "References for AD biomarker list:\n",
    "- Molinuevo JL, Ayton S, Batrla R, Bednar MM, Bittner T, Cummings J, et al. Current state of Alzheimer’s fluid biomarkers. Acta Neuropathol. 2018 Dec;136(6):821–53. https://doi.org/10.1007/s00401-018-1932-x\n",
    "- Zetterberg H, Bendlin BB. Biomarkers for Alzheimer’s disease—preparing for a new era of disease-modifying therapies. Mol Psychiatry. 2021 Jan;26(1):296–308. https://doi.org/10.1038/s41380-020-0721-9\n",
    "- Leuzy A, Cullen NC, Mattsson-Carlgren N, Hansson O. Current advances in plasma and cerebrospinal fluid biomarkers in Alzheimer’s disease. Current Opinion in Neurology. 2021 Apr;34(2):266–74. https://doi.org/10.1097/WCO.0000000000000904"
   ]
  },
  {
   "cell_type": "code",
   "execution_count": 6,
   "id": "b5e0b29f",
   "metadata": {},
   "outputs": [
    {
     "name": "stdout",
     "output_type": "stream",
     "text": [
      "Number of AD biomarker proteins: 17\n",
      "Number of AD biomarker proteins to exclude from feature data set: 13\n"
     ]
    }
   ],
   "source": [
    "# create dictionary of known AD biomarkers\n",
    "biomarker_dict = {\"P05067\": \"APP\", \n",
    "                  \"P10636\": \"MAPT\", \n",
    "                  \"P07196\": \"NfL\",\n",
    "                  \"P62760\": \"VLP-1\", \n",
    "                  \"P05413\": \"HFABP\",\n",
    "                  \"P36222\": \"YKL-40\", \n",
    "                  \"P14136\": \"GFAP\", \n",
    "                  \"Q92686\": \"Neurogranin\", \n",
    "                  \"P21579\": \"Synaptotagmin\",\n",
    "                  \"P60880\": \"SNAP25\",\n",
    "                  \"P17677\": \"Neuromodulin/GAP43\",\n",
    "                  \"P47972\": \"NPTX2\",\n",
    "                  \"P56817\": \"BACE1\", \n",
    "                  \"P02778\": \"IP-10\",                   \n",
    "                  \"Q9NZC2\": \"TREM2\",\n",
    "                  \"Q7L0J3\": \"SV2A\", \n",
    "                  \"P30536\": \"TSPO\"\n",
    "                  }\n",
    "\n",
    "print(\"Number of AD biomarker proteins:\", len(biomarker_dict))\n",
    "print(\"Number of AD biomarker proteins to exclude from feature data set:\", \n",
    "    len(df_features[df_features[\"Uniprot\"].isin(biomarker_dict.keys())]))"
   ]
  },
  {
   "cell_type": "code",
   "execution_count": 7,
   "id": "7c1a1c43",
   "metadata": {},
   "outputs": [
    {
     "name": "stdout",
     "output_type": "stream",
     "text": [
      "Number of CSF proteins to be removed: 367\n",
      "Number of CSF proteins left: 525\n",
      "Number of proteins in filtered feature data set: 1700\n",
      "\tCSF proteins: 513\n",
      "\tnon-CSF proteins: 1187\n"
     ]
    }
   ],
   "source": [
    "df_features = increase_stringency_CSF(df_features, csf, 3)\n",
    "\n",
    "df_features_no_AD_biomarker = df_features[~df_features[\"Uniprot\"].isin(biomarker_dict.keys())]\n",
    "print(\"Number of proteins in filtered feature data set:\", len(df_features_no_AD_biomarker))\n",
    "print(\"\\tCSF proteins:\", df_features_no_AD_biomarker[\"CSF\"].value_counts()[1])\n",
    "print(\"\\tnon-CSF proteins:\", df_features_no_AD_biomarker[\"CSF\"].value_counts()[-1])"
   ]
  },
  {
   "cell_type": "markdown",
   "id": "5b7f9b58",
   "metadata": {},
   "source": [
    "# Machine Learning"
   ]
  },
  {
   "cell_type": "markdown",
   "id": "da72b541",
   "metadata": {},
   "source": [
    "## Data set preprocessing"
   ]
  },
  {
   "cell_type": "code",
   "execution_count": 8,
   "id": "dc36534d",
   "metadata": {},
   "outputs": [
    {
     "name": "stdout",
     "output_type": "stream",
     "text": [
      "Number of features: 52\n"
     ]
    }
   ],
   "source": [
    "# define variables and target\n",
    "X = df_features_no_AD_biomarker.drop([\"Uniprot\", \"Sequence\", \"CSF\"], axis=1)\n",
    "y = df_features_no_AD_biomarker[\"CSF\"]\n",
    "\n",
    "print(\"Number of features:\", len(X.columns))"
   ]
  },
  {
   "cell_type": "code",
   "execution_count": 9,
   "id": "3c25e67c",
   "metadata": {},
   "outputs": [],
   "source": [
    "# scale continuous variables\n",
    "scaler = RobustScaler()\n",
    "X_scal = X.copy()\n",
    "X_scal[cont_variables] = scaler.fit_transform(X_scal[cont_variables])\n",
    "\n",
    "# balance classes by undersampling\n",
    "X_bal, y_bal = RandomUnderSampler(random_state=0).fit_resample(X_scal, y)"
   ]
  },
  {
   "cell_type": "markdown",
   "id": "42b67c9b",
   "metadata": {},
   "source": [
    "## Model training"
   ]
  },
  {
   "cell_type": "code",
   "execution_count": 10,
   "id": "c9b8ff9e",
   "metadata": {},
   "outputs": [
    {
     "name": "stdout",
     "output_type": "stream",
     "text": [
      "ROC-AUC of test set: 0.8925\n"
     ]
    }
   ],
   "source": [
    "# use same parameters as trained model \n",
    "clf_AD = LogisticRegressionCV(penalty=\"l1\", solver=\"liblinear\", Cs=[0.5], scoring=\"roc_auc\", max_iter=1000, \n",
    "    random_state=0).fit(X_bal, y_bal)\n",
    "\n",
    "print(\"ROC-AUC of test set: %.4f\" %(np.mean(clf_AD.scores_[1], axis=0)[0]))"
   ]
  },
  {
   "cell_type": "code",
   "execution_count": 11,
   "id": "2463bea9",
   "metadata": {},
   "outputs": [
    {
     "name": "stdout",
     "output_type": "stream",
     "text": [
      "Number of included model features: 38\n",
      "--------------------------\n",
      "Most important features and their coefficients\n",
      "Nucleus                 -2.492172\n",
      "Golgi_apparatus          1.970868\n",
      "Signal peptide           1.785206\n",
      "PredHel_binary           0.705768\n",
      "Extracellular            0.697302\n",
      "Cytoplasm               -0.673134\n",
      "PS00022                  0.594336\n",
      "G                        0.526328\n",
      "L                       -0.488412\n",
      "Helix_NSP               -0.461822\n",
      "Peroxisome              -0.407287\n",
      "R                       -0.407057\n",
      "I                       -0.405604\n",
      "Isoelectric point       -0.360705\n",
      "Sheet_NSP                0.347934\n",
      "K                        0.343631\n",
      "H                       -0.335206\n",
      "S                       -0.323513\n",
      "W                       -0.315884\n",
      "Endoplasmic_reticulum    0.292396\n",
      "dtype: float64\n"
     ]
    }
   ],
   "source": [
    "coef_dict_HC = {}\n",
    "\n",
    "for i, col in enumerate(X.columns):\n",
    "    coef_dict_HC[col] = clf_AD.coef_[0][i]\n",
    "    \n",
    "coef_series_HC = pd.Series(coef_dict_HC).sort_values()\n",
    "print(\"Number of included model features:\", len(coef_series_HC[coef_series_HC != 0]))\n",
    "print(\"--------------------------\")\n",
    "coef_series_HC.sort_values(ascending=False, key=abs, inplace=True)\n",
    "print(\"Most important features and their coefficients\")\n",
    "print(coef_series_HC[:20])"
   ]
  },
  {
   "cell_type": "markdown",
   "id": "24ad658b",
   "metadata": {},
   "source": [
    "## Prediction on AD biomarkers"
   ]
  },
  {
   "cell_type": "code",
   "execution_count": 12,
   "id": "6f6da1de",
   "metadata": {},
   "outputs": [
    {
     "name": "stdout",
     "output_type": "stream",
     "text": [
      "RobustScaler()\n"
     ]
    }
   ],
   "source": [
    "df_pred = df_human_proteome.copy()\n",
    "\n",
    "# define variables and target\n",
    "X = df_pred.drop([\"Uniprot\", \"Sequence\", \"CSF\"], axis=1)\n",
    "\n",
    "# preprocess data with same scaler as training data\n",
    "X_scal = X.copy()\n",
    "print(scaler)\n",
    "X_scal[cont_variables] = scaler.transform(X_scal[cont_variables])"
   ]
  },
  {
   "cell_type": "code",
   "execution_count": 13,
   "id": "18f41acc",
   "metadata": {},
   "outputs": [],
   "source": [
    "# predict on full human proteome\n",
    "proba = clf_AD.predict_proba(X_scal)\n",
    "\n",
    "# add probabilities to dataframe\n",
    "proba_df = pd.DataFrame(proba, columns=[\"non_CSF\", \"CSF\"])\n",
    "df_pred[\"Score\"] = proba_df[\"CSF\"]\n",
    "\n",
    "# subset AD biomarkers\n",
    "biomarkers_pred = df_pred[df_pred[\"Uniprot\"].isin(biomarker_dict.keys())]\n",
    "biomarkers_pred = biomarkers_pred.sort_values(by=\"Score\", ascending=False)"
   ]
  },
  {
   "cell_type": "code",
   "execution_count": 14,
   "id": "4dfa0dea",
   "metadata": {},
   "outputs": [
    {
     "name": "stdout",
     "output_type": "stream",
     "text": [
      "Neuromodulin/GAP43 0.9913\n",
      "Neurogranin 0.9758\n",
      "NPTX2 0.9617\n",
      "APP 0.9561\n",
      "BACE1 0.9518\n",
      "Synaptotagmin 0.9360\n",
      "HFABP 0.9324\n",
      "MAPT 0.8920\n",
      "YKL-40 0.8886\n",
      "IP-10 0.8551\n",
      "TREM2 0.8250\n",
      "SNAP25 0.5399\n",
      "VLP-1 0.4352\n",
      "NfL 0.3796\n",
      "SV2A 0.2978\n",
      "GFAP 0.1390\n",
      "TSPO 0.0935\n"
     ]
    }
   ],
   "source": [
    "for biomarker in biomarkers_pred[\"Uniprot\"]:\n",
    "    print(biomarker_dict[biomarker], \"%.04f\" \\\n",
    "    % df_pred[df_pred[\"Uniprot\"] == biomarker][\"Score\"].values[0])"
   ]
  },
  {
   "cell_type": "code",
   "execution_count": 15,
   "id": "5c77691b",
   "metadata": {},
   "outputs": [],
   "source": [
    "# create dictionary of biomarker function\n",
    "function_dict = {\"P05067\": \"A\\u03B2 pathology\", # APP\n",
    "              \"P10636\": \"Tau pathology\", # MAPT\n",
    "              \"P07196\": \"Neuronal injury\", # NfL\n",
    "              \"P62760\": \"Neuronal injury\", # VLP-1\n",
    "              \"P05413\": \"Vascular dysregulation\", # HFABP\n",
    "              \"P36222\": \"Inflammation\", # YKL-40\n",
    "              \"P14136\": \"Neuronal injury\", #GFAP\n",
    "              \"Q92686\": \"Synaptic dysfunction\", # Neurogranin\n",
    "              \"P21579\": \"Synaptic dysfunction\", # Synaptotagmin\n",
    "              \"P60880\": \"Synaptic dysfunction\", # SNAP25\n",
    "              \"P17677\": \"Synaptic dysfunction\", # Neuromodulin\n",
    "              \"P47972\": \"Synaptic dysfunction\", # NPTX2\n",
    "              \"P56817\": \"A\\u03B2 pathology\", # BACE1\n",
    "              \"P02778\": \"Inflammation\", # IP-10                 \n",
    "              \"Q9NZC2\": \"Inflammation\", # TREM2\n",
    "              \"Q7L0J3\": \"PET biomarker\", # SV2A\n",
    "              \"P30536\": \"PET biomarker\" # TSPO\n",
    "              }\n",
    "   \n",
    "function_df = pd.DataFrame.from_dict(function_dict, orient=\"index\").reset_index() \n",
    "function_df.columns = [\"Uniprot\", \"Biomarker_category\"]\n",
    "\n",
    "# merge biomarker dataframe with function column\n",
    "biomarkers_pred = biomarkers_pred.merge(function_df, on=\"Uniprot\", how=\"inner\")"
   ]
  },
  {
   "cell_type": "code",
   "execution_count": 16,
   "id": "777c2ca5",
   "metadata": {},
   "outputs": [],
   "source": [
    "# manually determine legend labels by sorting dataframe based on functioncategory\n",
    "custom_dict = {\"A\\u03B2 pathology\": 0, \"Tau pathology\": 1, \"Synaptic dysfunction\": 2, \"Inflammation\": 3,\n",
    "               \"Vascular dysregulation\": 4, \"Neuronal injury\": 5, \"PET biomarker\":6}\n",
    "\n",
    "biomarkers_pred.sort_values(by=[\"Biomarker_category\"], key=lambda x: x.map(custom_dict), inplace=True)"
   ]
  },
  {
   "cell_type": "code",
   "execution_count": 17,
   "id": "c380f5c2",
   "metadata": {},
   "outputs": [
    {
     "data": {
      "image/png": "[encoded data removed]",
      "text/plain": [
       "<Figure size 500x500 with 1 Axes>"
      ]
     },
     "metadata": {},
     "output_type": "display_data"
    }
   ],
   "source": [
    "sns.set(style=(\"ticks\"), font_scale=1)\n",
    "fig, ax = plt.subplots(1, 1, figsize=(5,5))\n",
    "\n",
    "sns.swarmplot(data=biomarkers_pred, x=[0]*len(biomarkers_pred), y=\"Score\", hue=\"Biomarker_category\",\n",
    "             palette=sns.color_palette(\"Set2\", 6) + [\"grey\"])\n",
    "ax.set(title=\"Predicted probability of known and potential AD CSF biomarkers\", ylabel=\"Predicted probability\", xticks=[],\n",
    "      xticklabels=[])\n",
    "ax.axhline(0.5, color=\"black\", linestyle=\"--\")\n",
    "ax.axhline(0.9, color=\"skyblue\", linestyle=\"--\")\n",
    "ax.legend(bbox_to_anchor=(1,1)) \n",
    "\n",
    "plt.show()\n",
    "fig.savefig(fig_path + \"Probability_AD_CSF_biomarkers.png\", bbox_inches=\"tight\", dpi=300, transparent=True)"
   ]
  }
 ],
 "metadata": {
  "kernelspec": {
   "display_name": "Python 3",
   "language": "python",
   "name": "python3"
  },
  "language_info": {
   "codemirror_mode": {
    "name": "ipython",
    "version": 3
   },
   "file_extension": ".py",
   "mimetype": "text/x-python",
   "name": "python",
   "nbconvert_exporter": "python",
   "pygments_lexer": "ipython3",
   "version": "3.8.5"
  }
 },
 "nbformat": 4,
 "nbformat_minor": 5
}
