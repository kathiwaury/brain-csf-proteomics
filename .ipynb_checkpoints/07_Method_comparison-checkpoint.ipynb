{
 "cells": [
  {
   "cell_type": "markdown",
   "id": "b1d8820a",
   "metadata": {},
   "source": [
    "# Import libraries and data"
   ]
  },
  {
   "cell_type": "code",
   "execution_count": 1,
   "id": "3ab80beb",
   "metadata": {},
   "outputs": [],
   "source": [
    "# import libraries \n",
    "import matplotlib.pyplot as plt\n",
    "import numpy as np\n",
    "import os\n",
    "import pandas as pd\n",
    "import pickle\n",
    "import seaborn as sns\n",
    "\n",
    "from matplotlib_venn import venn2\n",
    "from scipy.stats import ttest_ind\n",
    "from sklearn.linear_model import LogisticRegression\n",
    "from sklearn.metrics import balanced_accuracy_score, roc_auc_score, recall_score\n",
    "from sklearn.model_selection import train_test_split\n",
    "from sklearn.preprocessing import StandardScaler, MinMaxScaler\n",
    "from statsmodels.stats.multitest import multipletests\n",
    "\n",
    "from utils import increase_stringency_CSF, print_p_val, preprocess"
   ]
  },
  {
   "cell_type": "code",
   "execution_count": 2,
   "id": "d5748095",
   "metadata": {},
   "outputs": [],
   "source": [
    "data_path = os.getcwd() + \"/Datasets/\"\n",
    "fig_path = os.getcwd() + \"/Figures/\""
   ]
  },
  {
   "cell_type": "markdown",
   "id": "f995d2cd",
   "metadata": {},
   "source": [
    "## Feature brain data set"
   ]
  },
  {
   "cell_type": "code",
   "execution_count": 3,
   "id": "4f428264",
   "metadata": {},
   "outputs": [],
   "source": [
    "df_features = pd.read_csv(data_path + \"/Features/df_features_brain_elevated_MS_filtered.csv\")"
   ]
  },
  {
   "cell_type": "code",
   "execution_count": 4,
   "id": "787d1a94",
   "metadata": {},
   "outputs": [],
   "source": [
    "# drop non-sequence-based features\n",
    "df_features.drop([\"RNA_binding\", \"DNA_binding\", \"Ectodomain_shedding\", \"EV\"], axis=1, inplace=True)"
   ]
  },
  {
   "cell_type": "markdown",
   "id": "a10e551d",
   "metadata": {},
   "source": [
    "## CSF data set"
   ]
  },
  {
   "cell_type": "code",
   "execution_count": 5,
   "id": "18797735",
   "metadata": {},
   "outputs": [],
   "source": [
    "csf = pd.read_csv(data_path + \"CSF/csf.csv\")"
   ]
  },
  {
   "cell_type": "markdown",
   "id": "ce6786aa",
   "metadata": {},
   "source": [
    "## DeepSec predictions"
   ]
  },
  {
   "cell_type": "code",
   "execution_count": 6,
   "id": "4ff9d4c4",
   "metadata": {},
   "outputs": [
    {
     "name": "stdout",
     "output_type": "stream",
     "text": [
      "Number of test set proteins with DeepSec probability score: 343\n",
      "Number of PEA-detected proteins with DeepSec probability score: 197\n"
     ]
    }
   ],
   "source": [
    "deepsec_test_set = pd.read_csv(data_path + \"Biomarker_discovery/DeepSec_test_set_CSF3+.txt\", sep=\"\\t\", header=None, \n",
    "    names=[\"Uniprot\", \"Probability_DeepSec\"])\n",
    "deepsec_pea = pd.read_csv(data_path + \"Biomarker_discovery/DeepSec_PEA_non_mass_spec_proteins.txt\", sep=\"\\t\", header=None, \n",
    "    names=[\"Uniprot\", \"Probability_DeepSec\"])\n",
    "print(\"Number of test set proteins with DeepSec probability score:\", len(deepsec_test_set))\n",
    "print(\"Number of PEA-detected proteins with DeepSec probability score:\", len(deepsec_pea))"
   ]
  },
  {
   "cell_type": "markdown",
   "id": "d02d24d3",
   "metadata": {},
   "source": [
    "## Model and scaler"
   ]
  },
  {
   "cell_type": "code",
   "execution_count": 7,
   "id": "3292267e",
   "metadata": {},
   "outputs": [],
   "source": [
    "with open(os.getcwd() + \"/Models/LogisticClassifier_L2_3plus.pkl\", \"rb\") as f:  \n",
    "    L2_CSF3 = pickle.load(f)\n",
    "with open(os.getcwd() + \"/Models/Standard_scaler.pkl\", \"rb\") as f:  \n",
    "    scaler = pickle.load(f)"
   ]
  },
  {
   "cell_type": "markdown",
   "id": "5b7f9b58",
   "metadata": {},
   "source": [
    "# Method comparison"
   ]
  },
  {
   "cell_type": "markdown",
   "id": "2b237b1d",
   "metadata": {},
   "source": [
    "## Extract test set "
   ]
  },
  {
   "cell_type": "code",
   "execution_count": 8,
   "id": "230550b9",
   "metadata": {},
   "outputs": [
    {
     "name": "stdout",
     "output_type": "stream",
     "text": [
      "Number of CSF proteins to be removed: 367\n",
      "Number of CSF proteins left: 525\n"
     ]
    }
   ],
   "source": [
    "# create CSF3+ dataset\n",
    "df_stringent = increase_stringency_CSF(df_features, csf, 3)"
   ]
  },
  {
   "cell_type": "code",
   "execution_count": 9,
   "id": "dc36534d",
   "metadata": {},
   "outputs": [],
   "source": [
    "# define variables and target\n",
    "X = df_stringent.drop([\"Uniprot\", \"Sequence\", \"CSF\"], axis=1)\n",
    "y = df_stringent[\"CSF\"]"
   ]
  },
  {
   "cell_type": "code",
   "execution_count": 10,
   "id": "63f1ebfa",
   "metadata": {},
   "outputs": [
    {
     "name": "stdout",
     "output_type": "stream",
     "text": [
      "Number of Uniprots in test set: 343\n",
      "Number of CSF proteins in test set: 105\n",
      "Number of non-CSF proteins in test set: 238\n"
     ]
    }
   ],
   "source": [
    "# create training and test sets that were used for final CSF3+ classifier\n",
    "X_train_bal, X_test_scal, y_train_bal, y_test, scaler = preprocess(X, y, random_state=9)\n",
    "\n",
    "# merge with feature dataframe to match Uniprot IDs\n",
    "test_set_classes = X_test_scal.join(df_features[[\"Uniprot\", \"CSF\"]])[[\"Uniprot\", \"CSF\"]]\n",
    "test_set_uniprots = set(test_set_classes[\"Uniprot\"])\n",
    "print(\"Number of Uniprots in test set:\", len(test_set_uniprots))\n",
    "print(\"Number of CSF proteins in test set:\", len(y_test[y_test == 1]))\n",
    "print(\"Number of non-CSF proteins in test set:\", len(y_test[y_test == -1]))"
   ]
  },
  {
   "cell_type": "markdown",
   "id": "2d9352e8",
   "metadata": {},
   "source": [
    "## CSF3+ predictions"
   ]
  },
  {
   "cell_type": "code",
   "execution_count": 11,
   "id": "ba4a2b60",
   "metadata": {},
   "outputs": [
    {
     "name": "stdout",
     "output_type": "stream",
     "text": [
      "Balanced accuracy: 78.99\n",
      "Sensitivity: 71.43\n",
      "ROC-AUC: 0.87\n"
     ]
    }
   ],
   "source": [
    "# predict with CSF3+ classifier on test set\n",
    "y_pred = L2_CSF3.predict(X_test_scal)\n",
    "\n",
    "print(\"Balanced accuracy: %.2f\" % (balanced_accuracy_score(y_test, y_pred)*100))\n",
    "print(\"Sensitivity: %.2f\" % (recall_score(y_test, y_pred)*100))\n",
    "print(\"ROC-AUC: %.2f\" % roc_auc_score(y_test, L2_CSF3.predict_proba(X_test_scal)[:, 1]))"
   ]
  },
  {
   "cell_type": "code",
   "execution_count": 12,
   "id": "fb9ea3b1",
   "metadata": {},
   "outputs": [
    {
     "data": {
      "text/html": [
       "<div>\n",
       "<style scoped>\n",
       "    .dataframe tbody tr th:only-of-type {\n",
       "        vertical-align: middle;\n",
       "    }\n",
       "\n",
       "    .dataframe tbody tr th {\n",
       "        vertical-align: top;\n",
       "    }\n",
       "\n",
       "    .dataframe thead th {\n",
       "        text-align: right;\n",
       "    }\n",
       "</style>\n",
       "<table border=\"1\" class=\"dataframe\">\n",
       "  <thead>\n",
       "    <tr style=\"text-align: right;\">\n",
       "      <th></th>\n",
       "      <th>Uniprot</th>\n",
       "      <th>CSF</th>\n",
       "      <th>Probability_CSF3+</th>\n",
       "      <th>Classes_CSF3+</th>\n",
       "    </tr>\n",
       "  </thead>\n",
       "  <tbody>\n",
       "    <tr>\n",
       "      <th>1687</th>\n",
       "      <td>Q96S95</td>\n",
       "      <td>-1</td>\n",
       "      <td>0.298433</td>\n",
       "      <td>-1</td>\n",
       "    </tr>\n",
       "    <tr>\n",
       "      <th>516</th>\n",
       "      <td>Q8IUS5</td>\n",
       "      <td>-1</td>\n",
       "      <td>0.142454</td>\n",
       "      <td>-1</td>\n",
       "    </tr>\n",
       "    <tr>\n",
       "      <th>389</th>\n",
       "      <td>Q96GW7</td>\n",
       "      <td>1</td>\n",
       "      <td>0.980078</td>\n",
       "      <td>1</td>\n",
       "    </tr>\n",
       "    <tr>\n",
       "      <th>540</th>\n",
       "      <td>Q02156</td>\n",
       "      <td>-1</td>\n",
       "      <td>0.121064</td>\n",
       "      <td>-1</td>\n",
       "    </tr>\n",
       "    <tr>\n",
       "      <th>1257</th>\n",
       "      <td>P20382</td>\n",
       "      <td>1</td>\n",
       "      <td>0.896042</td>\n",
       "      <td>1</td>\n",
       "    </tr>\n",
       "    <tr>\n",
       "      <th>...</th>\n",
       "      <td>...</td>\n",
       "      <td>...</td>\n",
       "      <td>...</td>\n",
       "      <td>...</td>\n",
       "    </tr>\n",
       "    <tr>\n",
       "      <th>408</th>\n",
       "      <td>Q05329</td>\n",
       "      <td>-1</td>\n",
       "      <td>0.159471</td>\n",
       "      <td>-1</td>\n",
       "    </tr>\n",
       "    <tr>\n",
       "      <th>387</th>\n",
       "      <td>Q5JQF8</td>\n",
       "      <td>-1</td>\n",
       "      <td>0.361305</td>\n",
       "      <td>-1</td>\n",
       "    </tr>\n",
       "    <tr>\n",
       "      <th>1357</th>\n",
       "      <td>O76070</td>\n",
       "      <td>1</td>\n",
       "      <td>0.989350</td>\n",
       "      <td>1</td>\n",
       "    </tr>\n",
       "    <tr>\n",
       "      <th>10</th>\n",
       "      <td>Q9H313</td>\n",
       "      <td>-1</td>\n",
       "      <td>0.179907</td>\n",
       "      <td>-1</td>\n",
       "    </tr>\n",
       "    <tr>\n",
       "      <th>1514</th>\n",
       "      <td>Q96N28</td>\n",
       "      <td>-1</td>\n",
       "      <td>0.162938</td>\n",
       "      <td>-1</td>\n",
       "    </tr>\n",
       "  </tbody>\n",
       "</table>\n",
       "<p>343 rows × 4 columns</p>\n",
       "</div>"
      ],
      "text/plain": [
       "     Uniprot  CSF  Probability_CSF3+  Classes_CSF3+\n",
       "1687  Q96S95   -1           0.298433             -1\n",
       "516   Q8IUS5   -1           0.142454             -1\n",
       "389   Q96GW7    1           0.980078              1\n",
       "540   Q02156   -1           0.121064             -1\n",
       "1257  P20382    1           0.896042              1\n",
       "...      ...  ...                ...            ...\n",
       "408   Q05329   -1           0.159471             -1\n",
       "387   Q5JQF8   -1           0.361305             -1\n",
       "1357  O76070    1           0.989350              1\n",
       "10    Q9H313   -1           0.179907             -1\n",
       "1514  Q96N28   -1           0.162938             -1\n",
       "\n",
       "[343 rows x 4 columns]"
      ]
     },
     "execution_count": 12,
     "metadata": {},
     "output_type": "execute_result"
    }
   ],
   "source": [
    "predictions_CSF3 = test_set_classes\n",
    "predictions_CSF3[\"Probability_CSF3+\"] = L2_CSF3.predict_proba(X_test_scal)[:, 1].tolist()\n",
    "predictions_CSF3[\"Classes_CSF3+\"] = y_pred\n",
    "predictions_CSF3"
   ]
  },
  {
   "cell_type": "markdown",
   "id": "a068b41f",
   "metadata": {},
   "source": [
    "## DeepSec predictions"
   ]
  },
  {
   "cell_type": "code",
   "execution_count": 13,
   "id": "7bfa4b07",
   "metadata": {},
   "outputs": [],
   "source": [
    "deepsec_test_set[\"Class_DeepSec\"] = np.where(deepsec_test_set[\"Probability_DeepSec\"] > 0.5, 1, -1)"
   ]
  },
  {
   "cell_type": "code",
   "execution_count": 14,
   "id": "0b4faf61",
   "metadata": {},
   "outputs": [
    {
     "data": {
      "text/html": [
       "<div>\n",
       "<style scoped>\n",
       "    .dataframe tbody tr th:only-of-type {\n",
       "        vertical-align: middle;\n",
       "    }\n",
       "\n",
       "    .dataframe tbody tr th {\n",
       "        vertical-align: top;\n",
       "    }\n",
       "\n",
       "    .dataframe thead th {\n",
       "        text-align: right;\n",
       "    }\n",
       "</style>\n",
       "<table border=\"1\" class=\"dataframe\">\n",
       "  <thead>\n",
       "    <tr style=\"text-align: right;\">\n",
       "      <th></th>\n",
       "      <th>Uniprot</th>\n",
       "      <th>CSF</th>\n",
       "      <th>Probability_CSF3+</th>\n",
       "      <th>Classes_CSF3+</th>\n",
       "      <th>Probability_DeepSec</th>\n",
       "      <th>Class_DeepSec</th>\n",
       "    </tr>\n",
       "  </thead>\n",
       "  <tbody>\n",
       "    <tr>\n",
       "      <th>0</th>\n",
       "      <td>Q96S95</td>\n",
       "      <td>-1</td>\n",
       "      <td>0.298433</td>\n",
       "      <td>-1</td>\n",
       "      <td>0.0481</td>\n",
       "      <td>-1</td>\n",
       "    </tr>\n",
       "    <tr>\n",
       "      <th>1</th>\n",
       "      <td>Q8IUS5</td>\n",
       "      <td>-1</td>\n",
       "      <td>0.142454</td>\n",
       "      <td>-1</td>\n",
       "      <td>0.0666</td>\n",
       "      <td>-1</td>\n",
       "    </tr>\n",
       "    <tr>\n",
       "      <th>2</th>\n",
       "      <td>Q96GW7</td>\n",
       "      <td>1</td>\n",
       "      <td>0.980078</td>\n",
       "      <td>1</td>\n",
       "      <td>0.9679</td>\n",
       "      <td>1</td>\n",
       "    </tr>\n",
       "    <tr>\n",
       "      <th>3</th>\n",
       "      <td>Q02156</td>\n",
       "      <td>-1</td>\n",
       "      <td>0.121064</td>\n",
       "      <td>-1</td>\n",
       "      <td>0.8371</td>\n",
       "      <td>1</td>\n",
       "    </tr>\n",
       "    <tr>\n",
       "      <th>4</th>\n",
       "      <td>P20382</td>\n",
       "      <td>1</td>\n",
       "      <td>0.896042</td>\n",
       "      <td>1</td>\n",
       "      <td>0.4987</td>\n",
       "      <td>-1</td>\n",
       "    </tr>\n",
       "  </tbody>\n",
       "</table>\n",
       "</div>"
      ],
      "text/plain": [
       "  Uniprot  CSF  Probability_CSF3+  Classes_CSF3+  Probability_DeepSec  \\\n",
       "0  Q96S95   -1           0.298433             -1               0.0481   \n",
       "1  Q8IUS5   -1           0.142454             -1               0.0666   \n",
       "2  Q96GW7    1           0.980078              1               0.9679   \n",
       "3  Q02156   -1           0.121064             -1               0.8371   \n",
       "4  P20382    1           0.896042              1               0.4987   \n",
       "\n",
       "   Class_DeepSec  \n",
       "0             -1  \n",
       "1             -1  \n",
       "2              1  \n",
       "3              1  \n",
       "4             -1  "
      ]
     },
     "execution_count": 14,
     "metadata": {},
     "output_type": "execute_result"
    }
   ],
   "source": [
    "predictions_comb = test_set_classes.merge(deepsec_test_set, on=\"Uniprot\")\n",
    "predictions_comb[:5]"
   ]
  },
  {
   "cell_type": "code",
   "execution_count": 19,
   "id": "7cf15b48",
   "metadata": {},
   "outputs": [
    {
     "name": "stdout",
     "output_type": "stream",
     "text": [
      "Balanced accuracy: 70.74%\n",
      "Sensitivity: 70.48%\n",
      "ROC-AUC: 0.79\n"
     ]
    }
   ],
   "source": [
    "print(\"Balanced accuracy: %.2f%%\" % (balanced_accuracy_score(predictions_comb[\"CSF\"], \n",
    "    predictions_comb[\"Class_DeepSec\"])*100))\n",
    "print(\"Sensitivity: %.2f%%\" % (recall_score(predictions_comb[\"CSF\"], predictions_comb[\"Class_DeepSec\"])*100))\n",
    "print(\"ROC-AUC: %.2f\" % roc_auc_score(predictions_comb[\"CSF\"], predictions_comb[\"Probability_DeepSec\"]))"
   ]
  },
  {
   "cell_type": "markdown",
   "id": "c916eef9",
   "metadata": {},
   "source": [
    "## Comparison of predictions"
   ]
  },
  {
   "cell_type": "code",
   "execution_count": 16,
   "id": "4b9a1990",
   "metadata": {},
   "outputs": [
    {
     "data": {
      "image/png": "[encoded data removed]",
      "text/plain": [
       "<Figure size 700x500 with 1 Axes>"
      ]
     },
     "metadata": {},
     "output_type": "display_data"
    }
   ],
   "source": [
    "fig, ax = plt.subplots(1, 1, figsize=(7,5))\n",
    "\n",
    "sns.scatterplot(data=predictions_comb, x=\"Probability_DeepSec\", y=\"Probability_CSF3+\", hue=\"CSF\", \n",
    "    palette=[\"firebrick\", \"skyblue\"])\n",
    "plt.legend(bbox_to_anchor=(1,1))\n",
    "ax.set(title=\"Comparison of prediction scores with DeepSec\", xlabel=\"DeepSec\", ylabel=\"CSF3+\")\n",
    "plt.show()"
   ]
  },
  {
   "cell_type": "markdown",
   "id": "5fd95643",
   "metadata": {},
   "source": [
    "## PEA-detected CSF proteins"
   ]
  },
  {
   "cell_type": "code",
   "execution_count": 17,
   "id": "b524a842",
   "metadata": {},
   "outputs": [
    {
     "name": "stdout",
     "output_type": "stream",
     "text": [
      "Fraction of correctly predicted CSF proteins: 71.57%\n"
     ]
    }
   ],
   "source": [
    "print(\"Fraction of correctly predicted CSF proteins: %.2f%%\" % (len(deepsec_pea[deepsec_pea[\"Probability_DeepSec\"] > 0.5]) /\n",
    "    len(deepsec_pea)*100))"
   ]
  },
  {
   "cell_type": "code",
   "execution_count": 18,
   "id": "ecb2303c",
   "metadata": {},
   "outputs": [
    {
     "name": "stdout",
     "output_type": "stream",
     "text": [
      "Median probability score: 0.7386\n"
     ]
    }
   ],
   "source": [
    "print(\"Median probability score:\", deepsec_pea[\"Probability_DeepSec\"].median())"
   ]
  }
 ],
 "metadata": {
  "kernelspec": {
   "display_name": "Python 3",
   "language": "python",
   "name": "python3"
  },
  "language_info": {
   "codemirror_mode": {
    "name": "ipython",
    "version": 3
   },
   "file_extension": ".py",
   "mimetype": "text/x-python",
   "name": "python",
   "nbconvert_exporter": "python",
   "pygments_lexer": "ipython3",
   "version": "3.8.5"
  }
 },
 "nbformat": 4,
 "nbformat_minor": 5
}
