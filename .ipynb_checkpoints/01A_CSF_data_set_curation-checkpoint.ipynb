{
 "cells": [
  {
   "cell_type": "markdown",
   "id": "367885ce",
   "metadata": {},
   "source": [
    "# Import libraries and data"
   ]
  },
  {
   "cell_type": "code",
   "execution_count": 1,
   "id": "0f6ebffd",
   "metadata": {},
   "outputs": [],
   "source": [
    "# import libraries \n",
    "import matplotlib.pyplot as plt\n",
    "import numpy as np\n",
    "import os\n",
    "import pandas as pd\n",
    "# import re\n",
    "import seaborn as sns\n",
    "\n",
    "from utils import keep_first_uniprot\n",
    "\n",
    "pd.options.mode.chained_assignment = None"
   ]
  },
  {
   "cell_type": "code",
   "execution_count": 2,
   "id": "d5748095",
   "metadata": {},
   "outputs": [],
   "source": [
    "data_path = os.getcwd() + \"/Datasets/CSF/raw/\""
   ]
  },
  {
   "cell_type": "markdown",
   "id": "89a11c9e",
   "metadata": {},
   "source": [
    "## Macron2018A\n",
    "Deep Dive on the Proteome of Human Cerebrospinal Fluid: A Valuable Data Resource for Biomarker Discovery and Missing Protein Identification\n",
    "https://doi.org/10.1021/acs.jproteome.8b00300"
   ]
  },
  {
   "cell_type": "code",
   "execution_count": 3,
   "id": "4bf4f90f",
   "metadata": {},
   "outputs": [],
   "source": [
    "Macron2018A = pd.read_csv(data_path + \"Macron2018A.csv\", sep=\";\", header=1)"
   ]
  },
  {
   "cell_type": "code",
   "execution_count": 4,
   "id": "cbe335b9",
   "metadata": {},
   "outputs": [
    {
     "data": {
      "text/html": [
       "<div>\n",
       "<style scoped>\n",
       "    .dataframe tbody tr th:only-of-type {\n",
       "        vertical-align: middle;\n",
       "    }\n",
       "\n",
       "    .dataframe tbody tr th {\n",
       "        vertical-align: top;\n",
       "    }\n",
       "\n",
       "    .dataframe thead th {\n",
       "        text-align: right;\n",
       "    }\n",
       "</style>\n",
       "<table border=\"1\" class=\"dataframe\">\n",
       "  <thead>\n",
       "    <tr style=\"text-align: right;\">\n",
       "      <th></th>\n",
       "      <th>Uniprot</th>\n",
       "      <th>#Peptides_Macron2018A</th>\n",
       "    </tr>\n",
       "  </thead>\n",
       "  <tbody>\n",
       "    <tr>\n",
       "      <th>0</th>\n",
       "      <td>Q6K0P9</td>\n",
       "      <td>2</td>\n",
       "    </tr>\n",
       "    <tr>\n",
       "      <th>2</th>\n",
       "      <td>Q9GZZ8</td>\n",
       "      <td>1</td>\n",
       "    </tr>\n",
       "    <tr>\n",
       "      <th>3</th>\n",
       "      <td>P09529</td>\n",
       "      <td>3</td>\n",
       "    </tr>\n",
       "    <tr>\n",
       "      <th>6</th>\n",
       "      <td>P61019</td>\n",
       "      <td>2</td>\n",
       "    </tr>\n",
       "    <tr>\n",
       "      <th>8</th>\n",
       "      <td>Q9GZX9</td>\n",
       "      <td>4</td>\n",
       "    </tr>\n",
       "  </tbody>\n",
       "</table>\n",
       "</div>"
      ],
      "text/plain": [
       "  Uniprot  #Peptides_Macron2018A\n",
       "0  Q6K0P9                      2\n",
       "2  Q9GZZ8                      1\n",
       "3  P09529                      3\n",
       "6  P61019                      2\n",
       "8  Q9GZX9                      4"
      ]
     },
     "execution_count": 4,
     "metadata": {},
     "output_type": "execute_result"
    }
   ],
   "source": [
    "Macron2018A = Macron2018A[[\"Protein Accession Number\"]]\n",
    "Macron2018A.columns = [\"Uniprot\"]\n",
    "# count number of peptides per Uniprot ID\n",
    "Macron2018A[\"#Peptides_Macron2018A\"] = Macron2018A.groupby(\"Uniprot\")[\"Uniprot\"].transform(\"count\")\n",
    "Macron2018A.drop_duplicates(subset=[\"Uniprot\"], inplace=True)\n",
    "# keep first entry for proteins with more than one associated Uniprot ID\n",
    "Macron2018A[\"Uniprot\"] = Macron2018A[\"Uniprot\"].apply(keep_first_uniprot)\n",
    "Macron2018A[:5]"
   ]
  },
  {
   "cell_type": "code",
   "execution_count": 5,
   "id": "56929793",
   "metadata": {},
   "outputs": [
    {
     "name": "stdout",
     "output_type": "stream",
     "text": [
      "Number of unique proteins with at least 1 peptide: 3379\n",
      "Number of unique proteins with at least 2 peptides: 2305\n"
     ]
    }
   ],
   "source": [
    "print(\"Number of unique proteins with at least 1 peptide:\", len(Macron2018A[Macron2018A[\"#Peptides_Macron2018A\"] > 0]))\n",
    "print(\"Number of unique proteins with at least 2 peptides:\", len(Macron2018A[Macron2018A[\"#Peptides_Macron2018A\"] > 1]))"
   ]
  },
  {
   "cell_type": "markdown",
   "id": "7ec0e383",
   "metadata": {},
   "source": [
    "## Macron2020\n",
    "Exploration of human cerebrospinal fluid: A large proteome dataset revealed by trapped ion mobility time-of-flight mass spectrometry \n",
    "https://doi.org/10.1016/j.dib.2020.105704"
   ]
  },
  {
   "cell_type": "code",
   "execution_count": 6,
   "id": "479dbd6e",
   "metadata": {},
   "outputs": [],
   "source": [
    "Macron2020 = pd.read_csv(data_path + \"Macron2020.csv\", sep=\";\", header=1, low_memory=False)"
   ]
  },
  {
   "cell_type": "code",
   "execution_count": 7,
   "id": "88a971f0",
   "metadata": {},
   "outputs": [
    {
     "data": {
      "text/html": [
       "<div>\n",
       "<style scoped>\n",
       "    .dataframe tbody tr th:only-of-type {\n",
       "        vertical-align: middle;\n",
       "    }\n",
       "\n",
       "    .dataframe tbody tr th {\n",
       "        vertical-align: top;\n",
       "    }\n",
       "\n",
       "    .dataframe thead th {\n",
       "        text-align: right;\n",
       "    }\n",
       "</style>\n",
       "<table border=\"1\" class=\"dataframe\">\n",
       "  <thead>\n",
       "    <tr style=\"text-align: right;\">\n",
       "      <th></th>\n",
       "      <th>Uniprot</th>\n",
       "      <th>#Peptides_Macron2020</th>\n",
       "    </tr>\n",
       "  </thead>\n",
       "  <tbody>\n",
       "    <tr>\n",
       "      <th>0</th>\n",
       "      <td>P61604</td>\n",
       "      <td>7.0</td>\n",
       "    </tr>\n",
       "    <tr>\n",
       "      <th>7</th>\n",
       "      <td>Q9HC56</td>\n",
       "      <td>20.0</td>\n",
       "    </tr>\n",
       "    <tr>\n",
       "      <th>27</th>\n",
       "      <td>Q13822</td>\n",
       "      <td>52.0</td>\n",
       "    </tr>\n",
       "    <tr>\n",
       "      <th>79</th>\n",
       "      <td>Q9HC38</td>\n",
       "      <td>8.0</td>\n",
       "    </tr>\n",
       "    <tr>\n",
       "      <th>87</th>\n",
       "      <td>Q9HC36</td>\n",
       "      <td>2.0</td>\n",
       "    </tr>\n",
       "  </tbody>\n",
       "</table>\n",
       "</div>"
      ],
      "text/plain": [
       "   Uniprot  #Peptides_Macron2020\n",
       "0   P61604                   7.0\n",
       "7   Q9HC56                  20.0\n",
       "27  Q13822                  52.0\n",
       "79  Q9HC38                   8.0\n",
       "87  Q9HC36                   2.0"
      ]
     },
     "execution_count": 7,
     "metadata": {},
     "output_type": "execute_result"
    }
   ],
   "source": [
    "Macron2020 = Macron2020[[\"Protein Accession Number\"]]\n",
    "Macron2020.columns = [\"Uniprot\"]\n",
    "# count number of peptides per Uniprot ID\n",
    "Macron2020[\"#Peptides_Macron2020\"] = Macron2020.groupby(\"Uniprot\")[\"Uniprot\"].transform(\"count\")\n",
    "Macron2020.drop_duplicates(subset=[\"Uniprot\"], inplace=True)\n",
    "Macron2020.dropna(inplace=True)\n",
    "# keep first entry for proteins with more than one associated Uniprot ID\n",
    "Macron2020[\"Uniprot\"] = Macron2020[\"Uniprot\"].apply(keep_first_uniprot)\n",
    "Macron2020[:5]"
   ]
  },
  {
   "cell_type": "code",
   "execution_count": 8,
   "id": "dad0c5db",
   "metadata": {},
   "outputs": [
    {
     "name": "stdout",
     "output_type": "stream",
     "text": [
      "Number of unique proteins with at least 1 peptide: 3174\n",
      "Number of unique proteins with at least 2 peptides: 3174\n"
     ]
    }
   ],
   "source": [
    "print(\"Number of unique proteins with at least 1 peptide:\", len(Macron2020[Macron2020[\"#Peptides_Macron2020\"] > 0]))\n",
    "print(\"Number of unique proteins with at least 2 peptides:\", len(Macron2020[Macron2020[\"#Peptides_Macron2020\"] > 1]))"
   ]
  },
  {
   "cell_type": "markdown",
   "id": "192c436e",
   "metadata": {},
   "source": [
    "## Zhang2015\n",
    "(Data for) a comprehensive map and functional annotation of the human cerebrospinal fluid proteome\n",
    "https://doi.org/10.1016/j.dib.2015.02.004"
   ]
  },
  {
   "cell_type": "code",
   "execution_count": 9,
   "id": "f04c45ca",
   "metadata": {},
   "outputs": [],
   "source": [
    "Zhang2015 = pd.read_csv(data_path + \"Zhang2015.csv\", sep=\";\") # contains only proteins with at least two peptides identified"
   ]
  },
  {
   "cell_type": "code",
   "execution_count": 10,
   "id": "00738269",
   "metadata": {},
   "outputs": [
    {
     "data": {
      "text/html": [
       "<div>\n",
       "<style scoped>\n",
       "    .dataframe tbody tr th:only-of-type {\n",
       "        vertical-align: middle;\n",
       "    }\n",
       "\n",
       "    .dataframe tbody tr th {\n",
       "        vertical-align: top;\n",
       "    }\n",
       "\n",
       "    .dataframe thead th {\n",
       "        text-align: right;\n",
       "    }\n",
       "</style>\n",
       "<table border=\"1\" class=\"dataframe\">\n",
       "  <thead>\n",
       "    <tr style=\"text-align: right;\">\n",
       "      <th></th>\n",
       "      <th>Uniprot</th>\n",
       "      <th>#Peptides_Zhang2015</th>\n",
       "    </tr>\n",
       "  </thead>\n",
       "  <tbody>\n",
       "    <tr>\n",
       "      <th>0</th>\n",
       "      <td>A1L4H1</td>\n",
       "      <td>17.0</td>\n",
       "    </tr>\n",
       "    <tr>\n",
       "      <th>1</th>\n",
       "      <td>A2RU67</td>\n",
       "      <td>8.0</td>\n",
       "    </tr>\n",
       "    <tr>\n",
       "      <th>2</th>\n",
       "      <td>A4D0S4</td>\n",
       "      <td>2.0</td>\n",
       "    </tr>\n",
       "    <tr>\n",
       "      <th>3</th>\n",
       "      <td>A4D0V7</td>\n",
       "      <td>6.0</td>\n",
       "    </tr>\n",
       "    <tr>\n",
       "      <th>4</th>\n",
       "      <td>A6BM72</td>\n",
       "      <td>2.0</td>\n",
       "    </tr>\n",
       "  </tbody>\n",
       "</table>\n",
       "</div>"
      ],
      "text/plain": [
       "  Uniprot  #Peptides_Zhang2015\n",
       "0  A1L4H1                 17.0\n",
       "1  A2RU67                  8.0\n",
       "2  A4D0S4                  2.0\n",
       "3  A4D0V7                  6.0\n",
       "4  A6BM72                  2.0"
      ]
     },
     "execution_count": 10,
     "metadata": {},
     "output_type": "execute_result"
    }
   ],
   "source": [
    "Zhang2015 = Zhang2015[[\"Accession\", \"Flow-through Proteins\", \"Original Proteins\", \"Bound Proteins\"]]\n",
    "# find maximum number of identified peptides\n",
    "Zhang2015[\"#Peptides_Zhang2015\"] = Zhang2015[[\"Flow-through Proteins\", \"Original Proteins\", \"Bound Proteins\"]].max(axis=1)\n",
    "Zhang2015.drop(labels=[\"Flow-through Proteins\", \"Original Proteins\", \"Bound Proteins\"], axis=1, inplace=True)\n",
    "Zhang2015.columns = [\"Uniprot\", \"#Peptides_Zhang2015\"]\n",
    "Zhang2015[:5]"
   ]
  },
  {
   "cell_type": "code",
   "execution_count": 11,
   "id": "c8eaa982",
   "metadata": {},
   "outputs": [
    {
     "name": "stdout",
     "output_type": "stream",
     "text": [
      "Number of unique proteins with at least 1 peptide: 2513\n",
      "Number of unique proteins with at least 2 peptides: 2513\n"
     ]
    }
   ],
   "source": [
    "print(\"Number of unique proteins with at least 1 peptide:\", len(Zhang2015[Zhang2015[\"#Peptides_Zhang2015\"] > 0]))\n",
    "print(\"Number of unique proteins with at least 2 peptides:\", len(Zhang2015[Zhang2015[\"#Peptides_Zhang2015\"] > 1]))"
   ]
  },
  {
   "cell_type": "markdown",
   "id": "0f39dd2e",
   "metadata": {},
   "source": [
    "## Guldbrandsen2014\n",
    "\n",
    "In-depth characterization of the cerebrospinal fluid (CSF) proteome displayed through the CSF proteome resource (CSF-PR)\n",
    "https://doi.org/10.1074/mcp.m114.038554"
   ]
  },
  {
   "cell_type": "code",
   "execution_count": 12,
   "id": "cd32be97",
   "metadata": {},
   "outputs": [],
   "source": [
    "Guldbrandsen2014a = pd.read_csv(data_path + \"Guldbrandsen2014_MM_depleted.csv\", sep=\",\", header=1, index_col=0) \n",
    "# mixed mode depleted fraction\n",
    "Guldbrandsen2014b = pd.read_csv(data_path + \"Guldbrandsen2014_MM_bound.csv\", sep=\",\", header=1, index_col=0) \n",
    "# mixed mode bound fraction\n",
    "Guldbrandsen2014c = pd.read_csv(data_path + \"Guldbrandsen2014_Gel_depleted.csv\", sep=\",\", header=1, index_col=0) \n",
    "# gel depleted fraction\n",
    "Guldbrandsen2014d = pd.read_csv(data_path + \"Guldbrandsen2014_Gel_bound.csv\", sep=\",\", header=1, index_col=0) \n",
    "# gel bound fraction\n",
    "Guldbrandsen2014e = pd.read_csv(data_path + \"Guldbrandsen2014_Glyco_MM.csv\", sep=\",\", header=1, index_col=0) \n",
    "# glyco mixed mode"
   ]
  },
  {
   "cell_type": "code",
   "execution_count": 13,
   "id": "d7f0ca90",
   "metadata": {},
   "outputs": [],
   "source": [
    "def curate_Guldbrandsen(dataset):\n",
    "    # keep and rename relevant columns\n",
    "    dataset = dataset[[\"Accession\", \"#Peptides\", \"Validated\"]]\n",
    "    dataset.columns = [\"Uniprot\", \"#Peptides\", \"Validated\"]\n",
    "    # convert peptide count to integer\n",
    "    dataset[\"#Peptides\"] = dataset[\"#Peptides\"].astype(int)\n",
    "    # remove datasets with no associated peptides and non-validated proteins\n",
    "    dataset = dataset[dataset[\"#Peptides\"] > 0]\n",
    "    dataset = dataset[dataset[\"Validated\"] == True]\n",
    "    # remove duplicated Uniprots\n",
    "    dataset.drop_duplicates(subset=[\"Uniprot\"], inplace=True)\n",
    "    \n",
    "    return dataset[[\"Uniprot\", \"#Peptides\"]]\n",
    "\n",
    "datasets_Guldbrandsen = [Guldbrandsen2014a, Guldbrandsen2014b, Guldbrandsen2014c, Guldbrandsen2014d, Guldbrandsen2014e]\n",
    "desc_Guldbrandsen = [\"Mixed mode depleted fraction\", \"Mixed mode bound fraction\", \"Gel depleted fraction\",\n",
    "    \"Gel bound fraction\", \"Glyco mixed mode fraction\"]\n",
    "\n",
    "Guldbrandsen2014a = curate_Guldbrandsen(Guldbrandsen2014a)\n",
    "Guldbrandsen2014b = curate_Guldbrandsen(Guldbrandsen2014b)\n",
    "Guldbrandsen2014c = curate_Guldbrandsen(Guldbrandsen2014c)\n",
    "Guldbrandsen2014d = curate_Guldbrandsen(Guldbrandsen2014d)\n",
    "Guldbrandsen2014e = curate_Guldbrandsen(Guldbrandsen2014e)"
   ]
  },
  {
   "cell_type": "code",
   "execution_count": 14,
   "id": "7a91be81",
   "metadata": {},
   "outputs": [
    {
     "name": "stdout",
     "output_type": "stream",
     "text": [
      "Mixed mode depleted fraction\n",
      "Number of unique proteins with at least 1 peptide: 3086\n",
      "Number of unique proteins with at least 2 peptides: 2011\n",
      "Mixed mode bound fraction\n",
      "Number of unique proteins with at least 1 peptide: 445\n",
      "Number of unique proteins with at least 2 peptides: 226\n",
      "Gel depleted fraction\n",
      "Number of unique proteins with at least 1 peptide: 2282\n",
      "Number of unique proteins with at least 2 peptides: 1531\n",
      "Gel bound fraction\n",
      "Number of unique proteins with at least 1 peptide: 539\n",
      "Number of unique proteins with at least 2 peptides: 358\n",
      "Glyco mixed mode fraction\n",
      "Number of unique proteins with at least 1 peptide: 735\n",
      "Number of unique proteins with at least 2 peptides: 364\n"
     ]
    }
   ],
   "source": [
    "for i, d in enumerate(datasets_Guldbrandsen):\n",
    "    print(desc_Guldbrandsen[i])\n",
    "    print(\"Number of unique proteins with at least 1 peptide:\", len(d[d[\"#Peptides\"] > 0]))\n",
    "    print(\"Number of unique proteins with at least 2 peptides:\", len(d[d[\"#Peptides\"] > 1]))"
   ]
  },
  {
   "cell_type": "code",
   "execution_count": 15,
   "id": "147cb393",
   "metadata": {},
   "outputs": [
    {
     "data": {
      "text/html": [
       "<div>\n",
       "<style scoped>\n",
       "    .dataframe tbody tr th:only-of-type {\n",
       "        vertical-align: middle;\n",
       "    }\n",
       "\n",
       "    .dataframe tbody tr th {\n",
       "        vertical-align: top;\n",
       "    }\n",
       "\n",
       "    .dataframe thead th {\n",
       "        text-align: right;\n",
       "    }\n",
       "</style>\n",
       "<table border=\"1\" class=\"dataframe\">\n",
       "  <thead>\n",
       "    <tr style=\"text-align: right;\">\n",
       "      <th></th>\n",
       "      <th>Uniprot</th>\n",
       "      <th>#Peptides_a</th>\n",
       "      <th>#Peptides_b</th>\n",
       "      <th>#Peptides_x</th>\n",
       "      <th>#Peptides_y</th>\n",
       "      <th>#Peptides</th>\n",
       "    </tr>\n",
       "  </thead>\n",
       "  <tbody>\n",
       "    <tr>\n",
       "      <th>0</th>\n",
       "      <td>P0C0L5</td>\n",
       "      <td>200.0</td>\n",
       "      <td>NaN</td>\n",
       "      <td>243.0</td>\n",
       "      <td>79.0</td>\n",
       "      <td>NaN</td>\n",
       "    </tr>\n",
       "    <tr>\n",
       "      <th>1</th>\n",
       "      <td>P0C0L4</td>\n",
       "      <td>199.0</td>\n",
       "      <td>69.0</td>\n",
       "      <td>242.0</td>\n",
       "      <td>79.0</td>\n",
       "      <td>48.0</td>\n",
       "    </tr>\n",
       "    <tr>\n",
       "      <th>2</th>\n",
       "      <td>P00450</td>\n",
       "      <td>174.0</td>\n",
       "      <td>36.0</td>\n",
       "      <td>128.0</td>\n",
       "      <td>19.0</td>\n",
       "      <td>62.0</td>\n",
       "    </tr>\n",
       "    <tr>\n",
       "      <th>3</th>\n",
       "      <td>P02751</td>\n",
       "      <td>159.0</td>\n",
       "      <td>19.0</td>\n",
       "      <td>164.0</td>\n",
       "      <td>70.0</td>\n",
       "      <td>26.0</td>\n",
       "    </tr>\n",
       "    <tr>\n",
       "      <th>4</th>\n",
       "      <td>P02790</td>\n",
       "      <td>138.0</td>\n",
       "      <td>28.0</td>\n",
       "      <td>112.0</td>\n",
       "      <td>21.0</td>\n",
       "      <td>34.0</td>\n",
       "    </tr>\n",
       "  </tbody>\n",
       "</table>\n",
       "</div>"
      ],
      "text/plain": [
       "  Uniprot  #Peptides_a  #Peptides_b  #Peptides_x  #Peptides_y  #Peptides\n",
       "0  P0C0L5        200.0          NaN        243.0         79.0        NaN\n",
       "1  P0C0L4        199.0         69.0        242.0         79.0       48.0\n",
       "2  P00450        174.0         36.0        128.0         19.0       62.0\n",
       "3  P02751        159.0         19.0        164.0         70.0       26.0\n",
       "4  P02790        138.0         28.0        112.0         21.0       34.0"
      ]
     },
     "execution_count": 15,
     "metadata": {},
     "output_type": "execute_result"
    }
   ],
   "source": [
    "# merge peptide counts of all Guldbrandsen datasets\n",
    "Guldbrandsen2014_all = Guldbrandsen2014a.merge(Guldbrandsen2014b, how=\"outer\", on=\"Uniprot\", suffixes=(\"_a\", \"_b\"))\n",
    "Guldbrandsen2014_all = Guldbrandsen2014_all.merge(Guldbrandsen2014c, how=\"outer\", on=\"Uniprot\")\n",
    "Guldbrandsen2014_all = Guldbrandsen2014_all.merge(Guldbrandsen2014d, how=\"outer\", on=\"Uniprot\")\n",
    "Guldbrandsen2014_all = Guldbrandsen2014_all.merge(Guldbrandsen2014e, how=\"outer\", on=\"Uniprot\")\n",
    "Guldbrandsen2014_all[:5]"
   ]
  },
  {
   "cell_type": "code",
   "execution_count": 16,
   "id": "76cbf469",
   "metadata": {},
   "outputs": [],
   "source": [
    "# keep only maximum peptide number across all 4 datasets\n",
    "Guldbrandsen2014_all[\"#Peptides_Guldbrandsen2014\"] = Guldbrandsen2014_all[[\"#Peptides_a\", \"#Peptides_b\", \"#Peptides_x\", \n",
    "    \"#Peptides_y\", \"#Peptides\"]].max(axis=1)\n",
    "Guldbrandsen2014_all.drop(labels=[\"#Peptides_a\", \"#Peptides_b\", \"#Peptides_x\", \"#Peptides_y\", \"#Peptides\"], axis=1, \n",
    "    inplace=True)"
   ]
  },
  {
   "cell_type": "code",
   "execution_count": 17,
   "id": "23bb918f",
   "metadata": {},
   "outputs": [
    {
     "name": "stdout",
     "output_type": "stream",
     "text": [
      "Number of unique proteins with at least 1 peptide: 2484\n",
      "Number of unique proteins with at least 2 peptides: 1944\n"
     ]
    }
   ],
   "source": [
    "print(\"Number of unique proteins with at least 1 peptide:\", \n",
    "    len(Guldbrandsen2014_all[Guldbrandsen2014_all[\"#Peptides_Guldbrandsen2014\"] > 0]))\n",
    "print(\"Number of unique proteins with at least 2 peptides:\", \n",
    "    len(Guldbrandsen2014_all[Guldbrandsen2014_all[\"#Peptides_Guldbrandsen2014\"] > 1]))"
   ]
  },
  {
   "cell_type": "markdown",
   "id": "bea084fb",
   "metadata": {},
   "source": [
    "## Macron2018B\n",
    "Identification of Missing Proteins in Normal Human Cerebrospinal Fluid https://doi.org/10.1021/acs.jproteome.8b00194"
   ]
  },
  {
   "cell_type": "code",
   "execution_count": 18,
   "id": "f61066c0",
   "metadata": {},
   "outputs": [],
   "source": [
    "Macron2018B = pd.read_csv(data_path + \"Macron2018B.csv\", sep=\";\", header=1)"
   ]
  },
  {
   "cell_type": "code",
   "execution_count": 19,
   "id": "12cf11b5",
   "metadata": {},
   "outputs": [
    {
     "data": {
      "text/html": [
       "<div>\n",
       "<style scoped>\n",
       "    .dataframe tbody tr th:only-of-type {\n",
       "        vertical-align: middle;\n",
       "    }\n",
       "\n",
       "    .dataframe tbody tr th {\n",
       "        vertical-align: top;\n",
       "    }\n",
       "\n",
       "    .dataframe thead th {\n",
       "        text-align: right;\n",
       "    }\n",
       "</style>\n",
       "<table border=\"1\" class=\"dataframe\">\n",
       "  <thead>\n",
       "    <tr style=\"text-align: right;\">\n",
       "      <th></th>\n",
       "      <th>Uniprot</th>\n",
       "      <th>#Peptides_Macron2018B</th>\n",
       "    </tr>\n",
       "  </thead>\n",
       "  <tbody>\n",
       "    <tr>\n",
       "      <th>0</th>\n",
       "      <td>P09529</td>\n",
       "      <td>1.0</td>\n",
       "    </tr>\n",
       "    <tr>\n",
       "      <th>1</th>\n",
       "      <td>Q96RQ9</td>\n",
       "      <td>1.0</td>\n",
       "    </tr>\n",
       "    <tr>\n",
       "      <th>2</th>\n",
       "      <td>P61019</td>\n",
       "      <td>2.0</td>\n",
       "    </tr>\n",
       "    <tr>\n",
       "      <th>4</th>\n",
       "      <td>Q9GZX9</td>\n",
       "      <td>4.0</td>\n",
       "    </tr>\n",
       "    <tr>\n",
       "      <th>8</th>\n",
       "      <td>Q9GZX3</td>\n",
       "      <td>1.0</td>\n",
       "    </tr>\n",
       "  </tbody>\n",
       "</table>\n",
       "</div>"
      ],
      "text/plain": [
       "  Uniprot  #Peptides_Macron2018B\n",
       "0  P09529                    1.0\n",
       "1  Q96RQ9                    1.0\n",
       "2  P61019                    2.0\n",
       "4  Q9GZX9                    4.0\n",
       "8  Q9GZX3                    1.0"
      ]
     },
     "execution_count": 19,
     "metadata": {},
     "output_type": "execute_result"
    }
   ],
   "source": [
    "Macron2018B = Macron2018B[[\"Protein accession number\"]]\n",
    "Macron2018B.columns = [\"Uniprot\"]\n",
    "# count number of peptides per Uniprot ID\n",
    "Macron2018B[\"#Peptides_Macron2018B\"] = Macron2018B.groupby(\"Uniprot\")[\"Uniprot\"].transform(\"count\")\n",
    "Macron2018B.drop_duplicates(subset=[\"Uniprot\"], inplace=True)\n",
    "Macron2018B.dropna(inplace=True)\n",
    "# keep first entry for proteins with more than one associated Uniprot ID\n",
    "Macron2018B[\"Uniprot\"] = Macron2018B[\"Uniprot\"].apply(keep_first_uniprot)\n",
    "Macron2018B[:5]"
   ]
  },
  {
   "cell_type": "code",
   "execution_count": 20,
   "id": "b932b3ce",
   "metadata": {},
   "outputs": [
    {
     "name": "stdout",
     "output_type": "stream",
     "text": [
      "Number of unique proteins with at least 1 peptide: 2281\n",
      "Number of unique proteins with at least 2 peptides: 1484\n"
     ]
    }
   ],
   "source": [
    "print(\"Number of unique proteins with at least 1 peptide:\", len(Macron2018B[Macron2018B[\"#Peptides_Macron2018B\"] > 0]))\n",
    "print(\"Number of unique proteins with at least 2 peptides:\", len(Macron2018B[Macron2018B[\"#Peptides_Macron2018B\"] > 1]))"
   ]
  },
  {
   "cell_type": "markdown",
   "id": "815c5a43",
   "metadata": {},
   "source": [
    "## Schutzer2010\n",
    "Establishing the Proteome of Normal Human Cerebrospinal Fluid\n",
    "https://doi.org/10.1371/journal.pone.0010980"
   ]
  },
  {
   "cell_type": "code",
   "execution_count": 21,
   "id": "0678b9d1",
   "metadata": {},
   "outputs": [],
   "source": [
    "Schutzer2010 = pd.read_csv(data_path + \"Schutzer2010.csv\", sep=\";\", header=None, names=[\"IPI\"])\n",
    "# copied out of PDF, not correctly modified"
   ]
  },
  {
   "cell_type": "code",
   "execution_count": 22,
   "id": "8bc4b9ea",
   "metadata": {},
   "outputs": [
    {
     "data": {
      "text/html": [
       "<div>\n",
       "<style scoped>\n",
       "    .dataframe tbody tr th:only-of-type {\n",
       "        vertical-align: middle;\n",
       "    }\n",
       "\n",
       "    .dataframe tbody tr th {\n",
       "        vertical-align: top;\n",
       "    }\n",
       "\n",
       "    .dataframe thead th {\n",
       "        text-align: right;\n",
       "    }\n",
       "</style>\n",
       "<table border=\"1\" class=\"dataframe\">\n",
       "  <thead>\n",
       "    <tr style=\"text-align: right;\">\n",
       "      <th></th>\n",
       "      <th>IPI</th>\n",
       "      <th>#Peptides_Schutzer2010</th>\n",
       "    </tr>\n",
       "  </thead>\n",
       "  <tbody>\n",
       "    <tr>\n",
       "      <th>0</th>\n",
       "      <td>IPI00000027</td>\n",
       "      <td>1</td>\n",
       "    </tr>\n",
       "    <tr>\n",
       "      <th>3</th>\n",
       "      <td>IPI00000044</td>\n",
       "      <td>5</td>\n",
       "    </tr>\n",
       "    <tr>\n",
       "      <th>8</th>\n",
       "      <td>IPI00000070</td>\n",
       "      <td>1</td>\n",
       "    </tr>\n",
       "    <tr>\n",
       "      <th>9</th>\n",
       "      <td>IPI00000076</td>\n",
       "      <td>1</td>\n",
       "    </tr>\n",
       "    <tr>\n",
       "      <th>10</th>\n",
       "      <td>IPI00000087</td>\n",
       "      <td>2</td>\n",
       "    </tr>\n",
       "  </tbody>\n",
       "</table>\n",
       "</div>"
      ],
      "text/plain": [
       "            IPI  #Peptides_Schutzer2010\n",
       "0   IPI00000027                       1\n",
       "3   IPI00000044                       5\n",
       "8   IPI00000070                       1\n",
       "9   IPI00000076                       1\n",
       "10  IPI00000087                       2"
      ]
     },
     "execution_count": 22,
     "metadata": {},
     "output_type": "execute_result"
    }
   ],
   "source": [
    "# count number of peptides per Uniprot ID\n",
    "Schutzer2010[\"IPI\"] = Schutzer2010[\"IPI\"].apply(lambda x: x.split(\" \")[0])\n",
    "# remove rows that do not contain IPI IDs\n",
    "Schutzer2010 = Schutzer2010[Schutzer2010[\"IPI\"].str.contains(\"IPI\")]\n",
    "Schutzer2010[\"#Peptides_Schutzer2010\"] = Schutzer2010.groupby(\"IPI\")[\"IPI\"].transform(\"count\")\n",
    "Schutzer2010.drop_duplicates(subset=[\"IPI\"], inplace=True)\n",
    "Schutzer2010[:5]"
   ]
  },
  {
   "cell_type": "code",
   "execution_count": 23,
   "id": "95122f8e",
   "metadata": {},
   "outputs": [],
   "source": [
    "# save IPI IDs to text file for IPI to Uniprot mapping \n",
    "with open(data_path + \"Schutzer2010_IPI.txt\", \"w\") as f:\n",
    "    for item in Schutzer2010[\"IPI\"]:\n",
    "        f.write(\"%s\\n\" % item)"
   ]
  },
  {
   "cell_type": "markdown",
   "id": "883b14c9",
   "metadata": {},
   "source": [
    "Conversion tool: https://biodbnet-abcc.ncifcrf.gov/db/db2db.php"
   ]
  },
  {
   "cell_type": "code",
   "execution_count": 24,
   "id": "431425ed",
   "metadata": {},
   "outputs": [
    {
     "data": {
      "text/html": [
       "<div>\n",
       "<style scoped>\n",
       "    .dataframe tbody tr th:only-of-type {\n",
       "        vertical-align: middle;\n",
       "    }\n",
       "\n",
       "    .dataframe tbody tr th {\n",
       "        vertical-align: top;\n",
       "    }\n",
       "\n",
       "    .dataframe thead th {\n",
       "        text-align: right;\n",
       "    }\n",
       "</style>\n",
       "<table border=\"1\" class=\"dataframe\">\n",
       "  <thead>\n",
       "    <tr style=\"text-align: right;\">\n",
       "      <th></th>\n",
       "      <th>IPI</th>\n",
       "      <th>Uniprot</th>\n",
       "    </tr>\n",
       "  </thead>\n",
       "  <tbody>\n",
       "    <tr>\n",
       "      <th>1</th>\n",
       "      <td>IPI00000044</td>\n",
       "      <td>P01127</td>\n",
       "    </tr>\n",
       "    <tr>\n",
       "      <th>2</th>\n",
       "      <td>IPI00000070</td>\n",
       "      <td>P01130</td>\n",
       "    </tr>\n",
       "    <tr>\n",
       "      <th>3</th>\n",
       "      <td>IPI00000076</td>\n",
       "      <td>P01138</td>\n",
       "    </tr>\n",
       "    <tr>\n",
       "      <th>4</th>\n",
       "      <td>IPI00000087</td>\n",
       "      <td>O60939</td>\n",
       "    </tr>\n",
       "    <tr>\n",
       "      <th>5</th>\n",
       "      <td>IPI00000104</td>\n",
       "      <td>O60942</td>\n",
       "    </tr>\n",
       "  </tbody>\n",
       "</table>\n",
       "</div>"
      ],
      "text/plain": [
       "           IPI Uniprot\n",
       "1  IPI00000044  P01127\n",
       "2  IPI00000070  P01130\n",
       "3  IPI00000076  P01138\n",
       "4  IPI00000087  O60939\n",
       "5  IPI00000104  O60942"
      ]
     },
     "execution_count": 24,
     "metadata": {},
     "output_type": "execute_result"
    }
   ],
   "source": [
    "Schutzer2010_mapping = pd.read_csv(data_path + \"Schutzer2010_IPI_to_Uniprot.csv\", sep=\";\", header=0, names=[\"IPI\", \"Uniprot\"])\n",
    "# drop rows without successful mapping\n",
    "Schutzer2010_mapping = Schutzer2010_mapping[Schutzer2010_mapping[\"Uniprot\"].str.contains(\"-\") == False]\n",
    "Schutzer2010_mapping[:5]"
   ]
  },
  {
   "cell_type": "code",
   "execution_count": 25,
   "id": "f5b085ea",
   "metadata": {},
   "outputs": [
    {
     "data": {
      "text/html": [
       "<div>\n",
       "<style scoped>\n",
       "    .dataframe tbody tr th:only-of-type {\n",
       "        vertical-align: middle;\n",
       "    }\n",
       "\n",
       "    .dataframe tbody tr th {\n",
       "        vertical-align: top;\n",
       "    }\n",
       "\n",
       "    .dataframe thead th {\n",
       "        text-align: right;\n",
       "    }\n",
       "</style>\n",
       "<table border=\"1\" class=\"dataframe\">\n",
       "  <thead>\n",
       "    <tr style=\"text-align: right;\">\n",
       "      <th></th>\n",
       "      <th>Uniprot</th>\n",
       "      <th>#Peptides_Schutzer2010</th>\n",
       "    </tr>\n",
       "  </thead>\n",
       "  <tbody>\n",
       "    <tr>\n",
       "      <th>0</th>\n",
       "      <td>P01127</td>\n",
       "      <td>5</td>\n",
       "    </tr>\n",
       "    <tr>\n",
       "      <th>1</th>\n",
       "      <td>P01130</td>\n",
       "      <td>1</td>\n",
       "    </tr>\n",
       "    <tr>\n",
       "      <th>2</th>\n",
       "      <td>P01138</td>\n",
       "      <td>1</td>\n",
       "    </tr>\n",
       "    <tr>\n",
       "      <th>3</th>\n",
       "      <td>O60939</td>\n",
       "      <td>2</td>\n",
       "    </tr>\n",
       "    <tr>\n",
       "      <th>4</th>\n",
       "      <td>O60942</td>\n",
       "      <td>1</td>\n",
       "    </tr>\n",
       "  </tbody>\n",
       "</table>\n",
       "</div>"
      ],
      "text/plain": [
       "  Uniprot  #Peptides_Schutzer2010\n",
       "0  P01127                       5\n",
       "1  P01130                       1\n",
       "2  P01138                       1\n",
       "3  O60939                       2\n",
       "4  O60942                       1"
      ]
     },
     "execution_count": 25,
     "metadata": {},
     "output_type": "execute_result"
    }
   ],
   "source": [
    "# merge mapping table with protein list\n",
    "Schutzer2010 = Schutzer2010_mapping.merge(Schutzer2010, how=\"inner\", on=\"IPI\")\n",
    "Schutzer2010.drop(labels=\"IPI\", axis=1, inplace=True)\n",
    "Schutzer2010.drop_duplicates(subset=[\"Uniprot\"], inplace=True)\n",
    "Schutzer2010[:5]"
   ]
  },
  {
   "cell_type": "code",
   "execution_count": 26,
   "id": "9f96c26f",
   "metadata": {},
   "outputs": [
    {
     "name": "stdout",
     "output_type": "stream",
     "text": [
      "Number of proteins in data set with at least 1 peptide: 2067\n",
      "Number of proteins in data set with at least 2 peptides: 1217\n"
     ]
    }
   ],
   "source": [
    "print(\"Number of proteins in data set with at least 1 peptide:\", len(Schutzer2010[Schutzer2010[\"#Peptides_Schutzer2010\"] > 0]))\n",
    "print(\"Number of proteins in data set with at least 2 peptides:\", len(Schutzer2010[Schutzer2010[\"#Peptides_Schutzer2010\"] > 1]))"
   ]
  },
  {
   "cell_type": "markdown",
   "id": "1a2d0276",
   "metadata": {},
   "source": [
    "## Smaller CSF studies (not included)"
   ]
  },
  {
   "cell_type": "markdown",
   "id": "c1ab7237",
   "metadata": {},
   "source": [
    "### NunezGalindo2015\n",
    "Proteomics of Cerebrospinal Fluid: Throughput and Robustness Using a Scalable Automated Analysis Pipeline for Biomarker Discovery \n",
    "https://doi.org/10.1021/acs.analchem.5b02748"
   ]
  },
  {
   "cell_type": "code",
   "execution_count": 27,
   "id": "9a744465",
   "metadata": {},
   "outputs": [],
   "source": [
    "NunezGalindo2015 = pd.read_csv(data_path + \"NunezGalindo2015.csv\", sep=\";\", header=143, low_memory=False)"
   ]
  },
  {
   "cell_type": "code",
   "execution_count": 28,
   "id": "865bcc2b",
   "metadata": {},
   "outputs": [],
   "source": [
    "NunezGalindo2015 = NunezGalindo2015[[\"Protein accession numbers\", \"Exclusive unique peptide count\"]]\n",
    "NunezGalindo2015.columns = [\"Name\", \"#Peptides_NunezGalindo2015\"]\n",
    "NunezGalindo2015.drop_duplicates(subset=[\"Name\"], inplace=True)\n",
    "NunezGalindo2015.dropna(inplace=True)"
   ]
  },
  {
   "cell_type": "code",
   "execution_count": 29,
   "id": "e15a908b",
   "metadata": {},
   "outputs": [
    {
     "data": {
      "text/html": [
       "<div>\n",
       "<style scoped>\n",
       "    .dataframe tbody tr th:only-of-type {\n",
       "        vertical-align: middle;\n",
       "    }\n",
       "\n",
       "    .dataframe tbody tr th {\n",
       "        vertical-align: top;\n",
       "    }\n",
       "\n",
       "    .dataframe thead th {\n",
       "        text-align: right;\n",
       "    }\n",
       "</style>\n",
       "<table border=\"1\" class=\"dataframe\">\n",
       "  <thead>\n",
       "    <tr style=\"text-align: right;\">\n",
       "      <th></th>\n",
       "      <th>Name</th>\n",
       "      <th>Uniprot</th>\n",
       "    </tr>\n",
       "  </thead>\n",
       "  <tbody>\n",
       "    <tr>\n",
       "      <th>0</th>\n",
       "      <td>TIMP2_HUMAN</td>\n",
       "      <td>P16035</td>\n",
       "    </tr>\n",
       "    <tr>\n",
       "      <th>1</th>\n",
       "      <td>ANGT_HUMAN</td>\n",
       "      <td>P01019</td>\n",
       "    </tr>\n",
       "    <tr>\n",
       "      <th>2</th>\n",
       "      <td>PGAM1_HUMAN</td>\n",
       "      <td>P18669</td>\n",
       "    </tr>\n",
       "    <tr>\n",
       "      <th>3</th>\n",
       "      <td>SULF2_HUMAN</td>\n",
       "      <td>Q8IWU5</td>\n",
       "    </tr>\n",
       "    <tr>\n",
       "      <th>4</th>\n",
       "      <td>ROA1_HUMAN</td>\n",
       "      <td>P09651</td>\n",
       "    </tr>\n",
       "  </tbody>\n",
       "</table>\n",
       "</div>"
      ],
      "text/plain": [
       "          Name Uniprot\n",
       "0  TIMP2_HUMAN  P16035\n",
       "1   ANGT_HUMAN  P01019\n",
       "2  PGAM1_HUMAN  P18669\n",
       "3  SULF2_HUMAN  Q8IWU5\n",
       "4   ROA1_HUMAN  P09651"
      ]
     },
     "execution_count": 29,
     "metadata": {},
     "output_type": "execute_result"
    }
   ],
   "source": [
    "NunezGalindo2015_mapping = pd.read_csv(data_path + \"NunezGalindo2015_Name_to_Uniprot.tab\", sep=\"\\t\", header=0, \n",
    "    names=[\"Name\", \"Uniprot\"])\n",
    "NunezGalindo2015_mapping[:5]"
   ]
  },
  {
   "cell_type": "code",
   "execution_count": 30,
   "id": "b494aa22",
   "metadata": {},
   "outputs": [],
   "source": [
    "# save IPI IDs to text file for IPI to Uniprot mapping \n",
    "with open(data_path + \"NunezGalindo2015_Uniprot_name.txt\", \"w\") as f:\n",
    "    for item in NunezGalindo2015[\"Name\"]:\n",
    "        f.write(\"%s\\n\" % item)"
   ]
  },
  {
   "cell_type": "code",
   "execution_count": 31,
   "id": "20d1ad37",
   "metadata": {},
   "outputs": [
    {
     "data": {
      "text/html": [
       "<div>\n",
       "<style scoped>\n",
       "    .dataframe tbody tr th:only-of-type {\n",
       "        vertical-align: middle;\n",
       "    }\n",
       "\n",
       "    .dataframe tbody tr th {\n",
       "        vertical-align: top;\n",
       "    }\n",
       "\n",
       "    .dataframe thead th {\n",
       "        text-align: right;\n",
       "    }\n",
       "</style>\n",
       "<table border=\"1\" class=\"dataframe\">\n",
       "  <thead>\n",
       "    <tr style=\"text-align: right;\">\n",
       "      <th></th>\n",
       "      <th>Uniprot</th>\n",
       "      <th>#Peptides_NunezGalindo2015</th>\n",
       "    </tr>\n",
       "  </thead>\n",
       "  <tbody>\n",
       "    <tr>\n",
       "      <th>0</th>\n",
       "      <td>P16035</td>\n",
       "      <td>14.0</td>\n",
       "    </tr>\n",
       "    <tr>\n",
       "      <th>1</th>\n",
       "      <td>P01019</td>\n",
       "      <td>10.0</td>\n",
       "    </tr>\n",
       "    <tr>\n",
       "      <th>2</th>\n",
       "      <td>P18669</td>\n",
       "      <td>1.0</td>\n",
       "    </tr>\n",
       "    <tr>\n",
       "      <th>3</th>\n",
       "      <td>Q8IWU5</td>\n",
       "      <td>1.0</td>\n",
       "    </tr>\n",
       "    <tr>\n",
       "      <th>4</th>\n",
       "      <td>P09651</td>\n",
       "      <td>2.0</td>\n",
       "    </tr>\n",
       "  </tbody>\n",
       "</table>\n",
       "</div>"
      ],
      "text/plain": [
       "  Uniprot  #Peptides_NunezGalindo2015\n",
       "0  P16035                        14.0\n",
       "1  P01019                        10.0\n",
       "2  P18669                         1.0\n",
       "3  Q8IWU5                         1.0\n",
       "4  P09651                         2.0"
      ]
     },
     "execution_count": 31,
     "metadata": {},
     "output_type": "execute_result"
    }
   ],
   "source": [
    "# merge mapping table with protein list\n",
    "NunezGalindo2015 = NunezGalindo2015_mapping.merge(NunezGalindo2015, how=\"inner\", on=\"Name\")\n",
    "NunezGalindo2015.drop(labels=\"Name\", axis=1, inplace=True)\n",
    "NunezGalindo2015[:5]"
   ]
  },
  {
   "cell_type": "code",
   "execution_count": 32,
   "id": "5c831b63",
   "metadata": {},
   "outputs": [
    {
     "name": "stdout",
     "output_type": "stream",
     "text": [
      "Number of unique proteins with at least 1 peptide: 742\n",
      "Number of unique proteins with at least 2 peptides: 526\n"
     ]
    }
   ],
   "source": [
    "print(\"Number of unique proteins with at least 1 peptide:\", \n",
    "      len(NunezGalindo2015[NunezGalindo2015[\"#Peptides_NunezGalindo2015\"] > 0]))\n",
    "print(\"Number of unique proteins with at least 2 peptides:\", \n",
    "      len(NunezGalindo2015[NunezGalindo2015[\"#Peptides_NunezGalindo2015\"] > 1]))"
   ]
  },
  {
   "cell_type": "markdown",
   "id": "a44cbdaa",
   "metadata": {},
   "source": [
    "### Zougmann2007"
   ]
  },
  {
   "cell_type": "code",
   "execution_count": 33,
   "id": "f554db10",
   "metadata": {},
   "outputs": [],
   "source": [
    "Zougman2007 = pd.read_csv(data_path + \"Zougman2007.csv\", sep=\";\", header=0, names=[\"IPI\"])"
   ]
  },
  {
   "cell_type": "code",
   "execution_count": 34,
   "id": "436d1835",
   "metadata": {},
   "outputs": [
    {
     "data": {
      "text/html": [
       "<div>\n",
       "<style scoped>\n",
       "    .dataframe tbody tr th:only-of-type {\n",
       "        vertical-align: middle;\n",
       "    }\n",
       "\n",
       "    .dataframe tbody tr th {\n",
       "        vertical-align: top;\n",
       "    }\n",
       "\n",
       "    .dataframe thead th {\n",
       "        text-align: right;\n",
       "    }\n",
       "</style>\n",
       "<table border=\"1\" class=\"dataframe\">\n",
       "  <thead>\n",
       "    <tr style=\"text-align: right;\">\n",
       "      <th></th>\n",
       "      <th>IPI</th>\n",
       "      <th>#Peptides_Zougman2007</th>\n",
       "    </tr>\n",
       "  </thead>\n",
       "  <tbody>\n",
       "    <tr>\n",
       "      <th>0</th>\n",
       "      <td>IPI00000024</td>\n",
       "      <td>2</td>\n",
       "    </tr>\n",
       "    <tr>\n",
       "      <th>2</th>\n",
       "      <td>IPI00000137</td>\n",
       "      <td>6</td>\n",
       "    </tr>\n",
       "    <tr>\n",
       "      <th>8</th>\n",
       "      <td>IPI00000138</td>\n",
       "      <td>4</td>\n",
       "    </tr>\n",
       "    <tr>\n",
       "      <th>12</th>\n",
       "      <td>IPI00000190</td>\n",
       "      <td>2</td>\n",
       "    </tr>\n",
       "    <tr>\n",
       "      <th>14</th>\n",
       "      <td>IPI00000265</td>\n",
       "      <td>2</td>\n",
       "    </tr>\n",
       "  </tbody>\n",
       "</table>\n",
       "</div>"
      ],
      "text/plain": [
       "            IPI  #Peptides_Zougman2007\n",
       "0   IPI00000024                      2\n",
       "2   IPI00000137                      6\n",
       "8   IPI00000138                      4\n",
       "12  IPI00000190                      2\n",
       "14  IPI00000265                      2"
      ]
     },
     "execution_count": 34,
     "metadata": {},
     "output_type": "execute_result"
    }
   ],
   "source": [
    "# count number of peptides per Uniprot ID\n",
    "Zougman2007[\"IPI\"] = Zougman2007[\"IPI\"].apply(lambda x: x.split(\" \")[0])\n",
    "# remove rows that do not contain IPI IDs\n",
    "Zougman2007 = Zougman2007[Zougman2007[\"IPI\"].str.contains(\"IPI\")]\n",
    "Zougman2007[\"#Peptides_Zougman2007\"] = Zougman2007.groupby(\"IPI\")[\"IPI\"].transform(\"count\")\n",
    "Zougman2007.drop_duplicates(subset=[\"IPI\"], inplace=True)\n",
    "Zougman2007[:5]"
   ]
  },
  {
   "cell_type": "code",
   "execution_count": 35,
   "id": "3c240400",
   "metadata": {},
   "outputs": [],
   "source": [
    "# save IPI IDs to text file for IPI to Uniprot mapping \n",
    "with open(data_path + \"Zougman2007_IPI.txt\", \"w\") as f:\n",
    "    for item in Zougman2007[\"IPI\"]:\n",
    "        f.write(\"%s\\n\" % item)"
   ]
  },
  {
   "cell_type": "markdown",
   "id": "62b742bf",
   "metadata": {},
   "source": [
    "Conversion tool: https://biodbnet-abcc.ncifcrf.gov/db/db2db.php"
   ]
  },
  {
   "cell_type": "code",
   "execution_count": 36,
   "id": "0b3ad1f8",
   "metadata": {},
   "outputs": [
    {
     "data": {
      "text/html": [
       "<div>\n",
       "<style scoped>\n",
       "    .dataframe tbody tr th:only-of-type {\n",
       "        vertical-align: middle;\n",
       "    }\n",
       "\n",
       "    .dataframe tbody tr th {\n",
       "        vertical-align: top;\n",
       "    }\n",
       "\n",
       "    .dataframe thead th {\n",
       "        text-align: right;\n",
       "    }\n",
       "</style>\n",
       "<table border=\"1\" class=\"dataframe\">\n",
       "  <thead>\n",
       "    <tr style=\"text-align: right;\">\n",
       "      <th></th>\n",
       "      <th>IPI</th>\n",
       "      <th>Uniprot</th>\n",
       "    </tr>\n",
       "  </thead>\n",
       "  <tbody>\n",
       "    <tr>\n",
       "      <th>0</th>\n",
       "      <td>IPI00000024</td>\n",
       "      <td>Q08174</td>\n",
       "    </tr>\n",
       "    <tr>\n",
       "      <th>1</th>\n",
       "      <td>IPI00000137</td>\n",
       "      <td>Q9UJJ9</td>\n",
       "    </tr>\n",
       "    <tr>\n",
       "      <th>2</th>\n",
       "      <td>IPI00000138</td>\n",
       "      <td>P26572</td>\n",
       "    </tr>\n",
       "    <tr>\n",
       "      <th>3</th>\n",
       "      <td>IPI00000190</td>\n",
       "      <td>P60033</td>\n",
       "    </tr>\n",
       "    <tr>\n",
       "      <th>4</th>\n",
       "      <td>IPI00000265</td>\n",
       "      <td>Q5VUB5</td>\n",
       "    </tr>\n",
       "  </tbody>\n",
       "</table>\n",
       "</div>"
      ],
      "text/plain": [
       "           IPI Uniprot\n",
       "0  IPI00000024  Q08174\n",
       "1  IPI00000137  Q9UJJ9\n",
       "2  IPI00000138  P26572\n",
       "3  IPI00000190  P60033\n",
       "4  IPI00000265  Q5VUB5"
      ]
     },
     "execution_count": 36,
     "metadata": {},
     "output_type": "execute_result"
    }
   ],
   "source": [
    "Zougman2007_mapping = pd.read_csv(data_path + \"Zougman2007_IPI_to_Uniprot.csv\", sep=\";\", header=0, names=[\"IPI\", \"Uniprot\"])\n",
    "# drop rows without successful mapping\n",
    "Zougman2007_mapping = Zougman2007_mapping[Zougman2007_mapping[\"Uniprot\"].str.contains(\"-\") == False]\n",
    "Zougman2007_mapping[:5]"
   ]
  },
  {
   "cell_type": "code",
   "execution_count": 37,
   "id": "7d8c23b8",
   "metadata": {},
   "outputs": [
    {
     "data": {
      "text/html": [
       "<div>\n",
       "<style scoped>\n",
       "    .dataframe tbody tr th:only-of-type {\n",
       "        vertical-align: middle;\n",
       "    }\n",
       "\n",
       "    .dataframe tbody tr th {\n",
       "        vertical-align: top;\n",
       "    }\n",
       "\n",
       "    .dataframe thead th {\n",
       "        text-align: right;\n",
       "    }\n",
       "</style>\n",
       "<table border=\"1\" class=\"dataframe\">\n",
       "  <thead>\n",
       "    <tr style=\"text-align: right;\">\n",
       "      <th></th>\n",
       "      <th>Uniprot</th>\n",
       "      <th>#Peptides_Zougman2007</th>\n",
       "    </tr>\n",
       "  </thead>\n",
       "  <tbody>\n",
       "    <tr>\n",
       "      <th>0</th>\n",
       "      <td>Q08174</td>\n",
       "      <td>2</td>\n",
       "    </tr>\n",
       "    <tr>\n",
       "      <th>1</th>\n",
       "      <td>Q9UJJ9</td>\n",
       "      <td>6</td>\n",
       "    </tr>\n",
       "    <tr>\n",
       "      <th>2</th>\n",
       "      <td>P26572</td>\n",
       "      <td>4</td>\n",
       "    </tr>\n",
       "    <tr>\n",
       "      <th>3</th>\n",
       "      <td>P60033</td>\n",
       "      <td>2</td>\n",
       "    </tr>\n",
       "    <tr>\n",
       "      <th>4</th>\n",
       "      <td>Q5VUB5</td>\n",
       "      <td>2</td>\n",
       "    </tr>\n",
       "  </tbody>\n",
       "</table>\n",
       "</div>"
      ],
      "text/plain": [
       "  Uniprot  #Peptides_Zougman2007\n",
       "0  Q08174                      2\n",
       "1  Q9UJJ9                      6\n",
       "2  P26572                      4\n",
       "3  P60033                      2\n",
       "4  Q5VUB5                      2"
      ]
     },
     "execution_count": 37,
     "metadata": {},
     "output_type": "execute_result"
    }
   ],
   "source": [
    "# merge mapping table with protein list\n",
    "Zougman2007 = Zougman2007_mapping.merge(Zougman2007, how=\"inner\", on=\"IPI\")\n",
    "Zougman2007.drop(labels=\"IPI\", axis=1, inplace=True)\n",
    "Zougman2007.drop_duplicates(subset=[\"Uniprot\"], inplace=True)\n",
    "Zougman2007[:5]"
   ]
  },
  {
   "cell_type": "code",
   "execution_count": 38,
   "id": "b7b23aa2",
   "metadata": {},
   "outputs": [
    {
     "name": "stdout",
     "output_type": "stream",
     "text": [
      "Number of unique proteins with at least 1 peptide: 623\n",
      "Number of unique proteins with at least 2 peptides: 572\n"
     ]
    }
   ],
   "source": [
    "print(\"Number of unique proteins with at least 1 peptide:\", len(Zougman2007[Zougman2007[\"#Peptides_Zougman2007\"] > 0]))\n",
    "print(\"Number of unique proteins with at least 2 peptides:\", len(Zougman2007[Zougman2007[\"#Peptides_Zougman2007\"] > 1]))"
   ]
  },
  {
   "cell_type": "markdown",
   "id": "43904552",
   "metadata": {},
   "source": [
    "### Schilde2018\n",
    "Protein variability in cerebrospinal fluid and its possible implications for neurological protein biomarker research\n",
    "https://doi.org/10.1371/journal.pone.0206478"
   ]
  },
  {
   "cell_type": "code",
   "execution_count": 39,
   "id": "5c518258",
   "metadata": {},
   "outputs": [],
   "source": [
    "Schilde2018 = pd.read_csv(data_path + \"Schilde2018.csv\", sep=\";\") "
   ]
  },
  {
   "cell_type": "code",
   "execution_count": 40,
   "id": "29eff5d8",
   "metadata": {},
   "outputs": [
    {
     "data": {
      "text/html": [
       "<div>\n",
       "<style scoped>\n",
       "    .dataframe tbody tr th:only-of-type {\n",
       "        vertical-align: middle;\n",
       "    }\n",
       "\n",
       "    .dataframe tbody tr th {\n",
       "        vertical-align: top;\n",
       "    }\n",
       "\n",
       "    .dataframe thead th {\n",
       "        text-align: right;\n",
       "    }\n",
       "</style>\n",
       "<table border=\"1\" class=\"dataframe\">\n",
       "  <thead>\n",
       "    <tr style=\"text-align: right;\">\n",
       "      <th></th>\n",
       "      <th>Uniprot</th>\n",
       "      <th>#Peptides_Schilde2018</th>\n",
       "    </tr>\n",
       "  </thead>\n",
       "  <tbody>\n",
       "    <tr>\n",
       "      <th>0</th>\n",
       "      <td>A0A075B6S6</td>\n",
       "      <td>2.0</td>\n",
       "    </tr>\n",
       "    <tr>\n",
       "      <th>1</th>\n",
       "      <td>A0A0A0MS15</td>\n",
       "      <td>2.0</td>\n",
       "    </tr>\n",
       "    <tr>\n",
       "      <th>2</th>\n",
       "      <td>A0A0B4J1U7</td>\n",
       "      <td>3.0</td>\n",
       "    </tr>\n",
       "    <tr>\n",
       "      <th>3</th>\n",
       "      <td>A0A0C4DH38</td>\n",
       "      <td>3.0</td>\n",
       "    </tr>\n",
       "    <tr>\n",
       "      <th>4</th>\n",
       "      <td>A0A0C4DH68</td>\n",
       "      <td>2.0</td>\n",
       "    </tr>\n",
       "  </tbody>\n",
       "</table>\n",
       "</div>"
      ],
      "text/plain": [
       "      Uniprot  #Peptides_Schilde2018\n",
       "0  A0A075B6S6                    2.0\n",
       "1  A0A0A0MS15                    2.0\n",
       "2  A0A0B4J1U7                    3.0\n",
       "3  A0A0C4DH38                    3.0\n",
       "4  A0A0C4DH68                    2.0"
      ]
     },
     "execution_count": 40,
     "metadata": {},
     "output_type": "execute_result"
    }
   ],
   "source": [
    "Schilde2018 = Schilde2018[[\"Protein IDs\", \"Unique peptides K1.1\", \"Unique peptides K1.2\", \"Unique peptides K1.3\", \n",
    "                           \"Unique peptides K2.1\", \"Unique peptides K2.2\", \"Unique peptides K2.3\", \"Unique peptides K5.1\",\n",
    "                           \"Unique peptides K5.2\", \"Unique peptides K5.3\", \"Unique peptides K8.1\", \"Unique peptides K8.2\", \n",
    "                           \"Unique peptides K8.3\", \"Unique peptides K13.1\", \"Unique peptides K13.2\", \"Unique peptides K13.3\",\n",
    "                           \"Unique peptides K14.1\", \"Unique peptides K14.2\", \"Unique peptides K14.3\", \"Unique peptides K26.1\",\n",
    "                           \"Unique peptides K26.2\", \"Unique peptides K26.3\", \"Unique peptides K33.1\", \"Unique peptides K33.2\",\n",
    "                           \"Unique peptides K33.3\", \"Unique peptides K36.1\", \"Unique peptides K36.2\", \"Unique peptides K36.3\",\n",
    "                           \"Unique peptides K38.1\", \"Unique peptides K38.2\", \"Unique peptides K38.3\", \"Unique peptides K39.1\",\n",
    "                           \"Unique peptides K39.2\", \"Unique peptides K39.3\", \"Unique peptides K40.1\", \"Unique peptides K40.2\",\n",
    "                           \"Unique peptides K40.3\"]]\n",
    "# find maximum number of identified peptides\n",
    "Schilde2018[\"#Peptides_Schilde2018\"] = Schilde2018[[\"Unique peptides K1.1\", \"Unique peptides K1.2\", \"Unique peptides K1.3\", \n",
    "                           \"Unique peptides K2.1\", \"Unique peptides K2.2\", \"Unique peptides K2.3\", \"Unique peptides K5.1\",\n",
    "                           \"Unique peptides K5.2\", \"Unique peptides K5.3\", \"Unique peptides K8.1\", \"Unique peptides K8.2\", \n",
    "                           \"Unique peptides K8.3\", \"Unique peptides K13.1\", \"Unique peptides K13.2\", \"Unique peptides K13.3\",\n",
    "                           \"Unique peptides K14.1\", \"Unique peptides K14.2\", \"Unique peptides K14.3\", \"Unique peptides K26.1\",\n",
    "                           \"Unique peptides K26.2\", \"Unique peptides K26.3\", \"Unique peptides K33.1\", \"Unique peptides K33.2\",\n",
    "                           \"Unique peptides K33.3\", \"Unique peptides K36.1\", \"Unique peptides K36.2\", \"Unique peptides K36.3\",\n",
    "                           \"Unique peptides K38.1\", \"Unique peptides K38.2\", \"Unique peptides K38.3\", \"Unique peptides K39.1\",\n",
    "                           \"Unique peptides K39.2\", \"Unique peptides K39.3\", \"Unique peptides K40.1\", \"Unique peptides K40.2\",\n",
    "                           \"Unique peptides K40.3\"]].max(axis=1)\n",
    "\n",
    "Schilde2018 = Schilde2018[[\"Protein IDs\", \"#Peptides_Schilde2018\"]]\n",
    "Schilde2018.columns = [\"Uniprot\", \"#Peptides_Schilde2018\"]\n",
    "Schilde2018[:5]"
   ]
  },
  {
   "cell_type": "code",
   "execution_count": 41,
   "id": "d0f70b37",
   "metadata": {},
   "outputs": [
    {
     "name": "stdout",
     "output_type": "stream",
     "text": [
      "Number of unique proteins with at least 1 peptide: 610\n",
      "Number of unique proteins with at least 2 peptides: 610\n"
     ]
    }
   ],
   "source": [
    "print(\"Number of unique proteins with at least 1 peptide:\", len(Schilde2018[Schilde2018[\"#Peptides_Schilde2018\"] > 0]))\n",
    "print(\"Number of unique proteins with at least 2 peptides:\", len(Schilde2018[Schilde2018[\"#Peptides_Schilde2018\"] > 1]))"
   ]
  },
  {
   "cell_type": "markdown",
   "id": "49269acf",
   "metadata": {},
   "source": [
    "### Guo2015\n",
    "A Proteomic Analysis of Individual and Gender Variations in Normal Human Urine and Cerebrospinal Fluid Using iTRAQ Quantification\n",
    "https://doi.org/10.1371/journal.pone.0133270"
   ]
  },
  {
   "cell_type": "code",
   "execution_count": 42,
   "id": "ac1ec911",
   "metadata": {
    "scrolled": true
   },
   "outputs": [],
   "source": [
    "# peptide data sets\n",
    "Guo2015_male = pd.read_csv(data_path + \"Guo2015_D.csv\", sep=\";\")\n",
    "Guo2015_female = pd.read_csv(data_path + \"Guo2015_E.csv\", sep=\";\")"
   ]
  },
  {
   "cell_type": "code",
   "execution_count": 43,
   "id": "e5c2af12",
   "metadata": {},
   "outputs": [],
   "source": [
    "def curate_Guo(dataset):\n",
    "    dataset = dataset[[\"Accession Numbers\", \"Sequence\"]]\n",
    "    dataset.columns = [\"Uniprot\", \"Sequence\"]\n",
    "    # count number of peptides per Uniprot ID\n",
    "    dataset[\"#Peptides\"] = dataset.groupby(\"Uniprot\")[\"Uniprot\"].transform(\"count\")\n",
    "    dataset.drop(labels=\"Sequence\", axis=1, inplace=True)\n",
    "    dataset.drop_duplicates(subset=[\"Uniprot\"], inplace=True)\n",
    "    # drop entries with more than one associated Uniprot ID\n",
    "    dataset = dataset[dataset[\"Uniprot\"].str.contains(\",\") == False]\n",
    "    return dataset\n",
    "\n",
    "Guo2015_male = curate_Guo(Guo2015_male)\n",
    "Guo2015_female = curate_Guo(Guo2015_female)"
   ]
  },
  {
   "cell_type": "code",
   "execution_count": 44,
   "id": "38a862c9",
   "metadata": {},
   "outputs": [
    {
     "name": "stdout",
     "output_type": "stream",
     "text": [
      "Number of unique proteins with at least 1 peptide (male): 441\n",
      "Number of unique proteins with at least 1 peptide (female): 429\n"
     ]
    }
   ],
   "source": [
    "print(\"Number of unique proteins with at least 1 peptide (male):\", len(Guo2015_male[Guo2015_male[\"#Peptides\"] > 0]))\n",
    "print(\"Number of unique proteins with at least 1 peptide (female):\", len(Guo2015_female[Guo2015_female[\"#Peptides\"] > 0]))"
   ]
  },
  {
   "cell_type": "code",
   "execution_count": 45,
   "id": "9c881d71",
   "metadata": {},
   "outputs": [
    {
     "data": {
      "text/html": [
       "<div>\n",
       "<style scoped>\n",
       "    .dataframe tbody tr th:only-of-type {\n",
       "        vertical-align: middle;\n",
       "    }\n",
       "\n",
       "    .dataframe tbody tr th {\n",
       "        vertical-align: top;\n",
       "    }\n",
       "\n",
       "    .dataframe thead th {\n",
       "        text-align: right;\n",
       "    }\n",
       "</style>\n",
       "<table border=\"1\" class=\"dataframe\">\n",
       "  <thead>\n",
       "    <tr style=\"text-align: right;\">\n",
       "      <th></th>\n",
       "      <th>Uniprot</th>\n",
       "      <th>#Peptides_Guo2015</th>\n",
       "    </tr>\n",
       "  </thead>\n",
       "  <tbody>\n",
       "    <tr>\n",
       "      <th>0</th>\n",
       "      <td>P02768</td>\n",
       "      <td>194.0</td>\n",
       "    </tr>\n",
       "    <tr>\n",
       "      <th>1</th>\n",
       "      <td>P02787</td>\n",
       "      <td>158.0</td>\n",
       "    </tr>\n",
       "    <tr>\n",
       "      <th>2</th>\n",
       "      <td>P01024</td>\n",
       "      <td>254.0</td>\n",
       "    </tr>\n",
       "    <tr>\n",
       "      <th>3</th>\n",
       "      <td>P41222</td>\n",
       "      <td>32.0</td>\n",
       "    </tr>\n",
       "    <tr>\n",
       "      <th>4</th>\n",
       "      <td>P01009</td>\n",
       "      <td>76.0</td>\n",
       "    </tr>\n",
       "  </tbody>\n",
       "</table>\n",
       "</div>"
      ],
      "text/plain": [
       "  Uniprot  #Peptides_Guo2015\n",
       "0  P02768              194.0\n",
       "1  P02787              158.0\n",
       "2  P01024              254.0\n",
       "3  P41222               32.0\n",
       "4  P01009               76.0"
      ]
     },
     "execution_count": 45,
     "metadata": {},
     "output_type": "execute_result"
    }
   ],
   "source": [
    "Guo2015_all = Guo2015_male.merge(Guo2015_female, how=\"outer\", on=\"Uniprot\")\n",
    "Guo2015_all[\"#Peptides_Guo2015\"] = Guo2015_all[[\"#Peptides_x\", \"#Peptides_y\"]].max(axis=1)\n",
    "Guo2015_all.drop(labels=[\"#Peptides_x\", \"#Peptides_y\"], axis=1, inplace=True)\n",
    "Guo2015_all[:5]"
   ]
  },
  {
   "cell_type": "code",
   "execution_count": 46,
   "id": "d64c612e",
   "metadata": {},
   "outputs": [
    {
     "name": "stdout",
     "output_type": "stream",
     "text": [
      "Number of unique proteins with at least 1 peptide: 505\n",
      "Number of unique proteins with at least 2 peptides: 497\n"
     ]
    }
   ],
   "source": [
    "print(\"Number of unique proteins with at least 1 peptide:\", len(Guo2015_all[Guo2015_all[\"#Peptides_Guo2015\"] > 0]))\n",
    "print(\"Number of unique proteins with at least 2 peptides:\", len(Guo2015_all[Guo2015_all[\"#Peptides_Guo2015\"] > 1]))"
   ]
  },
  {
   "cell_type": "markdown",
   "id": "01d65b08",
   "metadata": {},
   "source": [
    "### Stoop2010\n",
    "Quantitative Proteomics and Metabolomics Analysis of Normal Human Cerebrospinal Fluid Samples\n",
    "https://doi.org/10.1074/mcp.m900877-mcp200"
   ]
  },
  {
   "cell_type": "code",
   "execution_count": 47,
   "id": "a63ba8f2",
   "metadata": {},
   "outputs": [],
   "source": [
    "Stoop2010 = pd.read_csv(data_path + \"Stoop2010.csv\", sep=\";\", header=2) "
   ]
  },
  {
   "cell_type": "code",
   "execution_count": 48,
   "id": "a31639f6",
   "metadata": {},
   "outputs": [
    {
     "data": {
      "text/html": [
       "<div>\n",
       "<style scoped>\n",
       "    .dataframe tbody tr th:only-of-type {\n",
       "        vertical-align: middle;\n",
       "    }\n",
       "\n",
       "    .dataframe tbody tr th {\n",
       "        vertical-align: top;\n",
       "    }\n",
       "\n",
       "    .dataframe thead th {\n",
       "        text-align: right;\n",
       "    }\n",
       "</style>\n",
       "<table border=\"1\" class=\"dataframe\">\n",
       "  <thead>\n",
       "    <tr style=\"text-align: right;\">\n",
       "      <th></th>\n",
       "      <th>Uniprot</th>\n",
       "      <th>#Peptides_Stoop2010</th>\n",
       "    </tr>\n",
       "  </thead>\n",
       "  <tbody>\n",
       "    <tr>\n",
       "      <th>0</th>\n",
       "      <td>P02768</td>\n",
       "      <td>63.0</td>\n",
       "    </tr>\n",
       "    <tr>\n",
       "      <th>1</th>\n",
       "      <td>P01024</td>\n",
       "      <td>62.0</td>\n",
       "    </tr>\n",
       "    <tr>\n",
       "      <th>2</th>\n",
       "      <td>P02787</td>\n",
       "      <td>58.0</td>\n",
       "    </tr>\n",
       "    <tr>\n",
       "      <th>3</th>\n",
       "      <td>P0C0L4</td>\n",
       "      <td>38.0</td>\n",
       "    </tr>\n",
       "    <tr>\n",
       "      <th>4</th>\n",
       "      <td>P05060</td>\n",
       "      <td>28.0</td>\n",
       "    </tr>\n",
       "  </tbody>\n",
       "</table>\n",
       "</div>"
      ],
      "text/plain": [
       "  Uniprot  #Peptides_Stoop2010\n",
       "0  P02768                 63.0\n",
       "1  P01024                 62.0\n",
       "2  P02787                 58.0\n",
       "3  P0C0L4                 38.0\n",
       "4  P05060                 28.0"
      ]
     },
     "execution_count": 48,
     "metadata": {},
     "output_type": "execute_result"
    }
   ],
   "source": [
    "Stoop2010 = Stoop2010[[\"Primary accession number\", \"number of unique peptides\"]]\n",
    "Stoop2010.columns = [\"Uniprot\", \"#Peptides_Stoop2010\"]\n",
    "Stoop2010.dropna(inplace=True)\n",
    "Stoop2010[:5]"
   ]
  },
  {
   "cell_type": "code",
   "execution_count": 49,
   "id": "438c6f81",
   "metadata": {},
   "outputs": [
    {
     "name": "stdout",
     "output_type": "stream",
     "text": [
      "Number of unique proteins with at least 1 peptide: 178\n",
      "Number of unique proteins with at least 2 peptides: 178\n"
     ]
    }
   ],
   "source": [
    "print(\"Number of unique proteins with at least 1 peptide:\", len(Stoop2010[Stoop2010[\"#Peptides_Stoop2010\"] > 0]))\n",
    "print(\"Number of unique proteins with at least 2 peptides:\", len(Stoop2010[Stoop2010[\"#Peptides_Stoop2010\"] > 1]))"
   ]
  },
  {
   "cell_type": "markdown",
   "id": "69980a52",
   "metadata": {},
   "source": [
    "# Create CSF data set"
   ]
  },
  {
   "cell_type": "markdown",
   "id": "69f08ae7",
   "metadata": {},
   "source": [
    "## All CSF studies"
   ]
  },
  {
   "cell_type": "code",
   "execution_count": 50,
   "id": "deaa09cf",
   "metadata": {},
   "outputs": [
    {
     "data": {
      "text/html": [
       "<div>\n",
       "<style scoped>\n",
       "    .dataframe tbody tr th:only-of-type {\n",
       "        vertical-align: middle;\n",
       "    }\n",
       "\n",
       "    .dataframe tbody tr th {\n",
       "        vertical-align: top;\n",
       "    }\n",
       "\n",
       "    .dataframe thead th {\n",
       "        text-align: right;\n",
       "    }\n",
       "</style>\n",
       "<table border=\"1\" class=\"dataframe\">\n",
       "  <thead>\n",
       "    <tr style=\"text-align: right;\">\n",
       "      <th></th>\n",
       "      <th>Uniprot</th>\n",
       "      <th>#Peptides_Macron2018A</th>\n",
       "      <th>#Peptides_Macron2020</th>\n",
       "      <th>#Peptides_Zhang2015</th>\n",
       "      <th>#Peptides_Guldbrandsen2014</th>\n",
       "      <th>#Peptides_Macron2018B</th>\n",
       "      <th>#Peptides_Schutzer2010</th>\n",
       "      <th>#Peptides_NunezGalindo2015</th>\n",
       "      <th>#Peptides_Zougman2007</th>\n",
       "      <th>#Peptides_Schilde2018</th>\n",
       "      <th>#Peptides_Guo2015</th>\n",
       "      <th>#Peptides_Stoop2010</th>\n",
       "    </tr>\n",
       "  </thead>\n",
       "  <tbody>\n",
       "    <tr>\n",
       "      <th>0</th>\n",
       "      <td>Q6K0P9</td>\n",
       "      <td>2.0</td>\n",
       "      <td>NaN</td>\n",
       "      <td>NaN</td>\n",
       "      <td>NaN</td>\n",
       "      <td>NaN</td>\n",
       "      <td>NaN</td>\n",
       "      <td>NaN</td>\n",
       "      <td>NaN</td>\n",
       "      <td>NaN</td>\n",
       "      <td>NaN</td>\n",
       "      <td>NaN</td>\n",
       "    </tr>\n",
       "    <tr>\n",
       "      <th>1</th>\n",
       "      <td>Q9GZZ8</td>\n",
       "      <td>1.0</td>\n",
       "      <td>3.0</td>\n",
       "      <td>NaN</td>\n",
       "      <td>NaN</td>\n",
       "      <td>NaN</td>\n",
       "      <td>NaN</td>\n",
       "      <td>NaN</td>\n",
       "      <td>NaN</td>\n",
       "      <td>NaN</td>\n",
       "      <td>NaN</td>\n",
       "      <td>NaN</td>\n",
       "    </tr>\n",
       "    <tr>\n",
       "      <th>2</th>\n",
       "      <td>P09529</td>\n",
       "      <td>3.0</td>\n",
       "      <td>3.0</td>\n",
       "      <td>4.0</td>\n",
       "      <td>4.0</td>\n",
       "      <td>1.0</td>\n",
       "      <td>NaN</td>\n",
       "      <td>NaN</td>\n",
       "      <td>NaN</td>\n",
       "      <td>NaN</td>\n",
       "      <td>NaN</td>\n",
       "      <td>NaN</td>\n",
       "    </tr>\n",
       "    <tr>\n",
       "      <th>3</th>\n",
       "      <td>P61019</td>\n",
       "      <td>2.0</td>\n",
       "      <td>3.0</td>\n",
       "      <td>NaN</td>\n",
       "      <td>NaN</td>\n",
       "      <td>2.0</td>\n",
       "      <td>NaN</td>\n",
       "      <td>NaN</td>\n",
       "      <td>NaN</td>\n",
       "      <td>NaN</td>\n",
       "      <td>NaN</td>\n",
       "      <td>NaN</td>\n",
       "    </tr>\n",
       "    <tr>\n",
       "      <th>4</th>\n",
       "      <td>Q9GZX9</td>\n",
       "      <td>4.0</td>\n",
       "      <td>4.0</td>\n",
       "      <td>3.0</td>\n",
       "      <td>3.0</td>\n",
       "      <td>4.0</td>\n",
       "      <td>5.0</td>\n",
       "      <td>NaN</td>\n",
       "      <td>NaN</td>\n",
       "      <td>NaN</td>\n",
       "      <td>NaN</td>\n",
       "      <td>NaN</td>\n",
       "    </tr>\n",
       "    <tr>\n",
       "      <th>...</th>\n",
       "      <td>...</td>\n",
       "      <td>...</td>\n",
       "      <td>...</td>\n",
       "      <td>...</td>\n",
       "      <td>...</td>\n",
       "      <td>...</td>\n",
       "      <td>...</td>\n",
       "      <td>...</td>\n",
       "      <td>...</td>\n",
       "      <td>...</td>\n",
       "      <td>...</td>\n",
       "      <td>...</td>\n",
       "    </tr>\n",
       "    <tr>\n",
       "      <th>5398</th>\n",
       "      <td>Q15195</td>\n",
       "      <td>NaN</td>\n",
       "      <td>NaN</td>\n",
       "      <td>NaN</td>\n",
       "      <td>NaN</td>\n",
       "      <td>NaN</td>\n",
       "      <td>NaN</td>\n",
       "      <td>NaN</td>\n",
       "      <td>NaN</td>\n",
       "      <td>NaN</td>\n",
       "      <td>NaN</td>\n",
       "      <td>2.0</td>\n",
       "    </tr>\n",
       "    <tr>\n",
       "      <th>5399</th>\n",
       "      <td>Q08EQ4</td>\n",
       "      <td>NaN</td>\n",
       "      <td>NaN</td>\n",
       "      <td>NaN</td>\n",
       "      <td>NaN</td>\n",
       "      <td>NaN</td>\n",
       "      <td>NaN</td>\n",
       "      <td>NaN</td>\n",
       "      <td>NaN</td>\n",
       "      <td>NaN</td>\n",
       "      <td>NaN</td>\n",
       "      <td>2.0</td>\n",
       "    </tr>\n",
       "    <tr>\n",
       "      <th>5400</th>\n",
       "      <td>P62988</td>\n",
       "      <td>NaN</td>\n",
       "      <td>NaN</td>\n",
       "      <td>NaN</td>\n",
       "      <td>NaN</td>\n",
       "      <td>NaN</td>\n",
       "      <td>NaN</td>\n",
       "      <td>NaN</td>\n",
       "      <td>NaN</td>\n",
       "      <td>NaN</td>\n",
       "      <td>NaN</td>\n",
       "      <td>2.0</td>\n",
       "    </tr>\n",
       "    <tr>\n",
       "      <th>5401</th>\n",
       "      <td>A4D1P6</td>\n",
       "      <td>NaN</td>\n",
       "      <td>NaN</td>\n",
       "      <td>NaN</td>\n",
       "      <td>NaN</td>\n",
       "      <td>NaN</td>\n",
       "      <td>NaN</td>\n",
       "      <td>NaN</td>\n",
       "      <td>NaN</td>\n",
       "      <td>NaN</td>\n",
       "      <td>NaN</td>\n",
       "      <td>2.0</td>\n",
       "    </tr>\n",
       "    <tr>\n",
       "      <th>5402</th>\n",
       "      <td>Q9NUA8</td>\n",
       "      <td>NaN</td>\n",
       "      <td>NaN</td>\n",
       "      <td>NaN</td>\n",
       "      <td>NaN</td>\n",
       "      <td>NaN</td>\n",
       "      <td>NaN</td>\n",
       "      <td>NaN</td>\n",
       "      <td>NaN</td>\n",
       "      <td>NaN</td>\n",
       "      <td>NaN</td>\n",
       "      <td>2.0</td>\n",
       "    </tr>\n",
       "  </tbody>\n",
       "</table>\n",
       "<p>5403 rows × 12 columns</p>\n",
       "</div>"
      ],
      "text/plain": [
       "     Uniprot  #Peptides_Macron2018A  #Peptides_Macron2020  \\\n",
       "0     Q6K0P9                    2.0                   NaN   \n",
       "1     Q9GZZ8                    1.0                   3.0   \n",
       "2     P09529                    3.0                   3.0   \n",
       "3     P61019                    2.0                   3.0   \n",
       "4     Q9GZX9                    4.0                   4.0   \n",
       "...      ...                    ...                   ...   \n",
       "5398  Q15195                    NaN                   NaN   \n",
       "5399  Q08EQ4                    NaN                   NaN   \n",
       "5400  P62988                    NaN                   NaN   \n",
       "5401  A4D1P6                    NaN                   NaN   \n",
       "5402  Q9NUA8                    NaN                   NaN   \n",
       "\n",
       "      #Peptides_Zhang2015  #Peptides_Guldbrandsen2014  #Peptides_Macron2018B  \\\n",
       "0                     NaN                         NaN                    NaN   \n",
       "1                     NaN                         NaN                    NaN   \n",
       "2                     4.0                         4.0                    1.0   \n",
       "3                     NaN                         NaN                    2.0   \n",
       "4                     3.0                         3.0                    4.0   \n",
       "...                   ...                         ...                    ...   \n",
       "5398                  NaN                         NaN                    NaN   \n",
       "5399                  NaN                         NaN                    NaN   \n",
       "5400                  NaN                         NaN                    NaN   \n",
       "5401                  NaN                         NaN                    NaN   \n",
       "5402                  NaN                         NaN                    NaN   \n",
       "\n",
       "      #Peptides_Schutzer2010  #Peptides_NunezGalindo2015  \\\n",
       "0                        NaN                         NaN   \n",
       "1                        NaN                         NaN   \n",
       "2                        NaN                         NaN   \n",
       "3                        NaN                         NaN   \n",
       "4                        5.0                         NaN   \n",
       "...                      ...                         ...   \n",
       "5398                     NaN                         NaN   \n",
       "5399                     NaN                         NaN   \n",
       "5400                     NaN                         NaN   \n",
       "5401                     NaN                         NaN   \n",
       "5402                     NaN                         NaN   \n",
       "\n",
       "      #Peptides_Zougman2007  #Peptides_Schilde2018  #Peptides_Guo2015  \\\n",
       "0                       NaN                    NaN                NaN   \n",
       "1                       NaN                    NaN                NaN   \n",
       "2                       NaN                    NaN                NaN   \n",
       "3                       NaN                    NaN                NaN   \n",
       "4                       NaN                    NaN                NaN   \n",
       "...                     ...                    ...                ...   \n",
       "5398                    NaN                    NaN                NaN   \n",
       "5399                    NaN                    NaN                NaN   \n",
       "5400                    NaN                    NaN                NaN   \n",
       "5401                    NaN                    NaN                NaN   \n",
       "5402                    NaN                    NaN                NaN   \n",
       "\n",
       "      #Peptides_Stoop2010  \n",
       "0                     NaN  \n",
       "1                     NaN  \n",
       "2                     NaN  \n",
       "3                     NaN  \n",
       "4                     NaN  \n",
       "...                   ...  \n",
       "5398                  2.0  \n",
       "5399                  2.0  \n",
       "5400                  2.0  \n",
       "5401                  2.0  \n",
       "5402                  2.0  \n",
       "\n",
       "[5403 rows x 12 columns]"
      ]
     },
     "execution_count": 50,
     "metadata": {},
     "output_type": "execute_result"
    }
   ],
   "source": [
    "all_csf = Macron2018A.merge(Macron2020, how=\"outer\", on=\"Uniprot\")\n",
    "datasets = [Zhang2015, \n",
    "            Guldbrandsen2014_all, \n",
    "            Macron2018B, \n",
    "            Schutzer2010, \n",
    "            NunezGalindo2015, \n",
    "            Zougman2007, \n",
    "            Schilde2018, \n",
    "            Guo2015_all,\n",
    "            Stoop2010]\n",
    "\n",
    "for dataset in datasets:\n",
    "    all_csf = all_csf.merge(dataset, how=\"outer\", on=\"Uniprot\")\n",
    "\n",
    "all_csf"
   ]
  },
  {
   "cell_type": "code",
   "execution_count": 51,
   "id": "ecd1727e",
   "metadata": {},
   "outputs": [
    {
     "name": "stdout",
     "output_type": "stream",
     "text": [
      "All Uniprot IDs are unique: True\n"
     ]
    }
   ],
   "source": [
    "print(\"All Uniprot IDs are unique:\", all_csf[\"Uniprot\"].is_unique)"
   ]
  },
  {
   "cell_type": "markdown",
   "id": "fc14ae43",
   "metadata": {},
   "source": [
    "## CSF studies with 1000+ proteins"
   ]
  },
  {
   "cell_type": "code",
   "execution_count": 52,
   "id": "26468f95",
   "metadata": {},
   "outputs": [
    {
     "data": {
      "text/html": [
       "<div>\n",
       "<style scoped>\n",
       "    .dataframe tbody tr th:only-of-type {\n",
       "        vertical-align: middle;\n",
       "    }\n",
       "\n",
       "    .dataframe tbody tr th {\n",
       "        vertical-align: top;\n",
       "    }\n",
       "\n",
       "    .dataframe thead th {\n",
       "        text-align: right;\n",
       "    }\n",
       "</style>\n",
       "<table border=\"1\" class=\"dataframe\">\n",
       "  <thead>\n",
       "    <tr style=\"text-align: right;\">\n",
       "      <th></th>\n",
       "      <th>Uniprot</th>\n",
       "      <th>#Peptides_Macron2018A</th>\n",
       "      <th>#Peptides_Macron2020</th>\n",
       "      <th>#Peptides_Zhang2015</th>\n",
       "      <th>#Peptides_Guldbrandsen2014</th>\n",
       "      <th>#Peptides_Macron2018B</th>\n",
       "      <th>#Peptides_Schutzer2010</th>\n",
       "    </tr>\n",
       "  </thead>\n",
       "  <tbody>\n",
       "    <tr>\n",
       "      <th>0</th>\n",
       "      <td>Q6K0P9</td>\n",
       "      <td>2.0</td>\n",
       "      <td>NaN</td>\n",
       "      <td>NaN</td>\n",
       "      <td>NaN</td>\n",
       "      <td>NaN</td>\n",
       "      <td>NaN</td>\n",
       "    </tr>\n",
       "    <tr>\n",
       "      <th>1</th>\n",
       "      <td>Q9GZZ8</td>\n",
       "      <td>1.0</td>\n",
       "      <td>3.0</td>\n",
       "      <td>NaN</td>\n",
       "      <td>NaN</td>\n",
       "      <td>NaN</td>\n",
       "      <td>NaN</td>\n",
       "    </tr>\n",
       "    <tr>\n",
       "      <th>2</th>\n",
       "      <td>P09529</td>\n",
       "      <td>3.0</td>\n",
       "      <td>3.0</td>\n",
       "      <td>4.0</td>\n",
       "      <td>4.0</td>\n",
       "      <td>1.0</td>\n",
       "      <td>NaN</td>\n",
       "    </tr>\n",
       "    <tr>\n",
       "      <th>3</th>\n",
       "      <td>P61019</td>\n",
       "      <td>2.0</td>\n",
       "      <td>3.0</td>\n",
       "      <td>NaN</td>\n",
       "      <td>NaN</td>\n",
       "      <td>2.0</td>\n",
       "      <td>NaN</td>\n",
       "    </tr>\n",
       "    <tr>\n",
       "      <th>4</th>\n",
       "      <td>Q9GZX9</td>\n",
       "      <td>4.0</td>\n",
       "      <td>4.0</td>\n",
       "      <td>3.0</td>\n",
       "      <td>3.0</td>\n",
       "      <td>4.0</td>\n",
       "      <td>5.0</td>\n",
       "    </tr>\n",
       "    <tr>\n",
       "      <th>...</th>\n",
       "      <td>...</td>\n",
       "      <td>...</td>\n",
       "      <td>...</td>\n",
       "      <td>...</td>\n",
       "      <td>...</td>\n",
       "      <td>...</td>\n",
       "      <td>...</td>\n",
       "    </tr>\n",
       "    <tr>\n",
       "      <th>5339</th>\n",
       "      <td>Q9HC84</td>\n",
       "      <td>NaN</td>\n",
       "      <td>NaN</td>\n",
       "      <td>NaN</td>\n",
       "      <td>NaN</td>\n",
       "      <td>NaN</td>\n",
       "      <td>1.0</td>\n",
       "    </tr>\n",
       "    <tr>\n",
       "      <th>5340</th>\n",
       "      <td>A8MPX8</td>\n",
       "      <td>NaN</td>\n",
       "      <td>NaN</td>\n",
       "      <td>NaN</td>\n",
       "      <td>NaN</td>\n",
       "      <td>NaN</td>\n",
       "      <td>1.0</td>\n",
       "    </tr>\n",
       "    <tr>\n",
       "      <th>5341</th>\n",
       "      <td>Q6ZRF7</td>\n",
       "      <td>NaN</td>\n",
       "      <td>NaN</td>\n",
       "      <td>NaN</td>\n",
       "      <td>NaN</td>\n",
       "      <td>NaN</td>\n",
       "      <td>1.0</td>\n",
       "    </tr>\n",
       "    <tr>\n",
       "      <th>5342</th>\n",
       "      <td>Q8IYA2</td>\n",
       "      <td>NaN</td>\n",
       "      <td>NaN</td>\n",
       "      <td>NaN</td>\n",
       "      <td>NaN</td>\n",
       "      <td>NaN</td>\n",
       "      <td>1.0</td>\n",
       "    </tr>\n",
       "    <tr>\n",
       "      <th>5343</th>\n",
       "      <td>P14921</td>\n",
       "      <td>NaN</td>\n",
       "      <td>NaN</td>\n",
       "      <td>NaN</td>\n",
       "      <td>NaN</td>\n",
       "      <td>NaN</td>\n",
       "      <td>1.0</td>\n",
       "    </tr>\n",
       "  </tbody>\n",
       "</table>\n",
       "<p>5344 rows × 7 columns</p>\n",
       "</div>"
      ],
      "text/plain": [
       "     Uniprot  #Peptides_Macron2018A  #Peptides_Macron2020  \\\n",
       "0     Q6K0P9                    2.0                   NaN   \n",
       "1     Q9GZZ8                    1.0                   3.0   \n",
       "2     P09529                    3.0                   3.0   \n",
       "3     P61019                    2.0                   3.0   \n",
       "4     Q9GZX9                    4.0                   4.0   \n",
       "...      ...                    ...                   ...   \n",
       "5339  Q9HC84                    NaN                   NaN   \n",
       "5340  A8MPX8                    NaN                   NaN   \n",
       "5341  Q6ZRF7                    NaN                   NaN   \n",
       "5342  Q8IYA2                    NaN                   NaN   \n",
       "5343  P14921                    NaN                   NaN   \n",
       "\n",
       "      #Peptides_Zhang2015  #Peptides_Guldbrandsen2014  #Peptides_Macron2018B  \\\n",
       "0                     NaN                         NaN                    NaN   \n",
       "1                     NaN                         NaN                    NaN   \n",
       "2                     4.0                         4.0                    1.0   \n",
       "3                     NaN                         NaN                    2.0   \n",
       "4                     3.0                         3.0                    4.0   \n",
       "...                   ...                         ...                    ...   \n",
       "5339                  NaN                         NaN                    NaN   \n",
       "5340                  NaN                         NaN                    NaN   \n",
       "5341                  NaN                         NaN                    NaN   \n",
       "5342                  NaN                         NaN                    NaN   \n",
       "5343                  NaN                         NaN                    NaN   \n",
       "\n",
       "      #Peptides_Schutzer2010  \n",
       "0                        NaN  \n",
       "1                        NaN  \n",
       "2                        NaN  \n",
       "3                        NaN  \n",
       "4                        5.0  \n",
       "...                      ...  \n",
       "5339                     1.0  \n",
       "5340                     1.0  \n",
       "5341                     1.0  \n",
       "5342                     1.0  \n",
       "5343                     1.0  \n",
       "\n",
       "[5344 rows x 7 columns]"
      ]
     },
     "execution_count": 52,
     "metadata": {},
     "output_type": "execute_result"
    }
   ],
   "source": [
    "# keep subset of studies with 1000+ proteins identified (7 studies)\n",
    "csf = all_csf.loc[:, [\"Uniprot\", \"#Peptides_Macron2018A\", \"#Peptides_Macron2020\", \"#Peptides_Zhang2015\",\n",
    "                   \"#Peptides_Guldbrandsen2014\", \"#Peptides_Macron2018B\", \"#Peptides_Schutzer2010\"]]\n",
    "csf.dropna(how=\"all\", subset=[\"#Peptides_Macron2018A\", \"#Peptides_Macron2020\", \"#Peptides_Zhang2015\",\n",
    "                   \"#Peptides_Guldbrandsen2014\", \"#Peptides_Macron2018B\", \"#Peptides_Schutzer2010\"], \n",
    "                    inplace=True)\n",
    "\n",
    "csf"
   ]
  },
  {
   "cell_type": "markdown",
   "id": "566f41cd",
   "metadata": {},
   "source": [
    "## Count studies per protein"
   ]
  },
  {
   "cell_type": "code",
   "execution_count": 53,
   "id": "8310d743",
   "metadata": {},
   "outputs": [],
   "source": [
    "all_csf[\"#Studies\"] = all_csf[[\"#Peptides_Macron2018A\", \"#Peptides_Macron2020\", \"#Peptides_Zhang2015\",\n",
    "    \"#Peptides_Guldbrandsen2014\", \"#Peptides_Macron2018B\", \"#Peptides_Schutzer2010\", \"#Peptides_NunezGalindo2015\", \n",
    "    \"#Peptides_Zougman2007\", \"#Peptides_Schilde2018\", \"#Peptides_Guo2015\", \"#Peptides_Stoop2010\"]].count(axis=1)"
   ]
  },
  {
   "cell_type": "code",
   "execution_count": 54,
   "id": "5b9684bf",
   "metadata": {},
   "outputs": [],
   "source": [
    "csf[\"#Studies\"] = csf[[\"#Peptides_Macron2018A\", \"#Peptides_Macron2020\", \"#Peptides_Zhang2015\",\n",
    "    \"#Peptides_Guldbrandsen2014\", \"#Peptides_Macron2018B\", \"#Peptides_Schutzer2010\"]].count(axis=1)"
   ]
  },
  {
   "cell_type": "markdown",
   "id": "a02e8f27",
   "metadata": {},
   "source": [
    "# Save final data sets"
   ]
  },
  {
   "cell_type": "code",
   "execution_count": 55,
   "id": "581288b4",
   "metadata": {},
   "outputs": [],
   "source": [
    "all_csf.to_csv(os.getcwd() + \"/Datasets/CSF/all_csf.csv\", index=False)\n",
    "\n",
    "with open(os.getcwd() + \"/Datasets/CSF/all_csf_Uniprot.txt\", \"w\") as f:\n",
    "    for item in all_csf[\"Uniprot\"]:\n",
    "        f.write(\"%s\\n\" % item)"
   ]
  },
  {
   "cell_type": "code",
   "execution_count": 56,
   "id": "d7831a5d",
   "metadata": {},
   "outputs": [],
   "source": [
    "csf.to_csv(os.getcwd() + \"/Datasets/CSF/csf.csv\", index=False)\n",
    "\n",
    "with open(os.getcwd() + \"/Datasets/CSF/csf_Uniprot.txt\", \"w\") as f:\n",
    "    for item in csf[\"Uniprot\"]:\n",
    "        f.write(\"%s\\n\" % item)"
   ]
  }
 ],
 "metadata": {
  "kernelspec": {
   "display_name": "Python 3",
   "language": "python",
   "name": "python3"
  },
  "language_info": {
   "codemirror_mode": {
    "name": "ipython",
    "version": 3
   },
   "file_extension": ".py",
   "mimetype": "text/x-python",
   "name": "python",
   "nbconvert_exporter": "python",
   "pygments_lexer": "ipython3",
   "version": "3.8.5"
  }
 },
 "nbformat": 4,
 "nbformat_minor": 5
}
