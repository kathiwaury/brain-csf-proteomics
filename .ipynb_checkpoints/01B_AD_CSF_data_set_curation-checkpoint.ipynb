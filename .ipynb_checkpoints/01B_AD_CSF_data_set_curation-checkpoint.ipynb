{
 "cells": [
  {
   "cell_type": "markdown",
   "id": "367885ce",
   "metadata": {},
   "source": [
    "# Import libraries and data"
   ]
  },
  {
   "cell_type": "code",
   "execution_count": 1,
   "id": "0f6ebffd",
   "metadata": {},
   "outputs": [],
   "source": [
    "import matplotlib.pyplot as plt\n",
    "import numpy as np\n",
    "import os\n",
    "import pandas as pd\n",
    "\n",
    "from utils import keep_first_uniprot\n",
    "\n",
    "pd.options.mode.chained_assignment = None"
   ]
  },
  {
   "cell_type": "code",
   "execution_count": 2,
   "id": "d5748095",
   "metadata": {},
   "outputs": [],
   "source": [
    "data_path = os.getcwd() + \"/Datasets/CSF/raw_AD/\""
   ]
  },
  {
   "cell_type": "code",
   "execution_count": 3,
   "id": "4f57d5db",
   "metadata": {},
   "outputs": [],
   "source": [
    "def get_uniprot(string):\n",
    "    \n",
    "    try:\n",
    "        _, uniprot = string.split(\"|\")\n",
    "    except ValueError:\n",
    "        _, uniprot, _ = string.split(\"|\")\n",
    "        \n",
    "    if \"-\" in uniprot:\n",
    "        uniprot, _ = uniprot.split(\"-\")\n",
    "    \n",
    "    return uniprot"
   ]
  },
  {
   "cell_type": "markdown",
   "id": "5f9a734c",
   "metadata": {},
   "source": [
    "# Alzheimer's Disease CSF"
   ]
  },
  {
   "cell_type": "markdown",
   "id": "89a11c9e",
   "metadata": {},
   "source": [
    "## Higginbotham2020\n",
    "\n",
    "Integrated proteomics reveals brain-based cerebrospinal fluid biomarkers in asymptomatic and symptomatic Alzheimer’s disease\n",
    "https://doi.org/10.1126/sciadv.aaz9360"
   ]
  },
  {
   "cell_type": "code",
   "execution_count": 4,
   "id": "4bf4f90f",
   "metadata": {},
   "outputs": [
    {
     "name": "stdout",
     "output_type": "stream",
     "text": [
      "Number of unique proteins: 2828\n"
     ]
    }
   ],
   "source": [
    "Higginbotham2020 = pd.read_csv(data_path + \"Higginbotham2020.csv\", header=None, sep=\";\", skiprows=6, \n",
    "    names=[\"Uniprot\", \"Gene Symbol\", \"Brain Module\", \"p Value\", \"BH FDR\", \"Log2 Difference\"])\n",
    "Higginbotham2020[\"Uniprot\"] = Higginbotham2020[\"Uniprot\"].apply(get_uniprot)\n",
    "Higginbotham2020.drop_duplicates(subset=[\"Uniprot\"], inplace=True)\n",
    "print(\"Number of unique proteins:\", len(set(Higginbotham2020[\"Uniprot\"])))"
   ]
  },
  {
   "cell_type": "markdown",
   "id": "192c436e",
   "metadata": {},
   "source": [
    "## Sathe2019\n",
    "Quantitative Proteomic Profiling of Cerebrospinal Fluid to Identify Candidate Biomarkers for Alzheimer’s Disease \n",
    "https://doi.org/10.1002/prca.201800105"
   ]
  },
  {
   "cell_type": "code",
   "execution_count": 5,
   "id": "f04c45ca",
   "metadata": {},
   "outputs": [],
   "source": [
    "Sathe2019 = pd.read_csv(data_path + \"Sathe2019.csv\", header=2, sep=\";\", usecols=[\"Gene Symbol\"])\n",
    "Sathe2019.columns = [\"Gene Names\"]\n",
    "Sathe2019.drop_duplicates(subset=[\"Gene Names\"], inplace=True)"
   ]
  },
  {
   "cell_type": "code",
   "execution_count": 6,
   "id": "b5a183c9",
   "metadata": {},
   "outputs": [],
   "source": [
    "# gene name to Uniprot ID mapping for human proteome\n",
    "mapping = pd.read_csv(os.getcwd() + \"/Datasets/Uniprot/Human_proteome_Uniprot_Gene_name.tsv\", sep=\"\\t\", header=0, names=[\"Uniprot\", \"Gene Names\"])\n",
    "\n",
    "# extract and keep first gene name\n",
    "mapping[\"Gene Names\"] = mapping[\"Gene Names\"].str.split(\" \", expand=True)[0]"
   ]
  },
  {
   "cell_type": "code",
   "execution_count": 7,
   "id": "0f3902e3",
   "metadata": {},
   "outputs": [
    {
     "name": "stdout",
     "output_type": "stream",
     "text": [
      "Number of unique proteins: 2310\n"
     ]
    }
   ],
   "source": [
    "Sathe2019_mapped = Sathe2019.merge(mapping, on=\"Gene Names\", how=\"inner\")\n",
    "Sathe2019_mapped\n",
    "Sathe2019_mapped.drop_duplicates(subset=[\"Uniprot\"], inplace=True)\n",
    "print(\"Number of unique proteins:\", len(set(Sathe2019_mapped[\"Uniprot\"])))"
   ]
  },
  {
   "cell_type": "markdown",
   "id": "0f39dd2e",
   "metadata": {},
   "source": [
    "## Bader2020\n",
    "Proteome profiling in cerebrospinal fluid reveals novel biomarkers of Alzheimer’s disease https://doi.org/10.15252/msb.20199356"
   ]
  },
  {
   "cell_type": "code",
   "execution_count": 8,
   "id": "cd32be97",
   "metadata": {},
   "outputs": [
    {
     "name": "stdout",
     "output_type": "stream",
     "text": [
      "Number of unique proteins: 1484\n"
     ]
    }
   ],
   "source": [
    "Bader2020 = pd.read_csv(data_path + \"Bader2020.csv\", header=0, sep=\";\", skiprows=[1], \n",
    "    usecols=[\"PG.ProteinAccessions (uniprot protein accessions)\"])\n",
    "Bader2020.columns = [\"Uniprot\"]\n",
    "Bader2020[\"Uniprot\"] = Bader2020[\"Uniprot\"].apply(keep_first_uniprot, delim=\";\")\n",
    "Bader2020.drop_duplicates(inplace=True)\n",
    "print(\"Number of unique proteins:\", len(set(Bader2020[\"Uniprot\"])))"
   ]
  },
  {
   "cell_type": "markdown",
   "id": "69980a52",
   "metadata": {},
   "source": [
    "## Create AD CSF data set"
   ]
  },
  {
   "cell_type": "code",
   "execution_count": 9,
   "id": "7b7e239e",
   "metadata": {},
   "outputs": [],
   "source": [
    "AD_csf_uniprots = set(Higginbotham2020[\"Uniprot\"]).union(set(Sathe2019_mapped[\"Uniprot\"]), set(Bader2020[\"Uniprot\"]))\n",
    "AD_csf = pd.DataFrame(AD_csf_uniprots, columns=[\"Uniprot\"])"
   ]
  },
  {
   "cell_type": "code",
   "execution_count": 10,
   "id": "f6fc91e5",
   "metadata": {},
   "outputs": [
    {
     "data": {
      "text/html": [
       "<div>\n",
       "<style scoped>\n",
       "    .dataframe tbody tr th:only-of-type {\n",
       "        vertical-align: middle;\n",
       "    }\n",
       "\n",
       "    .dataframe tbody tr th {\n",
       "        vertical-align: top;\n",
       "    }\n",
       "\n",
       "    .dataframe thead th {\n",
       "        text-align: right;\n",
       "    }\n",
       "</style>\n",
       "<table border=\"1\" class=\"dataframe\">\n",
       "  <thead>\n",
       "    <tr style=\"text-align: right;\">\n",
       "      <th></th>\n",
       "      <th>Uniprot</th>\n",
       "      <th>Higginbotham2020</th>\n",
       "      <th>Sathe2019</th>\n",
       "      <th>Bader2020</th>\n",
       "      <th>#Studies</th>\n",
       "    </tr>\n",
       "  </thead>\n",
       "  <tbody>\n",
       "    <tr>\n",
       "      <th>0</th>\n",
       "      <td>B1AL88</td>\n",
       "      <td>1</td>\n",
       "      <td>0</td>\n",
       "      <td>0</td>\n",
       "      <td>1</td>\n",
       "    </tr>\n",
       "    <tr>\n",
       "      <th>1</th>\n",
       "      <td>P31153</td>\n",
       "      <td>1</td>\n",
       "      <td>1</td>\n",
       "      <td>0</td>\n",
       "      <td>2</td>\n",
       "    </tr>\n",
       "    <tr>\n",
       "      <th>2</th>\n",
       "      <td>Q9NPZ5</td>\n",
       "      <td>0</td>\n",
       "      <td>1</td>\n",
       "      <td>0</td>\n",
       "      <td>1</td>\n",
       "    </tr>\n",
       "    <tr>\n",
       "      <th>3</th>\n",
       "      <td>P02538</td>\n",
       "      <td>1</td>\n",
       "      <td>1</td>\n",
       "      <td>1</td>\n",
       "      <td>3</td>\n",
       "    </tr>\n",
       "    <tr>\n",
       "      <th>4</th>\n",
       "      <td>A6NNC1</td>\n",
       "      <td>0</td>\n",
       "      <td>1</td>\n",
       "      <td>0</td>\n",
       "      <td>1</td>\n",
       "    </tr>\n",
       "    <tr>\n",
       "      <th>...</th>\n",
       "      <td>...</td>\n",
       "      <td>...</td>\n",
       "      <td>...</td>\n",
       "      <td>...</td>\n",
       "      <td>...</td>\n",
       "    </tr>\n",
       "    <tr>\n",
       "      <th>3816</th>\n",
       "      <td>P45974</td>\n",
       "      <td>1</td>\n",
       "      <td>0</td>\n",
       "      <td>0</td>\n",
       "      <td>1</td>\n",
       "    </tr>\n",
       "    <tr>\n",
       "      <th>3817</th>\n",
       "      <td>P55290</td>\n",
       "      <td>1</td>\n",
       "      <td>1</td>\n",
       "      <td>1</td>\n",
       "      <td>3</td>\n",
       "    </tr>\n",
       "    <tr>\n",
       "      <th>3818</th>\n",
       "      <td>P02818</td>\n",
       "      <td>1</td>\n",
       "      <td>1</td>\n",
       "      <td>0</td>\n",
       "      <td>2</td>\n",
       "    </tr>\n",
       "    <tr>\n",
       "      <th>3819</th>\n",
       "      <td>Q01974</td>\n",
       "      <td>0</td>\n",
       "      <td>1</td>\n",
       "      <td>0</td>\n",
       "      <td>1</td>\n",
       "    </tr>\n",
       "    <tr>\n",
       "      <th>3820</th>\n",
       "      <td>Q15782</td>\n",
       "      <td>1</td>\n",
       "      <td>1</td>\n",
       "      <td>1</td>\n",
       "      <td>3</td>\n",
       "    </tr>\n",
       "  </tbody>\n",
       "</table>\n",
       "<p>3821 rows × 5 columns</p>\n",
       "</div>"
      ],
      "text/plain": [
       "     Uniprot  Higginbotham2020  Sathe2019  Bader2020  #Studies\n",
       "0     B1AL88                 1          0          0         1\n",
       "1     P31153                 1          1          0         2\n",
       "2     Q9NPZ5                 0          1          0         1\n",
       "3     P02538                 1          1          1         3\n",
       "4     A6NNC1                 0          1          0         1\n",
       "...      ...               ...        ...        ...       ...\n",
       "3816  P45974                 1          0          0         1\n",
       "3817  P55290                 1          1          1         3\n",
       "3818  P02818                 1          1          0         2\n",
       "3819  Q01974                 0          1          0         1\n",
       "3820  Q15782                 1          1          1         3\n",
       "\n",
       "[3821 rows x 5 columns]"
      ]
     },
     "execution_count": 10,
     "metadata": {},
     "output_type": "execute_result"
    }
   ],
   "source": [
    "AD_csf[\"Higginbotham2020\"] = np.where(AD_csf[\"Uniprot\"].isin(set(Higginbotham2020[\"Uniprot\"])), 1, 0)\n",
    "AD_csf[\"Sathe2019\"] = np.where(AD_csf[\"Uniprot\"].isin(set(Sathe2019_mapped[\"Uniprot\"])), 1, 0)\n",
    "AD_csf[\"Bader2020\"] = np.where(AD_csf[\"Uniprot\"].isin(set(Bader2020[\"Uniprot\"])), 1, 0)\n",
    "AD_csf[\"#Studies\"] = AD_csf[[\"Higginbotham2020\", \"Sathe2019\", \"Bader2020\"]].sum(axis=1)\n",
    "AD_csf[\"#Studies\"].value_counts(dropna=False)\n",
    "AD_csf"
   ]
  },
  {
   "cell_type": "code",
   "execution_count": 11,
   "id": "ecd1727e",
   "metadata": {},
   "outputs": [
    {
     "name": "stdout",
     "output_type": "stream",
     "text": [
      "All Uniprot IDs are unique: True\n"
     ]
    }
   ],
   "source": [
    "print(\"All Uniprot IDs are unique:\", AD_csf[\"Uniprot\"].is_unique)"
   ]
  },
  {
   "cell_type": "markdown",
   "id": "a02e8f27",
   "metadata": {},
   "source": [
    "# Save final data set"
   ]
  },
  {
   "cell_type": "code",
   "execution_count": 12,
   "id": "581288b4",
   "metadata": {},
   "outputs": [],
   "source": [
    "AD_csf.to_csv(os.getcwd() + \"/Datasets/CSF/AD_CSF.csv\", index=False)\n",
    "\n",
    "with open(os.getcwd() + \"/Datasets/CSF/AD_CSF_Uniprot.txt\", \"w\") as f:\n",
    "    for item in AD_csf[\"Uniprot\"]:\n",
    "        f.write(\"%s\\n\" % item)"
   ]
  }
 ],
 "metadata": {
  "kernelspec": {
   "display_name": "Python 3",
   "language": "python",
   "name": "python3"
  },
  "language_info": {
   "codemirror_mode": {
    "name": "ipython",
    "version": 3
   },
   "file_extension": ".py",
   "mimetype": "text/x-python",
   "name": "python",
   "nbconvert_exporter": "python",
   "pygments_lexer": "ipython3",
   "version": "3.8.5"
  }
 },
 "nbformat": 4,
 "nbformat_minor": 5
}
