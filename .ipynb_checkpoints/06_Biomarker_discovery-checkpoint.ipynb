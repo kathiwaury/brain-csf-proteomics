{
 "cells": [
  {
   "cell_type": "markdown",
   "id": "b1d8820a",
   "metadata": {},
   "source": [
    "# Import libraries and data"
   ]
  },
  {
   "cell_type": "code",
   "execution_count": 2,
   "id": "3ab80beb",
   "metadata": {},
   "outputs": [],
   "source": [
    "# import libraries \n",
    "import matplotlib.pyplot as plt\n",
    "import numpy as np\n",
    "import os\n",
    "import pandas as pd\n",
    "import pickle\n",
    "import re\n",
    "import seaborn as sns\n",
    "\n",
    "from matplotlib_venn import venn2\n",
    "from scipy.stats import mannwhitneyu\n",
    "from sklearn.metrics import ConfusionMatrixDisplay\n",
    "\n",
    "import warnings\n",
    "from pandas.core.common import SettingWithCopyWarning\n",
    "warnings.simplefilter(action=\"ignore\", category=SettingWithCopyWarning)"
   ]
  },
  {
   "cell_type": "code",
   "execution_count": 3,
   "id": "d5748095",
   "metadata": {},
   "outputs": [],
   "source": [
    "data_path = os.getcwd() + \"/Datasets/\"\n",
    "fig_path = os.getcwd() + \"/Figures/\""
   ]
  },
  {
   "cell_type": "markdown",
   "id": "4544b52e",
   "metadata": {},
   "source": [
    "## Brain proteome (HPA)"
   ]
  },
  {
   "cell_type": "code",
   "execution_count": 4,
   "id": "c5920352",
   "metadata": {},
   "outputs": [],
   "source": [
    "def get_uniprot(string):\n",
    "    try:\n",
    "        _, uniprot, _ = string.split(\"|\")\n",
    "    except:\n",
    "        _, uniprot, _ = string.split(\"_\", maxsplit=2)  \n",
    "    return uniprot\n",
    "\n",
    "def keep_first_uniprot(string):\n",
    "    if \",\" in string:\n",
    "        uniprots = string.split(\",\")\n",
    "        uniprot1 = uniprots[0]\n",
    "    else:\n",
    "        uniprot1 = string\n",
    "    \n",
    "    return uniprot1\n",
    "\n",
    "def get_brain_expression(string):\n",
    "    # check if expression for multiple tissues is provided\n",
    "    if \";\" in string:\n",
    "        tissues = string.split(\";\")\n",
    "        for t in tissues:\n",
    "            # keep only information on brain expression\n",
    "            if \"brain\" in t:\n",
    "                brain_string = t \n",
    "    else:\n",
    "        brain_string = string\n",
    "    \n",
    "    # extract expression value from string\n",
    "    _, exp = brain_string.split(\" \")\n",
    "    exp = float(exp)\n",
    "\n",
    "    return exp\n",
    "\n",
    "def get_brain_expression_detected(string):\n",
    "    \n",
    "    # return None is no information is available\n",
    "    if type(string) != str:\n",
    "        return None\n",
    "\n",
    "    # check if expression for multiple tissues is provided\n",
    "    tissues = string.split(\";\")\n",
    "    for t in tissues:\n",
    "        # keep only information on brain expression\n",
    "        if \"brain\" in t:\n",
    "            brain_string = t \n",
    "        else:\n",
    "            return None\n",
    "    \n",
    "    # extract expression value from string\n",
    "    _, exp = brain_string.split(\" \")\n",
    "    exp = float(exp)\n",
    "\n",
    "    return exp"
   ]
  },
  {
   "cell_type": "code",
   "execution_count": 5,
   "id": "0589756e",
   "metadata": {},
   "outputs": [],
   "source": [
    "# brain_not_detected = pd.read_csv(data_path + \"Brain/HPA_brain_not_detected_version21.tsv\", sep=\"\\t\", low_memory=False)\n",
    "# brain_not_detected.dropna(subset=[\"Uniprot\"], inplace=True)\n",
    "# brain_not_detected.drop_duplicates(subset=[\"Uniprot\"], inplace=True)\n",
    "# brain_not_detected[\"Uniprot\"] = brain_not_detected[\"Uniprot\"].apply(keep_first_uniprot)\n",
    "# brain_not_detected"
   ]
  },
  {
   "cell_type": "code",
   "execution_count": 6,
   "id": "b25cf2c1",
   "metadata": {},
   "outputs": [],
   "source": [
    "brain_detected = pd.read_csv(data_path + \"Brain/Brain_detected.csv\")"
   ]
  },
  {
   "cell_type": "code",
   "execution_count": 7,
   "id": "cb6a57fa",
   "metadata": {},
   "outputs": [],
   "source": [
    "brain_elevated = pd.read_csv(data_path + \"Brain/Brain_elevated.csv\")"
   ]
  },
  {
   "cell_type": "markdown",
   "id": "1152ab28",
   "metadata": {},
   "source": [
    "## Feature data sets"
   ]
  },
  {
   "cell_type": "code",
   "execution_count": 8,
   "id": "6fc17024",
   "metadata": {},
   "outputs": [],
   "source": [
    "# all human proteins\n",
    "df = pd.read_csv(data_path + \"/Features/df_features.csv\")\n",
    "# all proteins detected in brain\n",
    "df_detected = pd.read_csv(data_path + \"/Features/df_features_brain_detected.csv\")\n",
    "# all proteins detected in brain that were not part of the training and testing (i.e. brain elevated) set\n",
    "df_val = pd.read_csv(data_path + \"/Features/df_features_brain_detected_val.csv\")\n",
    "# all proteins elevated in brain\n",
    "df_elevated = pd.read_csv(data_path + \"/Features/df_features_brain_elevated.csv\")"
   ]
  },
  {
   "cell_type": "markdown",
   "id": "f7198c25",
   "metadata": {},
   "source": [
    "## CSF"
   ]
  },
  {
   "cell_type": "code",
   "execution_count": 9,
   "id": "cbccf20c",
   "metadata": {},
   "outputs": [],
   "source": [
    "csf = pd.read_csv(data_path + \"CSF/csf.csv\")"
   ]
  },
  {
   "cell_type": "markdown",
   "id": "9340d711",
   "metadata": {},
   "source": [
    "## Marker proteins"
   ]
  },
  {
   "cell_type": "markdown",
   "id": "5d8cad4f",
   "metadata": {},
   "source": [
    "### BIONDA"
   ]
  },
  {
   "cell_type": "code",
   "execution_count": 10,
   "id": "b4b4c826",
   "metadata": {},
   "outputs": [],
   "source": [
    "dementia_markers_BIONDA = pd.read_csv(data_path + \"/Biomarker_discovery/BIONDA_dementia_markers.csv\", sep=\";\")\n",
    "ND_markers = pd.read_csv(data_path + \"/Biomarker_discovery/BIONDA_ND_markers.csv\", sep=\";\") # neurodegenerative disease"
   ]
  },
  {
   "cell_type": "markdown",
   "id": "631e3178",
   "metadata": {},
   "source": [
    "### DisGeNet"
   ]
  },
  {
   "cell_type": "code",
   "execution_count": 11,
   "id": "d75d221e",
   "metadata": {},
   "outputs": [],
   "source": [
    "AD_markers = pd.read_csv(data_path + \"/Biomarker_discovery/DisGeNet_AD_markers.tsv\", sep=\"\\t\")\n",
    "dementia_markers = pd.read_csv(data_path + \"/Biomarker_discovery/DisGeNet_dementia_markers.tsv\", sep=\"\\t\")"
   ]
  },
  {
   "cell_type": "markdown",
   "id": "41ebe868",
   "metadata": {},
   "source": [
    "### Bai et al. (2020)\n",
    "\n",
    "Deep Multilayer Brain Proteomics Identifies Molecular Networks in Alzheimer’s Disease Progression: https://doi.org/10.1016/j.neuron.2019.12.015"
   ]
  },
  {
   "cell_type": "code",
   "execution_count": 12,
   "id": "259feb6c",
   "metadata": {},
   "outputs": [],
   "source": [
    "Bai2020_brain = pd.read_csv(data_path + \"/Biomarker_discovery/Bai2020_protein_list_brain_tissue.txt\", header=None, \n",
    "    names=[\"Uniprot\"])\n",
    "Bai2020_brain_biomarkers = pd.read_csv(data_path + \"/Biomarker_discovery/Bai2020_protein_list_brain_tissue_biomarker_candidates.txt\", \n",
    "    header=None, names=[\"Uniprot\"])\n",
    "Bai2020_CSF = pd.read_csv(data_path + \"/Biomarker_discovery/Bai2020_protein_list_CSF.txt\", header=None, names=[\"Uniprot\"])\n",
    "Bai2020_CSF_biomarkers = pd.read_csv(data_path + \"/Biomarker_discovery/Bai2020_protein_list_CSF_biomarker_candidates.txt\", \n",
    "    header=None, names=[\"Uniprot\"])\n",
    "\n",
    "\n",
    "Bai2020_brain[\"Uniprot\"] = Bai2020_brain[\"Uniprot\"].apply(get_uniprot)\n",
    "Bai2020_brain_biomarkers[\"Uniprot\"] = Bai2020_brain_biomarkers[\"Uniprot\"].apply(get_uniprot)\n",
    "Bai2020_CSF[\"Uniprot\"] = Bai2020_CSF[\"Uniprot\"].apply(get_uniprot)\n",
    "Bai2020_CSF_biomarkers[\"Uniprot\"] = Bai2020_CSF_biomarkers[\"Uniprot\"].apply(get_uniprot)"
   ]
  },
  {
   "cell_type": "markdown",
   "id": "185496db",
   "metadata": {},
   "source": [
    "### Higginbotham et al. (2020)\n",
    "\n",
    "Integrated proteomics reveals brain-based cerebrospinal fluid biomarkers in asymptomatic and symptomatic Alzheimer’s disease: https://doi.org/10.1126/sciadv.aaz9360"
   ]
  },
  {
   "cell_type": "code",
   "execution_count": 13,
   "id": "d624f1a5",
   "metadata": {},
   "outputs": [],
   "source": [
    "def get_uniprot_alt(string):\n",
    "    _, uniprot = string.split(\"|\")\n",
    "    \n",
    "    if \"-\" in uniprot:\n",
    "        uniprot, _ = uniprot.split(\"-\")\n",
    "\n",
    "    return uniprot"
   ]
  },
  {
   "cell_type": "code",
   "execution_count": 14,
   "id": "c8f22636",
   "metadata": {},
   "outputs": [],
   "source": [
    "Higginbotham2020_brain = pd.read_csv(data_path + \"/Biomarker_discovery/Higginbotham2020_protein_list_brain.txt\", header=None, \n",
    "    names=[\"Uniprot\"])\n",
    "Higginbotham2020_CSF = pd.read_csv(data_path + \"/Biomarker_discovery/Higginbotham2020_protein_list_CSF.txt\", \n",
    "    header=None, names=[\"Uniprot\"])"
   ]
  },
  {
   "cell_type": "code",
   "execution_count": 15,
   "id": "364cf27c",
   "metadata": {},
   "outputs": [],
   "source": [
    "Higginbotham2020_brain[\"Uniprot\"] = Higginbotham2020_brain[\"Uniprot\"].apply(get_uniprot_alt)\n",
    "Higginbotham2020_CSF[\"Uniprot\"] = Higginbotham2020_CSF[\"Uniprot\"].apply(get_uniprot_alt)"
   ]
  },
  {
   "cell_type": "markdown",
   "id": "e10b13ea",
   "metadata": {},
   "source": [
    "## Model and scaler"
   ]
  },
  {
   "cell_type": "code",
   "execution_count": 16,
   "id": "b705eae0",
   "metadata": {},
   "outputs": [],
   "source": [
    "with open(os.getcwd() + \"/Models/LogisticClassifier_L2.pkl\", \"rb\") as f:  \n",
    "    lr_l2 = pickle.load(f)\n",
    "with open(os.getcwd() + \"/Models/LogisticClassifier_L2_2plus.pkl\", \"rb\") as f:  \n",
    "    lr_l2_2plus = pickle.load(f)\n",
    "with open(os.getcwd() + \"/Models/LogisticClassifier_L2_3plus.pkl\", \"rb\") as f:  \n",
    "    lr_l2_3plus = pickle.load(f)"
   ]
  },
  {
   "cell_type": "code",
   "execution_count": 17,
   "id": "873a5c06",
   "metadata": {},
   "outputs": [],
   "source": [
    "with open(os.getcwd() + \"/Models/Standard_scaler.pkl\", \"rb\") as f:  \n",
    "    scaler = pickle.load(f)"
   ]
  },
  {
   "cell_type": "markdown",
   "id": "fa7025b6",
   "metadata": {},
   "source": [
    "# Prediction"
   ]
  },
  {
   "cell_type": "code",
   "execution_count": 18,
   "id": "bb998c81",
   "metadata": {},
   "outputs": [],
   "source": [
    "# define continuous variables\n",
    "cont = ['Length', 'Molecular weight', 'A', 'C', 'D', 'E', 'F', 'G', 'H', 'I', 'K', 'L', 'M', 'N', 'P', 'Q', 'R', 'S', 'T', \n",
    "        'V', 'W', 'Y', 'Isoelectric point', 'Instability index', 'Polar', 'Neutral', 'Hydrophobic', 'Volume_small', \n",
    "        'Volume_medium', 'Volume_large', 'Polarity_low', 'Polarity_medium', 'Polarity_large', 'Polarizability_low', \n",
    "        'Polarizability_medium', 'Polarizability_large', 'Charge_positive', 'Charge_neutral', 'Charge_negative', 'Buried',\n",
    "        'Exposed', 'Intermediate', 'Disorder_NSP', 'Helix_NSP', 'Turn_NSP', 'Sheet_NSP', 'Solubility', 'ExpAA', \n",
    "        'First60ExpAA', 'PredHel', 'Glycosylation', 'Prot_bind']"
   ]
  },
  {
   "cell_type": "code",
   "execution_count": 19,
   "id": "ac3cc636",
   "metadata": {},
   "outputs": [
    {
     "ename": "KeyError",
     "evalue": "\"['Prot_bind'] not in index\"",
     "output_type": "error",
     "traceback": [
      "\u001b[1;31m---------------------------------------------------------------------------\u001b[0m",
      "\u001b[1;31mKeyError\u001b[0m                                  Traceback (most recent call last)",
      "\u001b[1;32m<ipython-input-19-c0acda243508>\u001b[0m in \u001b[0;36m<module>\u001b[1;34m\u001b[0m\n\u001b[0;32m      5\u001b[0m \u001b[1;31m# preprocess data with same scaler as training data\u001b[0m\u001b[1;33m\u001b[0m\u001b[1;33m\u001b[0m\u001b[1;33m\u001b[0m\u001b[0m\n\u001b[0;32m      6\u001b[0m \u001b[0mX_scal\u001b[0m \u001b[1;33m=\u001b[0m \u001b[0mX\u001b[0m\u001b[1;33m.\u001b[0m\u001b[0mcopy\u001b[0m\u001b[1;33m(\u001b[0m\u001b[1;33m)\u001b[0m\u001b[1;33m\u001b[0m\u001b[1;33m\u001b[0m\u001b[0m\n\u001b[1;32m----> 7\u001b[1;33m \u001b[0mX_scal\u001b[0m\u001b[1;33m[\u001b[0m\u001b[0mcont\u001b[0m\u001b[1;33m]\u001b[0m \u001b[1;33m=\u001b[0m \u001b[0mscaler\u001b[0m\u001b[1;33m.\u001b[0m\u001b[0mtransform\u001b[0m\u001b[1;33m(\u001b[0m\u001b[0mX_scal\u001b[0m\u001b[1;33m[\u001b[0m\u001b[0mcont\u001b[0m\u001b[1;33m]\u001b[0m\u001b[1;33m)\u001b[0m\u001b[1;33m\u001b[0m\u001b[1;33m\u001b[0m\u001b[0m\n\u001b[0m\u001b[0;32m      8\u001b[0m \u001b[1;33m\u001b[0m\u001b[0m\n\u001b[0;32m      9\u001b[0m \u001b[1;31m# lr_l2.classes_ # -1 and 1\u001b[0m\u001b[1;33m\u001b[0m\u001b[1;33m\u001b[0m\u001b[1;33m\u001b[0m\u001b[0m\n",
      "\u001b[1;32m~\\anaconda3\\lib\\site-packages\\pandas\\core\\frame.py\u001b[0m in \u001b[0;36m__getitem__\u001b[1;34m(self, key)\u001b[0m\n\u001b[0;32m   3459\u001b[0m             \u001b[1;32mif\u001b[0m \u001b[0mis_iterator\u001b[0m\u001b[1;33m(\u001b[0m\u001b[0mkey\u001b[0m\u001b[1;33m)\u001b[0m\u001b[1;33m:\u001b[0m\u001b[1;33m\u001b[0m\u001b[1;33m\u001b[0m\u001b[0m\n\u001b[0;32m   3460\u001b[0m                 \u001b[0mkey\u001b[0m \u001b[1;33m=\u001b[0m \u001b[0mlist\u001b[0m\u001b[1;33m(\u001b[0m\u001b[0mkey\u001b[0m\u001b[1;33m)\u001b[0m\u001b[1;33m\u001b[0m\u001b[1;33m\u001b[0m\u001b[0m\n\u001b[1;32m-> 3461\u001b[1;33m             \u001b[0mindexer\u001b[0m \u001b[1;33m=\u001b[0m \u001b[0mself\u001b[0m\u001b[1;33m.\u001b[0m\u001b[0mloc\u001b[0m\u001b[1;33m.\u001b[0m\u001b[0m_get_listlike_indexer\u001b[0m\u001b[1;33m(\u001b[0m\u001b[0mkey\u001b[0m\u001b[1;33m,\u001b[0m \u001b[0maxis\u001b[0m\u001b[1;33m=\u001b[0m\u001b[1;36m1\u001b[0m\u001b[1;33m)\u001b[0m\u001b[1;33m[\u001b[0m\u001b[1;36m1\u001b[0m\u001b[1;33m]\u001b[0m\u001b[1;33m\u001b[0m\u001b[1;33m\u001b[0m\u001b[0m\n\u001b[0m\u001b[0;32m   3462\u001b[0m \u001b[1;33m\u001b[0m\u001b[0m\n\u001b[0;32m   3463\u001b[0m         \u001b[1;31m# take() does not accept boolean indexers\u001b[0m\u001b[1;33m\u001b[0m\u001b[1;33m\u001b[0m\u001b[1;33m\u001b[0m\u001b[0m\n",
      "\u001b[1;32m~\\anaconda3\\lib\\site-packages\\pandas\\core\\indexing.py\u001b[0m in \u001b[0;36m_get_listlike_indexer\u001b[1;34m(self, key, axis)\u001b[0m\n\u001b[0;32m   1312\u001b[0m             \u001b[0mkeyarr\u001b[0m\u001b[1;33m,\u001b[0m \u001b[0mindexer\u001b[0m\u001b[1;33m,\u001b[0m \u001b[0mnew_indexer\u001b[0m \u001b[1;33m=\u001b[0m \u001b[0max\u001b[0m\u001b[1;33m.\u001b[0m\u001b[0m_reindex_non_unique\u001b[0m\u001b[1;33m(\u001b[0m\u001b[0mkeyarr\u001b[0m\u001b[1;33m)\u001b[0m\u001b[1;33m\u001b[0m\u001b[1;33m\u001b[0m\u001b[0m\n\u001b[0;32m   1313\u001b[0m \u001b[1;33m\u001b[0m\u001b[0m\n\u001b[1;32m-> 1314\u001b[1;33m         \u001b[0mself\u001b[0m\u001b[1;33m.\u001b[0m\u001b[0m_validate_read_indexer\u001b[0m\u001b[1;33m(\u001b[0m\u001b[0mkeyarr\u001b[0m\u001b[1;33m,\u001b[0m \u001b[0mindexer\u001b[0m\u001b[1;33m,\u001b[0m \u001b[0maxis\u001b[0m\u001b[1;33m)\u001b[0m\u001b[1;33m\u001b[0m\u001b[1;33m\u001b[0m\u001b[0m\n\u001b[0m\u001b[0;32m   1315\u001b[0m \u001b[1;33m\u001b[0m\u001b[0m\n\u001b[0;32m   1316\u001b[0m         if needs_i8_conversion(ax.dtype) or isinstance(\n",
      "\u001b[1;32m~\\anaconda3\\lib\\site-packages\\pandas\\core\\indexing.py\u001b[0m in \u001b[0;36m_validate_read_indexer\u001b[1;34m(self, key, indexer, axis)\u001b[0m\n\u001b[0;32m   1375\u001b[0m \u001b[1;33m\u001b[0m\u001b[0m\n\u001b[0;32m   1376\u001b[0m             \u001b[0mnot_found\u001b[0m \u001b[1;33m=\u001b[0m \u001b[0mlist\u001b[0m\u001b[1;33m(\u001b[0m\u001b[0mensure_index\u001b[0m\u001b[1;33m(\u001b[0m\u001b[0mkey\u001b[0m\u001b[1;33m)\u001b[0m\u001b[1;33m[\u001b[0m\u001b[0mmissing_mask\u001b[0m\u001b[1;33m.\u001b[0m\u001b[0mnonzero\u001b[0m\u001b[1;33m(\u001b[0m\u001b[1;33m)\u001b[0m\u001b[1;33m[\u001b[0m\u001b[1;36m0\u001b[0m\u001b[1;33m]\u001b[0m\u001b[1;33m]\u001b[0m\u001b[1;33m.\u001b[0m\u001b[0munique\u001b[0m\u001b[1;33m(\u001b[0m\u001b[1;33m)\u001b[0m\u001b[1;33m)\u001b[0m\u001b[1;33m\u001b[0m\u001b[1;33m\u001b[0m\u001b[0m\n\u001b[1;32m-> 1377\u001b[1;33m             \u001b[1;32mraise\u001b[0m \u001b[0mKeyError\u001b[0m\u001b[1;33m(\u001b[0m\u001b[1;34mf\"{not_found} not in index\"\u001b[0m\u001b[1;33m)\u001b[0m\u001b[1;33m\u001b[0m\u001b[1;33m\u001b[0m\u001b[0m\n\u001b[0m\u001b[0;32m   1378\u001b[0m \u001b[1;33m\u001b[0m\u001b[0m\n\u001b[0;32m   1379\u001b[0m \u001b[1;33m\u001b[0m\u001b[0m\n",
      "\u001b[1;31mKeyError\u001b[0m: \"['Prot_bind'] not in index\""
     ]
    }
   ],
   "source": [
    "# define variables and target\n",
    "X = df.drop([\"Uniprot\", \"Sequence\", \"CSF\"], axis=1)\n",
    "y = df[\"CSF\"]\n",
    "\n",
    "# preprocess data with same scaler as training data\n",
    "X_scal = X.copy()\n",
    "X_scal[cont] = scaler.transform(X_scal[cont])\n",
    "\n",
    "# lr_l2.classes_ # -1 and 1"
   ]
  },
  {
   "cell_type": "code",
   "execution_count": null,
   "id": "2673068e",
   "metadata": {},
   "outputs": [],
   "source": [
    "# calculate probabilities with trained model\n",
    "proba = lr_l2.predict_proba(X_scal)\n",
    "proba_2plus = lr_l2_2plus.predict_proba(X_scal)\n",
    "proba_3plus = lr_l2_3plus.predict_proba(X_scal)\n",
    "\n",
    "# create dataframe of probabilities\n",
    "preds = pd.DataFrame(proba, columns=[\"non_CSF_proba\", \"CSF_proba\"])\n",
    "preds_2plus = pd.DataFrame(proba_2plus, columns=[\"non_CSF_proba\", \"CSF_proba\"])\n",
    "preds_3plus = pd.DataFrame(proba_3plus, columns=[\"non_CSF_proba\", \"CSF_proba\"])"
   ]
  },
  {
   "cell_type": "code",
   "execution_count": null,
   "id": "3191e3e3",
   "metadata": {},
   "outputs": [],
   "source": [
    "# concat predicted probabilities to feature dataframe\n",
    "df_pred = df.copy()\n",
    "df_pred[[\"non_CSF_proba\", \"CSF_proba\"]] = preds\n",
    "df_pred[[\"non_CSF_proba_2plus\", \"CSF_proba_2plus\"]] = preds_2plus\n",
    "df_pred[[\"non_CSF_proba_3plus\", \"CSF_proba_3plus\"]] = preds_3plus\n",
    "\n",
    "\n",
    "# order dataframe by probabilities\n",
    "df_pred.sort_values(by=\"CSF_proba\", ascending=False, inplace=True)\n",
    "# reindex to see protein rank\n",
    "df_pred.reset_index(inplace=True)\n",
    "\n",
    "df_pred"
   ]
  },
  {
   "cell_type": "code",
   "execution_count": null,
   "id": "e39f0a34",
   "metadata": {},
   "outputs": [],
   "source": [
    "df_detected_pred = df_pred[df_pred[\"Uniprot\"].isin(df_detected[\"Uniprot\"])]\n",
    "print(\"Number of proteins in brain detected set:\", len(df_detected_pred))\n",
    "df_elevated_pred = df_detected_pred[df_detected_pred[\"Uniprot\"].isin(df_elevated[\"Uniprot\"])]\n",
    "print(\"Number of proteins in brain elevated set:\", len(df_elevated_pred))\n",
    "df_val_pred = df_detected_pred[df_detected_pred[\"Uniprot\"].isin(df_val[\"Uniprot\"])]\n",
    "print(\"Number of proteins in brain detected validation set:\", len(df_val_pred))"
   ]
  },
  {
   "cell_type": "code",
   "execution_count": null,
   "id": "dfa43875",
   "metadata": {},
   "outputs": [],
   "source": [
    "# create subsets of datasets based on CSF class annotation\n",
    "df_detected_CSF = df_detected_pred[df_detected_pred[\"CSF\"] == 1]\n",
    "df_detected_non_CSF = df_detected_pred[df_detected_pred[\"CSF\"] == -1]\n",
    "\n",
    "df_val_CSF = df_val_pred[df_val_pred[\"CSF\"] == 1]\n",
    "df_val_non_CSF = df_val_pred[df_val_pred[\"CSF\"] == -1]\n",
    "\n",
    "df_elevated_CSF = df_elevated_pred[df_elevated_pred[\"CSF\"] == 1]\n",
    "df_elevated_non_CSF = df_elevated_pred[df_elevated_pred[\"CSF\"] == -1]"
   ]
  },
  {
   "cell_type": "markdown",
   "id": "36ec584c",
   "metadata": {},
   "source": [
    "# Examine prediction results"
   ]
  },
  {
   "cell_type": "markdown",
   "id": "7f63ce8b",
   "metadata": {},
   "source": [
    "## Check distribution of probabilities across CSF classes"
   ]
  },
  {
   "cell_type": "code",
   "execution_count": null,
   "id": "48d14f03",
   "metadata": {},
   "outputs": [],
   "source": [
    "sns.set(style=(\"ticks\"), font_scale=1)\n",
    "fig, ax = plt.subplots(1, 2, figsize=(10,4), sharey=True)\n",
    "fig.subplots_adjust(wspace=0.1)\n",
    "\n",
    "sns.violinplot(x=\"CSF\", y=\"CSF_proba\", data=df_val_pred, palette=[\"firebrick\", \"skyblue\"], ax=ax[0])\n",
    "ax[0].set(xlabel=\"CSF class\", ylabel=\"Probability scores\", title=\"Brain detected validation dataset\")\n",
    "sns.violinplot(x=\"CSF\", y=\"CSF_proba\", data=df_elevated_pred, palette=[\"firebrick\", \"skyblue\"], ax=ax[1])\n",
    "ax[1].set(xlabel=\"CSF class\", ylabel=None, title=\"Brain elevated dataset\")\n",
    "\n",
    "plt.show()\n",
    "fig.savefig(fig_path + \"Probability_scores_brain_val_elevated.png\", bbox_inches=\"tight\")"
   ]
  },
  {
   "cell_type": "code",
   "execution_count": null,
   "id": "fb1b94fb",
   "metadata": {},
   "outputs": [],
   "source": [
    "sns.set(style=(\"ticks\"), font_scale=1)\n",
    "fig, ax = plt.subplots(1, 2, figsize=(10,4), sharey=True)\n",
    "fig.subplots_adjust(wspace=0.1)\n",
    "\n",
    "sns.violinplot(x=\"CSF\", y=\"CSF_proba_2plus\", data=df_val_pred, palette=[\"firebrick\", \"skyblue\"], ax=ax[0])\n",
    "ax[0].set(xlabel=\"CSF class\", ylabel=\"Probability scores\", title=\"Brain detected validation dataset\")\n",
    "sns.violinplot(x=\"CSF\", y=\"CSF_proba_2plus\", data=df_elevated_pred, palette=[\"firebrick\", \"skyblue\"], ax=ax[1])\n",
    "ax[1].set(xlabel=\"CSF class\", ylabel=None, title=\"Brain elevated dataset\")\n",
    "\n",
    "plt.show()"
   ]
  },
  {
   "cell_type": "code",
   "execution_count": null,
   "id": "03cf3c16",
   "metadata": {},
   "outputs": [],
   "source": [
    "sns.set(style=(\"ticks\"), font_scale=1)\n",
    "fig, ax = plt.subplots(1, 2, figsize=(10,4), sharey=True)\n",
    "fig.subplots_adjust(wspace=0.1)\n",
    "\n",
    "sns.violinplot(x=\"CSF\", y=\"CSF_proba_3plus\", data=df_val_pred, palette=[\"firebrick\", \"skyblue\"], ax=ax[0])\n",
    "ax[0].set(xlabel=\"CSF class\", ylabel=\"Probability scores\", title=\"Brain detected validation dataset\")\n",
    "sns.violinplot(x=\"CSF\", y=\"CSF_proba_3plus\", data=df_elevated_pred, palette=[\"firebrick\", \"skyblue\"], ax=ax[1])\n",
    "ax[1].set(xlabel=\"CSF class\", ylabel=None, title=\"Brain elevated dataset\")\n",
    "\n",
    "plt.show()"
   ]
  },
  {
   "cell_type": "markdown",
   "id": "6b7f078a",
   "metadata": {},
   "source": [
    "## Prediction confidence across number of studies proteins were found in"
   ]
  },
  {
   "cell_type": "code",
   "execution_count": null,
   "id": "7be759c8",
   "metadata": {},
   "outputs": [],
   "source": [
    "studies_proba_val = csf[[\"Uniprot\", \"#Studies\"]].merge(df_val_CSF[[\"Uniprot\", \"CSF_proba\", \"CSF_proba_2plus\", \n",
    "    \"CSF_proba_3plus\"]], on=\"Uniprot\", how=\"inner\")\n",
    "studies_proba_elevated = csf[[\"Uniprot\", \"#Studies\"]].merge(df_elevated_CSF[[\"Uniprot\", \"CSF_proba\", \"CSF_proba_2plus\", \n",
    "    \"CSF_proba_3plus\"]], on=\"Uniprot\", how=\"inner\")"
   ]
  },
  {
   "cell_type": "code",
   "execution_count": null,
   "id": "da3a2c5a",
   "metadata": {},
   "outputs": [],
   "source": [
    "studies_proba_elevated.groupby(\"#Studies\").mean()"
   ]
  },
  {
   "cell_type": "code",
   "execution_count": null,
   "id": "1c15ba4e",
   "metadata": {},
   "outputs": [],
   "source": [
    "sns.set(style=(\"ticks\"), font_scale=1)\n",
    "fig, ax = plt.subplots(1, 2, figsize=(12,5), sharey=True)\n",
    "fig.subplots_adjust(wspace=0.1)\n",
    "\n",
    "#### TO DO ####\n",
    "# add significance indicators?\n",
    "\n",
    "sns.violinplot(x=\"#Studies\", y=\"CSF_proba\", data=studies_proba_val, \n",
    "    palette=[\"skyblue\", \"steelblue\", \"darkcyan\", \"darkgreen\", \"mediumseagreen\", \"palegreen\", \"yellowgreen\"], ax=ax[0])\n",
    "ax[0].set(xlabel=\"Minimum number of studies CSF protein was detected in\", ylabel=\"Predicted probability\",\n",
    "      title=\"Brain detected validation dataset\")\n",
    "ax[0].axhline(0.5, color=\"black\", linestyle=\"--\")\n",
    "sns.violinplot(x=\"#Studies\", y=\"CSF_proba\", data=studies_proba_elevated, \n",
    "    palette=[\"skyblue\", \"steelblue\", \"darkcyan\", \"darkgreen\", \"mediumseagreen\", \"palegreen\", \"yellowgreen\"], ax=ax[1])\n",
    "ax[1].set(xlabel=\"Minimum number of studies CSF protein was detected in\", ylabel=None,\n",
    "      title=\"Brain elevated dataset\")\n",
    "ax[1].axhline(0.5, color=\"black\", linestyle=\"--\")\n",
    "\n",
    "plt.show()\n",
    "fig.savefig(fig_path + \"Probability_scores_vs_study_number.png\", bbox_inches=\"tight\")"
   ]
  },
  {
   "cell_type": "code",
   "execution_count": null,
   "id": "a873141c",
   "metadata": {},
   "outputs": [],
   "source": [
    "sns.set(style=(\"ticks\"), font_scale=1)\n",
    "fig, ax = plt.subplots(1, 2, figsize=(12,5), sharey=True)\n",
    "fig.subplots_adjust(wspace=0.1)\n",
    "\n",
    "#### TO DO ####\n",
    "# add significance indicators?\n",
    "\n",
    "sns.violinplot(x=\"#Studies\", y=\"CSF_proba_2plus\", data=studies_proba_val, \n",
    "    palette=[\"skyblue\", \"steelblue\", \"darkcyan\", \"darkgreen\", \"mediumseagreen\", \"palegreen\", \"yellowgreen\"], ax=ax[0])\n",
    "ax[0].set(xlabel=\"Minimum number of studies CSF protein was detected in\", ylabel=\"Predicted probability\",\n",
    "      title=\"Brain detected validation dataset\")\n",
    "ax[0].axvline(0.5)\n",
    "ax[0].axhline(0.5, color=\"black\", linestyle=\"--\")\n",
    "sns.violinplot(x=\"#Studies\", y=\"CSF_proba_2plus\", data=studies_proba_elevated, \n",
    "    palette=[\"skyblue\", \"steelblue\", \"darkcyan\", \"darkgreen\", \"mediumseagreen\", \"palegreen\", \"yellowgreen\"], ax=ax[1])\n",
    "ax[1].set(xlabel=\"Minimum number of studies CSF protein was detected in\", ylabel=None,\n",
    "      title=\"Brain elevated dataset\")\n",
    "ax[1].axvline(0.5)\n",
    "ax[1].axhline(0.5, color=\"black\", linestyle=\"--\")\n",
    "\n",
    "plt.show()"
   ]
  },
  {
   "cell_type": "code",
   "execution_count": null,
   "id": "c0460b10",
   "metadata": {},
   "outputs": [],
   "source": [
    "sns.set(style=(\"ticks\"), font_scale=1)\n",
    "fig, ax = plt.subplots(1, 2, figsize=(12,5), sharey=True)\n",
    "fig.subplots_adjust(wspace=0.1)\n",
    "\n",
    "#### TO DO ####\n",
    "# add significance indicators?\n",
    "\n",
    "sns.violinplot(x=\"#Studies\", y=\"CSF_proba_3plus\", data=studies_proba_val, \n",
    "    palette=[\"skyblue\", \"steelblue\", \"darkcyan\", \"darkgreen\", \"mediumseagreen\", \"palegreen\", \"yellowgreen\"], ax=ax[0])\n",
    "ax[0].set(xlabel=\"Minimum number of studies CSF protein was detected in\", ylabel=\"Predicted probability\",\n",
    "      title=\"Brain detected validation dataset\")\n",
    "ax[0].axvline(1.5)\n",
    "ax[0].axhline(0.5, color=\"black\", linestyle=\"--\")\n",
    "sns.violinplot(x=\"#Studies\", y=\"CSF_proba_3plus\", data=studies_proba_elevated, \n",
    "    palette=[\"skyblue\", \"steelblue\", \"darkcyan\", \"darkgreen\", \"mediumseagreen\", \"palegreen\", \"yellowgreen\"], ax=ax[1])\n",
    "ax[1].set(xlabel=\"Minimum number of studies CSF protein was detected in\", ylabel=None,\n",
    "      title=\"Brain elevated dataset\")\n",
    "ax[1].axvline(1.5)\n",
    "ax[1].axhline(0.5, color=\"black\", linestyle=\"--\")\n",
    "\n",
    "plt.show()"
   ]
  },
  {
   "cell_type": "markdown",
   "id": "08562cfc",
   "metadata": {},
   "source": [
    "## Compare difference in brain expression levels between annotations and predictions"
   ]
  },
  {
   "cell_type": "code",
   "execution_count": null,
   "id": "2274fdc0",
   "metadata": {},
   "outputs": [],
   "source": [
    "brain_exp = brain_elevated[[\"Uniprot\", \"Brain expression\"]]\n",
    "brain_exp[\"log2(Brain expression)\"] = np.log2(brain_exp[\"Brain expression\"])\n",
    "brain_exp_CSF = brain_exp.merge(df_detected_pred[[\"Uniprot\", \"CSF\", \"CSF_proba\"]], on=\"Uniprot\", how=\"inner\")\n",
    "brain_exp_CSF[\"CSF_proba_binary\"] = np.where(brain_exp_CSF[\"CSF_proba\"] > 0.5, 1, -1)"
   ]
  },
  {
   "cell_type": "code",
   "execution_count": null,
   "id": "8151958c",
   "metadata": {},
   "outputs": [],
   "source": [
    "# annotations\n",
    "CSF_annot = brain_exp_CSF[brain_exp_CSF[\"CSF\"] == 1]\n",
    "non_CSF_annot = brain_exp_CSF[brain_exp_CSF[\"CSF\"] == -1]\n",
    "\n",
    "_, p_annot = mannwhitneyu(CSF_annot[\"Brain expression\"], non_CSF_annot[\"Brain expression\"])\n",
    "print(\"P-value for annotations:\", p_annot)\n",
    "\n",
    "# predictions\n",
    "CSF_pred = brain_exp_CSF[brain_exp_CSF[\"CSF_proba_binary\"] == 1]\n",
    "non_CSF_pred = brain_exp_CSF[brain_exp_CSF[\"CSF_proba_binary\"] == -1]\n",
    "\n",
    "_, p_pred = mannwhitneyu(CSF_pred[\"Brain expression\"], non_CSF_pred[\"Brain expression\"])\n",
    "print(\"P-value for predictions:\", p_pred)"
   ]
  },
  {
   "cell_type": "code",
   "execution_count": null,
   "id": "8c4fb74f",
   "metadata": {},
   "outputs": [],
   "source": [
    "sns.set(style=(\"ticks\"), font_scale=1)\n",
    "fig, ax = plt.subplots(1, 2, figsize=(10,4), sharey=True)\n",
    "fig.subplots_adjust(wspace=0.1)\n",
    "\n",
    "sns.violinplot(x=\"CSF\", y=\"log2(Brain expression)\", data=brain_exp_CSF, palette=[\"firebrick\", \"skyblue\"], ax=ax[0])\n",
    "ax[0].set(xlabel=\"Annotated CSF class\")\n",
    "y, h = max(brain_exp_CSF[\"log2(Brain expression)\"]) + 2, 1\n",
    "ax[0].plot([0, 0, 1, 1], [y, y+h, y+h, y], lw=1.5, c=\"k\")\n",
    "ax[0].text(.5, y+1.2, p_annot, ha=\"center\", va=\"bottom\", color=\"k\")\n",
    "\n",
    "sns.violinplot(x=\"CSF_proba_binary\", y=\"log2(Brain expression)\", data=brain_exp_CSF, palette=[\"firebrick\", \"skyblue\"], \n",
    "               ax=ax[1])\n",
    "ax[1].set(xlabel=\"Predicted CSF class\", ylabel=None, ylim=(-2, 23))\n",
    "y, h = max(brain_exp_CSF[\"log2(Brain expression)\"]) + 2, 1\n",
    "ax[1].plot([0, 0, 1, 1], [y, y+h, y+h, y], lw=1.5, color=\"k\")\n",
    "ax[1].text(0.5, y+1.2, p_pred, ha=\"center\", va=\"bottom\", color=\"k\")\n",
    "\n",
    "plt.show()\n",
    "fig.savefig(fig_path + \"Violin_brain_expression_vs_CSF_class_pred_annot.png\", bbox_inches=\"tight\")"
   ]
  },
  {
   "cell_type": "code",
   "execution_count": null,
   "id": "17106eba",
   "metadata": {},
   "outputs": [],
   "source": [
    "TN = brain_exp_CSF[(brain_exp_CSF[\"CSF\"] == -1) & (brain_exp_CSF[\"CSF_proba_binary\"] == -1)]\n",
    "N = brain_exp_CSF[(brain_exp_CSF[\"CSF_proba_binary\"] == -1)]\n",
    "FP = brain_exp_CSF[(brain_exp_CSF[\"CSF\"] == -1) & (brain_exp_CSF[\"CSF_proba_binary\"] == 1)]\n",
    "TP = brain_exp_CSF[(brain_exp_CSF[\"CSF\"] == 1) & (brain_exp_CSF[\"CSF_proba_binary\"] == 1)]\n",
    "P = brain_exp_CSF[(brain_exp_CSF[\"CSF_proba_binary\"] == 1)]\n",
    "FN = brain_exp_CSF[(brain_exp_CSF[\"CSF\"] == 1) & (brain_exp_CSF[\"CSF_proba_binary\"] == -1)]\n",
    "\n",
    "l = [TN, N, FP, TP, P, FN]\n",
    "\n",
    "_, p_neg = mannwhitneyu(TN[\"Brain expression\"], FP[\"Brain expression\"])\n",
    "print(\"P-value for predictions:\", p_neg)\n",
    "\n",
    "_, p_pos = mannwhitneyu(TP[\"Brain expression\"], FN[\"Brain expression\"])\n",
    "print(\"P-value for predictions:\", p_pos)"
   ]
  },
  {
   "cell_type": "code",
   "execution_count": null,
   "id": "628226b4",
   "metadata": {},
   "outputs": [],
   "source": [
    "sns.set(style=(\"ticks\"), font_scale=1)\n",
    "fig, ax = plt.subplots(1, 1, figsize=(5, 4))\n",
    "\n",
    "bars = ax.bar(x=[\"Annotated: non-CSF \\n Predicted: non-CSF\", \"Predicted: non-CSF\", \"Annotated: non-CSF \\n Predicted: CSF\", \n",
    "    \"Annotated: CSF \\n Predicted: CSF\", \"Predicted: CSF\", \"Annotated: CSF \\n Predicted: non-CSF\"], \n",
    "    height=[np.median(i[\"log2(Brain expression)\"]) for i in l], color=[\"firebrick\", \"darkcyan\", \"skyblue\"], edgecolor=\"black\")\n",
    "ax.bar_label(bars, fmt=\"%.4f\")\n",
    "ax.set(xlabel=\"\", ylabel=\"\", title=None, ylim=(0,6))\n",
    "ax.tick_params(axis=\"x\", labelrotation=90)\n",
    "\n",
    "plt.show()\n",
    "fig.savefig(fig_path + \"Bar_brain_expression_vs_CSF_class_pred_annot.png\", bbox_inches=\"tight\")"
   ]
  },
  {
   "cell_type": "code",
   "execution_count": null,
   "id": "e1024355",
   "metadata": {},
   "outputs": [],
   "source": [
    "sns.set(style=(\"ticks\"), font_scale=1)\n",
    "fig, ax = plt.subplots(1, 1, figsize=(5, 4))\n",
    "\n",
    "sns.boxplot(y=\"log2(Brain expression)\", x=\"CSF\", hue=\"CSF_proba_binary\", data=brain_exp_CSF, \n",
    "    palette=[\"firebrick\", \"skyblue\"])\n",
    "ax.legend(title=\"CSF prediction\", loc=\"upper right\")#, bbox_to_anchor=(1.2, 1))\n",
    "ax.set(xlabel=\"CSF annotation\", ylabel=\"log2(Brain expression)\", \n",
    "    title=\"Protein expression across CSF \\n annotation and prediction classes\", ylim=(-1,27))\n",
    "y, h = max(TN[\"log2(Brain expression)\"]) + 1, 1\n",
    "ax.plot([-0.2, -0.2, 0.2, 0.2], [y, y+h, y+h, y], lw=1.5, color=\"k\")\n",
    "ax.text(0, y+1.2, \"p=0.02\", ha=\"center\", va=\"bottom\", color=\"k\")\n",
    "y, h = max(FN[\"log2(Brain expression)\"]) + 1, 1\n",
    "ax.plot([0.8, 0.8, 1.2, 1.2], [y, y+h, y+h, y], lw=1.5, color=\"k\")\n",
    "ax.text(1, y+1.2, \"p=0.4692\", ha=\"center\", va=\"bottom\", color=\"k\")\n",
    "\n",
    "plt.show()\n",
    "# fig.save"
   ]
  },
  {
   "cell_type": "markdown",
   "id": "fb4d1d00",
   "metadata": {},
   "source": [
    "# Biomarkers"
   ]
  },
  {
   "cell_type": "markdown",
   "id": "0399fdb6",
   "metadata": {},
   "source": [
    "## Overlap of biomarker ranking with known disease markers"
   ]
  },
  {
   "cell_type": "markdown",
   "id": "088c33d2",
   "metadata": {},
   "source": [
    "### Dementia  (BIONDA)"
   ]
  },
  {
   "cell_type": "code",
   "execution_count": null,
   "id": "6dda737e",
   "metadata": {},
   "outputs": [],
   "source": [
    "# keep only significant associated markers\n",
    "dementia_markers_sig = dementia_markers_BIONDA[dementia_markers_BIONDA[\"Score\"] < 0.05]\n",
    "# keep only markers\n",
    "df_pred_dementia_markers = df_detected_pred[df_detected_pred[\"Uniprot\"].isin(dementia_markers_sig[\"MarkerID\"])] \n",
    "print(\"Number of associated markers:\", len(df_pred_dementia_markers))\n",
    "print(\"Percent predicted as CSF secreted:\", \n",
    "    len(df_pred_dementia_markers[df_pred_dementia_markers[\"CSF_proba\"] > 0.5])/len(df_pred_dementia_markers))\n",
    "print(\"Percent predicted as non-CSF secreted:\", \n",
    "    len(df_pred_dementia_markers[df_pred_dementia_markers[\"CSF_proba\"] < 0.5])/len(df_pred_dementia_markers))\n",
    "\n",
    "fig, ax = plt.subplots(1, 1, figsize=(30,10))\n",
    "plt.plot(df_pred_dementia_markers.index, np.zeros(len(df_pred_dementia_markers.index)), \"--bo\")\n",
    "plt.show()"
   ]
  },
  {
   "cell_type": "markdown",
   "id": "23676a7f",
   "metadata": {},
   "source": [
    "### Neurodegenerative diseases (BIONDA)"
   ]
  },
  {
   "cell_type": "code",
   "execution_count": null,
   "id": "849c9368",
   "metadata": {},
   "outputs": [],
   "source": [
    "ND_markers_sig = ND_markers[ND_markers[\"Score\"] < 0.05]\n",
    "df_pred_ND_markers = df_detected_pred[df_detected_pred[\"Uniprot\"].isin(ND_markers_sig[\"MarkerID\"])] \n",
    "print(\"Number of associated markers:\", len(df_pred_ND_markers))\n",
    "print(\"Percent predicted as CSF secreted:\", \n",
    "    len(df_pred_ND_markers[df_pred_ND_markers[\"CSF_proba\"] > 0.5])/len(df_pred_ND_markers))\n",
    "print(\"Percent predicted as non-CSF secreted:\", \n",
    "    len(df_pred_ND_markers[df_pred_ND_markers[\"CSF_proba\"] < 0.5])/len(df_pred_ND_markers))\n",
    "\n",
    "fig, ax = plt.subplots(1, 1, figsize=(30,10))\n",
    "plt.plot(df_pred_ND_markers.index, np.zeros(len(df_pred_ND_markers.index)), \"--bo\")\n",
    "plt.show()"
   ]
  },
  {
   "cell_type": "markdown",
   "id": "74322c2d",
   "metadata": {},
   "source": [
    "### Alzheimer's Disease (DisGeNet)"
   ]
  },
  {
   "cell_type": "code",
   "execution_count": null,
   "id": "0f94254d",
   "metadata": {},
   "outputs": [],
   "source": [
    "AD_markers_sig = AD_markers[AD_markers[\"Score_gda\"] > 0.2]\n",
    "df_pred_AD_markers = df_detected_pred[df_detected_pred[\"Uniprot\"].isin(AD_markers_sig[\"UniProt\"])] \n",
    "print(\"Number of associated markers:\", len(df_pred_AD_markers))\n",
    "print(\"Percent predicted as CSF secreted:\", \n",
    "    len(df_pred_AD_markers[df_pred_AD_markers[\"CSF_proba\"] > 0.5])/len(df_pred_AD_markers))\n",
    "print(\"Percent predicted as non-CSF secreted:\", \n",
    "    len(df_pred_AD_markers[df_pred_AD_markers[\"CSF_proba\"] < 0.5])/len(df_pred_AD_markers))\n",
    "\n",
    "fig, ax = plt.subplots(1, 1, figsize=(30,10))\n",
    "plt.plot(df_pred_AD_markers.index, np.zeros(len(df_pred_AD_markers.index)), \"--bo\")\n",
    "plt.show()"
   ]
  },
  {
   "cell_type": "code",
   "execution_count": null,
   "id": "53a9e62a",
   "metadata": {},
   "outputs": [],
   "source": [
    "fig, ax = plt.subplots(1, 1, figsize=(30,10))\n",
    "plt.plot(df_pred_AD_markers.index, df_pred_AD_markers[\"CSF_proba\"], \"--bo\")\n",
    "ax.axhline(y=0.5, color=\"r\", linestyle=\"-\")\n",
    "plt.show() # 0.5 threshold at rank 5943"
   ]
  },
  {
   "cell_type": "markdown",
   "id": "5cec79a7",
   "metadata": {},
   "source": [
    "### Dementia (DisGeNet)"
   ]
  },
  {
   "cell_type": "code",
   "execution_count": null,
   "id": "3d0c533e",
   "metadata": {},
   "outputs": [],
   "source": [
    "dementia_markers_sig = dementia_markers[dementia_markers[\"Score_gda\"] >= 0.2]\n",
    "df_pred_dementia_markers = df_detected_pred[df_detected_pred[\"Uniprot\"].isin(dementia_markers_sig[\"UniProt\"])] \n",
    "print(\"Number of dementia markers:\", len(df_pred_dementia_markers))\n",
    "print(\"Percent predicted as CSF secreted:\", \n",
    "    len(df_pred_dementia_markers[df_pred_dementia_markers[\"CSF_proba\"] > 0.5])/len(df_pred_dementia_markers))\n",
    "print(\"Percent predicted as non-CSF secreted:\", \n",
    "    len(df_pred_dementia_markers[df_pred_dementia_markers[\"CSF_proba\"] < 0.5])/len(df_pred_dementia_markers))\n",
    "\n",
    "fig, ax = plt.subplots(1, 1, figsize=(30,10))\n",
    "\n",
    "plt.plot(df_pred_dementia_markers.index, df_pred_dementia_markers[\"CSF_proba\"], \"--bo\")\n",
    "ax.axhline(y=0.5, color=\"r\", linestyle=\"-\")\n",
    "plt.show() # 0.5 threshold at rank 5943"
   ]
  },
  {
   "cell_type": "markdown",
   "id": "83f0931a",
   "metadata": {},
   "source": [
    "## Probability scores of known & potential AD CSF biomarkers\n",
    "\n",
    "Used literature:\n",
    "- Olsson et al. (2016) CSF and blood biomarkers for the diagnosis of Alzheimer's disease: a systematic review and meta-analysis. https://doi.org/10.1016/S1474-4422(16)00070-3\n",
    "- Molinuevo et al. (2018) Current state of Alzheimer’s fluid biomarkers. https://doi.org/10.1007/s00401-018-1932-x\n",
    "\n"
   ]
  },
  {
   "cell_type": "code",
   "execution_count": null,
   "id": "d0843a5c",
   "metadata": {},
   "outputs": [],
   "source": [
    "biomarkers_uniprots = [\"P05067\", \"P10636\", \"Q92686\", \"Q9NZC2\", \"P07196\", \"P14136\", \"P36222\", \"P09104\", \"P62760\", \"P13500\"\n",
    "                      \"P05413\", \"P56817\", \"P02778\", \"P60880\", \"P21579\", \"Q13148\", \"P37840\"]\n",
    "\n",
    "fig, ax = plt.subplots(1, 1, figsize=(5,3))\n",
    "\n",
    "sns.swarmplot(y=df_detected_pred[df_detected_pred[\"Uniprot\"].isin(biomarkers_uniprots)][\"CSF_proba\"], dodge=True)\n",
    "ax.set(title=\"Predicted probability of known and potential AD CSF biomarkers\", ylabel=\"Predicted probability\")\n",
    "\n",
    "plt.show()\n",
    "fig.savefig(fig_path + \"Probability_AD_CSF_biomarkers.png\", bbox_inches=\"tight\")"
   ]
  },
  {
   "cell_type": "code",
   "execution_count": null,
   "id": "27607112",
   "metadata": {},
   "outputs": [],
   "source": [
    "print(\"Probability score for\")\n",
    "print(\"\\tAPP: %.04f\" % df_detected_pred[df_detected_pred[\"Uniprot\"] == \"P05067\"][\"CSF_proba\"].values[0])\n",
    "print(\"\\tMAPT: %.04f\" %  df_detected_pred[df_detected_pred[\"Uniprot\"] == \"P10636\"][\"CSF_proba\"].values[0]) \n",
    "print(\"\\tNeurogranin: %.04f\" % df_detected_pred[df_detected_pred[\"Uniprot\"] == \"Q92686\"][\"CSF_proba\"].values[0]) \n",
    "print(\"\\tTREM2: %.04f\" %  df_detected_pred[df_detected_pred[\"Uniprot\"] == \"Q9NZC2\"][\"CSF_proba\"].values[0]) \n",
    "print(\"\\tNFL: %.04f\" %  df_detected_pred[df_detected_pred[\"Uniprot\"] == \"P07196\"][\"CSF_proba\"].values[0]) \n",
    "print(\"\\tGFAP: %.04f\" %  df_detected_pred[df_detected_pred[\"Uniprot\"] == \"P14136\"][\"CSF_proba\"].values[0]) \n",
    "print(\"\\tYKL-40: %.04f\" %  df_detected_pred[df_detected_pred[\"Uniprot\"] == \"P36222\"][\"CSF_proba\"].values[0])\n",
    "print(\"\\tNSE: %.04f\" %  df_detected_pred[df_detected_pred[\"Uniprot\"] == \"P09104\"][\"CSF_proba\"].values[0])\n",
    "print(\"\\tVLP-1: %.04f\" %  df_detected_pred[df_detected_pred[\"Uniprot\"] == \"P62760\"][\"CSF_proba\"].values[0])\n",
    "print(\"\\tMCP-1: %.04f\" %  df_detected_pred[df_detected_pred[\"Uniprot\"] == \"P13500\"][\"CSF_proba\"].values[0])\n",
    "print(\"\\tHFABP: %.04f\" %  df_detected_pred[df_detected_pred[\"Uniprot\"] == \"P05413\"][\"CSF_proba\"].values[0])\n",
    "print(\"\\tBACE1: %.04f\" %  df_detected_pred[df_detected_pred[\"Uniprot\"] == \"P56817\"][\"CSF_proba\"].values[0])\n",
    "print(\"\\tIP-10: %.04f\" %  df_detected_pred[df_detected_pred[\"Uniprot\"] == \"P02778\"][\"CSF_proba\"].values[0])\n",
    "print(\"\\tSNAP25 %.04f\" % df_detected_pred[df_detected_pred[\"Uniprot\"] == \"P60880\"][\"CSF_proba\"].values[0])\n",
    "print(\"\\tSynaptotagmin %.04f\" % df_detected_pred[df_detected_pred[\"Uniprot\"] == \"P21579\"][\"CSF_proba\"].values[0])\n",
    "print(\"\\tTDP-43 %.04f\" % df_detected_pred[df_detected_pred[\"Uniprot\"] == \"Q13148\"][\"CSF_proba\"].values[0]) # No studies on CSF according to reference\n",
    "print(\"\\tAlpha-synuclein %.04f\" % df_detected_pred[df_detected_pred[\"Uniprot\"] == \"P37840\"][\"CSF_proba\"].values[0])"
   ]
  },
  {
   "cell_type": "markdown",
   "id": "f863688b",
   "metadata": {},
   "source": [
    "### Candidates from MIRIADE consortium"
   ]
  },
  {
   "cell_type": "code",
   "execution_count": null,
   "id": "801dceb9",
   "metadata": {},
   "outputs": [],
   "source": [
    "print(\"Rank of probability for\")\n",
    "print(\"\\tCRH:\", df_pred[df_pred[\"Uniprot\"] == \"P06850\"].index[0])\n",
    "print(\"\\tMMP1:\", df_detected_pred[df_detected_pred[\"Uniprot\"] == \"P03956\"].index[0])\n",
    "print(\"\\tGBA:\", df_detected_pred[df_detected_pred[\"Uniprot\"] == \"P04062\"].index[0])\n",
    "\n",
    "print(\"\\tPEBP1:\", df_detected_pred[df_detected_pred[\"Uniprot\"] == \"P30086\"].index[0])\n",
    "print(\"\\tSPON1:\", df_detected_pred[df_detected_pred[\"Uniprot\"] == \"Q9HCB6\"].index[0])\n",
    "print(\"\\tTNFSF13:\", df_detected_pred[df_detected_pred[\"Uniprot\"] == \"O75888\"].index[0])\n",
    "\n",
    "print(\"\\tVAMP2:\", df_detected_pred[df_detected_pred[\"Uniprot\"] == \"P63027\"].index[0])\n",
    "print(\"\\tGluR4:\", df_detected_pred[df_detected_pred[\"Uniprot\"] == \"P48058\"].index[0])\n",
    "print(\"\\tNPTX2:\", df_detected_pred[df_detected_pred[\"Uniprot\"] == \"P47972\"].index[0])\n",
    "print(\"\\tGAP43:\", df_detected_pred[df_detected_pred[\"Uniprot\"] == \"P17677\"].index[0])"
   ]
  },
  {
   "cell_type": "markdown",
   "id": "64eae61a",
   "metadata": {},
   "source": [
    "# Investigate false positives\n",
    "\n",
    "These proteins were predicted to be secreted to the CSF but are annotated not to be. One explanation would be that these proteins are secreted to CSF but in such low concentrations that it is not (easily) possible to detect them in exploratory mass spectrometry studies."
   ]
  },
  {
   "cell_type": "code",
   "execution_count": null,
   "id": "d3c26693",
   "metadata": {},
   "outputs": [],
   "source": [
    "# check brain elevated proteins that have not been found in CSF but are predicted to be CSF secreted\n",
    "df_elevated_FP = df_elevated_non_CSF[df_elevated_non_CSF[\"CSF_proba\"] > 0.5]\n",
    "print(\"Number of false negative proteins in brain elevated dataset:\", len(df_elevated_FP))"
   ]
  },
  {
   "cell_type": "code",
   "execution_count": null,
   "id": "f817e5db",
   "metadata": {},
   "outputs": [],
   "source": [
    "brain_exp_FP = brain_exp.merge(df_elevated_FP[[\"Uniprot\", \"CSF_proba\"]], on=\"Uniprot\", how=\"inner\")\n",
    "brain_exp_CSF = brain_exp.merge(df_elevated_CSF[[\"Uniprot\", \"CSF_proba\"]], on=\"Uniprot\", how=\"inner\")\n",
    "\n",
    "print(\"Average brain expression of false positive proteins in brain elevated dataset: %.04f\"\n",
    "    % np.median(brain_exp_FP[\"log2(Brain expression)\"]))\n",
    "print(\"Average brain expression of CSF proteins in brain elevated dataset: %.04f\" \n",
    "    % np.median(brain_exp_CSF[\"log2(Brain expression)\"]))"
   ]
  },
  {
   "cell_type": "code",
   "execution_count": null,
   "id": "58644ac8",
   "metadata": {},
   "outputs": [],
   "source": [
    "df_elevated_FP[\"log2(Molecular weight)\"] = np.log2(df_elevated_FP[\"Molecular weight\"])\n",
    "df_elevated_CSF[\"log2(Molecular weight)\"] = np.log2(df_elevated_CSF[\"Molecular weight\"])\n",
    "\n",
    "print(\"Average false positive protein size in brain elevated dataset: %.04f\"\n",
    "    % np.median(df_elevated_FP[\"log2(Molecular weight)\"]))\n",
    "print(\"Average CSF protein size in brain elevated dataset: %.04f\" \n",
    "    % np.median(df_elevated_CSF[\"log2(Molecular weight)\"]))"
   ]
  },
  {
   "cell_type": "markdown",
   "id": "3e7b9861",
   "metadata": {},
   "source": [
    "## Check false positively predicted proteins for potential biomarkers"
   ]
  },
  {
   "cell_type": "markdown",
   "id": "51959320",
   "metadata": {},
   "source": [
    "### Low brain expression"
   ]
  },
  {
   "cell_type": "code",
   "execution_count": null,
   "id": "32056613",
   "metadata": {},
   "outputs": [],
   "source": [
    "# how many proteins are confidently predicted to be in CSF and have a lower than average brain expression?\n",
    "low_exp_biomarker_candidates = brain_exp_FP[(brain_exp_FP[\"CSF_proba\"] > 0.75) & \n",
    "    (brain_exp_FP[\"log2(Brain expression)\"] < 5.5329)]\n",
    "print(\"Number of lowly expressed biomarker candidates:\", len(low_exp_biomarker_candidates))"
   ]
  },
  {
   "cell_type": "code",
   "execution_count": null,
   "id": "fff10896",
   "metadata": {},
   "outputs": [],
   "source": [
    "with open(data_path + \"Biomarker_discovery/Biomarker_candidates_low_exp.txt\", \"w\") as f:\n",
    "    for item in low_exp_biomarker_candidates[\"Uniprot\"]:\n",
    "        f.write(\"%s\\n\" % item)"
   ]
  },
  {
   "cell_type": "code",
   "execution_count": null,
   "id": "3519b57d",
   "metadata": {},
   "outputs": [],
   "source": [
    "# set which points to colour based on brain expression and probability cut-off\n",
    "col = np.where((brain_exp_FP[\"CSF_proba\"] > 0.75) & (brain_exp_FP[\"log2(Brain expression)\"] < 5.5329), \"lightseagreen\", \"grey\")\n",
    "\n",
    "fig, ax = plt.subplots(1, 1, figsize=(5,5))\n",
    "\n",
    "plt.scatter(x=\"log2(Brain expression)\", y=\"CSF_proba\", data=brain_exp_FP, color=col)\n",
    "\n",
    "plt.show()\n",
    "fig.savefig(fig_path + \"Scatter_false_positives_brain_expression_probability.png\", bbox_inches=\"tight\")"
   ]
  },
  {
   "cell_type": "markdown",
   "id": "567b007d",
   "metadata": {},
   "source": [
    "### Low molecular weight"
   ]
  },
  {
   "cell_type": "code",
   "execution_count": null,
   "id": "3fb6e4e9",
   "metadata": {},
   "outputs": [],
   "source": [
    "# how many proteins are confidently predicted to be in CSF and have a low molecular weight?\n",
    "low_mw_biomarker_candidates = df_elevated_FP[(df_elevated_FP[\"CSF_proba\"] > 0.75) & \n",
    "    (df_elevated_FP[\"log2(Molecular weight)\"] < 16.0460)]\n",
    "print(\"Number of biomarker candidates:\", len(low_mw_biomarker_candidates))"
   ]
  },
  {
   "cell_type": "code",
   "execution_count": null,
   "id": "c2d20a9d",
   "metadata": {},
   "outputs": [],
   "source": [
    "with open(data_path + \"Biomarker_discovery/Biomarker_candidates_low_mw.txt\", \"w\") as f:\n",
    "    for item in low_mw_biomarker_candidates[\"Uniprot\"]:\n",
    "        f.write(\"%s\\n\" % item)"
   ]
  },
  {
   "cell_type": "code",
   "execution_count": null,
   "id": "65b3928c",
   "metadata": {},
   "outputs": [],
   "source": [
    "# set which points to colour based on brain expression and probability cut-off\n",
    "col = np.where((df_elevated_FP[\"CSF_proba\"] > 0.75) & (df_elevated_FP[\"log2(Molecular weight)\"] < 16.0460), \n",
    "    \"lightseagreen\", \"grey\")\n",
    "\n",
    "fig, ax = plt.subplots(1, 1, figsize=(5,5))\n",
    "\n",
    "plt.scatter(x=\"log2(Molecular weight)\", y=\"CSF_proba\", data=df_elevated_FP, color=col)\n",
    "\n",
    "plt.show()\n",
    "fig.savefig(fig_path + \"Scatter_false_positives_molecular_weight_probability.png\", bbox_inches=\"tight\")"
   ]
  },
  {
   "cell_type": "markdown",
   "id": "455e2adc",
   "metadata": {},
   "source": [
    "### Compare protein groups"
   ]
  },
  {
   "cell_type": "code",
   "execution_count": null,
   "id": "f0d1a6b1",
   "metadata": {},
   "outputs": [],
   "source": [
    "venn2([set(low_exp_biomarker_candidates[\"Uniprot\"]), set(low_mw_biomarker_candidates[\"Uniprot\"])], \n",
    "    [\"Low brain expression\", \"Low molecular weight\"])\n",
    "plt.show()"
   ]
  },
  {
   "cell_type": "markdown",
   "id": "7472f280",
   "metadata": {},
   "source": [
    "# Investigate false negatives\n",
    "\n",
    "These proteins were predicted to not be secreted to the CSF but are annotated to be. One explanation would be that these proteins are actually false positives in the CSF mass spectrometry studies. False positive proteins are likely only found in only one study and with only one peptide."
   ]
  },
  {
   "cell_type": "code",
   "execution_count": null,
   "id": "b62fb35a",
   "metadata": {},
   "outputs": [],
   "source": [
    "df_elevated_FN = df_elevated_CSF[df_elevated_CSF[\"CSF_proba\"] < 0.5]\n",
    "print(\"Number of false negative proteins in brain elevated dataset:\", len(df_elevated_FN))"
   ]
  },
  {
   "cell_type": "markdown",
   "id": "b16a2184",
   "metadata": {},
   "source": [
    "## Check maximum peptide count of false negatives vs. all positive CSF proteins "
   ]
  },
  {
   "cell_type": "code",
   "execution_count": null,
   "id": "460d0375",
   "metadata": {},
   "outputs": [],
   "source": [
    "csf[\"#Peptides_max\"] = csf[[\"#Peptides_Macron2018A\", \"#Peptides_Macron2020\", \"#Peptides_Zhang2015\",\n",
    "    \"#Peptides_Guldbrandsen2014\", \"#Peptides_Macron2018B\", \"#Peptides_Schutzer2010\", \"#Peptides_Pan2007\"]].max(axis=1)\n",
    "\n",
    "csf_2plus = csf[csf[\"#Studies\"] >= 2]\n",
    "csf_3plus = csf[csf[\"#Studies\"] >= 3]"
   ]
  },
  {
   "cell_type": "markdown",
   "id": "4e726ae8",
   "metadata": {},
   "source": [
    "### All CSF proteins"
   ]
  },
  {
   "cell_type": "code",
   "execution_count": null,
   "id": "7a3e7c13",
   "metadata": {},
   "outputs": [],
   "source": [
    "df_elevated_FN_peptides = df_elevated_FN[[\"Uniprot\"]].merge(csf[[\"Uniprot\", \"#Peptides_max\"]], on=\"Uniprot\", how=\"inner\")\n",
    "df_elevated_CSF_peptides = df_elevated_CSF[[\"Uniprot\"]].merge(csf[[\"Uniprot\", \"#Peptides_max\"]], on=\"Uniprot\", how=\"inner\")\n",
    "\n",
    "print(\"Fraction of proteins identified with only one matching peptide in false negatives: %.04f\" \n",
    "    % (len(df_elevated_FN_peptides[df_elevated_FN_peptides[\"#Peptides_max\"] == 1])/len(df_elevated_FN_peptides)))\n",
    "print(\"Fraction of proteins identified with only one matching peptide in all CSF proteins: %.04f\" \n",
    "    % (len(df_elevated_CSF_peptides[df_elevated_CSF_peptides[\"#Peptides_max\"] == 1])/len(df_elevated_CSF_peptides)))\n",
    "\n",
    "fig, ax = plt.subplots(1, 2, figsize=(10,5))\n",
    "plt.subplots_adjust(wspace=0.3)\n",
    "\n",
    "sns.histplot(data=df_elevated_FN_peptides, x=\"#Peptides_max\", discrete=True, cumulative=True, ax=ax[0])\n",
    "ax[0].set(title=\"False negative CSF proteins\", xlabel=\"Maximum peptide number\", ylabel=\"Cumulative count\")\n",
    "sns.histplot(data=df_elevated_CSF_peptides, x=\"#Peptides_max\", discrete=True, cumulative=True, ax=ax[1])\n",
    "ax[1].set(title=\"All CSF proteins\", xlabel=\"Maximum peptide number\", ylabel=\"Cumulative count\")\n",
    "\n",
    "plt.show()\n",
    "fig.savefig(fig_path + \"Hist_cumulative_count_max_peptides.png\", bbox_inches=\"tight\")"
   ]
  },
  {
   "cell_type": "markdown",
   "id": "673e4e4d",
   "metadata": {},
   "source": [
    "### 2+ studies CSF proteins"
   ]
  },
  {
   "cell_type": "code",
   "execution_count": null,
   "id": "96ced4b2",
   "metadata": {},
   "outputs": [],
   "source": [
    "csf_2plus_FN_peptides = df_elevated_FN[[\"Uniprot\"]].merge(csf_2plus[[\"Uniprot\", \"#Peptides_max\"]], on=\"Uniprot\", how=\"inner\")\n",
    "csf_2plus_CSF_peptides = df_elevated_CSF[[\"Uniprot\"]].merge(csf_2plus[[\"Uniprot\", \"#Peptides_max\"]], on=\"Uniprot\", how=\"inner\")\n",
    "\n",
    "print(\"Fraction of proteins identified with only one matching peptide in false negatives: %.04f\" \n",
    "    % (len(csf_2plus_FN_peptides[csf_2plus_FN_peptides[\"#Peptides_max\"] == 1])/len(csf_2plus_FN_peptides)))\n",
    "print(\"Fraction of proteins identified with only one matching peptide in all CSF proteins: %.04f\" \n",
    "    % (len(csf_2plus_CSF_peptides[csf_2plus_CSF_peptides[\"#Peptides_max\"] == 1])/len(csf_2plus_CSF_peptides)))\n",
    "\n",
    "fig, ax = plt.subplots(1, 2, figsize=(10,5))\n",
    "plt.subplots_adjust(wspace=0.3)\n",
    "\n",
    "sns.histplot(data=csf_2plus_FN_peptides, x=\"#Peptides_max\", discrete=True, cumulative=True, ax=ax[0])\n",
    "ax[0].set(title=\"False negative CSF proteins\", xlabel=\"Maximum peptide number\", ylabel=\"Cumulative count\")\n",
    "sns.histplot(data=csf_2plus_CSF_peptides, x=\"#Peptides_max\", discrete=True, cumulative=True, ax=ax[1])\n",
    "ax[1].set(title=\"All CSF proteins\", xlabel=\"Maximum peptide number\", ylabel=\"Cumulative count\")\n",
    "\n",
    "plt.show()\n",
    "fig.savefig(fig_path + \"Hist_cumulative_count_max_peptides_2plus.png\", bbox_inches=\"tight\")"
   ]
  },
  {
   "cell_type": "markdown",
   "id": "f35e4856",
   "metadata": {},
   "source": [
    "### 3+ studies CSF proteins"
   ]
  },
  {
   "cell_type": "code",
   "execution_count": null,
   "id": "ef0eaa65",
   "metadata": {},
   "outputs": [],
   "source": [
    "csf_3plus_FN_peptides = df_elevated_FN[[\"Uniprot\"]].merge(csf_3plus[[\"Uniprot\", \"#Peptides_max\"]], on=\"Uniprot\", how=\"inner\")\n",
    "csf_3plus_CSF_peptides = df_elevated_CSF[[\"Uniprot\"]].merge(csf_3plus[[\"Uniprot\", \"#Peptides_max\"]], on=\"Uniprot\", how=\"inner\")\n",
    "\n",
    "print(\"Fraction of proteins identified with only one matching peptide in false negatives: %.04f\" \n",
    "    % (len(csf_3plus_FN_peptides[csf_3plus_FN_peptides[\"#Peptides_max\"] == 1])/len(csf_3plus_FN_peptides)))\n",
    "print(\"Fraction of proteins identified with only one matching peptide in all CSF proteins: %.04f\" \n",
    "    % (len(csf_3plus_CSF_peptides[csf_3plus_CSF_peptides[\"#Peptides_max\"] == 1])/len(csf_3plus_CSF_peptides)))\n",
    "\n",
    "fig, ax = plt.subplots(1, 2, figsize=(10,5))\n",
    "plt.subplots_adjust(wspace=0.3)\n",
    "\n",
    "sns.histplot(data=csf_3plus_FN_peptides, x=\"#Peptides_max\", discrete=True, cumulative=True, ax=ax[0])\n",
    "ax[0].set(title=\"False negative CSF proteins\", xlabel=\"Maximum peptide number\", ylabel=\"Cumulative count\")\n",
    "sns.histplot(data=csf_3plus_CSF_peptides, x=\"#Peptides_max\", discrete=True, cumulative=True, ax=ax[1])\n",
    "ax[1].set(title=\"All CSF proteins\", xlabel=\"Maximum peptide number\", ylabel=\"Cumulative count\")\n",
    "\n",
    "plt.show()\n",
    "fig.savefig(fig_path + \"Hist_cumulative_count_max_peptides_3plus.png\", bbox_inches=\"tight\")"
   ]
  },
  {
   "cell_type": "code",
   "execution_count": null,
   "id": "036348cd",
   "metadata": {},
   "outputs": [],
   "source": [
    "fig, ax = plt.subplots(1, 1, figsize=(10,5))\n",
    "\n",
    "CSF_proba_peptides = df_elevated_CSF[[\"Uniprot\", \"CSF_proba\"]].merge(csf[[\"Uniprot\", \"#Peptides_max\"]])\n",
    "sns.scatterplot(y=\"CSF_proba\", x=\"#Peptides_max\", data=CSF_proba_peptides)\n",
    "ax.set(title=\"Correlation between probability score and maximum peptide count\", \n",
    "          xlabel=\"Maximum number of identified peptides per study\", ylabel=\"Predicted probability\")\n",
    "\n",
    "plt.show()\n",
    "fig.savefig(fig_path + \"Scatter_max_peptides_probability.png\", bbox_inches=\"tight\")"
   ]
  }
 ],
 "metadata": {
  "kernelspec": {
   "display_name": "Python 3",
   "language": "python",
   "name": "python3"
  },
  "language_info": {
   "codemirror_mode": {
    "name": "ipython",
    "version": 3
   },
   "file_extension": ".py",
   "mimetype": "text/x-python",
   "name": "python",
   "nbconvert_exporter": "python",
   "pygments_lexer": "ipython3",
   "version": "3.8.5"
  }
 },
 "nbformat": 4,
 "nbformat_minor": 5
}
