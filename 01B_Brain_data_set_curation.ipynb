{
 "cells": [
  {
   "cell_type": "markdown",
   "id": "de7a157e",
   "metadata": {},
   "source": [
    "# Import libraries and data"
   ]
  },
  {
   "cell_type": "code",
   "execution_count": 1,
   "id": "0f6ebffd",
   "metadata": {},
   "outputs": [],
   "source": [
    "# import libraries \n",
    "import matplotlib.pyplot as plt\n",
    "import numpy as np\n",
    "import os\n",
    "import pandas as pd\n",
    "import re\n",
    "import seaborn as sns"
   ]
  },
  {
   "cell_type": "code",
   "execution_count": 2,
   "id": "d5748095",
   "metadata": {},
   "outputs": [],
   "source": [
    "data_path = os.getcwd() + \"/Datasets/Brain/\""
   ]
  },
  {
   "cell_type": "markdown",
   "id": "17ee17e9",
   "metadata": {},
   "source": [
    "## Brain elevated proteome"
   ]
  },
  {
   "cell_type": "code",
   "execution_count": 3,
   "id": "a06316ea",
   "metadata": {},
   "outputs": [
    {
     "name": "stdout",
     "output_type": "stream",
     "text": [
      "Number of brain elevated proteins according to the HPA: 2709\n",
      "Number of brain elevated proteins with a Uniprot ID: 2546\n"
     ]
    }
   ],
   "source": [
    "brain_elevated = pd.read_csv(data_path + \"HPA_brain_elevated_version21.tsv\", sep=\"\\t\")\n",
    "print(\"Number of brain elevated proteins according to the HPA: %i\" % len(brain_elevated))\n",
    "brain_elevated.dropna(subset=[\"Uniprot\"], inplace=True)\n",
    "brain_elevated.drop_duplicates(subset=[\"Uniprot\"], inplace=True)\n",
    "print(\"Number of brain elevated proteins with a Uniprot ID: %i\" % len(brain_elevated))"
   ]
  },
  {
   "cell_type": "markdown",
   "id": "43299de5",
   "metadata": {},
   "source": [
    "## Brain detected proteome"
   ]
  },
  {
   "cell_type": "code",
   "execution_count": 4,
   "id": "b8a29af5",
   "metadata": {},
   "outputs": [
    {
     "name": "stdout",
     "output_type": "stream",
     "text": [
      "Number of brain detected proteins according to the HPA: 16507\n",
      "Number of brain detected proteins with a Uniprot ID: 16021\n"
     ]
    }
   ],
   "source": [
    "brain_detected = pd.read_csv(data_path + \"HPA_brain_detected_version21.tsv\", sep=\"\\t\", low_memory=False)\n",
    "print(\"Number of brain detected proteins according to the HPA: %i\" % len(brain_detected))\n",
    "brain_detected.dropna(subset=[\"Uniprot\"], inplace=True)\n",
    "brain_detected.drop_duplicates(subset=[\"Uniprot\"], inplace=True)\n",
    "print(\"Number of brain detected proteins with a Uniprot ID: %i\" % len(brain_detected))"
   ]
  },
  {
   "cell_type": "markdown",
   "id": "c99e98d8",
   "metadata": {},
   "source": [
    "## Brain exclusive proteome"
   ]
  },
  {
   "cell_type": "code",
   "execution_count": 5,
   "id": "79f7b4bb",
   "metadata": {},
   "outputs": [
    {
     "name": "stdout",
     "output_type": "stream",
     "text": [
      "Number of only brain detected proteins according to the HPA: 204\n",
      "Number of only brain detected proteins with a Uniprot ID: 169\n"
     ]
    }
   ],
   "source": [
    "brain_excusive = pd.read_csv(data_path + \"HPA_brain_exclusive_version21.tsv\", sep=\"\\t\")\n",
    "print(\"Number of only brain detected proteins according to the HPA: %i\" % len(brain_excusive))\n",
    "brain_excusive.dropna(subset=[\"Uniprot\"], inplace=True)\n",
    "brain_excusive.drop_duplicates(subset=[\"Uniprot\"], inplace=True)\n",
    "print(\"Number of only brain detected proteins with a Uniprot ID: %i\" % len(brain_excusive))"
   ]
  },
  {
   "cell_type": "markdown",
   "id": "d2e3005f",
   "metadata": {},
   "source": [
    "# Data curation"
   ]
  },
  {
   "cell_type": "code",
   "execution_count": 6,
   "id": "5060e486",
   "metadata": {},
   "outputs": [],
   "source": [
    "def keep_first_uniprot(string):\n",
    "    if \",\" in string:\n",
    "        uniprots = string.split(\",\")\n",
    "        uniprot1 = uniprots[0]\n",
    "    else:\n",
    "        uniprot1 = string\n",
    "    \n",
    "    return uniprot1\n",
    "\n",
    "def get_brain_expression(string):\n",
    "    # check if expression for multiple tissues is provided\n",
    "    if \";\" in string:\n",
    "        tissues = string.split(\";\")\n",
    "        for t in tissues:\n",
    "            # keep only information on brain expression\n",
    "            if \"brain\" in t:\n",
    "                brain_string = t \n",
    "    else:\n",
    "        brain_string = string\n",
    "    \n",
    "    # extract expression value from string\n",
    "    _, exp = brain_string.split(\" \")\n",
    "    exp = float(exp)\n",
    "\n",
    "    return exp"
   ]
  },
  {
   "cell_type": "code",
   "execution_count": 7,
   "id": "4fa24c51",
   "metadata": {},
   "outputs": [],
   "source": [
    "# if several Uniprots are associated, keep only first\n",
    "brain_elevated[\"Uniprot\"] = brain_elevated[\"Uniprot\"].apply(keep_first_uniprot)\n",
    "brain_detected[\"Uniprot\"] = brain_detected[\"Uniprot\"].apply(keep_first_uniprot)\n",
    "brain_excusive[\"Uniprot\"] = brain_excusive[\"Uniprot\"].apply(keep_first_uniprot)"
   ]
  },
  {
   "cell_type": "code",
   "execution_count": 8,
   "id": "d5b0cb18",
   "metadata": {},
   "outputs": [],
   "source": [
    "# add column with the mRNA brain expression\n",
    "brain_elevated[\"Brain expression\"] = brain_elevated[\"RNA tissue specific nTPM\"].apply(get_brain_expression)"
   ]
  },
  {
   "cell_type": "code",
   "execution_count": 9,
   "id": "053985df",
   "metadata": {},
   "outputs": [
    {
     "name": "stdout",
     "output_type": "stream",
     "text": [
      "cerebellum 117\n",
      "hypothalamus 55\n",
      "white matter 24\n",
      "hippocampal formation 18\n",
      "basal ganglia 30\n",
      "midbrain 34\n",
      "spinal cord 5\n",
      "medulla oblongata 21\n",
      "amygdala 7\n",
      "cerebral cortex 72\n",
      "hippocampal formation 18\n",
      "medulla oblongata 21\n"
     ]
    }
   ],
   "source": [
    "brain_regions = [\"cerebellum\",\n",
    "\"hypothalamus\",\n",
    "\"white matter\",\n",
    "\"hippocampal formation\",\n",
    "\"basal ganglia\",\n",
    "\"midbrain\",\n",
    "\"spinal cord\",\n",
    "\"medulla oblongata\",\n",
    "\"amygdala\",\n",
    "\"cerebral cortex\",\n",
    "\"hippocampal formation\",\n",
    "\"medulla oblongata\"]\n",
    "\n",
    "for i in brain_regions:\n",
    "    print(i, brain_elevated[\"RNA brain regional specific nTPM\"].str.contains(i).sum())"
   ]
  },
  {
   "cell_type": "markdown",
   "id": "323c7620",
   "metadata": {},
   "source": [
    "## Save curates data sets"
   ]
  },
  {
   "cell_type": "code",
   "execution_count": 10,
   "id": "96975549",
   "metadata": {},
   "outputs": [],
   "source": [
    "# save dataframe\n",
    "brain_elevated.to_csv(data_path + \"Brain_elevated.csv\", index=False)\n",
    "\n",
    "# save Uniprot list\n",
    "with open(data_path + \"Brain_elevated_Uniprot.txt\", \"w\") as f:\n",
    "    for item in brain_elevated[\"Uniprot\"]:\n",
    "        f.write(\"%s\\n\" % item)"
   ]
  },
  {
   "cell_type": "code",
   "execution_count": 11,
   "id": "7cc01be4",
   "metadata": {},
   "outputs": [],
   "source": [
    "# save dataframe\n",
    "brain_detected.to_csv(data_path + \"Brain_detected.csv\", index=False)\n",
    "\n",
    "# save Uniprot list\n",
    "with open(data_path + \"Brain_detected_Uniprot.txt\", \"w\") as f:\n",
    "    for item in brain_detected[\"Uniprot\"]:\n",
    "        f.write(\"%s\\n\" % item)"
   ]
  },
  {
   "cell_type": "code",
   "execution_count": 12,
   "id": "03d973ac",
   "metadata": {},
   "outputs": [],
   "source": [
    "# save dataframe\n",
    "brain_excusive.to_csv(data_path + \"Brain_exclusive.csv\", index=False)\n",
    "\n",
    "# save Uniprot list\n",
    "with open(data_path + \"Brain_exclusive_Uniprot.txt\", \"w\") as f:\n",
    "    for item in brain_excusive[\"Uniprot\"]:\n",
    "        f.write(\"%s\\n\" % item)"
   ]
  }
 ],
 "metadata": {
  "kernelspec": {
   "display_name": "Python 3",
   "language": "python",
   "name": "python3"
  },
  "language_info": {
   "codemirror_mode": {
    "name": "ipython",
    "version": 3
   },
   "file_extension": ".py",
   "mimetype": "text/x-python",
   "name": "python",
   "nbconvert_exporter": "python",
   "pygments_lexer": "ipython3",
   "version": "3.8.5"
  }
 },
 "nbformat": 4,
 "nbformat_minor": 5
}
