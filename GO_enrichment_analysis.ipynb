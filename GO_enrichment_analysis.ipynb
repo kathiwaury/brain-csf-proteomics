{
 "cells": [
  {
   "cell_type": "code",
   "execution_count": 1,
   "id": "0f6ebffd",
   "metadata": {},
   "outputs": [],
   "source": [
    "# import libraries \n",
    "import matplotlib.pyplot as plt\n",
    "import numpy as np\n",
    "import os\n",
    "import pandas as pd\n",
    "import re\n",
    "import seaborn as sns\n",
    "\n",
    "from matplotlib_venn import venn2, venn3"
   ]
  },
  {
   "cell_type": "markdown",
   "id": "b1d8820a",
   "metadata": {},
   "source": [
    "# Import GO enrichment analysis results"
   ]
  },
  {
   "cell_type": "code",
   "execution_count": 2,
   "id": "6bc0027c",
   "metadata": {},
   "outputs": [],
   "source": [
    "data_path = os.getcwd() + \"/GO_enrichment/\""
   ]
  },
  {
   "cell_type": "code",
   "execution_count": 3,
   "id": "33e12cc6",
   "metadata": {},
   "outputs": [
    {
     "name": "stderr",
     "output_type": "stream",
     "text": [
      "<ipython-input-3-8e77366e6dd5>:4: FutureWarning: The default value of regex will change from True to False in a future version. In addition, single character regular expressions will *not* be treated as literal strings when regex=True.\n",
      "  goea_csf_BP[\"GO ID\"] = goea_csf_BP[\"GO ID\"].str.replace(\")\", \"\")\n"
     ]
    }
   ],
   "source": [
    "goea_csf_BP = pd.read_csv(data_path + \"PANTHER_CSF_brain_background_brain_BP.txt\", sep=\"\\t\", header=6) \n",
    "goea_csf_BP[[\"GO biological process complete\", \"GO ID\"]] = goea_csf_BP[\"GO biological process complete\"].str.split(\"(\", \n",
    "    expand=True)\n",
    "goea_csf_BP[\"GO ID\"] = goea_csf_BP[\"GO ID\"].str.replace(\")\", \"\")"
   ]
  },
  {
   "cell_type": "code",
   "execution_count": 4,
   "id": "36bc4d0c",
   "metadata": {},
   "outputs": [
    {
     "name": "stderr",
     "output_type": "stream",
     "text": [
      "<ipython-input-4-3bbf208a0f8d>:4: FutureWarning: The default value of regex will change from True to False in a future version. In addition, single character regular expressions will *not* be treated as literal strings when regex=True.\n",
      "  goea_csf_MF[\"GO ID\"] = goea_csf_MF[\"GO ID\"].str.replace(\")\", \"\")\n"
     ]
    }
   ],
   "source": [
    "goea_csf_MF = pd.read_csv(data_path + \"PANTHER_CSF_brain_background_brain_MF.txt\", sep=\"\\t\", header=6) \n",
    "goea_csf_MF[[\"GO molecular function complete\", \"GO ID\"]] = goea_csf_MF[\"GO molecular function complete\"].str.split(\"(\", \n",
    "    expand=True)\n",
    "goea_csf_MF[\"GO ID\"] = goea_csf_MF[\"GO ID\"].str.replace(\")\", \"\")"
   ]
  },
  {
   "cell_type": "code",
   "execution_count": 5,
   "id": "b691e4f4",
   "metadata": {},
   "outputs": [
    {
     "name": "stderr",
     "output_type": "stream",
     "text": [
      "<ipython-input-5-be85b32116d4>:4: FutureWarning: The default value of regex will change from True to False in a future version. In addition, single character regular expressions will *not* be treated as literal strings when regex=True.\n",
      "  goea_csf_CC[\"GO ID\"] = goea_csf_CC[\"GO ID\"].str.replace(\")\", \"\")\n"
     ]
    }
   ],
   "source": [
    "goea_csf_CC = pd.read_csv(data_path + \"PANTHER_CSF_brain_background_brain_CC.txt\", sep=\"\\t\", header=6) \n",
    "goea_csf_CC[[\"GO cellular component complete\", \"GO ID\"]] = goea_csf_CC[\"GO cellular component complete\"].str.split(\"(\", \n",
    "    expand=True)\n",
    "goea_csf_CC[\"GO ID\"] = goea_csf_CC[\"GO ID\"].str.replace(\")\", \"\")"
   ]
  },
  {
   "cell_type": "code",
   "execution_count": 14,
   "id": "5e991516",
   "metadata": {},
   "outputs": [
    {
     "data": {
      "text/html": [
       "<div>\n",
       "<style scoped>\n",
       "    .dataframe tbody tr th:only-of-type {\n",
       "        vertical-align: middle;\n",
       "    }\n",
       "\n",
       "    .dataframe tbody tr th {\n",
       "        vertical-align: top;\n",
       "    }\n",
       "\n",
       "    .dataframe thead th {\n",
       "        text-align: right;\n",
       "    }\n",
       "</style>\n",
       "<table border=\"1\" class=\"dataframe\">\n",
       "  <thead>\n",
       "    <tr style=\"text-align: right;\">\n",
       "      <th></th>\n",
       "      <th>PANTHER Pathways</th>\n",
       "      <th>Brain_all.txt - REFLIST (2434)</th>\n",
       "      <th>Brain_CSF_positive.txt (961)</th>\n",
       "      <th>Brain_CSF_positive.txt (expected)</th>\n",
       "      <th>Brain_CSF_positive.txt (over/under)</th>\n",
       "      <th>Brain_CSF_positive.txt (fold Enrichment)</th>\n",
       "      <th>Brain_CSF_positive.txt (raw P-value)</th>\n",
       "      <th>Brain_CSF_positive.txt (FDR)</th>\n",
       "    </tr>\n",
       "  </thead>\n",
       "  <tbody>\n",
       "    <tr>\n",
       "      <th>0</th>\n",
       "      <td>Cadherin signaling pathway (P00012)</td>\n",
       "      <td>58</td>\n",
       "      <td>52</td>\n",
       "      <td>22.90</td>\n",
       "      <td>+</td>\n",
       "      <td>2.27</td>\n",
       "      <td>0.000021</td>\n",
       "      <td>0.00207</td>\n",
       "    </tr>\n",
       "    <tr>\n",
       "      <th>1</th>\n",
       "      <td>Wnt signaling pathway (P00057)</td>\n",
       "      <td>79</td>\n",
       "      <td>58</td>\n",
       "      <td>31.19</td>\n",
       "      <td>+</td>\n",
       "      <td>1.86</td>\n",
       "      <td>0.000320</td>\n",
       "      <td>0.01080</td>\n",
       "    </tr>\n",
       "    <tr>\n",
       "      <th>2</th>\n",
       "      <td>Unclassified (UNCLASSIFIED)</td>\n",
       "      <td>1982</td>\n",
       "      <td>723</td>\n",
       "      <td>782.54</td>\n",
       "      <td>-</td>\n",
       "      <td>0.92</td>\n",
       "      <td>0.000069</td>\n",
       "      <td>0.00347</td>\n",
       "    </tr>\n",
       "  </tbody>\n",
       "</table>\n",
       "</div>"
      ],
      "text/plain": [
       "                      PANTHER Pathways  Brain_all.txt - REFLIST (2434)  \\\n",
       "0  Cadherin signaling pathway (P00012)                              58   \n",
       "1       Wnt signaling pathway (P00057)                              79   \n",
       "2          Unclassified (UNCLASSIFIED)                            1982   \n",
       "\n",
       "   Brain_CSF_positive.txt (961)  Brain_CSF_positive.txt (expected)  \\\n",
       "0                            52                              22.90   \n",
       "1                            58                              31.19   \n",
       "2                           723                             782.54   \n",
       "\n",
       "  Brain_CSF_positive.txt (over/under)  \\\n",
       "0                                   +   \n",
       "1                                   +   \n",
       "2                                   -   \n",
       "\n",
       "   Brain_CSF_positive.txt (fold Enrichment)  \\\n",
       "0                                      2.27   \n",
       "1                                      1.86   \n",
       "2                                      0.92   \n",
       "\n",
       "   Brain_CSF_positive.txt (raw P-value)  Brain_CSF_positive.txt (FDR)  \n",
       "0                              0.000021                       0.00207  \n",
       "1                              0.000320                       0.01080  \n",
       "2                              0.000069                       0.00347  "
      ]
     },
     "execution_count": 14,
     "metadata": {},
     "output_type": "execute_result"
    }
   ],
   "source": [
    "goea_csf_pathway = pd.read_csv(data_path + \"PANTHER_CSF_brain_background_brain_pathway.txt\", sep=\"\\t\", header=6) \n",
    "# goea_csf_pathway[[\"GO cellular component complete\", \"GO ID\"]] = goea_csf_CC[\"GO cellular component complete\"].str.split(\"(\", \n",
    "#     expand=True)\n",
    "# goea_csf_CC[\"GO ID\"] = goea_csf_CC[\"GO ID\"].str.replace(\")\", \"\")"
   ]
  },
  {
   "cell_type": "code",
   "execution_count": 6,
   "id": "bd449d16",
   "metadata": {},
   "outputs": [
    {
     "name": "stdout",
     "output_type": "stream",
     "text": [
      "Cellular compartment\n",
      "Number of GO terms overrepresented in CSF brain proteins: 45\n",
      "Number of GO terms underrepresented in CSF brain proteins: 35\n",
      "Molecular function\n",
      "Number of GO terms overrepresented in CSF brain proteins: 3\n",
      "Number of GO terms underrepresented in CSF brain proteins: 18\n",
      "Cellular compartment\n",
      "Number of GO terms overrepresented in CSF brain proteins: 49\n",
      "Number of GO terms underrepresented in CSF brain proteins: 6\n"
     ]
    }
   ],
   "source": [
    "goea_csf_up_BP = goea_csf_BP[goea_csf_BP[\"Brain_CSF_positive.txt (over/under)\"] == \"+\"]\n",
    "goea_csf_down_BP = goea_csf_BP[goea_csf_BP[\"Brain_CSF_positive.txt (over/under)\"] == \"-\"]\n",
    "print(\"Cellular compartment\")\n",
    "print(\"Number of GO terms overrepresented in CSF brain proteins:\", len(goea_csf_up_BP))\n",
    "print(\"Number of GO terms underrepresented in CSF brain proteins:\", len(goea_csf_down_BP))\n",
    "\n",
    "goea_csf_up_MF = goea_csf_MF[goea_csf_MF[\"Brain_CSF_positive.txt (over/under)\"] == \"+\"]\n",
    "goea_csf_down_MF = goea_csf_MF[goea_csf_MF[\"Brain_CSF_positive.txt (over/under)\"] == \"-\"]\n",
    "print(\"Molecular function\")\n",
    "print(\"Number of GO terms overrepresented in CSF brain proteins:\", len(goea_csf_up_MF))\n",
    "print(\"Number of GO terms underrepresented in CSF brain proteins:\", len(goea_csf_down_MF))\n",
    "\n",
    "goea_csf_up_CC = goea_csf_CC[goea_csf_CC[\"Brain_CSF_positive.txt (over/under)\"] == \"+\"]\n",
    "goea_csf_down_CC = goea_csf_CC[goea_csf_CC[\"Brain_CSF_positive.txt (over/under)\"] == \"-\"]\n",
    "print(\"Cellular compartment\")\n",
    "print(\"Number of GO terms overrepresented in CSF brain proteins:\", len(goea_csf_up_CC))\n",
    "print(\"Number of GO terms underrepresented in CSF brain proteins:\", len(goea_csf_down_CC))"
   ]
  },
  {
   "cell_type": "markdown",
   "id": "dd667b6a",
   "metadata": {},
   "source": [
    "## Biological process"
   ]
  },
  {
   "cell_type": "code",
   "execution_count": 7,
   "id": "c8ddce32",
   "metadata": {},
   "outputs": [
    {
     "name": "stdout",
     "output_type": "stream",
     "text": [
      "homophilic cell adhesion via plasma membrane adhesion molecules \n",
      "cell-cell adhesion via plasma-membrane adhesion molecules \n",
      "cell-cell adhesion \n",
      "cell adhesion \n",
      "biological adhesion \n",
      "synapse organization \n",
      "cell junction organization \n",
      "axon development \n",
      "axonogenesis \n",
      "negative regulation of cellular component organization \n",
      "export from cell \n",
      "regulation of neuron projection development \n",
      "cell morphogenesis involved in differentiation \n",
      "cell morphogenesis involved in neuron differentiation \n",
      "cellular component morphogenesis \n",
      "regulation of plasma membrane bounded cell projection organization \n",
      "regulation of cell projection organization \n",
      "cell part morphogenesis \n",
      "cell projection morphogenesis \n",
      "neuron projection morphogenesis \n",
      "plasma membrane bounded cell projection morphogenesis \n",
      "cell morphogenesis \n",
      "neuron projection development \n",
      "regulation of cellular component biogenesis \n",
      "modulation of chemical synaptic transmission \n",
      "regulation of trans-synaptic signaling \n",
      "regulation of anatomical structure morphogenesis \n",
      "neuron development \n",
      "regulation of cellular component organization \n",
      "plasma membrane bounded cell projection organization \n",
      "cell projection organization \n",
      "cell development \n",
      "neuron differentiation \n",
      "generation of neurons \n",
      "neurogenesis \n",
      "cellular component organization \n",
      "cellular component organization or biogenesis \n",
      "nervous system development \n",
      "regulation of biological quality \n",
      "system development \n",
      "multicellular organism development \n",
      "anatomical structure development \n",
      "developmental process \n",
      "multicellular organismal process \n",
      "cellular process \n"
     ]
    }
   ],
   "source": [
    "for i in goea_csf_up_BP[\"GO biological process complete\"]:\n",
    "    print(i)"
   ]
  },
  {
   "cell_type": "code",
   "execution_count": 8,
   "id": "62542105",
   "metadata": {},
   "outputs": [
    {
     "name": "stdout",
     "output_type": "stream",
     "text": [
      "regulation of macromolecule metabolic process \n",
      "regulation of metabolic process \n",
      "regulation of cellular metabolic process \n",
      "regulation of nitrogen compound metabolic process \n",
      "regulation of primary metabolic process \n",
      "regulation of gene expression \n",
      "positive regulation of biosynthetic process \n",
      "positive regulation of cellular biosynthetic process \n",
      "regulation of nucleobase-containing compound metabolic process \n",
      "regulation of biosynthetic process \n",
      "regulation of cellular biosynthetic process \n",
      "positive regulation of nucleobase-containing compound metabolic process \n",
      "regulation of RNA metabolic process \n",
      "regulation of macromolecule biosynthetic process \n",
      "regulation of cellular macromolecule biosynthetic process \n",
      "positive regulation of macromolecule biosynthetic process \n",
      "positive regulation of RNA biosynthetic process \n",
      "positive regulation of transcription, DNA-templated \n",
      "positive regulation of nucleic acid-templated transcription \n",
      "negative regulation of biosynthetic process \n",
      "regulation of RNA biosynthetic process \n",
      "regulation of transcription, DNA-templated \n",
      "regulation of nucleic acid-templated transcription \n",
      "positive regulation of transcription by RNA polymerase II \n",
      "positive regulation of RNA metabolic process \n",
      "negative regulation of nucleobase-containing compound metabolic process \n",
      "negative regulation of cellular biosynthetic process \n",
      "negative regulation of RNA metabolic process \n",
      "negative regulation of macromolecule biosynthetic process \n",
      "negative regulation of cellular macromolecule biosynthetic process \n",
      "negative regulation of RNA biosynthetic process \n",
      "negative regulation of transcription, DNA-templated \n",
      "negative regulation of nucleic acid-templated transcription \n",
      "regulation of transcription by RNA polymerase II \n",
      "negative regulation of transcription by RNA polymerase II \n"
     ]
    }
   ],
   "source": [
    "for i in goea_csf_down_BP[\"GO biological process complete\"]:\n",
    "    print(i)"
   ]
  },
  {
   "cell_type": "code",
   "execution_count": 9,
   "id": "90ecd1ac",
   "metadata": {},
   "outputs": [],
   "source": [
    "with open(data_path + \"GO_terms_CSF_up_BP.txt\", \"w\") as f:\n",
    "    for item in goea_csf_up_BP[\"GO ID\"]:\n",
    "        f.write(\"%s,\" % item)"
   ]
  },
  {
   "cell_type": "markdown",
   "id": "67606161",
   "metadata": {},
   "source": [
    "## Molecular function"
   ]
  },
  {
   "cell_type": "code",
   "execution_count": 10,
   "id": "f99bbc85",
   "metadata": {},
   "outputs": [
    {
     "name": "stdout",
     "output_type": "stream",
     "text": [
      "cell adhesion molecule binding \n",
      "calcium ion binding \n",
      "signaling receptor binding \n"
     ]
    }
   ],
   "source": [
    "for i in goea_csf_up_MF[\"GO molecular function complete\"]:\n",
    "    print(i)"
   ]
  },
  {
   "cell_type": "code",
   "execution_count": 11,
   "id": "e2752b18",
   "metadata": {},
   "outputs": [
    {
     "name": "stdout",
     "output_type": "stream",
     "text": [
      "organic cyclic compound binding \n",
      "heterocyclic compound binding \n",
      "nucleic acid binding \n",
      "DNA binding \n",
      "sequence-specific DNA binding \n",
      "chromatin binding \n",
      "transcription regulator activity \n",
      "double-stranded DNA binding \n",
      "transcription cis-regulatory region binding \n",
      "transcription regulatory region nucleic acid binding \n",
      "DNA-binding transcription factor activity \n",
      "sequence-specific double-stranded DNA binding \n",
      "DNA-binding transcription factor activity, RNA polymerase II-specific \n",
      "RNA polymerase II transcription regulatory region sequence-specific DNA binding \n",
      "DNA-binding transcription activator activity, RNA polymerase II-specific \n",
      "DNA-binding transcription activator activity \n",
      "RNA polymerase II cis-regulatory region sequence-specific DNA binding \n",
      "cis-regulatory region sequence-specific DNA binding \n"
     ]
    }
   ],
   "source": [
    "for i in goea_csf_down_MF[\"GO molecular function complete\"]:\n",
    "    print(i)"
   ]
  },
  {
   "cell_type": "markdown",
   "id": "2cb92ec4",
   "metadata": {},
   "source": [
    "## Cellular component "
   ]
  },
  {
   "cell_type": "code",
   "execution_count": 12,
   "id": "598c1330",
   "metadata": {},
   "outputs": [
    {
     "name": "stdout",
     "output_type": "stream",
     "text": [
      "anchored component of membrane \n",
      "external encapsulating structure \n",
      "extracellular matrix \n",
      "extracellular membrane-bounded organelle \n",
      "extracellular vesicle \n",
      "extracellular organelle \n",
      "extracellular exosome \n",
      "cell surface \n",
      "extracellular region \n",
      "cell-cell junction \n",
      "secretory granule \n",
      "extracellular space \n",
      "glutamatergic synapse \n",
      "axon \n",
      "intrinsic component of synaptic membrane \n",
      "distal axon \n",
      "Golgi apparatus \n",
      "neuron to neuron synapse \n",
      "presynapse \n",
      "asymmetric synapse \n",
      "secretory vesicle \n",
      "postsynaptic density \n",
      "postsynaptic specialization \n",
      "vesicle \n",
      "neuronal cell body \n",
      "plasma membrane region \n",
      "synapse \n",
      "cell junction \n",
      "cell body \n",
      "synaptic membrane \n",
      "postsynapse \n",
      "somatodendritic compartment \n",
      "neuron projection \n",
      "cytoplasmic vesicle \n",
      "intracellular vesicle \n",
      "bounding membrane of organelle \n",
      "intrinsic component of plasma membrane \n",
      "endomembrane system \n",
      "integral component of plasma membrane \n",
      "plasma membrane bounded cell projection \n",
      "cell projection \n",
      "cell periphery \n",
      "intrinsic component of membrane \n",
      "plasma membrane \n",
      "integral component of membrane \n",
      "membrane \n",
      "cytoplasm \n",
      "cellular anatomical entity \n",
      "cellular_component \n"
     ]
    }
   ],
   "source": [
    "for i in goea_csf_up_CC[\"GO cellular component complete\"]:\n",
    "    print(i)"
   ]
  },
  {
   "cell_type": "code",
   "execution_count": 13,
   "id": "5188c690",
   "metadata": {},
   "outputs": [
    {
     "name": "stdout",
     "output_type": "stream",
     "text": [
      "nuclear lumen \n",
      "nucleus \n",
      "Unclassified \n",
      "chromosome \n",
      "chromatin \n",
      "transcription regulator complex \n"
     ]
    }
   ],
   "source": [
    "for i in goea_csf_down_CC[\"GO cellular component complete\"]:\n",
    "    print(i)"
   ]
  },
  {
   "cell_type": "markdown",
   "id": "455f59f7",
   "metadata": {},
   "source": [
    "## Pathway"
   ]
  },
  {
   "cell_type": "code",
   "execution_count": 17,
   "id": "b4d77b72",
   "metadata": {},
   "outputs": [
    {
     "name": "stdout",
     "output_type": "stream",
     "text": [
      "Cadherin signaling pathway (P00012)\n",
      "Wnt signaling pathway (P00057)\n"
     ]
    }
   ],
   "source": [
    "for i in goea_csf_pathway[\"PANTHER Pathways\"][:2]:\n",
    "    print(i)"
   ]
  },
  {
   "cell_type": "code",
   "execution_count": null,
   "id": "f706747d",
   "metadata": {},
   "outputs": [],
   "source": []
  },
  {
   "cell_type": "code",
   "execution_count": null,
   "id": "d7503cb0",
   "metadata": {},
   "outputs": [],
   "source": []
  }
 ],
 "metadata": {
  "kernelspec": {
   "display_name": "Python 3",
   "language": "python",
   "name": "python3"
  },
  "language_info": {
   "codemirror_mode": {
    "name": "ipython",
    "version": 3
   },
   "file_extension": ".py",
   "mimetype": "text/x-python",
   "name": "python",
   "nbconvert_exporter": "python",
   "pygments_lexer": "ipython3",
   "version": "3.8.5"
  }
 },
 "nbformat": 4,
 "nbformat_minor": 5
}
