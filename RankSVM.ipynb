{
 "cells": [
  {
   "cell_type": "markdown",
   "metadata": {},
   "source": [
    "Example usage of RankSVM using pysofia\n",
    "======================================"
   ]
  },
  {
   "cell_type": "code",
   "execution_count": 4,
   "metadata": {},
   "outputs": [
    {
     "name": "stdout",
     "output_type": "stream",
     "text": [
      "Collecting pysofia\n",
      "  Downloading pysofia-0.9.tar.gz (21 kB)\n",
      "Requirement already satisfied: six in c:\\users\\kathi\\anaconda3\\lib\\site-packages (from pysofia) (1.16.0)\n",
      "Building wheels for collected packages: pysofia\n",
      "  Building wheel for pysofia (setup.py): started\n",
      "  Building wheel for pysofia (setup.py): finished with status 'error'\n",
      "  Running setup.py clean for pysofia\n",
      "Failed to build pysofia\n",
      "Installing collected packages: pysofia\n"
     ]
    },
    {
     "name": "stderr",
     "output_type": "stream",
     "text": [
      "  ERROR: Command errored out with exit status 1:\n",
      "   command: 'C:\\Users\\kathi\\anaconda3\\python.exe' -u -c 'import sys, setuptools, tokenize; sys.argv[0] = '\"'\"'C:\\\\Users\\\\kathi\\\\AppData\\\\Local\\\\Temp\\\\pip-install-eqrjgez_\\\\pysofia_d202e0751f384abca381f13429c2e676\\\\setup.py'\"'\"'; __file__='\"'\"'C:\\\\Users\\\\kathi\\\\AppData\\\\Local\\\\Temp\\\\pip-install-eqrjgez_\\\\pysofia_d202e0751f384abca381f13429c2e676\\\\setup.py'\"'\"';f=getattr(tokenize, '\"'\"'open'\"'\"', open)(__file__);code=f.read().replace('\"'\"'\\r\\n'\"'\"', '\"'\"'\\n'\"'\"');f.close();exec(compile(code, __file__, '\"'\"'exec'\"'\"'))' bdist_wheel -d 'C:\\Users\\kathi\\AppData\\Local\\Temp\\pip-wheel-ewwjc1et'\n",
      "       cwd: C:\\Users\\kathi\\AppData\\Local\\Temp\\pip-install-eqrjgez_\\pysofia_d202e0751f384abca381f13429c2e676\\\n",
      "  Complete output (18 lines):\n",
      "  running bdist_wheel\n",
      "  running build\n",
      "  running build_py\n",
      "  creating build\n",
      "  creating build\\lib.win-amd64-3.8\n",
      "  creating build\\lib.win-amd64-3.8\\pysofia\n",
      "  copying pysofia\\compat.py -> build\\lib.win-amd64-3.8\\pysofia\n",
      "  copying pysofia\\datasets.py -> build\\lib.win-amd64-3.8\\pysofia\n"
     ]
    },
    {
     "name": "stdout",
     "output_type": "stream",
     "text": [
      "    Running setup.py install for pysofia: started\n",
      "    Running setup.py install for pysofia: finished with status 'error'\n"
     ]
    },
    {
     "name": "stderr",
     "output_type": "stream",
     "text": [
      "  copying pysofia\\metrics.py -> build\\lib.win-amd64-3.8\\pysofia\n",
      "  copying pysofia\\misc.py -> build\\lib.win-amd64-3.8\\pysofia\n",
      "  copying pysofia\\sofia_ml.py -> build\\lib.win-amd64-3.8\\pysofia\n",
      "  copying pysofia\\__init__.py -> build\\lib.win-amd64-3.8\\pysofia\n",
      "  running build_ext\n",
      "  cythoning pysofia/_sofia_ml.pyx to pysofia\\_sofia_ml.cpp\n",
      "  C:\\Users\\kathi\\anaconda3\\lib\\site-packages\\Cython\\Compiler\\Main.py:369: FutureWarning: Cython directive 'language_level' not set, using 2 for now (Py2). This will change in a later release! File: C:\\Users\\kathi\\AppData\\Local\\Temp\\pip-install-eqrjgez_\\pysofia_d202e0751f384abca381f13429c2e676\\pysofia\\_sofia_ml.pyx\n",
      "    tree = Parsing.p_module(s, pxd, full_module_name)\n",
      "  building 'pysofia._sofia_ml' extension\n",
      "  error: Microsoft Visual C++ 14.0 or greater is required. Get it with \"Microsoft C++ Build Tools\": https://visualstudio.microsoft.com/visual-cpp-build-tools/\n",
      "  ----------------------------------------\n",
      "  ERROR: Failed building wheel for pysofia\n",
      "    ERROR: Command errored out with exit status 1:\n",
      "     command: 'C:\\Users\\kathi\\anaconda3\\python.exe' -u -c 'import sys, setuptools, tokenize; sys.argv[0] = '\"'\"'C:\\\\Users\\\\kathi\\\\AppData\\\\Local\\\\Temp\\\\pip-install-eqrjgez_\\\\pysofia_d202e0751f384abca381f13429c2e676\\\\setup.py'\"'\"'; __file__='\"'\"'C:\\\\Users\\\\kathi\\\\AppData\\\\Local\\\\Temp\\\\pip-install-eqrjgez_\\\\pysofia_d202e0751f384abca381f13429c2e676\\\\setup.py'\"'\"';f=getattr(tokenize, '\"'\"'open'\"'\"', open)(__file__);code=f.read().replace('\"'\"'\\r\\n'\"'\"', '\"'\"'\\n'\"'\"');f.close();exec(compile(code, __file__, '\"'\"'exec'\"'\"'))' install --record 'C:\\Users\\kathi\\AppData\\Local\\Temp\\pip-record-8j73wqoh\\install-record.txt' --single-version-externally-managed --compile --install-headers 'C:\\Users\\kathi\\anaconda3\\Include\\pysofia'\n",
      "         cwd: C:\\Users\\kathi\\AppData\\Local\\Temp\\pip-install-eqrjgez_\\pysofia_d202e0751f384abca381f13429c2e676\\\n",
      "    Complete output (16 lines):\n",
      "    running install\n",
      "    running build\n",
      "    running build_py\n",
      "    creating build\n",
      "    creating build\\lib.win-amd64-3.8\n",
      "    creating build\\lib.win-amd64-3.8\\pysofia\n",
      "    copying pysofia\\compat.py -> build\\lib.win-amd64-3.8\\pysofia\n",
      "    copying pysofia\\datasets.py -> build\\lib.win-amd64-3.8\\pysofia\n",
      "    copying pysofia\\metrics.py -> build\\lib.win-amd64-3.8\\pysofia\n",
      "    copying pysofia\\misc.py -> build\\lib.win-amd64-3.8\\pysofia\n",
      "    copying pysofia\\sofia_ml.py -> build\\lib.win-amd64-3.8\\pysofia\n",
      "    copying pysofia\\__init__.py -> build\\lib.win-amd64-3.8\\pysofia\n",
      "    running build_ext\n",
      "    skipping 'pysofia\\_sofia_ml.cpp' Cython extension (up-to-date)\n",
      "    building 'pysofia._sofia_ml' extension\n",
      "    error: Microsoft Visual C++ 14.0 or greater is required. Get it with \"Microsoft C++ Build Tools\": https://visualstudio.microsoft.com/visual-cpp-build-tools/\n",
      "    ----------------------------------------\n",
      "ERROR: Command errored out with exit status 1: 'C:\\Users\\kathi\\anaconda3\\python.exe' -u -c 'import sys, setuptools, tokenize; sys.argv[0] = '\"'\"'C:\\\\Users\\\\kathi\\\\AppData\\\\Local\\\\Temp\\\\pip-install-eqrjgez_\\\\pysofia_d202e0751f384abca381f13429c2e676\\\\setup.py'\"'\"'; __file__='\"'\"'C:\\\\Users\\\\kathi\\\\AppData\\\\Local\\\\Temp\\\\pip-install-eqrjgez_\\\\pysofia_d202e0751f384abca381f13429c2e676\\\\setup.py'\"'\"';f=getattr(tokenize, '\"'\"'open'\"'\"', open)(__file__);code=f.read().replace('\"'\"'\\r\\n'\"'\"', '\"'\"'\\n'\"'\"');f.close();exec(compile(code, __file__, '\"'\"'exec'\"'\"'))' install --record 'C:\\Users\\kathi\\AppData\\Local\\Temp\\pip-record-8j73wqoh\\install-record.txt' --single-version-externally-managed --compile --install-headers 'C:\\Users\\kathi\\anaconda3\\Include\\pysofia' Check the logs for full command output.\n"
     ]
    }
   ],
   "source": [
    "! pip install pysofia"
   ]
  },
  {
   "cell_type": "code",
   "execution_count": 3,
   "metadata": {},
   "outputs": [
    {
     "name": "stdout",
     "output_type": "stream",
     "text": [
      "Populating the interactive namespace from numpy and matplotlib\n"
     ]
    },
    {
     "ename": "ModuleNotFoundError",
     "evalue": "No module named 'pysofia'",
     "output_type": "error",
     "traceback": [
      "\u001b[1;31m---------------------------------------------------------------------------\u001b[0m",
      "\u001b[1;31mModuleNotFoundError\u001b[0m                       Traceback (most recent call last)",
      "\u001b[1;32m<ipython-input-3-f05e181f5d54>\u001b[0m in \u001b[0;36m<module>\u001b[1;34m\u001b[0m\n\u001b[0;32m      2\u001b[0m \u001b[1;31m# from sklearn import cross_validation\u001b[0m\u001b[1;33m\u001b[0m\u001b[1;33m\u001b[0m\u001b[1;33m\u001b[0m\u001b[0m\n\u001b[0;32m      3\u001b[0m \u001b[1;32mfrom\u001b[0m \u001b[0msklearn\u001b[0m\u001b[1;33m.\u001b[0m\u001b[0mmodel_selection\u001b[0m \u001b[1;32mimport\u001b[0m \u001b[0mcross_val_score\u001b[0m\u001b[1;33m\u001b[0m\u001b[1;33m\u001b[0m\u001b[0m\n\u001b[1;32m----> 4\u001b[1;33m \u001b[1;32mfrom\u001b[0m \u001b[0mpysofia\u001b[0m\u001b[1;33m.\u001b[0m\u001b[0mcompat\u001b[0m \u001b[1;32mimport\u001b[0m \u001b[0mRankSVM\u001b[0m\u001b[1;33m,\u001b[0m \u001b[0mRankSVMCV\u001b[0m\u001b[1;33m\u001b[0m\u001b[1;33m\u001b[0m\u001b[0m\n\u001b[0m",
      "\u001b[1;31mModuleNotFoundError\u001b[0m: No module named 'pysofia'"
     ]
    }
   ],
   "source": [
    "%pylab inline\n",
    "# from sklearn import cross_validation\n",
    "from sklearn.model_selection import cross_val_score\n",
    "from pysofia.compat import RankSVM, RankSVMCV"
   ]
  },
  {
   "cell_type": "code",
   "execution_count": null,
   "metadata": {},
   "outputs": [],
   "source": [
    "n_samples, n_features = 500, 2000\n",
    "X = np.random.randn(n_samples, n_features)\n",
    "w = np.random.randn(n_features)\n",
    "y = (X.dot(w) + np.random.randn(n_samples)).astype(np.int)"
   ]
  },
  {
   "cell_type": "code",
   "execution_count": null,
   "metadata": {},
   "outputs": [],
   "source": [
    "scores = cross_val_score(RankSVM(max_iter=200), X, y)\n",
    "# scores = cross_validation.cross_val_score(RankSVM(max_iter=200), X, y)\n",
    "print(scores)\n",
    "print(np.mean(scores))"
   ]
  },
  {
   "cell_type": "code",
   "execution_count": null,
   "metadata": {},
   "outputs": [],
   "source": [
    "scores = cross_val_score(RankSVMCV(max_iter=200), X, y)\n",
    "# scores = cross_validation.cross_val_score(RankSVMCV(max_iter=200), X, y)\n",
    "print(scores)\n",
    "print(np.mean(scores))"
   ]
  },
  {
   "cell_type": "code",
   "execution_count": null,
   "metadata": {},
   "outputs": [],
   "source": []
  },
  {
   "cell_type": "code",
   "execution_count": null,
   "metadata": {},
   "outputs": [],
   "source": []
  }
 ],
 "metadata": {
  "kernelspec": {
   "display_name": "Python 3",
   "language": "python",
   "name": "python3"
  },
  "language_info": {
   "codemirror_mode": {
    "name": "ipython",
    "version": 3
   },
   "file_extension": ".py",
   "mimetype": "text/x-python",
   "name": "python",
   "nbconvert_exporter": "python",
   "pygments_lexer": "ipython3",
   "version": "3.8.5"
  }
 },
 "nbformat": 4,
 "nbformat_minor": 1
}
