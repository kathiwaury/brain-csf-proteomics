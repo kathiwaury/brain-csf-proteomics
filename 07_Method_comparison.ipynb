{
 "cells": [
  {
   "cell_type": "markdown",
   "id": "b1d8820a",
   "metadata": {},
   "source": [
    "# Import libraries and data"
   ]
  },
  {
   "cell_type": "code",
   "execution_count": 1,
   "id": "3ab80beb",
   "metadata": {},
   "outputs": [],
   "source": [
    "# import libraries \n",
    "import matplotlib.pyplot as plt\n",
    "import numpy as np\n",
    "import os\n",
    "import pandas as pd\n",
    "import pickle\n",
    "import seaborn as sns\n",
    "\n",
    "from sklearn.metrics import roc_auc_score, confusion_matrix\n",
    "from utils import cont_variables"
   ]
  },
  {
   "cell_type": "code",
   "execution_count": 2,
   "id": "d5748095",
   "metadata": {},
   "outputs": [],
   "source": [
    "data_path = os.getcwd() + \"/Datasets/\"\n",
    "fig_path = os.getcwd() + \"/Figures/\""
   ]
  },
  {
   "cell_type": "markdown",
   "id": "f995d2cd",
   "metadata": {},
   "source": [
    "## Feature brain data set"
   ]
  },
  {
   "cell_type": "code",
   "execution_count": 3,
   "id": "4f428264",
   "metadata": {},
   "outputs": [],
   "source": [
    "df_features = pd.read_csv(data_path + \"/Features/df_features_brain_elevated_MS_filtered.csv\")"
   ]
  },
  {
   "cell_type": "code",
   "execution_count": 4,
   "id": "787d1a94",
   "metadata": {},
   "outputs": [],
   "source": [
    "# drop non-sequence-based features\n",
    "df_features.drop([\"RNA_binding\", \"DNA_binding\", \"Ectodomain_shedding\", \"EV\"], axis=1, inplace=True)"
   ]
  },
  {
   "cell_type": "markdown",
   "id": "a10e551d",
   "metadata": {},
   "source": [
    "## CSF data set"
   ]
  },
  {
   "cell_type": "code",
   "execution_count": 5,
   "id": "18797735",
   "metadata": {},
   "outputs": [],
   "source": [
    "csf = pd.read_csv(data_path + \"CSF/csf.csv\")"
   ]
  },
  {
   "cell_type": "markdown",
   "id": "ce6786aa",
   "metadata": {},
   "source": [
    "## DeepSec predictions"
   ]
  },
  {
   "cell_type": "code",
   "execution_count": 6,
   "id": "4ff9d4c4",
   "metadata": {},
   "outputs": [
    {
     "name": "stdout",
     "output_type": "stream",
     "text": [
      "Number of test set proteins with DeepSec probability score: 933\n",
      "Number of PEA-detected proteins with DeepSec probability score: 197\n"
     ]
    }
   ],
   "source": [
    "deepsec_test_set = pd.read_csv(data_path + \"Model_comparison/Test_set_DeepSec.txt\", sep=\"\\t\", header=None, \n",
    "    names=[\"Uniprot\", \"DeepSec\"])\n",
    "\n",
    "deepsec_pea = pd.read_csv(data_path + \"Model_comparison/PEA_non_mass_spec_proteins_DeepSec.txt\", sep=\"\\t\", header=None, \n",
    "    names=[\"Uniprot\", \"DeepSec\"])\n",
    "\n",
    "print(\"Number of test set proteins with DeepSec probability score:\", len(deepsec_test_set))\n",
    "print(\"Number of PEA-detected proteins with DeepSec probability score:\", len(deepsec_pea))"
   ]
  },
  {
   "cell_type": "markdown",
   "id": "bdb6bd20",
   "metadata": {},
   "source": [
    "## Protein test set"
   ]
  },
  {
   "cell_type": "code",
   "execution_count": 7,
   "id": "a6c19a66",
   "metadata": {},
   "outputs": [],
   "source": [
    "test_set = pd.read_csv(data_path + \"Model_comparison/Test_set_full.txt\", header=None, names=[\"Uniprot\"])\n",
    "test_set_hc = pd.read_csv(data_path + \"Model_comparison/Test_set_HC.txt\", header=None, names=[\"Uniprot\"])"
   ]
  },
  {
   "cell_type": "code",
   "execution_count": 8,
   "id": "ae103581",
   "metadata": {},
   "outputs": [
    {
     "data": {
      "text/html": [
       "<div>\n",
       "<style scoped>\n",
       "    .dataframe tbody tr th:only-of-type {\n",
       "        vertical-align: middle;\n",
       "    }\n",
       "\n",
       "    .dataframe tbody tr th {\n",
       "        vertical-align: top;\n",
       "    }\n",
       "\n",
       "    .dataframe thead th {\n",
       "        text-align: right;\n",
       "    }\n",
       "</style>\n",
       "<table border=\"1\" class=\"dataframe\">\n",
       "  <thead>\n",
       "    <tr style=\"text-align: right;\">\n",
       "      <th></th>\n",
       "      <th>Uniprot</th>\n",
       "      <th>DeepSec</th>\n",
       "    </tr>\n",
       "  </thead>\n",
       "  <tbody>\n",
       "    <tr>\n",
       "      <th>0</th>\n",
       "      <td>Q9UPW8</td>\n",
       "      <td>0.9515</td>\n",
       "    </tr>\n",
       "    <tr>\n",
       "      <th>1</th>\n",
       "      <td>Q9UK28</td>\n",
       "      <td>0.5208</td>\n",
       "    </tr>\n",
       "    <tr>\n",
       "      <th>2</th>\n",
       "      <td>Q9H313</td>\n",
       "      <td>0.0833</td>\n",
       "    </tr>\n",
       "    <tr>\n",
       "      <th>3</th>\n",
       "      <td>P22303</td>\n",
       "      <td>0.9952</td>\n",
       "    </tr>\n",
       "    <tr>\n",
       "      <th>4</th>\n",
       "      <td>Q9P2W7</td>\n",
       "      <td>0.9420</td>\n",
       "    </tr>\n",
       "    <tr>\n",
       "      <th>...</th>\n",
       "      <td>...</td>\n",
       "      <td>...</td>\n",
       "    </tr>\n",
       "    <tr>\n",
       "      <th>928</th>\n",
       "      <td>Q14DG7</td>\n",
       "      <td>0.6915</td>\n",
       "    </tr>\n",
       "    <tr>\n",
       "      <th>929</th>\n",
       "      <td>P22304</td>\n",
       "      <td>0.9909</td>\n",
       "    </tr>\n",
       "    <tr>\n",
       "      <th>930</th>\n",
       "      <td>Q8N3T1</td>\n",
       "      <td>0.9968</td>\n",
       "    </tr>\n",
       "    <tr>\n",
       "      <th>931</th>\n",
       "      <td>Q8IY49</td>\n",
       "      <td>0.0223</td>\n",
       "    </tr>\n",
       "    <tr>\n",
       "      <th>932</th>\n",
       "      <td>Q14123</td>\n",
       "      <td>0.0656</td>\n",
       "    </tr>\n",
       "  </tbody>\n",
       "</table>\n",
       "<p>933 rows × 2 columns</p>\n",
       "</div>"
      ],
      "text/plain": [
       "    Uniprot  DeepSec\n",
       "0    Q9UPW8   0.9515\n",
       "1    Q9UK28   0.5208\n",
       "2    Q9H313   0.0833\n",
       "3    P22303   0.9952\n",
       "4    Q9P2W7   0.9420\n",
       "..      ...      ...\n",
       "928  Q14DG7   0.6915\n",
       "929  P22304   0.9909\n",
       "930  Q8N3T1   0.9968\n",
       "931  Q8IY49   0.0223\n",
       "932  Q14123   0.0656\n",
       "\n",
       "[933 rows x 2 columns]"
      ]
     },
     "execution_count": 8,
     "metadata": {},
     "output_type": "execute_result"
    }
   ],
   "source": [
    "deepsec_test_set"
   ]
  },
  {
   "cell_type": "markdown",
   "id": "d02d24d3",
   "metadata": {},
   "source": [
    "## Model and scaler"
   ]
  },
  {
   "cell_type": "code",
   "execution_count": 10,
   "id": "3292267e",
   "metadata": {},
   "outputs": [],
   "source": [
    "with open(os.getcwd() + \"/Models/High_confidence_CSF.pkl\", \"rb\") as f:  \n",
    "    clf_hc = pickle.load(f)\n",
    "with open(os.getcwd() + \"/Models/Scaler_HC.pkl\", \"rb\") as f:  \n",
    "    scaler_hc = pickle.load(f)"
   ]
  },
  {
   "cell_type": "markdown",
   "id": "5b7f9b58",
   "metadata": {},
   "source": [
    "# Model comparison"
   ]
  },
  {
   "cell_type": "markdown",
   "id": "2b237b1d",
   "metadata": {},
   "source": [
    "## Preprocess test set "
   ]
  },
  {
   "cell_type": "code",
   "execution_count": 11,
   "id": "230550b9",
   "metadata": {},
   "outputs": [
    {
     "name": "stdout",
     "output_type": "stream",
     "text": [
      "Number of proteins in test set: 343\n"
     ]
    }
   ],
   "source": [
    "#  filter feature dataframe for high confidence model test set\n",
    "df_features_test_set = df_features[df_features[\"Uniprot\"].isin(test_set_hc[\"Uniprot\"])]\n",
    "\n",
    "# define variables and target\n",
    "X = df_features_test_set.drop([\"Uniprot\", \"Sequence\", \"CSF\"], axis=1)\n",
    "y = df_features_test_set[\"CSF\"]\n",
    "\n",
    "# scale test data with model scaler\n",
    "X_scaler_hc = X.copy()\n",
    "X_scaler_hc[cont_variables] = scaler_hc.transform(X_scaler_hc[cont_variables])\n",
    "print(\"Number of proteins in test set:\", len(X_scaler_hc))"
   ]
  },
  {
   "cell_type": "markdown",
   "id": "d6ea2609",
   "metadata": {},
   "source": [
    "## Prediction results"
   ]
  },
  {
   "cell_type": "markdown",
   "id": "2d9352e8",
   "metadata": {},
   "source": [
    "### High confidence CSF model"
   ]
  },
  {
   "cell_type": "code",
   "execution_count": 12,
   "id": "ba4a2b60",
   "metadata": {},
   "outputs": [],
   "source": [
    "# predict with HC-CSF classifier on test set\n",
    "y_pred = clf_hc.predict(X_scaler_hc)"
   ]
  },
  {
   "cell_type": "code",
   "execution_count": 13,
   "id": "fb9ea3b1",
   "metadata": {},
   "outputs": [],
   "source": [
    "predictions = pd.DataFrame(df_features_test_set[\"Uniprot\"])\n",
    "predictions[\"CSF\"] =  y\n",
    "predictions[\"HC\"] = clf_hc.predict_proba(X_scaler_hc)[:, 1].tolist()\n",
    "predictions[\"HC_class\"] = y_pred"
   ]
  },
  {
   "cell_type": "markdown",
   "id": "a068b41f",
   "metadata": {},
   "source": [
    "### DeepSec"
   ]
  },
  {
   "cell_type": "code",
   "execution_count": 14,
   "id": "a3fe0591",
   "metadata": {},
   "outputs": [
    {
     "name": "stdout",
     "output_type": "stream",
     "text": [
      "Number of proteins in DeepSec test set: 343\n"
     ]
    }
   ],
   "source": [
    "deepsec_test_set_hc = deepsec_test_set[deepsec_test_set[\"Uniprot\"].isin(test_set_hc[\"Uniprot\"])]\n",
    "print(\"Number of proteins in DeepSec test set:\", len(deepsec_test_set_hc))"
   ]
  },
  {
   "cell_type": "code",
   "execution_count": 15,
   "id": "0b4faf61",
   "metadata": {},
   "outputs": [
    {
     "data": {
      "text/html": [
       "<div>\n",
       "<style scoped>\n",
       "    .dataframe tbody tr th:only-of-type {\n",
       "        vertical-align: middle;\n",
       "    }\n",
       "\n",
       "    .dataframe tbody tr th {\n",
       "        vertical-align: top;\n",
       "    }\n",
       "\n",
       "    .dataframe thead th {\n",
       "        text-align: right;\n",
       "    }\n",
       "</style>\n",
       "<table border=\"1\" class=\"dataframe\">\n",
       "  <thead>\n",
       "    <tr style=\"text-align: right;\">\n",
       "      <th></th>\n",
       "      <th>Uniprot</th>\n",
       "      <th>CSF</th>\n",
       "      <th>HC</th>\n",
       "      <th>HC_class</th>\n",
       "      <th>DeepSec</th>\n",
       "      <th>DeepSec_class</th>\n",
       "    </tr>\n",
       "  </thead>\n",
       "  <tbody>\n",
       "    <tr>\n",
       "      <th>0</th>\n",
       "      <td>Q8TBG9</td>\n",
       "      <td>-1</td>\n",
       "      <td>0.880597</td>\n",
       "      <td>1</td>\n",
       "      <td>0.2223</td>\n",
       "      <td>-1</td>\n",
       "    </tr>\n",
       "    <tr>\n",
       "      <th>1</th>\n",
       "      <td>O60347</td>\n",
       "      <td>-1</td>\n",
       "      <td>0.208285</td>\n",
       "      <td>-1</td>\n",
       "      <td>0.4271</td>\n",
       "      <td>-1</td>\n",
       "    </tr>\n",
       "    <tr>\n",
       "      <th>2</th>\n",
       "      <td>Q9UKU6</td>\n",
       "      <td>1</td>\n",
       "      <td>0.473743</td>\n",
       "      <td>-1</td>\n",
       "      <td>0.8232</td>\n",
       "      <td>1</td>\n",
       "    </tr>\n",
       "    <tr>\n",
       "      <th>3</th>\n",
       "      <td>A6NC05</td>\n",
       "      <td>-1</td>\n",
       "      <td>0.161997</td>\n",
       "      <td>-1</td>\n",
       "      <td>0.0334</td>\n",
       "      <td>-1</td>\n",
       "    </tr>\n",
       "    <tr>\n",
       "      <th>4</th>\n",
       "      <td>Q9P2W7</td>\n",
       "      <td>1</td>\n",
       "      <td>0.595302</td>\n",
       "      <td>1</td>\n",
       "      <td>0.9420</td>\n",
       "      <td>1</td>\n",
       "    </tr>\n",
       "  </tbody>\n",
       "</table>\n",
       "</div>"
      ],
      "text/plain": [
       "  Uniprot  CSF        HC  HC_class  DeepSec  DeepSec_class\n",
       "0  Q8TBG9   -1  0.880597         1   0.2223             -1\n",
       "1  O60347   -1  0.208285        -1   0.4271             -1\n",
       "2  Q9UKU6    1  0.473743        -1   0.8232              1\n",
       "3  A6NC05   -1  0.161997        -1   0.0334             -1\n",
       "4  Q9P2W7    1  0.595302         1   0.9420              1"
      ]
     },
     "execution_count": 15,
     "metadata": {},
     "output_type": "execute_result"
    }
   ],
   "source": [
    "deepsec_test_set[\"DeepSec_class\"] = np.where(deepsec_test_set[\"DeepSec\"] > 0.5, 1, -1)\n",
    "# merge prediction results into one dataframe\n",
    "predictions_comb = predictions.merge(deepsec_test_set, on=\"Uniprot\")\n",
    "predictions_comb[:5]"
   ]
  },
  {
   "cell_type": "markdown",
   "id": "c916eef9",
   "metadata": {},
   "source": [
    "## Comparison of predictions"
   ]
  },
  {
   "cell_type": "code",
   "execution_count": 16,
   "id": "34021c77",
   "metadata": {},
   "outputs": [
    {
     "name": "stdout",
     "output_type": "stream",
     "text": [
      "High confidence CSF model\n",
      "ROC-AUC: 0.8900\n",
      "Specificity: 85.60\n",
      "Sensitivity: 76.00\n",
      "--------------\n",
      "DeepSec model\n",
      "ROC-AUC: 0.8204\n",
      "Specificity: 75.72\n",
      "Sensitivity: 72.00\n"
     ]
    }
   ],
   "source": [
    "print(\"High confidence CSF model\")\n",
    "print(\"ROC-AUC: %.4f\" % roc_auc_score(predictions_comb[\"CSF\"], predictions_comb[\"HC\"]))\n",
    "TN, FP, FN, TP = confusion_matrix(predictions_comb[\"CSF\"], predictions_comb[\"HC_class\"]).ravel()\n",
    "print(\"Specificity: %.2f\" %(TN / (TN+FP)*100))\n",
    "print(\"Sensitivity: %.2f\" %(TP / (TP+FN)*100))\n",
    "print(\"--------------\")\n",
    "\n",
    "print(\"DeepSec model\")\n",
    "print(\"ROC-AUC: %.4f\" % roc_auc_score(predictions_comb[\"CSF\"], predictions_comb[\"DeepSec\"]))\n",
    "TN, FP, FN, TP = confusion_matrix(predictions_comb[\"CSF\"], predictions_comb[\"DeepSec_class\"]).ravel()\n",
    "print(\"Specificity: %.2f\" %(TN / (TN+FP)*100))\n",
    "print(\"Sensitivity: %.2f\" %(TP / (TP+FN)*100))"
   ]
  },
  {
   "cell_type": "code",
   "execution_count": 17,
   "id": "4b9a1990",
   "metadata": {},
   "outputs": [
    {
     "data": {
      "image/png": "[encoded data removed]",
      "text/plain": [
       "<Figure size 700x500 with 1 Axes>"
      ]
     },
     "metadata": {},
     "output_type": "display_data"
    }
   ],
   "source": [
    "fig, ax = plt.subplots(1, 1, figsize=(7,5))\n",
    "\n",
    "sns.scatterplot(data=predictions_comb, x=\"DeepSec\", y=\"HC\", hue=\"CSF\", palette=[\"firebrick\", \"darkcyan\"])\n",
    "plt.legend(bbox_to_anchor=(1,1))\n",
    "ax.set(title=\"Comparison of prediction scores with DeepSec\", xlabel=\"DeepSec\", ylabel=\"CSF\")\n",
    "\n",
    "plt.show()"
   ]
  },
  {
   "cell_type": "markdown",
   "id": "5fd95643",
   "metadata": {},
   "source": [
    "## PEA-detected CSF proteins"
   ]
  },
  {
   "cell_type": "code",
   "execution_count": 18,
   "id": "b524a842",
   "metadata": {},
   "outputs": [
    {
     "name": "stdout",
     "output_type": "stream",
     "text": [
      "Fraction of correctly predicted CSF proteins: 71.57%\n"
     ]
    }
   ],
   "source": [
    "print(\"Fraction of correctly predicted CSF proteins: %.2f%%\" % (len(deepsec_pea[deepsec_pea[\"DeepSec\"] > 0.5]) /\n",
    "    len(deepsec_pea)*100))"
   ]
  },
  {
   "cell_type": "code",
   "execution_count": 19,
   "id": "ecb2303c",
   "metadata": {},
   "outputs": [
    {
     "name": "stdout",
     "output_type": "stream",
     "text": [
      "Median probability score: 0.7386\n"
     ]
    }
   ],
   "source": [
    "print(\"Median probability score:\", deepsec_pea[\"DeepSec\"].median())"
   ]
  }
 ],
 "metadata": {
  "kernelspec": {
   "display_name": "Python 3",
   "language": "python",
   "name": "python3"
  },
  "language_info": {
   "codemirror_mode": {
    "name": "ipython",
    "version": 3
   },
   "file_extension": ".py",
   "mimetype": "text/x-python",
   "name": "python",
   "nbconvert_exporter": "python",
   "pygments_lexer": "ipython3",
   "version": "3.8.5"
  }
 },
 "nbformat": 4,
 "nbformat_minor": 5
}
