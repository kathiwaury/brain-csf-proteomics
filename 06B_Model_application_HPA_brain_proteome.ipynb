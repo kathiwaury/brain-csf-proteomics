{
 "cells": [
  {
   "cell_type": "markdown",
   "id": "b1d8820a",
   "metadata": {},
   "source": [
    "# Import libraries and data"
   ]
  },
  {
   "cell_type": "code",
   "execution_count": 2,
   "id": "3ab80beb",
   "metadata": {},
   "outputs": [],
   "source": [
    "# import libraries \n",
    "import matplotlib.pyplot as plt\n",
    "import numpy as np\n",
    "import os\n",
    "import pandas as pd\n",
    "import pickle\n",
    "import seaborn as sns\n",
    "\n",
    "from matplotlib_venn import venn2\n",
    "from sklearn.metrics import balanced_accuracy_score\n",
    "from utils import increase_stringency_CSF\n",
    "\n",
    "# ignore pandas copy warning\n",
    "import warnings\n",
    "from pandas.core.common import SettingWithCopyWarning\n",
    "warnings.simplefilter(action=\"ignore\", category=SettingWithCopyWarning)"
   ]
  },
  {
   "cell_type": "code",
   "execution_count": 3,
   "id": "d5748095",
   "metadata": {},
   "outputs": [],
   "source": [
    "data_path = os.getcwd() + \"/Datasets/\"\n",
    "fig_path = os.getcwd() + \"/Figures/\""
   ]
  },
  {
   "cell_type": "markdown",
   "id": "4544b52e",
   "metadata": {},
   "source": [
    "## Brain proteome (HPA)"
   ]
  },
  {
   "cell_type": "code",
   "execution_count": 4,
   "id": "b25cf2c1",
   "metadata": {},
   "outputs": [],
   "source": [
    "brain_elevated = pd.read_csv(data_path + \"Brain/Brain_elevated.csv\")"
   ]
  },
  {
   "cell_type": "markdown",
   "id": "1152ab28",
   "metadata": {},
   "source": [
    "## Feature data sets"
   ]
  },
  {
   "cell_type": "markdown",
   "id": "7bdf40af",
   "metadata": {},
   "source": [
    "### Unfiltered"
   ]
  },
  {
   "cell_type": "code",
   "execution_count": 14,
   "id": "6fc17024",
   "metadata": {},
   "outputs": [],
   "source": [
    "# all human proteins\n",
    "df_human_proteome = pd.read_csv(data_path + \"/Features/df_features.csv\")"
   ]
  },
  {
   "cell_type": "markdown",
   "id": "9e05bc41",
   "metadata": {},
   "source": [
    "### MS filtered"
   ]
  },
  {
   "cell_type": "code",
   "execution_count": 15,
   "id": "4b07c172",
   "metadata": {},
   "outputs": [],
   "source": [
    "# # all human proteins\n",
    "df = pd.read_csv(data_path + \"/Features/df_features_MS_filtered.csv\")\n",
    "# all proteins detected in brain\n",
    "df_detected = pd.read_csv(data_path + \"/Features/df_features_brain_detected_MS_filtered.csv\")\n",
    "# all proteins detected in brain that were not part of the training and testing (i.e. brain elevated) set\n",
    "df_val = pd.read_csv(data_path + \"/Features/df_features_brain_detected_val_MS_filtered.csv\")\n",
    "# all proteins elevated in brain\n",
    "df_elevated = pd.read_csv(data_path + \"/Features/df_features_brain_elevated_MS_filtered.csv\")"
   ]
  },
  {
   "cell_type": "code",
   "execution_count": 16,
   "id": "8fa088c4",
   "metadata": {},
   "outputs": [],
   "source": [
    "# drop non-sequence-based features\n",
    "df_human_proteome.drop([\"RNA_binding\", \"DNA_binding\", \"Ectodomain_shedding\", \"EV\"], axis=1, inplace=True)\n",
    "df.drop([\"RNA_binding\", \"DNA_binding\", \"Ectodomain_shedding\", \"EV\"], axis=1, inplace=True)"
   ]
  },
  {
   "cell_type": "markdown",
   "id": "f7198c25",
   "metadata": {},
   "source": [
    "## CSF"
   ]
  },
  {
   "cell_type": "code",
   "execution_count": 17,
   "id": "cbccf20c",
   "metadata": {},
   "outputs": [],
   "source": [
    "csf = pd.read_csv(data_path + \"CSF/CSF.csv\")"
   ]
  },
  {
   "cell_type": "markdown",
   "id": "92ad2893",
   "metadata": {},
   "source": [
    "# Uniprot ID mapping"
   ]
  },
  {
   "cell_type": "code",
   "execution_count": 57,
   "id": "1570bb9c",
   "metadata": {},
   "outputs": [],
   "source": [
    "uniprot_mapping = pd.read_csv(data_path + \"Uniprot/Human_proteome_Uniprot_Gene_name.tsv\", sep=\"\\t\", header=0,\n",
    "    names=[\"Uniprot\", \"Gene Names\"])"
   ]
  },
  {
   "cell_type": "markdown",
   "id": "e10b13ea",
   "metadata": {},
   "source": [
    "## Model and scaler"
   ]
  },
  {
   "cell_type": "code",
   "execution_count": 18,
   "id": "b705eae0",
   "metadata": {},
   "outputs": [],
   "source": [
    "with open(os.getcwd() + \"/Models/LogisticClassifier_L2_1plus.pkl\", \"rb\") as f:  \n",
    "    L2_CSF1 = pickle.load(f)\n",
    "with open(os.getcwd() + \"/Models/LogisticClassifier_L2_2plus.pkl\", \"rb\") as f:  \n",
    "    L2_CSF2 = pickle.load(f)\n",
    "with open(os.getcwd() + \"/Models/LogisticClassifier_L2_3plus.pkl\", \"rb\") as f:  \n",
    "    L2_CSF3 = pickle.load(f)"
   ]
  },
  {
   "cell_type": "code",
   "execution_count": 19,
   "id": "873a5c06",
   "metadata": {},
   "outputs": [],
   "source": [
    "with open(os.getcwd() + \"/Models/Standard_scaler.pkl\", \"rb\") as f:  \n",
    "    scaler = pickle.load(f)"
   ]
  },
  {
   "cell_type": "markdown",
   "id": "fa7025b6",
   "metadata": {},
   "source": [
    "# Prediction on human proteome"
   ]
  },
  {
   "cell_type": "code",
   "execution_count": 52,
   "id": "52ea3586",
   "metadata": {},
   "outputs": [
    {
     "data": {
      "image/png": "[encoded data removed]",
      "text/plain": [
       "<Figure size 600x400 with 1 Axes>"
      ]
     },
     "metadata": {},
     "output_type": "display_data"
    }
   ],
   "source": [
    "brain_detected_val_set = set(df_val[\"Uniprot\"])\n",
    "csf_set = set(csf[\"Uniprot\"])\n",
    "\n",
    "sns.set(style=(\"ticks\"), font_scale=1.4)\n",
    "fig, axes = plt.subplots(1, 1, figsize=(6, 4))\n",
    "colors=(\"lightcoral\", \"skyblue\")\n",
    "alpha = 0.5\n",
    "\n",
    "# entire dataset\n",
    "v = venn2([brain_detected_val_set, csf_set], [\"\", \"\"], \n",
    "    set_colors=colors, alpha=alpha)\n",
    "v.get_patch_by_id(\"11\").set_color(\"skyblue\")\n",
    "v.get_patch_by_id(\"11\").set_alpha(1.0)\n",
    "v.get_patch_by_id(\"11\").set_linestyle(\"dashed\")\n",
    "v.get_patch_by_id(\"11\").set_edgecolor(\"black\")\n",
    "v.get_patch_by_id(\"10\").set_linestyle(\"dashed\")\n",
    "v.get_patch_by_id(\"10\").set_edgecolor(\"black\")\n",
    "v.get_label_by_id(\"01\").set_text(\"\")\n",
    "plt.show()\n",
    "\n",
    "plt.show()\n",
    "fig.savefig(fig_path + \"Venn_diagrams_overlap_brain_detected_CSF.png\", bbox_inches=\"tight\", dpi=300, transparent=True)"
   ]
  },
  {
   "cell_type": "code",
   "execution_count": 23,
   "id": "ac3cc636",
   "metadata": {},
   "outputs": [
    {
     "name": "stdout",
     "output_type": "stream",
     "text": [
      "Number of features: 55\n"
     ]
    }
   ],
   "source": [
    "# define variables and target\n",
    "X = df_human_proteome.drop([\"Uniprot\", \"Sequence\", \"CSF\"], axis=1)\n",
    "y = df_human_proteome[\"CSF\"]\n",
    "\n",
    "# define continuous variables\n",
    "cont = ['Length', 'Molecular weight', 'A', 'C', 'D', 'E', 'F', 'G', 'H', 'I', 'K', 'L', 'M', 'N', 'P', 'Q', 'R', 'S', 'T', \n",
    "        'V', 'W', 'Y', 'Isoelectric point', 'Instability index', 'Solubility', 'Disorder_NSP', 'Helix_NSP', 'Coil_NSP', \n",
    "        'Sheet_NSP', 'ExpAA', 'First60ExpAA', 'PredHel']\n",
    "\n",
    "# preprocess data with same scaler as training data\n",
    "X_scal = X.copy()\n",
    "X_scal[cont] = scaler.transform(X_scal[cont])\n",
    "\n",
    "print(\"Number of features:\", len(X.columns))"
   ]
  },
  {
   "cell_type": "code",
   "execution_count": 24,
   "id": "2673068e",
   "metadata": {},
   "outputs": [],
   "source": [
    "df_pred = df_human_proteome.copy()\n",
    "models = [L2_CSF1, L2_CSF2, L2_CSF3]\n",
    "model_names = [\"L2_CSF1\", \"L2_CSF2\", \"L2_CSF3\"]\n",
    "\n",
    "for i, m in enumerate(models):\n",
    "    # calculate probabilities with trained model\n",
    "    proba = m.predict_proba(X_scal)\n",
    "    # create dataframe of probabilities\n",
    "    proba_df = pd.DataFrame(proba, columns=[\"non_CSF\", \"CSF\"])\n",
    "    # add probabilities to main dataframe\n",
    "    df_pred[model_names[i]] = proba_df[\"CSF\"]\n",
    "\n",
    "# order dataframe by probabilities and reset index\n",
    "df_pred.sort_values(by=\"L2_CSF1\", ascending=False, inplace=True)\n",
    "df_pred.reset_index(drop=True, inplace=True)"
   ]
  },
  {
   "cell_type": "markdown",
   "id": "59f126be",
   "metadata": {},
   "source": [
    "## Create data subsets"
   ]
  },
  {
   "cell_type": "code",
   "execution_count": 26,
   "id": "e39f0a34",
   "metadata": {},
   "outputs": [
    {
     "name": "stdout",
     "output_type": "stream",
     "text": [
      "Number of proteins in brain elevated set: 2079\n",
      "Number of proteins in brain detected set: 14662\n",
      "Number of proteins in brain detected validation set: 12583\n"
     ]
    }
   ],
   "source": [
    "df_elevated_pred = df_pred[df_pred[\"Uniprot\"].isin(df_elevated[\"Uniprot\"])]\n",
    "print(\"Number of proteins in brain elevated set:\", len(df_elevated_pred))\n",
    "\n",
    "df_detected_pred = df_pred[df_pred[\"Uniprot\"].isin(df_detected[\"Uniprot\"])]\n",
    "print(\"Number of proteins in brain detected set:\", len(df_detected_pred))\n",
    "\n",
    "df_val_pred = df_pred[df_pred[\"Uniprot\"].isin(df_val[\"Uniprot\"])]\n",
    "print(\"Number of proteins in brain detected validation set:\", len(df_val_pred))"
   ]
  },
  {
   "cell_type": "code",
   "execution_count": 27,
   "id": "c4b5c644",
   "metadata": {},
   "outputs": [
    {
     "name": "stdout",
     "output_type": "stream",
     "text": [
      "Brain elevated set\n",
      "CSF2+\n",
      "Number of CSF proteins to be removed: 243\n",
      "Number of CSF proteins left: 649\n",
      "CSF3+\n",
      "Number of CSF proteins to be removed: 367\n",
      "Number of CSF proteins left: 525\n",
      "--------------\n",
      "Brain detected validation set\n",
      "CSF2+\n",
      "Number of CSF proteins to be removed: 1368\n",
      "Number of CSF proteins left: 2311\n",
      "CSF3+\n",
      "Number of CSF proteins to be removed: 1934\n",
      "Number of CSF proteins left: 1745\n"
     ]
    }
   ],
   "source": [
    "# create datasets without ambiguous proteins\n",
    "print(\"Brain elevated set\")\n",
    "print(\"CSF2+\")\n",
    "df_elevated_pred_CSF2 = increase_stringency_CSF(df_elevated_pred, csf, 2)\n",
    "print(\"CSF3+\")\n",
    "df_elevated_pred_CSF3 = increase_stringency_CSF(df_elevated_pred, csf, 3)\n",
    "\n",
    "print(\"--------------\")\n",
    "print(\"Brain detected validation set\")\n",
    "print(\"CSF2+\")\n",
    "df_val_pred_CSF2 = increase_stringency_CSF(df_val_pred, csf, 2)\n",
    "print(\"CSF3+\")\n",
    "df_val_pred_CSF3 = increase_stringency_CSF(df_val_pred, csf, 3)"
   ]
  },
  {
   "cell_type": "code",
   "execution_count": 29,
   "id": "28e4d246",
   "metadata": {},
   "outputs": [
    {
     "name": "stdout",
     "output_type": "stream",
     "text": [
      "Brain elevated set\n",
      "CSF1+ data set\n",
      "Number of CSF proteins in brain elevated set (CSF1+): 892\n",
      "Number of non-CSF proteins in brain elevated set (CSF1+): 1187\n",
      "CSF2+ data set\n",
      "Number of CSF proteins in brain elevated set (CSF2+): 649\n",
      "Number of non-CSF proteins in brain elevated set (CSF2+): 1187\n",
      "CSF3+ data set\n",
      "Number of CSF proteins in brain elevated set (CSF3+): 525\n",
      "Number of non-CSF proteins in brain elevated set (CSF3+): 1187\n",
      "--------------\n",
      "Brain detected validation set\n",
      "CSF1+ data set\n",
      "Number of CSF proteins in brain detected validation set (CSF1+): 3679\n",
      "Number of non-CSF proteins in brain detected validation set (CSF1+): 8904\n",
      "CSF2+ data set\n",
      "Number of CSF proteins in brain detected validation set (CSF2+): 2311\n",
      "Number of non-CSF proteins in brain detected validation set (CSF2+): 8904\n",
      "CSF3+ data set\n",
      "Number of CSF proteins in brain detected validation set (CSF3+): 1745\n",
      "Number of non-CSF proteins in brain detected validation set (CSF3+): 8904\n"
     ]
    }
   ],
   "source": [
    "# create subsets of datasets based on CSF class annotation\n",
    "print(\"Brain elevated set\")\n",
    "print(\"CSF1+ data set\")\n",
    "df_elevated_pred_CSF1_CSF = df_elevated_pred[df_elevated_pred[\"CSF\"] == 1]\n",
    "df_elevated_pred_CSF1_non_CSF = df_elevated_pred[df_elevated_pred[\"CSF\"] == -1]\n",
    "print(\"Number of CSF proteins in brain elevated set (CSF1+):\", len(df_elevated_pred_CSF1_CSF))\n",
    "print(\"Number of non-CSF proteins in brain elevated set (CSF1+):\", len(df_elevated_pred_CSF1_non_CSF))\n",
    "print(\"CSF2+ data set\")\n",
    "df_elevated_pred_CSF2_CSF = df_elevated_pred_CSF2[df_elevated_pred_CSF2[\"CSF\"] == 1]\n",
    "df_elevated_pred_CSF2_non_CSF = df_elevated_pred_CSF2[df_elevated_pred_CSF2[\"CSF\"] == -1]\n",
    "print(\"Number of CSF proteins in brain elevated set (CSF2+):\", len(df_elevated_pred_CSF2_CSF))\n",
    "print(\"Number of non-CSF proteins in brain elevated set (CSF2+):\", len(df_elevated_pred_CSF2_non_CSF))\n",
    "print(\"CSF3+ data set\")\n",
    "df_elevated_pred_CSF3_CSF = df_elevated_pred_CSF3[df_elevated_pred_CSF3[\"CSF\"] == 1]\n",
    "df_elevated_pred_CSF3_non_CSF = df_elevated_pred_CSF3[df_elevated_pred_CSF3[\"CSF\"] == -1]\n",
    "print(\"Number of CSF proteins in brain elevated set (CSF3+):\", len(df_elevated_pred_CSF3_CSF))\n",
    "print(\"Number of non-CSF proteins in brain elevated set (CSF3+):\", len(df_elevated_pred_CSF3_non_CSF))\n",
    "\n",
    "print(\"--------------\")\n",
    "print(\"Brain detected validation set\")\n",
    "print(\"CSF1+ data set\")\n",
    "df_val_pred_CSF1_CSF = df_val_pred[df_val_pred[\"CSF\"] == 1]\n",
    "df_val_pred_CSF1_non_CSF = df_val_pred[df_val_pred[\"CSF\"] == -1]\n",
    "print(\"Number of CSF proteins in brain detected validation set (CSF1+):\", len(df_val_pred_CSF1_CSF))\n",
    "print(\"Number of non-CSF proteins in brain detected validation set (CSF1+):\", len(df_val_pred_CSF1_non_CSF))\n",
    "print(\"CSF2+ data set\")\n",
    "df_val_pred_CSF2_CSF = df_val_pred_CSF2[df_val_pred_CSF2[\"CSF\"] == 1]\n",
    "df_val_pred_CSF2_non_CSF = df_val_pred_CSF2[df_val_pred_CSF2[\"CSF\"] == -1]\n",
    "print(\"Number of CSF proteins in brain detected validation set (CSF2+):\", len(df_val_pred_CSF2_CSF))\n",
    "print(\"Number of non-CSF proteins in brain detected validation set (CSF2+):\", len(df_val_pred_CSF2_non_CSF))\n",
    "print(\"CSF3+ data set\")\n",
    "df_val_pred_CSF3_CSF = df_val_pred_CSF3[df_val_pred_CSF3[\"CSF\"] == 1]\n",
    "df_val_pred_CSF3_non_CSF = df_val_pred_CSF3[df_val_pred_CSF3[\"CSF\"] == -1]\n",
    "print(\"Number of CSF proteins in brain detected validation set (CSF3+):\", len(df_val_pred_CSF3_CSF))\n",
    "print(\"Number of non-CSF proteins in brain detected validation set (CSF3+):\", len(df_val_pred_CSF3_non_CSF))"
   ]
  },
  {
   "cell_type": "markdown",
   "id": "36ec584c",
   "metadata": {},
   "source": [
    "# Prediction results"
   ]
  },
  {
   "cell_type": "markdown",
   "id": "7f63ce8b",
   "metadata": {},
   "source": [
    "## Brain elevated HPA proteome"
   ]
  },
  {
   "cell_type": "code",
   "execution_count": 30,
   "id": "4fa1ef59",
   "metadata": {},
   "outputs": [
    {
     "data": {
      "image/png": "[encoded data removed]",
      "text/plain": [
       "<Figure size 1000x300 with 3 Axes>"
      ]
     },
     "metadata": {},
     "output_type": "display_data"
    }
   ],
   "source": [
    "# brain elevated \n",
    "sns.set(style=(\"ticks\"), font_scale=1)\n",
    "fig, ax = plt.subplots(1, 3, figsize=(10,3), sharey=True)\n",
    "fig.suptitle(\"Brain elevated protein set\")\n",
    "fig.subplots_adjust(wspace=0.2, hspace=0.2, top=0.8)\n",
    "\n",
    "sns.boxplot(x=\"CSF\", y=\"L2_CSF1\", data=df_elevated_pred, palette=[\"firebrick\", \"skyblue\"], ax=ax[0])\n",
    "ax[0].set(xlabel=None, ylabel=\"Predicted probability\", title=\"CSF1+ model\")\n",
    "sns.boxplot(x=\"CSF\", y=\"L2_CSF2\", data=df_elevated_pred_CSF2, palette=[\"firebrick\", \"steelblue\"], ax=ax[1])\n",
    "ax[1].set(xlabel=None, ylabel=None, title=\"CSF2+ model\")\n",
    "sns.boxplot(x=\"CSF\", y=\"L2_CSF3\", data=df_elevated_pred_CSF3, palette=[\"firebrick\", \"darkcyan\"], ax=ax[2])\n",
    "ax[2].set(xlabel=None, ylabel=None, title=\"CSF3+ model\")\n",
    "\n",
    "for i in range(3):\n",
    "    ax[i].set_xticklabels([\"non-CSF\", \"CSF\"])\n",
    "    ax[i].axhline(0.5, color=\"black\", linestyle=\"--\")\n",
    "\n",
    "plt.show()\n",
    "fig.savefig(fig_path + \"Probability_scores_brain_elevated_L2.png\", bbox_inches=\"tight\", dpi=300, transparent=True)"
   ]
  },
  {
   "cell_type": "code",
   "execution_count": 31,
   "id": "5f101c27",
   "metadata": {},
   "outputs": [
    {
     "name": "stdout",
     "output_type": "stream",
     "text": [
      "Correctly predicted CSF proteins (CSF1+): 0.7298\n",
      "Correctly predicted CSF proteins (CSF2+): 0.7735\n",
      "Correctly predicted CSF proteins (CSF3+): 0.8019\n"
     ]
    }
   ],
   "source": [
    "sens_CSF1 = len(df_elevated_pred_CSF1_CSF[df_elevated_pred_CSF1_CSF[\"L2_CSF1\"] > 0.5])/len(df_elevated_pred_CSF1_CSF)\n",
    "print(\"Correctly predicted CSF proteins (CSF1+): %.4f\" % sens_CSF1)\n",
    "sens_CSF2 = len(df_elevated_pred_CSF2_CSF[df_elevated_pred_CSF2_CSF[\"L2_CSF2\"] > 0.5])/len(df_elevated_pred_CSF2_CSF)\n",
    "print(\"Correctly predicted CSF proteins (CSF2+): %.4f\" % sens_CSF2)\n",
    "sens_CSF3 = len(df_elevated_pred_CSF3_CSF[df_elevated_pred_CSF3_CSF[\"L2_CSF3\"] > 0.5])/len(df_elevated_pred_CSF3_CSF)\n",
    "print(\"Correctly predicted CSF proteins (CSF3+): %.4f\" % sens_CSF3)"
   ]
  },
  {
   "cell_type": "code",
   "execution_count": 32,
   "id": "48afd245",
   "metadata": {},
   "outputs": [
    {
     "name": "stdout",
     "output_type": "stream",
     "text": [
      "Correctly predicted non-CSF proteins (CSF1+): 0.7548\n",
      "Correctly predicted non-CSF proteins (CSF2+): 0.8189\n",
      "Correctly predicted non-CSF proteins (CSF3+): 0.8467\n"
     ]
    }
   ],
   "source": [
    "spec_CSF1 = len(df_elevated_pred_CSF1_non_CSF[df_elevated_pred_CSF1_non_CSF[\"L2_CSF1\"] < 0.5])/len(df_elevated_pred_CSF1_non_CSF)\n",
    "print(\"Correctly predicted non-CSF proteins (CSF1+): %.4f\" % spec_CSF1)\n",
    "spec_CSF2 = len(df_elevated_pred_CSF2_non_CSF[df_elevated_pred_CSF2_non_CSF[\"L2_CSF2\"] < 0.5])/len(df_elevated_pred_CSF2_non_CSF)\n",
    "print(\"Correctly predicted non-CSF proteins (CSF2+): %.4f\" % spec_CSF2)\n",
    "spec_CSF3 = len(df_elevated_pred_CSF3_non_CSF[df_elevated_pred_CSF3_non_CSF[\"L2_CSF3\"] < 0.5])/len(df_elevated_pred_CSF3_non_CSF)\n",
    "print(\"Correctly predicted non-CSF proteins (CSF3+): %.4f\" % spec_CSF3)"
   ]
  },
  {
   "cell_type": "code",
   "execution_count": 33,
   "id": "59e84acf",
   "metadata": {},
   "outputs": [
    {
     "name": "stdout",
     "output_type": "stream",
     "text": [
      "Balanced accuracy (CSF1+): 0.7423\n",
      "Balanced accuracy (CSF2+): 0.7962\n",
      "Balanced accuracy (CSF3+): 0.8243\n"
     ]
    }
   ],
   "source": [
    "y_true = df_elevated_pred[\"CSF\"]\n",
    "y_pred = np.where(df_elevated_pred[\"L2_CSF1\"] > 0.5, 1, -1)\n",
    "y_true_CSF2 = df_elevated_pred_CSF2[\"CSF\"]\n",
    "y_pred_CSF2 = np.where(df_elevated_pred_CSF2[\"L2_CSF2\"] > 0.5, 1, -1)\n",
    "y_true_CSF3 = df_elevated_pred_CSF3[\"CSF\"]\n",
    "y_pred_CSF3 = np.where(df_elevated_pred_CSF3[\"L2_CSF3\"] > 0.5, 1, -1)\n",
    "\n",
    "print(\"Balanced accuracy (CSF1+): %.4f\" % balanced_accuracy_score(y_true, y_pred))\n",
    "print(\"Balanced accuracy (CSF2+): %.4f\" % balanced_accuracy_score(y_true_CSF2, y_pred_CSF2))\n",
    "print(\"Balanced accuracy (CSF3+): %.4f\" % balanced_accuracy_score(y_true_CSF3, y_pred_CSF3))"
   ]
  },
  {
   "cell_type": "markdown",
   "id": "36e50e8d",
   "metadata": {},
   "source": [
    "## Brain detected validation HPA proteome"
   ]
  },
  {
   "cell_type": "code",
   "execution_count": 35,
   "id": "fb1b94fb",
   "metadata": {},
   "outputs": [
    {
     "data": {
      "image/png": "[encoded data removed]",
      "text/plain": [
       "<Figure size 1000x300 with 3 Axes>"
      ]
     },
     "metadata": {},
     "output_type": "display_data"
    }
   ],
   "source": [
    "# brain detected validation\n",
    "sns.set(style=(\"ticks\"), font_scale=1)\n",
    "fig, ax = plt.subplots(1, 3, figsize=(10,3), sharey=True)\n",
    "fig.subplots_adjust(wspace=0.2, hspace=0.2, top=0.8)\n",
    "fig.suptitle(\"Brain detected validation protein set\")\n",
    "\n",
    "sns.boxplot(x=\"CSF\", y=\"L2_CSF1\", data=df_val_pred, palette=[\"firebrick\", \"skyblue\"], ax=ax[0])\n",
    "ax[0].set(xlabel=None, ylabel=\"Predicted probability\", title=\"CSF1+ model\")\n",
    "sns.boxplot(x=\"CSF\", y=\"L2_CSF2\", data=df_val_pred_CSF2, palette=[\"firebrick\", \"steelblue\"], ax=ax[1])\n",
    "ax[1].set(xlabel=None, ylabel=None, title=\"CSF2+ model\")\n",
    "sns.boxplot(x=\"CSF\", y=\"L2_CSF3\", data=df_val_pred_CSF3, palette=[\"firebrick\", \"darkcyan\"], ax=ax[2])\n",
    "ax[2].set(xlabel=None, ylabel=None, title=\"CSF3+ model\")\n",
    "\n",
    "for i in range(3):\n",
    "    ax[i].set_xticklabels([\"non-CSF\", \"CSF\"])\n",
    "    ax[i].axhline(0.5, color=\"black\", linestyle=\"--\")\n",
    "\n",
    "plt.show()\n",
    "fig.savefig(fig_path + \"Probability_scores_brain_detected_val_L2.png\", bbox_inches=\"tight\", dpi=300, transparent=True)"
   ]
  },
  {
   "cell_type": "code",
   "execution_count": 36,
   "id": "0a7fd819",
   "metadata": {},
   "outputs": [
    {
     "name": "stdout",
     "output_type": "stream",
     "text": [
      "Correctly predicted CSF proteins (CSF1+): 0.6320\n",
      "Correctly predicted CSF proteins (CSF2+): 0.7049\n",
      "Correctly predicted CSF proteins (CSF3+): 0.7484\n"
     ]
    }
   ],
   "source": [
    "sens_CSF1 = len(df_val_pred_CSF1_CSF[df_val_pred_CSF1_CSF[\"L2_CSF1\"] > 0.5])/len(df_val_pred_CSF1_CSF)\n",
    "print(\"Correctly predicted CSF proteins (CSF1+): %.4f\" % sens_CSF1)\n",
    "sens_CSF2 = len(df_val_pred_CSF2_CSF[df_val_pred_CSF2_CSF[\"L2_CSF2\"] > 0.5])/len(df_val_pred_CSF2_CSF)\n",
    "print(\"Correctly predicted CSF proteins (CSF2+): %.4f\" % sens_CSF2)\n",
    "sens_CSF3 = len(df_val_pred_CSF3_CSF[df_val_pred_CSF3_CSF[\"L2_CSF3\"] > 0.5])/len(df_val_pred_CSF3_CSF)\n",
    "print(\"Correctly predicted CSF proteins (CSF3+): %.4f\" % sens_CSF3)"
   ]
  },
  {
   "cell_type": "code",
   "execution_count": 37,
   "id": "9c367d5b",
   "metadata": {},
   "outputs": [
    {
     "name": "stdout",
     "output_type": "stream",
     "text": [
      "Correctly predicted non-CSF proteins (CSF1+): 0.7896\n",
      "Correctly predicted non-CSF proteins (CSF2+): 0.8504\n",
      "Correctly predicted non-CSF proteins (CSF3+): 0.8582\n"
     ]
    }
   ],
   "source": [
    "spec_CSF1 = len(df_val_pred_CSF1_non_CSF[df_val_pred_CSF1_non_CSF[\"L2_CSF1\"] < 0.5])/len(df_val_pred_CSF1_non_CSF)\n",
    "print(\"Correctly predicted non-CSF proteins (CSF1+): %.4f\" % spec_CSF1)\n",
    "spec_CSF2 = len(df_val_pred_CSF2_non_CSF[df_val_pred_CSF2_non_CSF[\"L2_CSF2\"] < 0.5])/len(df_val_pred_CSF2_non_CSF)\n",
    "print(\"Correctly predicted non-CSF proteins (CSF2+): %.4f\" % spec_CSF2)\n",
    "spec_CSF3 = len(df_val_pred_CSF3_non_CSF[df_val_pred_CSF3_non_CSF[\"L2_CSF3\"] < 0.5])/len(df_val_pred_CSF3_non_CSF)\n",
    "print(\"Correctly predicted non-CSF proteins (CSF3+): %.4f\" % spec_CSF3)"
   ]
  },
  {
   "cell_type": "code",
   "execution_count": 38,
   "id": "dac59061",
   "metadata": {},
   "outputs": [
    {
     "name": "stdout",
     "output_type": "stream",
     "text": [
      "Balanced accuracy (CSF1+): 0.7108\n",
      "Balanced accuracy (CSF2+): 0.7776\n",
      "Balanced accuracy (CSF3+): 0.8033\n"
     ]
    }
   ],
   "source": [
    "y_true = df_val_pred[\"CSF\"]\n",
    "y_pred = np.where(df_val_pred[\"L2_CSF1\"] > 0.5, 1, -1)\n",
    "y_true_CSF2 = df_val_pred_CSF2[\"CSF\"]\n",
    "y_pred_CSF2 = np.where(df_val_pred_CSF2[\"L2_CSF2\"] > 0.5, 1, -1)\n",
    "y_true_CSF3 = df_val_pred_CSF3[\"CSF\"]\n",
    "y_pred_CSF3 = np.where(df_val_pred_CSF3[\"L2_CSF3\"] > 0.5, 1, -1)\n",
    "\n",
    "print(\"Balanced accuracy (CSF1+): %.4f\" % balanced_accuracy_score(y_true, y_pred))\n",
    "print(\"Balanced accuracy (CSF2+): %.4f\" % balanced_accuracy_score(y_true_CSF2, y_pred_CSF2))\n",
    "print(\"Balanced accuracy (CSF3+): %.4f\" % balanced_accuracy_score(y_true_CSF3, y_pred_CSF3))"
   ]
  },
  {
   "cell_type": "markdown",
   "id": "6b7f078a",
   "metadata": {},
   "source": [
    "## Prediction confidence across CSF study number"
   ]
  },
  {
   "cell_type": "code",
   "execution_count": 39,
   "id": "0c4b5987",
   "metadata": {},
   "outputs": [],
   "source": [
    "# merge CSF studies with probability scores\n",
    "proba_val_across_study_number = df_val_pred[[\"Uniprot\", \"L2_CSF1\", \"L2_CSF2\", \"L2_CSF3\"]].merge(csf[[\"Uniprot\", \"#Studies\"]], \n",
    "    on=\"Uniprot\", how=\"left\")\n",
    "proba_val_across_study_number[\"#Studies\"].fillna(0, inplace=True)\n",
    "proba_val_across_study_number[\"#Studies\"] = proba_val_across_study_number[\"#Studies\"].astype(int)"
   ]
  },
  {
   "cell_type": "code",
   "execution_count": 40,
   "id": "371ae6b8",
   "metadata": {},
   "outputs": [
    {
     "data": {
      "image/png": "[encoded data removed]",
      "text/plain": [
       "<Figure size 1500x400 with 3 Axes>"
      ]
     },
     "metadata": {},
     "output_type": "display_data"
    }
   ],
   "source": [
    "sns.set(style=(\"ticks\"), font_scale=1.2)\n",
    "fig, ax = plt.subplots(1, 3, figsize=(15,4), sharey=True)\n",
    "fig.subplots_adjust(wspace=0.1)\n",
    "plt.setp(ax, ylim=(-0.01, 1.01))\n",
    "\n",
    "palette=[\"firebrick\", \"skyblue\", \"steelblue\", \"darkcyan\", \"darkgreen\", \"mediumseagreen\", \"palegreen\", \"yellowgreen\"]\n",
    "\n",
    "sns.boxplot(x=\"#Studies\", y=\"L2_CSF1\", data=proba_val_across_study_number, palette=palette, ax=ax[0])\n",
    "ax[0].set(xlabel=None, ylabel=None, title=\"CSF1+ model\")\n",
    "\n",
    "sns.boxplot(x=\"#Studies\", y=\"L2_CSF2\", data=proba_val_across_study_number, palette=palette, ax=ax[1])\n",
    "ax[1].set(xlabel=\"Number of CSF studies in which protein was detected\", ylabel=None, title=\"CSF2+ model\")\n",
    "ax[1].axvspan(0.5, 1.5, color=\"grey\", alpha=0.4)\n",
    "\n",
    "sns.boxplot(x=\"#Studies\", y=\"L2_CSF3\", data=proba_val_across_study_number, palette=palette, ax=ax[2])\n",
    "ax[2].set(xlabel=None, ylabel=None, title=\"CSF3+ model\")\n",
    "ax[2].axvspan(0.5, 2.5, color=\"grey\", alpha=0.4)\n",
    "\n",
    "for i in range(3):\n",
    "    ax[i].axhline(0.5, color=\"black\", linestyle=\"--\")\n",
    "    \n",
    "plt.show()\n",
    "fig.savefig(fig_path + \"Probability_scores_vs_study_number.png\", bbox_inches=\"tight\", dpi=300, transparent=True)"
   ]
  },
  {
   "cell_type": "markdown",
   "id": "77682de3",
   "metadata": {},
   "source": [
    "# Save prediction dataframe"
   ]
  },
  {
   "cell_type": "code",
   "execution_count": 59,
   "id": "917a2c97",
   "metadata": {},
   "outputs": [],
   "source": [
    "df_full_results = df_pred[[\"Uniprot\", \"L2_CSF1\", \"L2_CSF2\", \"L2_CSF3\"]]"
   ]
  },
  {
   "cell_type": "code",
   "execution_count": 60,
   "id": "fafb311e",
   "metadata": {},
   "outputs": [],
   "source": [
    "# merge CSF studies with probability scores\n",
    "df_full_results = df_full_results.merge(csf[[\"Uniprot\", \"#Studies\"]], on=\"Uniprot\", how=\"left\")\n",
    "df_full_results[\"#Studies\"].fillna(0, inplace=True)\n",
    "df_full_results[\"#Studies\"] = df_full_results[\"#Studies\"].astype(int)"
   ]
  },
  {
   "cell_type": "code",
   "execution_count": 61,
   "id": "3265fbf1",
   "metadata": {},
   "outputs": [],
   "source": [
    "df_full_results[\"Detected in the brain\"] = np.where(df_full_results[\"Uniprot\"].isin(df_detected[\"Uniprot\"]), \"Yes\", \"No\")\n",
    "df_full_results[\"Part of the training data\"] = np.where(df_full_results[\"Uniprot\"].isin(df_elevated[\"Uniprot\"]), \"Yes\", \"No\")"
   ]
  },
  {
   "cell_type": "code",
   "execution_count": 62,
   "id": "ec5a6351",
   "metadata": {},
   "outputs": [],
   "source": [
    "df_full_results.columns = [\"Uniprot\", \"Probability score (CSF1+ model)\", \n",
    "    \"Probability score (CSF2+ model)\", \"Probability score (CSF3+ model)\",\n",
    "    \"Number of CSF studies\", \"Part of the brain detected HPA proteome\", \"Part of the training data\"]"
   ]
  },
  {
   "cell_type": "code",
   "execution_count": 63,
   "id": "6469e85a",
   "metadata": {},
   "outputs": [],
   "source": [
    "df_full_results = uniprot_mapping.merge(df_full_results, on=\"Uniprot\", how=\"right\")"
   ]
  },
  {
   "cell_type": "code",
   "execution_count": 64,
   "id": "500f2b0e",
   "metadata": {},
   "outputs": [
    {
     "data": {
      "text/html": [
       "<div>\n",
       "<style scoped>\n",
       "    .dataframe tbody tr th:only-of-type {\n",
       "        vertical-align: middle;\n",
       "    }\n",
       "\n",
       "    .dataframe tbody tr th {\n",
       "        vertical-align: top;\n",
       "    }\n",
       "\n",
       "    .dataframe thead th {\n",
       "        text-align: right;\n",
       "    }\n",
       "</style>\n",
       "<table border=\"1\" class=\"dataframe\">\n",
       "  <thead>\n",
       "    <tr style=\"text-align: right;\">\n",
       "      <th></th>\n",
       "      <th>Uniprot</th>\n",
       "      <th>Gene Names</th>\n",
       "      <th>Probability score (CSF1+ model)</th>\n",
       "      <th>Probability score (CSF2+ model)</th>\n",
       "      <th>Probability score (CSF3+ model)</th>\n",
       "      <th>Number of CSF studies</th>\n",
       "      <th>Part of the brain detected HPA proteome</th>\n",
       "      <th>Part of the training data</th>\n",
       "    </tr>\n",
       "  </thead>\n",
       "  <tbody>\n",
       "    <tr>\n",
       "      <th>0</th>\n",
       "      <td>Q7Z5P9</td>\n",
       "      <td>MUC19</td>\n",
       "      <td>0.999955</td>\n",
       "      <td>0.999863</td>\n",
       "      <td>0.998660</td>\n",
       "      <td>1</td>\n",
       "      <td>No</td>\n",
       "      <td>No</td>\n",
       "    </tr>\n",
       "    <tr>\n",
       "      <th>1</th>\n",
       "      <td>Q8WXI7</td>\n",
       "      <td>MUC16 CA125</td>\n",
       "      <td>0.999718</td>\n",
       "      <td>0.992367</td>\n",
       "      <td>0.413202</td>\n",
       "      <td>2</td>\n",
       "      <td>No</td>\n",
       "      <td>No</td>\n",
       "    </tr>\n",
       "    <tr>\n",
       "      <th>2</th>\n",
       "      <td>Q02817</td>\n",
       "      <td>MUC2 SMUC</td>\n",
       "      <td>0.999711</td>\n",
       "      <td>0.998488</td>\n",
       "      <td>0.995803</td>\n",
       "      <td>0</td>\n",
       "      <td>No</td>\n",
       "      <td>No</td>\n",
       "    </tr>\n",
       "    <tr>\n",
       "      <th>3</th>\n",
       "      <td>E2RYF6</td>\n",
       "      <td>MUC22 G4 PBMUCL1</td>\n",
       "      <td>0.999502</td>\n",
       "      <td>0.996012</td>\n",
       "      <td>0.999614</td>\n",
       "      <td>0</td>\n",
       "      <td>No</td>\n",
       "      <td>No</td>\n",
       "    </tr>\n",
       "    <tr>\n",
       "      <th>4</th>\n",
       "      <td>P15502</td>\n",
       "      <td>ELN</td>\n",
       "      <td>0.999405</td>\n",
       "      <td>0.999890</td>\n",
       "      <td>0.999907</td>\n",
       "      <td>5</td>\n",
       "      <td>Yes</td>\n",
       "      <td>No</td>\n",
       "    </tr>\n",
       "  </tbody>\n",
       "</table>\n",
       "</div>"
      ],
      "text/plain": [
       "  Uniprot        Gene Names  Probability score (CSF1+ model)  \\\n",
       "0  Q7Z5P9             MUC19                         0.999955   \n",
       "1  Q8WXI7       MUC16 CA125                         0.999718   \n",
       "2  Q02817         MUC2 SMUC                         0.999711   \n",
       "3  E2RYF6  MUC22 G4 PBMUCL1                         0.999502   \n",
       "4  P15502               ELN                         0.999405   \n",
       "\n",
       "   Probability score (CSF2+ model)  Probability score (CSF3+ model)  \\\n",
       "0                         0.999863                         0.998660   \n",
       "1                         0.992367                         0.413202   \n",
       "2                         0.998488                         0.995803   \n",
       "3                         0.996012                         0.999614   \n",
       "4                         0.999890                         0.999907   \n",
       "\n",
       "   Number of CSF studies Part of the brain detected HPA proteome  \\\n",
       "0                      1                                      No   \n",
       "1                      2                                      No   \n",
       "2                      0                                      No   \n",
       "3                      0                                      No   \n",
       "4                      5                                     Yes   \n",
       "\n",
       "  Part of the training data  \n",
       "0                        No  \n",
       "1                        No  \n",
       "2                        No  \n",
       "3                        No  \n",
       "4                        No  "
      ]
     },
     "execution_count": 64,
     "metadata": {},
     "output_type": "execute_result"
    }
   ],
   "source": [
    "df_full_results[:5]"
   ]
  },
  {
   "cell_type": "code",
   "execution_count": 65,
   "id": "c8e49bf8",
   "metadata": {},
   "outputs": [],
   "source": [
    "df_full_results.to_excel(data_path + \"Biomarker_discovery/Probability_scores_human_proteome.xlsx\", index=False)"
   ]
  }
 ],
 "metadata": {
  "kernelspec": {
   "display_name": "Python 3",
   "language": "python",
   "name": "python3"
  },
  "language_info": {
   "codemirror_mode": {
    "name": "ipython",
    "version": 3
   },
   "file_extension": ".py",
   "mimetype": "text/x-python",
   "name": "python",
   "nbconvert_exporter": "python",
   "pygments_lexer": "ipython3",
   "version": "3.8.5"
  }
 },
 "nbformat": 4,
 "nbformat_minor": 5
}
