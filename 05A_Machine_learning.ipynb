{
 "cells": [
  {
   "cell_type": "markdown",
   "id": "b1d8820a",
   "metadata": {},
   "source": [
    "# Import libraries and data"
   ]
  },
  {
   "cell_type": "code",
   "execution_count": 1,
   "id": "3ab80beb",
   "metadata": {},
   "outputs": [],
   "source": [
    "# import libraries \n",
    "import matplotlib.pyplot as plt\n",
    "import numpy as np\n",
    "import os\n",
    "import pandas as pd\n",
    "import pickle\n",
    "import seaborn as sns\n",
    "\n",
    "from sklearn.linear_model import LogisticRegression, LogisticRegressionCV\n",
    "from sklearn.metrics import roc_auc_score, RocCurveDisplay\n",
    "from sklearn.model_selection import train_test_split\n",
    "from utils import col_dict, increase_stringency_CSF, preprocess\n",
    "\n",
    "%matplotlib inline"
   ]
  },
  {
   "cell_type": "code",
   "execution_count": 2,
   "id": "d5748095",
   "metadata": {},
   "outputs": [],
   "source": [
    "data_path = os.getcwd() + \"/Datasets/\"\n",
    "fig_path = os.getcwd() + \"/Figures/\""
   ]
  },
  {
   "cell_type": "markdown",
   "id": "f995d2cd",
   "metadata": {},
   "source": [
    "## Feature data set (brain elevated)"
   ]
  },
  {
   "cell_type": "code",
   "execution_count": 3,
   "id": "4f428264",
   "metadata": {},
   "outputs": [
    {
     "data": {
      "text/html": [
       "<div>\n",
       "<style scoped>\n",
       "    .dataframe tbody tr th:only-of-type {\n",
       "        vertical-align: middle;\n",
       "    }\n",
       "\n",
       "    .dataframe tbody tr th {\n",
       "        vertical-align: top;\n",
       "    }\n",
       "\n",
       "    .dataframe thead th {\n",
       "        text-align: right;\n",
       "    }\n",
       "</style>\n",
       "<table border=\"1\" class=\"dataframe\">\n",
       "  <thead>\n",
       "    <tr style=\"text-align: right;\">\n",
       "      <th></th>\n",
       "      <th>Uniprot</th>\n",
       "      <th>Sequence</th>\n",
       "      <th>Length</th>\n",
       "      <th>Molecular weight</th>\n",
       "      <th>A</th>\n",
       "      <th>C</th>\n",
       "      <th>D</th>\n",
       "      <th>E</th>\n",
       "      <th>F</th>\n",
       "      <th>G</th>\n",
       "      <th>...</th>\n",
       "      <th>PredHel</th>\n",
       "      <th>PredHel_binary</th>\n",
       "      <th>GPI-anchor</th>\n",
       "      <th>PS00022</th>\n",
       "      <th>PS01186</th>\n",
       "      <th>PS00232</th>\n",
       "      <th>PS00237</th>\n",
       "      <th>PS00028</th>\n",
       "      <th>PS00027</th>\n",
       "      <th>CSF</th>\n",
       "    </tr>\n",
       "  </thead>\n",
       "  <tbody>\n",
       "    <tr>\n",
       "      <th>0</th>\n",
       "      <td>Q99569</td>\n",
       "      <td>MPAPEQASLVEEGQPQTRQEAASTGPGMEPETTATTILASVKEQEL...</td>\n",
       "      <td>1192</td>\n",
       "      <td>131866.7406</td>\n",
       "      <td>0.064597</td>\n",
       "      <td>0.011745</td>\n",
       "      <td>0.046980</td>\n",
       "      <td>0.050336</td>\n",
       "      <td>0.015940</td>\n",
       "      <td>0.061242</td>\n",
       "      <td>...</td>\n",
       "      <td>0.0</td>\n",
       "      <td>0</td>\n",
       "      <td>0</td>\n",
       "      <td>0</td>\n",
       "      <td>0</td>\n",
       "      <td>0</td>\n",
       "      <td>0</td>\n",
       "      <td>0</td>\n",
       "      <td>0</td>\n",
       "      <td>-1</td>\n",
       "    </tr>\n",
       "    <tr>\n",
       "      <th>1</th>\n",
       "      <td>Q7L8C5</td>\n",
       "      <td>MVLSVPVIALGATLGTATSILALCGVTCLCRHMHPKKGLLPRDQDP...</td>\n",
       "      <td>426</td>\n",
       "      <td>46884.2716</td>\n",
       "      <td>0.084507</td>\n",
       "      <td>0.025822</td>\n",
       "      <td>0.042254</td>\n",
       "      <td>0.070423</td>\n",
       "      <td>0.014085</td>\n",
       "      <td>0.058685</td>\n",
       "      <td>...</td>\n",
       "      <td>1.0</td>\n",
       "      <td>1</td>\n",
       "      <td>0</td>\n",
       "      <td>0</td>\n",
       "      <td>0</td>\n",
       "      <td>0</td>\n",
       "      <td>0</td>\n",
       "      <td>0</td>\n",
       "      <td>0</td>\n",
       "      <td>-1</td>\n",
       "    </tr>\n",
       "    <tr>\n",
       "      <th>2</th>\n",
       "      <td>Q9BT88</td>\n",
       "      <td>MAEITNIRPSFDVSPVVAGLIGASVLVVCVSVTVFVWSCCHQQAEK...</td>\n",
       "      <td>431</td>\n",
       "      <td>48296.3314</td>\n",
       "      <td>0.039443</td>\n",
       "      <td>0.016241</td>\n",
       "      <td>0.064965</td>\n",
       "      <td>0.048724</td>\n",
       "      <td>0.034803</td>\n",
       "      <td>0.060325</td>\n",
       "      <td>...</td>\n",
       "      <td>1.0</td>\n",
       "      <td>1</td>\n",
       "      <td>0</td>\n",
       "      <td>0</td>\n",
       "      <td>0</td>\n",
       "      <td>0</td>\n",
       "      <td>0</td>\n",
       "      <td>0</td>\n",
       "      <td>0</td>\n",
       "      <td>1</td>\n",
       "    </tr>\n",
       "    <tr>\n",
       "      <th>3</th>\n",
       "      <td>Q5DID0</td>\n",
       "      <td>MLRTSGLALLALVSAVGPSQASGFTEKGLSLLGYQLCSHRVTHTVQ...</td>\n",
       "      <td>1318</td>\n",
       "      <td>144292.2583</td>\n",
       "      <td>0.064492</td>\n",
       "      <td>0.033384</td>\n",
       "      <td>0.036419</td>\n",
       "      <td>0.059939</td>\n",
       "      <td>0.031108</td>\n",
       "      <td>0.072079</td>\n",
       "      <td>...</td>\n",
       "      <td>1.0</td>\n",
       "      <td>1</td>\n",
       "      <td>0</td>\n",
       "      <td>0</td>\n",
       "      <td>0</td>\n",
       "      <td>0</td>\n",
       "      <td>0</td>\n",
       "      <td>0</td>\n",
       "      <td>0</td>\n",
       "      <td>-1</td>\n",
       "    </tr>\n",
       "    <tr>\n",
       "      <th>4</th>\n",
       "      <td>Q8TBG9</td>\n",
       "      <td>MCMVIFAPLFAIFAFATCGGYSGGLRLSVDCVNKTESNLSIDIAFA...</td>\n",
       "      <td>265</td>\n",
       "      <td>29165.8331</td>\n",
       "      <td>0.071698</td>\n",
       "      <td>0.022642</td>\n",
       "      <td>0.033962</td>\n",
       "      <td>0.037736</td>\n",
       "      <td>0.086792</td>\n",
       "      <td>0.075472</td>\n",
       "      <td>...</td>\n",
       "      <td>4.0</td>\n",
       "      <td>1</td>\n",
       "      <td>0</td>\n",
       "      <td>0</td>\n",
       "      <td>0</td>\n",
       "      <td>0</td>\n",
       "      <td>0</td>\n",
       "      <td>0</td>\n",
       "      <td>0</td>\n",
       "      <td>-1</td>\n",
       "    </tr>\n",
       "  </tbody>\n",
       "</table>\n",
       "<p>5 rows × 55 columns</p>\n",
       "</div>"
      ],
      "text/plain": [
       "  Uniprot                                           Sequence  Length  \\\n",
       "0  Q99569  MPAPEQASLVEEGQPQTRQEAASTGPGMEPETTATTILASVKEQEL...    1192   \n",
       "1  Q7L8C5  MVLSVPVIALGATLGTATSILALCGVTCLCRHMHPKKGLLPRDQDP...     426   \n",
       "2  Q9BT88  MAEITNIRPSFDVSPVVAGLIGASVLVVCVSVTVFVWSCCHQQAEK...     431   \n",
       "3  Q5DID0  MLRTSGLALLALVSAVGPSQASGFTEKGLSLLGYQLCSHRVTHTVQ...    1318   \n",
       "4  Q8TBG9  MCMVIFAPLFAIFAFATCGGYSGGLRLSVDCVNKTESNLSIDIAFA...     265   \n",
       "\n",
       "   Molecular weight         A         C         D         E         F  \\\n",
       "0       131866.7406  0.064597  0.011745  0.046980  0.050336  0.015940   \n",
       "1        46884.2716  0.084507  0.025822  0.042254  0.070423  0.014085   \n",
       "2        48296.3314  0.039443  0.016241  0.064965  0.048724  0.034803   \n",
       "3       144292.2583  0.064492  0.033384  0.036419  0.059939  0.031108   \n",
       "4        29165.8331  0.071698  0.022642  0.033962  0.037736  0.086792   \n",
       "\n",
       "          G  ...  PredHel  PredHel_binary  GPI-anchor  PS00022  PS01186  \\\n",
       "0  0.061242  ...      0.0               0           0        0        0   \n",
       "1  0.058685  ...      1.0               1           0        0        0   \n",
       "2  0.060325  ...      1.0               1           0        0        0   \n",
       "3  0.072079  ...      1.0               1           0        0        0   \n",
       "4  0.075472  ...      4.0               1           0        0        0   \n",
       "\n",
       "   PS00232  PS00237  PS00028  PS00027  CSF  \n",
       "0        0        0        0        0   -1  \n",
       "1        0        0        0        0   -1  \n",
       "2        0        0        0        0    1  \n",
       "3        0        0        0        0   -1  \n",
       "4        0        0        0        0   -1  \n",
       "\n",
       "[5 rows x 55 columns]"
      ]
     },
     "execution_count": 3,
     "metadata": {},
     "output_type": "execute_result"
    }
   ],
   "source": [
    "df_features = pd.read_csv(data_path + \"/Features/df_features_brain_elevated_MS_filtered.csv\")\n",
    "\n",
    "# drop non-sequence-based features\n",
    "df_features.drop([\"RNA_binding\", \"DNA_binding\", \"Ectodomain_shedding\", \"EV\"], axis=1, inplace=True)\n",
    "df_features[:5]"
   ]
  },
  {
   "cell_type": "markdown",
   "id": "a10e551d",
   "metadata": {},
   "source": [
    "## CSF data set"
   ]
  },
  {
   "cell_type": "code",
   "execution_count": 4,
   "id": "18797735",
   "metadata": {},
   "outputs": [],
   "source": [
    "csf = pd.read_csv(data_path + \"CSF/csf.csv\")"
   ]
  },
  {
   "cell_type": "markdown",
   "id": "d02d24d3",
   "metadata": {},
   "source": [
    "## Brain elevated proteome (HPA)"
   ]
  },
  {
   "cell_type": "code",
   "execution_count": 5,
   "id": "3292267e",
   "metadata": {},
   "outputs": [],
   "source": [
    "brain_elevated = pd.read_csv(data_path + \"Brain/Brain_elevated.csv\")"
   ]
  },
  {
   "cell_type": "markdown",
   "id": "5b7f9b58",
   "metadata": {},
   "source": [
    "# Machine Learning"
   ]
  },
  {
   "cell_type": "markdown",
   "id": "bd8bed29",
   "metadata": {},
   "source": [
    "## Data set preprocessing"
   ]
  },
  {
   "cell_type": "markdown",
   "id": "9b455671",
   "metadata": {},
   "source": [
    "### Full CSF set"
   ]
  },
  {
   "cell_type": "code",
   "execution_count": 6,
   "id": "dc36534d",
   "metadata": {},
   "outputs": [],
   "source": [
    "# define variables (X) and target (y) for classification task\n",
    "X = df_features.drop([\"Uniprot\", \"Sequence\", \"CSF\"], axis=1)\n",
    "y = df_features[\"CSF\"]"
   ]
  },
  {
   "cell_type": "code",
   "execution_count": 7,
   "id": "e8456da7",
   "metadata": {},
   "outputs": [
    {
     "name": "stdout",
     "output_type": "stream",
     "text": [
      "Number of proteins in train set: 1432\n",
      "\tCSF proteins: 716\n",
      "\tnon-CSF proteins: 716\n",
      "Number of proteins in test set: 416\n",
      "\tCSF proteins: 176\n",
      "\tnon-CSF proteins: 240\n",
      "Number of features: 52\n"
     ]
    }
   ],
   "source": [
    "# data is split into train (80%) and test (20%) set, variables are scaled and classes are balanced by undersampling\n",
    "X_train_bal, X_test_scal, y_train_bal, y_test, scaler = preprocess(X, y)\n",
    "\n",
    "# save the scaler\n",
    "with open(os.getcwd() + \"/Models/Scaler_full.pkl\", \"wb\") as f:  \n",
    "    pickle.dump(scaler, f)\n",
    "\n",
    "print(\"Number of proteins in train set:\", np.shape(X_train_bal)[0])\n",
    "print(\"\\tCSF proteins:\", y_train_bal.value_counts()[1])\n",
    "print(\"\\tnon-CSF proteins:\", y_train_bal.value_counts()[-1])\n",
    "print(\"Number of proteins in test set:\", np.shape(X_test_scal)[0])\n",
    "print(\"\\tCSF proteins:\", y_test.value_counts()[1])\n",
    "print(\"\\tnon-CSF proteins:\", y_test.value_counts()[-1])\n",
    "print(\"Number of features:\", np.shape(X_train_bal)[1])"
   ]
  },
  {
   "cell_type": "code",
   "execution_count": 8,
   "id": "68ee16d8",
   "metadata": {},
   "outputs": [],
   "source": [
    "# save list of Uniprot IDs for model comparison\n",
    "with open(data_path + \"Model_comparison/Test_set_full.txt\", \"w\") as f:  \n",
    "    for i in pd.merge(df_features, X_test_scal, left_index=True, right_index=True)[\"Uniprot\"]:\n",
    "        f.write(\"%s\\n\" %i)"
   ]
  },
  {
   "cell_type": "markdown",
   "id": "a421c914",
   "metadata": {},
   "source": [
    "### High confidence CSF set"
   ]
  },
  {
   "cell_type": "code",
   "execution_count": 9,
   "id": "a8e96adc",
   "metadata": {},
   "outputs": [
    {
     "name": "stdout",
     "output_type": "stream",
     "text": [
      "Number of CSF proteins to be removed: 367\n",
      "Number of CSF proteins left: 525\n"
     ]
    }
   ],
   "source": [
    "# create subset only including high confidence CSF proteins\n",
    "df_features_HC = increase_stringency_CSF(df_features, csf, 3)"
   ]
  },
  {
   "cell_type": "code",
   "execution_count": 10,
   "id": "3079d282",
   "metadata": {},
   "outputs": [],
   "source": [
    "# define variables (X) and target (y) for classification task\n",
    "X_HC = df_features_HC.drop([\"Uniprot\", \"Sequence\", \"CSF\"], axis=1)\n",
    "y_HC = df_features_HC[\"CSF\"]"
   ]
  },
  {
   "cell_type": "code",
   "execution_count": 11,
   "id": "d8b66550",
   "metadata": {},
   "outputs": [
    {
     "name": "stdout",
     "output_type": "stream",
     "text": [
      "Number of proteins in train set: 850\n",
      "\tCSF proteins: 425\n",
      "\tnon-CSF proteins: 425\n",
      "Number of proteins in test set: 343\n",
      "\tCSF proteins: 100\n",
      "\tnon-CSF proteins: 243\n",
      "Number of features: 52\n"
     ]
    }
   ],
   "source": [
    "# data is split into train (80%) and test (20%) set, variables are scaled and classes are balanced by undersampling\n",
    "X_train_bal_HC, X_test_scal_HC, y_train_bal_HC, y_test_HC, scaler_HC = preprocess(X_HC, y_HC)\n",
    "\n",
    "# save the scaler\n",
    "with open(os.getcwd() + \"/Models/Scaler_HC.pkl\", \"wb\") as f:  \n",
    "    pickle.dump(scaler_HC, f)\n",
    "\n",
    "print(\"Number of proteins in train set:\", np.shape(X_train_bal_HC)[0])\n",
    "print(\"\\tCSF proteins:\", y_train_bal_HC.value_counts()[1])\n",
    "print(\"\\tnon-CSF proteins:\", y_train_bal_HC.value_counts()[-1])\n",
    "print(\"Number of proteins in test set:\", np.shape(X_test_scal_HC)[0])\n",
    "print(\"\\tCSF proteins:\", y_test_HC.value_counts()[1])\n",
    "print(\"\\tnon-CSF proteins:\", y_test_HC.value_counts()[-1])\n",
    "print(\"Number of features:\", np.shape(X_train_bal_HC)[1])"
   ]
  },
  {
   "cell_type": "code",
   "execution_count": 12,
   "id": "24396c05",
   "metadata": {},
   "outputs": [],
   "source": [
    "# save list of Uniprot IDs for model comparison\n",
    "with open(data_path + \"Model_comparison/Test_set_HC.txt\", \"w\") as f:  \n",
    "    for i in pd.merge(df_features, X_test_scal_HC, left_index=True, right_index=True)[\"Uniprot\"]:\n",
    "        f.write(\"%s\\n\" %i)"
   ]
  },
  {
   "cell_type": "markdown",
   "id": "1437b247",
   "metadata": {},
   "source": [
    "## Parameter tuning for feature selection using cross-validation"
   ]
  },
  {
   "cell_type": "code",
   "execution_count": 13,
   "id": "f5e1b187",
   "metadata": {},
   "outputs": [],
   "source": [
    "# cross validation of C regularization parameter \n",
    "Cs = [0.01, 0.1, 0.5, 1, 5, 10, 100, 1000]"
   ]
  },
  {
   "cell_type": "markdown",
   "id": "519130b8",
   "metadata": {},
   "source": [
    "### Full CSF model"
   ]
  },
  {
   "cell_type": "code",
   "execution_count": 14,
   "id": "78901c42",
   "metadata": {},
   "outputs": [
    {
     "data": {
      "text/html": [
       "<div>\n",
       "<style scoped>\n",
       "    .dataframe tbody tr th:only-of-type {\n",
       "        vertical-align: middle;\n",
       "    }\n",
       "\n",
       "    .dataframe tbody tr th {\n",
       "        vertical-align: top;\n",
       "    }\n",
       "\n",
       "    .dataframe thead th {\n",
       "        text-align: right;\n",
       "    }\n",
       "</style>\n",
       "<table border=\"1\" class=\"dataframe\">\n",
       "  <thead>\n",
       "    <tr style=\"text-align: right;\">\n",
       "      <th></th>\n",
       "      <th>C</th>\n",
       "      <th>AUC</th>\n",
       "      <th>STD</th>\n",
       "    </tr>\n",
       "  </thead>\n",
       "  <tbody>\n",
       "    <tr>\n",
       "      <th>0</th>\n",
       "      <td>0.01</td>\n",
       "      <td>0.648381</td>\n",
       "      <td>0.037905</td>\n",
       "    </tr>\n",
       "    <tr>\n",
       "      <th>1</th>\n",
       "      <td>0.10</td>\n",
       "      <td>0.802375</td>\n",
       "      <td>0.030568</td>\n",
       "    </tr>\n",
       "    <tr>\n",
       "      <th>2</th>\n",
       "      <td>0.50</td>\n",
       "      <td>0.807059</td>\n",
       "      <td>0.036509</td>\n",
       "    </tr>\n",
       "    <tr>\n",
       "      <th>3</th>\n",
       "      <td>1.00</td>\n",
       "      <td>0.807296</td>\n",
       "      <td>0.038109</td>\n",
       "    </tr>\n",
       "    <tr>\n",
       "      <th>4</th>\n",
       "      <td>5.00</td>\n",
       "      <td>0.807448</td>\n",
       "      <td>0.040822</td>\n",
       "    </tr>\n",
       "    <tr>\n",
       "      <th>5</th>\n",
       "      <td>10.00</td>\n",
       "      <td>0.806650</td>\n",
       "      <td>0.040624</td>\n",
       "    </tr>\n",
       "    <tr>\n",
       "      <th>6</th>\n",
       "      <td>100.00</td>\n",
       "      <td>0.806552</td>\n",
       "      <td>0.040707</td>\n",
       "    </tr>\n",
       "    <tr>\n",
       "      <th>7</th>\n",
       "      <td>1000.00</td>\n",
       "      <td>0.806454</td>\n",
       "      <td>0.040543</td>\n",
       "    </tr>\n",
       "  </tbody>\n",
       "</table>\n",
       "</div>"
      ],
      "text/plain": [
       "         C       AUC       STD\n",
       "0     0.01  0.648381  0.037905\n",
       "1     0.10  0.802375  0.030568\n",
       "2     0.50  0.807059  0.036509\n",
       "3     1.00  0.807296  0.038109\n",
       "4     5.00  0.807448  0.040822\n",
       "5    10.00  0.806650  0.040624\n",
       "6   100.00  0.806552  0.040707\n",
       "7  1000.00  0.806454  0.040543"
      ]
     },
     "execution_count": 14,
     "metadata": {},
     "output_type": "execute_result"
    }
   ],
   "source": [
    "# apply cross validation to select low regularization parameter without drop in model accuracy\n",
    "clf = LogisticRegressionCV(Cs=Cs, cv=10, penalty=\"l1\", solver=\"liblinear\", scoring=\"roc_auc\", max_iter=1000, \n",
    "    random_state=0).fit(X_train_bal, y_train_bal)\n",
    "\n",
    "pd.DataFrame(data={\"C\":Cs, \"AUC\":np.mean(clf.scores_[1], axis=0), \"STD\":np.std(clf.scores_[1], axis=0)})"
   ]
  },
  {
   "cell_type": "markdown",
   "id": "d8dc025e",
   "metadata": {},
   "source": [
    "### High confidence CSF model"
   ]
  },
  {
   "cell_type": "code",
   "execution_count": 15,
   "id": "35477124",
   "metadata": {},
   "outputs": [
    {
     "data": {
      "text/html": [
       "<div>\n",
       "<style scoped>\n",
       "    .dataframe tbody tr th:only-of-type {\n",
       "        vertical-align: middle;\n",
       "    }\n",
       "\n",
       "    .dataframe tbody tr th {\n",
       "        vertical-align: top;\n",
       "    }\n",
       "\n",
       "    .dataframe thead th {\n",
       "        text-align: right;\n",
       "    }\n",
       "</style>\n",
       "<table border=\"1\" class=\"dataframe\">\n",
       "  <thead>\n",
       "    <tr style=\"text-align: right;\">\n",
       "      <th></th>\n",
       "      <th>C</th>\n",
       "      <th>AUC</th>\n",
       "      <th>STD</th>\n",
       "    </tr>\n",
       "  </thead>\n",
       "  <tbody>\n",
       "    <tr>\n",
       "      <th>0</th>\n",
       "      <td>0.01</td>\n",
       "      <td>0.704319</td>\n",
       "      <td>0.057664</td>\n",
       "    </tr>\n",
       "    <tr>\n",
       "      <th>1</th>\n",
       "      <td>0.10</td>\n",
       "      <td>0.889147</td>\n",
       "      <td>0.032409</td>\n",
       "    </tr>\n",
       "    <tr>\n",
       "      <th>2</th>\n",
       "      <td>0.50</td>\n",
       "      <td>0.900720</td>\n",
       "      <td>0.031340</td>\n",
       "    </tr>\n",
       "    <tr>\n",
       "      <th>3</th>\n",
       "      <td>1.00</td>\n",
       "      <td>0.899834</td>\n",
       "      <td>0.030705</td>\n",
       "    </tr>\n",
       "    <tr>\n",
       "      <th>4</th>\n",
       "      <td>5.00</td>\n",
       "      <td>0.901883</td>\n",
       "      <td>0.028686</td>\n",
       "    </tr>\n",
       "    <tr>\n",
       "      <th>5</th>\n",
       "      <td>10.00</td>\n",
       "      <td>0.901550</td>\n",
       "      <td>0.028066</td>\n",
       "    </tr>\n",
       "    <tr>\n",
       "      <th>6</th>\n",
       "      <td>100.00</td>\n",
       "      <td>0.900388</td>\n",
       "      <td>0.027342</td>\n",
       "    </tr>\n",
       "    <tr>\n",
       "      <th>7</th>\n",
       "      <td>1000.00</td>\n",
       "      <td>0.897896</td>\n",
       "      <td>0.028629</td>\n",
       "    </tr>\n",
       "  </tbody>\n",
       "</table>\n",
       "</div>"
      ],
      "text/plain": [
       "         C       AUC       STD\n",
       "0     0.01  0.704319  0.057664\n",
       "1     0.10  0.889147  0.032409\n",
       "2     0.50  0.900720  0.031340\n",
       "3     1.00  0.899834  0.030705\n",
       "4     5.00  0.901883  0.028686\n",
       "5    10.00  0.901550  0.028066\n",
       "6   100.00  0.900388  0.027342\n",
       "7  1000.00  0.897896  0.028629"
      ]
     },
     "execution_count": 15,
     "metadata": {},
     "output_type": "execute_result"
    }
   ],
   "source": [
    "# apply cross validation to select low regularization parameter without drop in model accuracy\n",
    "clf_HC = LogisticRegressionCV(Cs=Cs, cv=10, penalty=\"l1\", solver=\"liblinear\", scoring=\"roc_auc\", max_iter=1000, \n",
    "    random_state=0).fit(X_train_bal_HC, y_train_bal_HC)\n",
    "\n",
    "pd.DataFrame(data={\"C\":Cs, \"AUC\":np.mean(clf_HC.scores_[1], axis=0), \"STD\":np.std(clf_HC.scores_[1], axis=0)})"
   ]
  },
  {
   "cell_type": "markdown",
   "id": "d3bfffab",
   "metadata": {},
   "source": [
    "## Final model training & hold-out test set performance"
   ]
  },
  {
   "cell_type": "markdown",
   "id": "76abbd61",
   "metadata": {},
   "source": [
    "### Full CSF model"
   ]
  },
  {
   "cell_type": "code",
   "execution_count": 16,
   "id": "36e6aede",
   "metadata": {},
   "outputs": [
    {
     "name": "stdout",
     "output_type": "stream",
     "text": [
      "ROC-AUC of test set: 0.8056\n"
     ]
    }
   ],
   "source": [
    "clf_final = LogisticRegression(penalty=\"l1\", solver=\"liblinear\", C=0.5, max_iter=1000, random_state=0).fit(X_train_bal, \n",
    "    y_train_bal)\n",
    "\n",
    "with open(os.getcwd() + \"/Models/Full_CSF.pkl\", \"wb\") as f:  \n",
    "    pickle.dump(clf_final, f)\n",
    "\n",
    "print(\"ROC-AUC of test set: %.4f\" %(roc_auc_score(y_test, clf_final.decision_function(X_test_scal))))"
   ]
  },
  {
   "cell_type": "markdown",
   "id": "5a777344",
   "metadata": {},
   "source": [
    "### High confidence CSF model"
   ]
  },
  {
   "cell_type": "code",
   "execution_count": 17,
   "id": "d8f0b802",
   "metadata": {},
   "outputs": [
    {
     "name": "stdout",
     "output_type": "stream",
     "text": [
      "ROC-AUC of test set: 0.8900\n"
     ]
    }
   ],
   "source": [
    "clf_final_HC = LogisticRegression(penalty=\"l1\", solver=\"liblinear\", C=0.5, max_iter=1000, random_state=0).fit(X_train_bal_HC, \n",
    "    y_train_bal_HC)\n",
    "\n",
    "with open(os.getcwd() + \"/Models/High_confidence_CSF.pkl\", \"wb\") as f:  \n",
    "    pickle.dump(clf_final_HC, f)\n",
    "\n",
    "print(\"ROC-AUC of test set: %.4f\" %(roc_auc_score(y_test_HC, clf_final_HC.decision_function(X_test_scal_HC))))"
   ]
  },
  {
   "cell_type": "code",
   "execution_count": 18,
   "id": "c9b8a342",
   "metadata": {},
   "outputs": [
    {
     "data": {
      "image/png": "[encoded data removed]",
      "text/plain": [
       "<Figure size 504x504 with 1 Axes>"
      ]
     },
     "metadata": {},
     "output_type": "display_data"
    }
   ],
   "source": [
    "sns.set(style=(\"ticks\"), font_scale=1.4)\n",
    "fig, ax = plt.subplots(1, 1, figsize=(7,7))\n",
    "\n",
    "RocCurveDisplay.from_estimator(clf_final, X_test_scal, y_test, color=\"skyblue\", label=\"Full CSF model (AUC: 0.81)\", ax=ax)\n",
    "RocCurveDisplay.from_estimator(clf_final_HC, X_test_scal_HC, y_test_HC, color=\"darkblue\", \n",
    "    label=\"High Confidence CSF model (AUC: 0.89)\", ax=ax)\n",
    "ax.set(title=\"ROC-AUC plot of prediction models\", xlabel=\"1 - Specificity\", ylabel=\"Sensitivity\");\n",
    "\n",
    "plt.show()\n",
    "fig.savefig(fig_path + \"ROC_AUC_models.png\", bbox_inches=\"tight\", dpi=300, transparent=True)"
   ]
  },
  {
   "cell_type": "markdown",
   "id": "e78018f3",
   "metadata": {},
   "source": [
    "## Feature selection"
   ]
  },
  {
   "cell_type": "markdown",
   "id": "989f37da",
   "metadata": {},
   "source": [
    "### Full CSF model"
   ]
  },
  {
   "cell_type": "code",
   "execution_count": 19,
   "id": "bc8c740d",
   "metadata": {},
   "outputs": [
    {
     "name": "stdout",
     "output_type": "stream",
     "text": [
      "Number of included model features: 39\n",
      "--------------------------\n",
      "Most important features and their coefficients\n",
      "Nucleus             -1.786671\n",
      "Signal peptide       1.237757\n",
      "PS00028             -0.822812\n",
      "PS00027             -0.769640\n",
      "Golgi_apparatus      0.660822\n",
      "Extracellular        0.533848\n",
      "I                   -0.488729\n",
      "Isoelectric point   -0.487496\n",
      "Cytoplasm           -0.484100\n",
      "L                   -0.436779\n",
      "K                    0.427139\n",
      "W                   -0.389092\n",
      "PredHel_binary       0.381204\n",
      "G                    0.338756\n",
      "Disorder_NSP        -0.270272\n",
      "Length               0.253607\n",
      "S                   -0.246670\n",
      "H                   -0.229392\n",
      "F                   -0.211282\n",
      "Sheet_NSP            0.197774\n",
      "dtype: float64\n"
     ]
    }
   ],
   "source": [
    "coef_dict = {}\n",
    "\n",
    "for i, col in enumerate(X_train_bal.columns):\n",
    "    coef_dict[col] = clf_final.coef_[0][i]\n",
    "    \n",
    "coef_series = pd.Series(coef_dict)\n",
    "print(\"Number of included model features:\", len(coef_series[coef_series != 0]))\n",
    "print(\"--------------------------\")\n",
    "print(\"Most important features and their coefficients\")\n",
    "coef_series.sort_values(ascending=False, key=abs, inplace=True)\n",
    "print(coef_series[:20])"
   ]
  },
  {
   "cell_type": "code",
   "execution_count": 20,
   "id": "2a453b8b",
   "metadata": {},
   "outputs": [
    {
     "data": {
      "image/png": "[encoded data removed]",
      "text/plain": [
       "<Figure size 576x360 with 1 Axes>"
      ]
     },
     "metadata": {},
     "output_type": "display_data"
    }
   ],
   "source": [
    "sns.set(style=(\"ticks\"), font_scale=1.2)\n",
    "fig, ax = plt.subplots(1, 1, figsize=(8,5))\n",
    "\n",
    "col = [\"skyblue\" if (x > 0) else \"firebrick\" for x in coef_series.values[:20]]\n",
    " \n",
    "sns.barplot(x=[col_dict[i] if i in col_dict.keys() else i for i in coef_series.index[:20]], y=coef_series.values[:20], \n",
    "    palette=col)\n",
    "ax.set(xlabel=None, ylabel=None, title=\"Full CSF model coefficients\")\n",
    "ax.set_xticklabels(ax.get_xticklabels(), rotation=90)\n",
    "\n",
    "plt.show()\n",
    "fig.savefig(fig_path + \"Logistic_classifier_coefficients_full.png\", bbox_inches=\"tight\", dpi=300, transparent=True)"
   ]
  },
  {
   "cell_type": "markdown",
   "id": "a0aa7811",
   "metadata": {},
   "source": [
    "### High confidence CSF model"
   ]
  },
  {
   "cell_type": "code",
   "execution_count": 21,
   "id": "70cc37be",
   "metadata": {},
   "outputs": [
    {
     "name": "stdout",
     "output_type": "stream",
     "text": [
      "Number of included model features: 33\n",
      "--------------------------\n",
      "Most important features and their coefficients\n",
      "Nucleus             -2.601441\n",
      "Signal peptide       2.107997\n",
      "Golgi_apparatus      1.042131\n",
      "PredHel_binary       0.971805\n",
      "PS00022              0.942349\n",
      "Helix_NSP           -0.856917\n",
      "L                   -0.770908\n",
      "Cytoplasm           -0.687694\n",
      "W                   -0.651621\n",
      "I                   -0.486023\n",
      "H                   -0.453038\n",
      "R                   -0.435753\n",
      "G                    0.425461\n",
      "Disorder_NSP        -0.369114\n",
      "F                   -0.342713\n",
      "S                   -0.317847\n",
      "C                   -0.292438\n",
      "P                   -0.216795\n",
      "E                    0.190053\n",
      "Isoelectric point   -0.162687\n",
      "dtype: float64\n"
     ]
    }
   ],
   "source": [
    "coef_dict_HC = {}\n",
    "\n",
    "for i, col in enumerate(X_train_bal.columns):\n",
    "    coef_dict_HC[col] = clf_final_HC.coef_[0][i]\n",
    "    \n",
    "coef_series_HC = pd.Series(coef_dict_HC).sort_values()\n",
    "print(\"Number of included model features:\", len(coef_series_HC[coef_series_HC != 0]))\n",
    "print(\"--------------------------\")\n",
    "print(\"Most important features and their coefficients\")\n",
    "coef_series_HC.sort_values(ascending=False, key=abs, inplace=True)\n",
    "print(coef_series_HC[:20])"
   ]
  },
  {
   "cell_type": "code",
   "execution_count": 22,
   "id": "aad9c967",
   "metadata": {},
   "outputs": [
    {
     "data": {
      "image/png": "[encoded data removed]",
      "text/plain": [
       "<Figure size 576x360 with 1 Axes>"
      ]
     },
     "metadata": {},
     "output_type": "display_data"
    }
   ],
   "source": [
    "sns.set(style=(\"ticks\"), font_scale=1.2)\n",
    "fig, ax = plt.subplots(1, 1, figsize=(8,5))\n",
    "\n",
    "col = [\"darkcyan\" if (x > 0) else \"firebrick\" for x in coef_series_HC.values[:20]]\n",
    " \n",
    "sns.barplot(x=[col_dict[i] if i in col_dict.keys() else i for i in coef_series_HC.index[:20]], y=coef_series_HC.values[:20], \n",
    "    palette=col)\n",
    "ax.set(xlabel=None, ylabel=None, title=\"High confidence CSF model coefficients\")\n",
    "ax.set_xticklabels(ax.get_xticklabels(), rotation=90)\n",
    "\n",
    "plt.show()\n",
    "fig.savefig(fig_path + \"Logistic_classifier_coefficients_hc.png\", bbox_inches=\"tight\", dpi=300, transparent=True)"
   ]
  }
 ],
 "metadata": {
  "kernelspec": {
   "display_name": "Python 3",
   "language": "python",
   "name": "python3"
  },
  "language_info": {
   "codemirror_mode": {
    "name": "ipython",
    "version": 3
   },
   "file_extension": ".py",
   "mimetype": "text/x-python",
   "name": "python",
   "nbconvert_exporter": "python",
   "pygments_lexer": "ipython3",
   "version": "3.8.5"
  }
 },
 "nbformat": 4,
 "nbformat_minor": 5
}
