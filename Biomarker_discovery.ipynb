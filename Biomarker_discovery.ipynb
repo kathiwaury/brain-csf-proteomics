{
 "cells": [
  {
   "cell_type": "markdown",
   "id": "b1d8820a",
   "metadata": {},
   "source": [
    "# Import libraries and data"
   ]
  },
  {
   "cell_type": "code",
   "execution_count": 224,
   "id": "3ab80beb",
   "metadata": {},
   "outputs": [],
   "source": [
    "# import libraries \n",
    "import matplotlib.pyplot as plt\n",
    "import numpy as np\n",
    "import os\n",
    "import pandas as pd\n",
    "import re\n",
    "import seaborn as sns"
   ]
  },
  {
   "cell_type": "code",
   "execution_count": 3,
   "id": "d5748095",
   "metadata": {},
   "outputs": [],
   "source": [
    "data_path = os.getcwd() + \"/Datasets/\"\n",
    "fig_path = os.getcwd() + \"/Figures/\""
   ]
  },
  {
   "cell_type": "code",
   "execution_count": null,
   "id": "9274f9b2",
   "metadata": {},
   "outputs": [],
   "source": []
  },
  {
   "cell_type": "markdown",
   "id": "1152ab28",
   "metadata": {},
   "source": [
    "## Create test data set"
   ]
  },
  {
   "cell_type": "code",
   "execution_count": 186,
   "id": "21f90863",
   "metadata": {},
   "outputs": [],
   "source": [
    "# brain_detected_test_set = brain_detected_set - brain_set\n",
    "# len(brain_detected_test_set)\n",
    "\n",
    "# df_features_test = df_features[df_features[\"Uniprot\"].isin(list(brain_detected_test_set))]\n",
    "# df_features_test"
   ]
  },
  {
   "cell_type": "code",
   "execution_count": 187,
   "id": "b705eae0",
   "metadata": {},
   "outputs": [],
   "source": [
    "# test_brain = df_features_test.drop([\"Uniprot\", \"Sequence\"], axis=1)\n",
    "# test_preds = pd.Series(rf.predict(test_brain))"
   ]
  },
  {
   "cell_type": "code",
   "execution_count": 188,
   "id": "db849baa",
   "metadata": {},
   "outputs": [],
   "source": [
    "# test_preds.value_counts(dropna=False)"
   ]
  },
  {
   "cell_type": "code",
   "execution_count": 189,
   "id": "7feeb5d8",
   "metadata": {},
   "outputs": [],
   "source": [
    "# test_preds.index = test_brain.index\n",
    "# test_brain_pos = test_brain[test_preds == 1]\n",
    "# test_brain_neg = test_brain[test_preds == -1]"
   ]
  },
  {
   "cell_type": "code",
   "execution_count": 190,
   "id": "ab84dfe4",
   "metadata": {},
   "outputs": [],
   "source": [
    "# test_brain_pos.columns"
   ]
  },
  {
   "cell_type": "code",
   "execution_count": 191,
   "id": "aad100d4",
   "metadata": {},
   "outputs": [],
   "source": [
    "# test_proba = pd.DataFrame(rf.predict_proba(test_brain), columns=[\"not CSF\", \"CSF\"])\n",
    "# test_proba.sort_values(by=\"not CSF\")\n",
    "# test_proba"
   ]
  },
  {
   "cell_type": "code",
   "execution_count": 192,
   "id": "e3953598",
   "metadata": {},
   "outputs": [],
   "source": [
    "# test_proba.index = test_brain.index\n",
    "# test_proba"
   ]
  },
  {
   "cell_type": "code",
   "execution_count": 193,
   "id": "1dc5c425",
   "metadata": {},
   "outputs": [],
   "source": [
    "# feature_df_test[[\"not CSF\", \"CSF\"]] = test_proba\n",
    "# feature_df_test"
   ]
  },
  {
   "cell_type": "code",
   "execution_count": 194,
   "id": "fb12b637",
   "metadata": {},
   "outputs": [],
   "source": [
    "# feature_df_test.sort_values(by=\"CSF\", ascending=False)[:30]"
   ]
  }
 ],
 "metadata": {
  "kernelspec": {
   "display_name": "Python 3",
   "language": "python",
   "name": "python3"
  },
  "language_info": {
   "codemirror_mode": {
    "name": "ipython",
    "version": 3
   },
   "file_extension": ".py",
   "mimetype": "text/x-python",
   "name": "python",
   "nbconvert_exporter": "python",
   "pygments_lexer": "ipython3",
   "version": "3.8.5"
  }
 },
 "nbformat": 4,
 "nbformat_minor": 5
}
