{
 "cells": [
  {
   "cell_type": "markdown",
   "id": "367885ce",
   "metadata": {},
   "source": [
    "# Import libraries and data"
   ]
  },
  {
   "cell_type": "code",
   "execution_count": 1,
   "id": "0f6ebffd",
   "metadata": {},
   "outputs": [],
   "source": [
    "import matplotlib.pyplot as plt\n",
    "import numpy as np\n",
    "import os\n",
    "import pandas as pd\n",
    "\n",
    "pd.options.mode.chained_assignment = None"
   ]
  },
  {
   "cell_type": "code",
   "execution_count": 2,
   "id": "d5748095",
   "metadata": {},
   "outputs": [],
   "source": [
    "data_path_AD = os.getcwd() + \"/Datasets/CSF/raw_AD/\"\n",
    "data_path_MS = os.getcwd() + \"/Datasets/CSF/raw_MS/\""
   ]
  },
  {
   "cell_type": "code",
   "execution_count": 3,
   "id": "4f57d5db",
   "metadata": {},
   "outputs": [],
   "source": [
    "def get_uniprot(string):\n",
    "    \n",
    "    try:\n",
    "        _, uniprot = string.split(\"|\")\n",
    "    except ValueError:\n",
    "        _, uniprot, _ = string.split(\"|\")\n",
    "        \n",
    "    if \"-\" in uniprot:\n",
    "        uniprot, _ = uniprot.split(\"-\")\n",
    "    \n",
    "    return uniprot\n",
    "\n",
    "def get_first_uniprot(string):\n",
    "    \n",
    "    if \";\" in string:\n",
    "        uniprot, _ = string.split(\";\", maxsplit=1)\n",
    "    else:\n",
    "        uniprot = string\n",
    "    \n",
    "    return uniprot"
   ]
  },
  {
   "cell_type": "markdown",
   "id": "5f9a734c",
   "metadata": {},
   "source": [
    "# Alzheimer's Disease CSF"
   ]
  },
  {
   "cell_type": "markdown",
   "id": "89a11c9e",
   "metadata": {},
   "source": [
    "## Higginbotham2020"
   ]
  },
  {
   "cell_type": "code",
   "execution_count": 4,
   "id": "4bf4f90f",
   "metadata": {},
   "outputs": [
    {
     "name": "stdout",
     "output_type": "stream",
     "text": [
      "Number of unique proteins: 2828\n"
     ]
    }
   ],
   "source": [
    "Higginbotham2020 = pd.read_csv(data_path_AD + \"Higginbotham2020.csv\", header=None, sep=\";\", skiprows=6, \n",
    "    names=[\"Uniprot\", \"Gene Symbol\", \"Brain Module\", \"p Value\", \"BH FDR\", \"Log2 Difference\"])\n",
    "Higginbotham2020[\"Uniprot\"] = Higginbotham2020[\"Uniprot\"].apply(get_uniprot)\n",
    "Higginbotham2020.drop_duplicates(subset=[\"Uniprot\"], inplace=True)\n",
    "print(\"Number of unique proteins:\", len(set(Higginbotham2020[\"Uniprot\"])))"
   ]
  },
  {
   "cell_type": "markdown",
   "id": "192c436e",
   "metadata": {},
   "source": [
    "## Sathe2019"
   ]
  },
  {
   "cell_type": "code",
   "execution_count": 5,
   "id": "f04c45ca",
   "metadata": {},
   "outputs": [],
   "source": [
    "Sathe2019 = pd.read_csv(data_path_AD + \"Sathe2019.csv\", header=2, sep=\";\", usecols=[\"Gene Symbol\"])\n",
    "Sathe2019.columns = [\"Gene Names\"]\n",
    "Sathe2019.drop_duplicates(subset=[\"Gene Names\"], inplace=True)"
   ]
  },
  {
   "cell_type": "code",
   "execution_count": 6,
   "id": "b5a183c9",
   "metadata": {},
   "outputs": [],
   "source": [
    "# gene name to Uniprot ID mapping for human proteome\n",
    "mapping = pd.read_csv(os.getcwd() + \"/Datasets/Uniprot/Human_proteome_Uniprot_Gene_name.tsv\", sep=\"\\t\", header=0, names=[\"Uniprot\", \"Gene Names\"])\n",
    "\n",
    "# extract and keep first gene name\n",
    "mapping[\"Gene Names\"] = mapping[\"Gene Names\"].str.split(\" \", expand=True)[0]"
   ]
  },
  {
   "cell_type": "code",
   "execution_count": 7,
   "id": "0f3902e3",
   "metadata": {},
   "outputs": [
    {
     "name": "stdout",
     "output_type": "stream",
     "text": [
      "Number of unique proteins: 2310\n"
     ]
    }
   ],
   "source": [
    "Sathe2019_mapped = Sathe2019.merge(mapping, on=\"Gene Names\", how=\"inner\")\n",
    "Sathe2019_mapped\n",
    "Sathe2019_mapped.drop_duplicates(subset=[\"Uniprot\"], inplace=True)\n",
    "print(\"Number of unique proteins:\", len(set(Sathe2019_mapped[\"Uniprot\"])))"
   ]
  },
  {
   "cell_type": "markdown",
   "id": "0f39dd2e",
   "metadata": {},
   "source": [
    "## Bader2020"
   ]
  },
  {
   "cell_type": "code",
   "execution_count": 8,
   "id": "cd32be97",
   "metadata": {},
   "outputs": [
    {
     "name": "stdout",
     "output_type": "stream",
     "text": [
      "Number of unique proteins: 1484\n"
     ]
    }
   ],
   "source": [
    "Bader2020 = pd.read_csv(data_path_AD + \"Bader2020.csv\", header=0, sep=\";\", skiprows=[1], \n",
    "    usecols=[\"PG.ProteinAccessions (uniprot protein accessions)\"])\n",
    "Bader2020.columns = [\"Uniprot\"]\n",
    "Bader2020[\"Uniprot\"] = Bader2020[\"Uniprot\"].apply(get_first_uniprot)\n",
    "Bader2020.drop_duplicates(inplace=True)\n",
    "print(\"Number of unique proteins:\", len(set(Bader2020[\"Uniprot\"])))"
   ]
  },
  {
   "cell_type": "markdown",
   "id": "69980a52",
   "metadata": {},
   "source": [
    "## Create AD CSF data set"
   ]
  },
  {
   "cell_type": "code",
   "execution_count": 9,
   "id": "deaa09cf",
   "metadata": {},
   "outputs": [],
   "source": [
    "# AD_csf = Wang2020[[\"Uniprot\"]].merge(Higginbotham2020[[\"Uniprot\"]], how=\"outer\", on=\"Uniprot\")\n",
    "# AD_csf.merge(Sathe2019_mapped[[\"Uniprot\"]], how=\"outer\", on=\"Uniprot\")\n",
    "AD_csf = Higginbotham2020[[\"Uniprot\"]].merge(Sathe2019_mapped[[\"Uniprot\"]], how=\"outer\", on=\"Uniprot\")\n",
    "AD_csf.merge(Bader2020[[\"Uniprot\"]], how=\"outer\", on=\"Uniprot\")\n",
    "\n",
    "AD_csf[\"#Studies\"] = 0\n",
    "AD_csf[\"#Studies\"] = np.where(AD_csf[\"Uniprot\"].isin(Higginbotham2020[\"Uniprot\"]), AD_csf[\"#Studies\"]+1, AD_csf[\"#Studies\"])\n",
    "AD_csf[\"#Studies\"] = np.where(AD_csf[\"Uniprot\"].isin(Sathe2019_mapped[\"Uniprot\"]), AD_csf[\"#Studies\"]+1, AD_csf[\"#Studies\"])\n",
    "AD_csf[\"#Studies\"] = np.where(AD_csf[\"Uniprot\"].isin(Bader2020[\"Uniprot\"]), AD_csf[\"#Studies\"]+1, AD_csf[\"#Studies\"])"
   ]
  },
  {
   "cell_type": "code",
   "execution_count": 10,
   "id": "ecd1727e",
   "metadata": {},
   "outputs": [
    {
     "name": "stdout",
     "output_type": "stream",
     "text": [
      "All Uniprot IDs are unique: True\n"
     ]
    }
   ],
   "source": [
    "print(\"All Uniprot IDs are unique:\", AD_csf[\"Uniprot\"].is_unique)"
   ]
  },
  {
   "cell_type": "markdown",
   "id": "69f9d3b6",
   "metadata": {},
   "source": [
    "# Multiple Sclerosis CSF"
   ]
  },
  {
   "cell_type": "markdown",
   "id": "09dedd01",
   "metadata": {},
   "source": [
    "## Mosleth2020"
   ]
  },
  {
   "cell_type": "code",
   "execution_count": 11,
   "id": "a62ae9df",
   "metadata": {},
   "outputs": [
    {
     "name": "stdout",
     "output_type": "stream",
     "text": [
      "Number of unique proteins: 779\n"
     ]
    }
   ],
   "source": [
    "Mosleth2021 = pd.read_csv(data_path_MS + \"Mosleth2021.csv\", header=0, sep=\";\", skiprows=[0,1,3,4], usecols=[\"Association \"])\n",
    "Mosleth2021.columns = [\"Uniprot\"]\n",
    "Mosleth2021.drop_duplicates(inplace=True)\n",
    "print(\"Number of unique proteins:\", len(set(Mosleth2021[\"Uniprot\"])))"
   ]
  },
  {
   "cell_type": "markdown",
   "id": "7502398a",
   "metadata": {},
   "source": [
    "## Kroksveen2013"
   ]
  },
  {
   "cell_type": "code",
   "execution_count": 12,
   "id": "4617c772",
   "metadata": {},
   "outputs": [
    {
     "name": "stdout",
     "output_type": "stream",
     "text": [
      "Number of unique proteins: 1034\n"
     ]
    }
   ],
   "source": [
    "Kroksveen2013 = pd.read_csv(data_path_MS + \"Kroksveen2013_IPI_to_Uniprot.txt\", sep=\"\\t\")\n",
    "Kroksveen2013_filtered = Kroksveen2013[Kroksveen2013[\"UniProt Accession\"] != \"-\"][[\"UniProt Accession\"]]\n",
    "Kroksveen2013_filtered.columns = [\"Uniprot\"]\n",
    "Kroksveen2013_filtered.drop_duplicates(inplace=True)\n",
    "Kroksveen2013_filtered\n",
    "print(\"Number of unique proteins:\", len(set(Kroksveen2013_filtered[\"Uniprot\"])))"
   ]
  },
  {
   "cell_type": "markdown",
   "id": "10f2d360",
   "metadata": {},
   "source": [
    "## Stoop2013"
   ]
  },
  {
   "cell_type": "code",
   "execution_count": 13,
   "id": "8b4a072a",
   "metadata": {},
   "outputs": [],
   "source": [
    "Stoop2013 = pd.read_csv(data_path_MS + \"Stoop2013.csv\", sep=\";\", header=2, usecols=[\"Protein\"])\n",
    "Stoop2013.columns = [\"Uniprot\"]\n",
    "Stoop2013.drop_duplicates(inplace=True)"
   ]
  },
  {
   "cell_type": "markdown",
   "id": "c5564f83",
   "metadata": {},
   "source": [
    "## Create MS CSF data set"
   ]
  },
  {
   "cell_type": "code",
   "execution_count": 14,
   "id": "6c2c67fa",
   "metadata": {},
   "outputs": [],
   "source": [
    "MS_csf = Mosleth2021[[\"Uniprot\"]].merge(Kroksveen2013_filtered[[\"Uniprot\"]], how=\"outer\", on=\"Uniprot\")\n",
    "MS_csf.merge(Stoop2013[[\"Uniprot\"]], how=\"outer\", on=\"Uniprot\")\n",
    "\n",
    "MS_csf[\"#Studies\"] = 0\n",
    "MS_csf[\"#Studies\"] = np.where(MS_csf[\"Uniprot\"].isin(Mosleth2021[\"Uniprot\"]), MS_csf[\"#Studies\"]+1, MS_csf[\"#Studies\"])\n",
    "MS_csf[\"#Studies\"] = np.where(MS_csf[\"Uniprot\"].isin(Kroksveen2013_filtered[\"Uniprot\"]), MS_csf[\"#Studies\"]+1, MS_csf[\"#Studies\"])\n",
    "MS_csf[\"#Studies\"] = np.where(MS_csf[\"Uniprot\"].isin(Stoop2013[\"Uniprot\"]), MS_csf[\"#Studies\"]+1, MS_csf[\"#Studies\"])"
   ]
  },
  {
   "cell_type": "code",
   "execution_count": 15,
   "id": "a87c02e8",
   "metadata": {},
   "outputs": [
    {
     "name": "stdout",
     "output_type": "stream",
     "text": [
      "All Uniprot IDs are unique: True\n"
     ]
    }
   ],
   "source": [
    "print(\"All Uniprot IDs are unique:\", MS_csf[\"Uniprot\"].is_unique)"
   ]
  },
  {
   "cell_type": "markdown",
   "id": "a02e8f27",
   "metadata": {},
   "source": [
    "# Save final data sets"
   ]
  },
  {
   "cell_type": "code",
   "execution_count": 16,
   "id": "581288b4",
   "metadata": {},
   "outputs": [],
   "source": [
    "AD_csf.to_csv(os.getcwd() + \"/Datasets/CSF/AD_CSF.csv\", index=False)\n",
    "\n",
    "with open(os.getcwd() + \"/Datasets/CSF/AD_CSF_Uniprot.txt\", \"w\") as f:\n",
    "    for item in AD_csf[\"Uniprot\"]:\n",
    "        f.write(\"%s\\n\" % item)"
   ]
  },
  {
   "cell_type": "code",
   "execution_count": 17,
   "id": "1b8270a9",
   "metadata": {},
   "outputs": [],
   "source": [
    "MS_csf.to_csv(os.getcwd() + \"/Datasets/CSF/MS_CSF.csv\", index=False)\n",
    "\n",
    "with open(os.getcwd() + \"/Datasets/CSF/MS_CSF_Uniprot.txt\", \"w\") as f:\n",
    "    for item in MS_csf[\"Uniprot\"]:\n",
    "        f.write(\"%s\\n\" % item)"
   ]
  }
 ],
 "metadata": {
  "kernelspec": {
   "display_name": "Python 3",
   "language": "python",
   "name": "python3"
  },
  "language_info": {
   "codemirror_mode": {
    "name": "ipython",
    "version": 3
   },
   "file_extension": ".py",
   "mimetype": "text/x-python",
   "name": "python",
   "nbconvert_exporter": "python",
   "pygments_lexer": "ipython3",
   "version": "3.8.5"
  }
 },
 "nbformat": 4,
 "nbformat_minor": 5
}
